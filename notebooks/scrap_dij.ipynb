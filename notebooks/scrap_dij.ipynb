{
 "cells": [
  {
   "cell_type": "code",
   "execution_count": 7,
   "metadata": {},
   "outputs": [
    {
     "name": "stdout",
     "output_type": "stream",
     "text": [
      "The autoreload extension is already loaded. To reload it, use:\n",
      "  %reload_ext autoreload\n"
     ]
    }
   ],
   "source": [
    "# from .utils import *\n",
    "# from .timedistance import *\n",
    "# from .delay import *\n",
    "# from .route import *\n",
    "from math import sin, cos, sqrt, atan2, radians,inf\n",
    "from queue import PriorityQueue\n",
    "from math import inf\n",
    "import networkx as nx\n",
    "\n",
    "from utils import *\n",
    "from algo import *\n",
    "\n",
    "%load_ext autoreload\n",
    "%autoreload 2"
   ]
  },
  {
   "cell_type": "code",
   "execution_count": null,
   "metadata": {},
   "outputs": [],
   "source": [
    "# neighbours()"
   ]
  },
  {
   "cell_type": "code",
   "execution_count": null,
   "metadata": {},
   "outputs": [],
   "source": [
    "def stochastic_dijkstra(self, \n",
    "                            start: Union[Name,ID],     # start node (either name or id. If id, names_format to False)\n",
    "                            end: Union[Name,ID],       # end node (either name or id. If id, names_format to False)\n",
    "                            arr_time:Union[str,Time],  # target arrival time (ex '12:45:00' or timestamp)\n",
    "                            threshold = 0.8,           # target probability of making all connections in time\n",
    "                            names_format=True          # If we want to use IDs for start and end set to False\n",
    "                           ) -> Optional[Route]:    \n",
    "\n",
    "    prev = {}                                                                   # predecessor of current node on shortest path \n",
    "    distances = {v: TimeDistance(time=arr_time) for v in nx.nodes(self.G)}      # initialize distances from end to any given node\n",
    "    visited = set()                                                             # nodes we've visited\n",
    "    # prioritize nodes from start -> node with the shortest distance!\n",
    "    queue = PriorityQueue()                        \n",
    "    distances[end].updated()                                                    # dist from end -> end is zero\n",
    "    queue.put((distances[end], end))                                               # add end node for exploration\n",
    "    # main search phase of algorithm\n",
    "    while not queue.empty():\n",
    "        _, curr = queue.get()\n",
    "        visited.add(curr)\n",
    "        for _,neighbor,properties in neighbours(curr):              # look at curr's adjacent nodes\n",
    "            new_dist = distances[curr] + properties                 # if we found a shorter path \n",
    "            if new_dist < distances[neighbor]:                      # update the distance, we found a shorter one!\n",
    "                distances[neighbor] = new_dist.updated()            # update the previous node to be prev on new shortest path\n",
    "                prev[neighbor] = curr                               # if we haven't visited the neighbor\n",
    "                if neighbor not in visited:                         # insert into priority queue and mark as visited\n",
    "                    visited.add(neighbor)\n",
    "                    queue.put((distances[neighbor],neighbor))          # prioritize search on small distances\n",
    "    # compute the route \n",
    "    return build_route()"
   ]
  },
  {
   "cell_type": "code",
   "execution_count": null,
   "metadata": {},
   "outputs": [],
   "source": [
    "def build_route() -> Optional[Route]:\n",
    "    \"\"\"\n",
    "    Get the shortest path of nodes by going backwards through prev list\n",
    "    \"\"\"\n",
    "    if start not in prev.keys():\n",
    "        return None\n",
    "    \n",
    "    route = Route(self.G)\n",
    "    node = start\n",
    "    dist = distances[start]\n",
    "    path = []\n",
    "    while node != end:\n",
    "        route.append(node,dist)\n",
    "        node = prev[node]\n",
    "        dist = distances[node]\n",
    "    route.append(node,dist) \n",
    "    return route"
   ]
  },
  {
   "cell_type": "code",
   "execution_count": 14,
   "metadata": {},
   "outputs": [],
   "source": [
    "def build_route(prev_trip_id, prev, distances, start_id, end_id):\n",
    "\n",
    "    if start_id not in prev.keys():\n",
    "        return None\n",
    "    \n",
    "    node = start_id\n",
    "    # prev_id = prev[start_id]\n",
    "    trip_id = prev_trip_id[node]\n",
    "    dist = distances[start_id]\n",
    "    path = []\n",
    "    while node != end_id:\n",
    "        path.append((trip_id, node, dist))\n",
    "        node = prev[node]\n",
    "        trip_id = prev_trip_id[node]\n",
    "        dist = distances[node]\n",
    "    # route.append(node,dist)\n",
    "    path.append((trip_id, node, dist))\n",
    "    return path"
   ]
  },
  {
   "cell_type": "code",
   "execution_count": 17,
   "metadata": {},
   "outputs": [
    {
     "ename": "KeyError",
     "evalue": "'prev_dep_time'",
     "output_type": "error",
     "traceback": [
      "\u001b[0;31m---------------------------------------------------------------------------\u001b[0m",
      "\u001b[0;31mKeyError\u001b[0m                                  Traceback (most recent call last)",
      "\u001b[0;32m~/anaconda3/envs/ada/lib/python3.8/site-packages/pandas/core/indexes/base.py\u001b[0m in \u001b[0;36mget_loc\u001b[0;34m(self, key, method, tolerance)\u001b[0m\n\u001b[1;32m   3360\u001b[0m             \u001b[0;32mtry\u001b[0m\u001b[0;34m:\u001b[0m\u001b[0;34m\u001b[0m\u001b[0;34m\u001b[0m\u001b[0m\n\u001b[0;32m-> 3361\u001b[0;31m                 \u001b[0;32mreturn\u001b[0m \u001b[0mself\u001b[0m\u001b[0;34m.\u001b[0m\u001b[0m_engine\u001b[0m\u001b[0;34m.\u001b[0m\u001b[0mget_loc\u001b[0m\u001b[0;34m(\u001b[0m\u001b[0mcasted_key\u001b[0m\u001b[0;34m)\u001b[0m\u001b[0;34m\u001b[0m\u001b[0;34m\u001b[0m\u001b[0m\n\u001b[0m\u001b[1;32m   3362\u001b[0m             \u001b[0;32mexcept\u001b[0m \u001b[0mKeyError\u001b[0m \u001b[0;32mas\u001b[0m \u001b[0merr\u001b[0m\u001b[0;34m:\u001b[0m\u001b[0;34m\u001b[0m\u001b[0;34m\u001b[0m\u001b[0m\n",
      "\u001b[0;32m~/anaconda3/envs/ada/lib/python3.8/site-packages/pandas/_libs/index.pyx\u001b[0m in \u001b[0;36mpandas._libs.index.IndexEngine.get_loc\u001b[0;34m()\u001b[0m\n",
      "\u001b[0;32m~/anaconda3/envs/ada/lib/python3.8/site-packages/pandas/_libs/index.pyx\u001b[0m in \u001b[0;36mpandas._libs.index.IndexEngine.get_loc\u001b[0;34m()\u001b[0m\n",
      "\u001b[0;32mpandas/_libs/hashtable_class_helper.pxi\u001b[0m in \u001b[0;36mpandas._libs.hashtable.PyObjectHashTable.get_item\u001b[0;34m()\u001b[0m\n",
      "\u001b[0;32mpandas/_libs/hashtable_class_helper.pxi\u001b[0m in \u001b[0;36mpandas._libs.hashtable.PyObjectHashTable.get_item\u001b[0;34m()\u001b[0m\n",
      "\u001b[0;31mKeyError\u001b[0m: 'prev_dep_time'",
      "\nThe above exception was the direct cause of the following exception:\n",
      "\u001b[0;31mKeyError\u001b[0m                                  Traceback (most recent call last)",
      "\u001b[0;32m/var/folders/nf/186rd3kx35v_x13p5402wpsr0000gn/T/ipykernel_26954/2185578877.py\u001b[0m in \u001b[0;36m<module>\u001b[0;34m\u001b[0m\n\u001b[1;32m     22\u001b[0m     \u001b[0m_\u001b[0m\u001b[0;34m,\u001b[0m \u001b[0;34m(\u001b[0m\u001b[0mcurr_id\u001b[0m\u001b[0;34m,\u001b[0m \u001b[0mcurr_time\u001b[0m\u001b[0;34m)\u001b[0m \u001b[0;34m=\u001b[0m \u001b[0mqueue\u001b[0m\u001b[0;34m.\u001b[0m\u001b[0mget\u001b[0m\u001b[0;34m(\u001b[0m\u001b[0;34m)\u001b[0m\u001b[0;34m\u001b[0m\u001b[0;34m\u001b[0m\u001b[0m\n\u001b[1;32m     23\u001b[0m     \u001b[0mvisited\u001b[0m\u001b[0;34m.\u001b[0m\u001b[0madd\u001b[0m\u001b[0;34m(\u001b[0m\u001b[0mcurr_id\u001b[0m\u001b[0;34m)\u001b[0m\u001b[0;34m\u001b[0m\u001b[0;34m\u001b[0m\u001b[0m\n\u001b[0;32m---> 24\u001b[0;31m     \u001b[0;32mfor\u001b[0m \u001b[0mtrip_id\u001b[0m\u001b[0;34m,\u001b[0m \u001b[0mneighbor_id\u001b[0m\u001b[0;34m,\u001b[0m \u001b[0mneighbor_weight\u001b[0m\u001b[0;34m,\u001b[0m \u001b[0mdep_time\u001b[0m \u001b[0;32min\u001b[0m \u001b[0mneighbors\u001b[0m\u001b[0;34m(\u001b[0m\u001b[0mcurr_id\u001b[0m\u001b[0;34m,\u001b[0m \u001b[0mcurr_time\u001b[0m\u001b[0;34m,\u001b[0m \u001b[0mprev_trip_id\u001b[0m\u001b[0;34m[\u001b[0m\u001b[0mcurr_id\u001b[0m\u001b[0;34m]\u001b[0m\u001b[0;34m)\u001b[0m\u001b[0;34m:\u001b[0m\u001b[0;34m\u001b[0m\u001b[0;34m\u001b[0m\u001b[0m\n\u001b[0m\u001b[1;32m     25\u001b[0m         \u001b[0mnew_dist\u001b[0m \u001b[0;34m=\u001b[0m \u001b[0mdistances\u001b[0m\u001b[0;34m[\u001b[0m\u001b[0mcurr_id\u001b[0m\u001b[0;34m]\u001b[0m \u001b[0;34m+\u001b[0m \u001b[0mneighbor_weight\u001b[0m\u001b[0;34m\u001b[0m\u001b[0;34m\u001b[0m\u001b[0m\n\u001b[1;32m     26\u001b[0m         \u001b[0;31m# new_dist =\u001b[0m\u001b[0;34m\u001b[0m\u001b[0;34m\u001b[0m\u001b[0;34m\u001b[0m\u001b[0m\n",
      "\u001b[0;32m~/Library/Mobile Documents/com~apple~CloudDocs/code/lab-ds/labds-algo/notebooks/algo.py\u001b[0m in \u001b[0;36mneighbors\u001b[0;34m(dest_stop_id, end_time_s, prev_trip_id)\u001b[0m\n\u001b[1;32m     80\u001b[0m     \u001b[0;31m# TODO adapt returned values as needed\u001b[0m\u001b[0;34m\u001b[0m\u001b[0;34m\u001b[0m\u001b[0;34m\u001b[0m\u001b[0m\n\u001b[1;32m     81\u001b[0m     \u001b[0;32mfor\u001b[0m \u001b[0m_\u001b[0m\u001b[0;34m,\u001b[0m \u001b[0mconn\u001b[0m \u001b[0;32min\u001b[0m \u001b[0mdf_conns\u001b[0m\u001b[0;34m.\u001b[0m\u001b[0miterrows\u001b[0m\u001b[0;34m(\u001b[0m\u001b[0;34m)\u001b[0m\u001b[0;34m:\u001b[0m\u001b[0;34m\u001b[0m\u001b[0;34m\u001b[0m\u001b[0m\n\u001b[0;32m---> 82\u001b[0;31m         \u001b[0;32myield\u001b[0m \u001b[0mconn\u001b[0m\u001b[0;34m[\u001b[0m\u001b[0;34m'trip_id'\u001b[0m\u001b[0;34m]\u001b[0m\u001b[0;34m,\u001b[0m \u001b[0mconn\u001b[0m\u001b[0;34m[\u001b[0m\u001b[0;34m'dep_stop_id'\u001b[0m\u001b[0;34m]\u001b[0m\u001b[0;34m,\u001b[0m \u001b[0mconn\u001b[0m\u001b[0;34m[\u001b[0m\u001b[0;34m'weight'\u001b[0m\u001b[0;34m]\u001b[0m\u001b[0;34m,\u001b[0m \u001b[0mconn\u001b[0m\u001b[0;34m[\u001b[0m\u001b[0;34m'prev_dep_time'\u001b[0m\u001b[0;34m]\u001b[0m\u001b[0;34m\u001b[0m\u001b[0;34m\u001b[0m\u001b[0m\n\u001b[0m\u001b[1;32m     83\u001b[0m \u001b[0;34m\u001b[0m\u001b[0m\n\u001b[1;32m     84\u001b[0m \u001b[0;34m\u001b[0m\u001b[0m\n",
      "\u001b[0;32m~/anaconda3/envs/ada/lib/python3.8/site-packages/pandas/core/series.py\u001b[0m in \u001b[0;36m__getitem__\u001b[0;34m(self, key)\u001b[0m\n\u001b[1;32m    940\u001b[0m \u001b[0;34m\u001b[0m\u001b[0m\n\u001b[1;32m    941\u001b[0m         \u001b[0;32melif\u001b[0m \u001b[0mkey_is_scalar\u001b[0m\u001b[0;34m:\u001b[0m\u001b[0;34m\u001b[0m\u001b[0;34m\u001b[0m\u001b[0m\n\u001b[0;32m--> 942\u001b[0;31m             \u001b[0;32mreturn\u001b[0m \u001b[0mself\u001b[0m\u001b[0;34m.\u001b[0m\u001b[0m_get_value\u001b[0m\u001b[0;34m(\u001b[0m\u001b[0mkey\u001b[0m\u001b[0;34m)\u001b[0m\u001b[0;34m\u001b[0m\u001b[0;34m\u001b[0m\u001b[0m\n\u001b[0m\u001b[1;32m    943\u001b[0m \u001b[0;34m\u001b[0m\u001b[0m\n\u001b[1;32m    944\u001b[0m         \u001b[0;32mif\u001b[0m \u001b[0mis_hashable\u001b[0m\u001b[0;34m(\u001b[0m\u001b[0mkey\u001b[0m\u001b[0;34m)\u001b[0m\u001b[0;34m:\u001b[0m\u001b[0;34m\u001b[0m\u001b[0;34m\u001b[0m\u001b[0m\n",
      "\u001b[0;32m~/anaconda3/envs/ada/lib/python3.8/site-packages/pandas/core/series.py\u001b[0m in \u001b[0;36m_get_value\u001b[0;34m(self, label, takeable)\u001b[0m\n\u001b[1;32m   1049\u001b[0m \u001b[0;34m\u001b[0m\u001b[0m\n\u001b[1;32m   1050\u001b[0m         \u001b[0;31m# Similar to Index.get_value, but we do not fall back to positional\u001b[0m\u001b[0;34m\u001b[0m\u001b[0;34m\u001b[0m\u001b[0;34m\u001b[0m\u001b[0m\n\u001b[0;32m-> 1051\u001b[0;31m         \u001b[0mloc\u001b[0m \u001b[0;34m=\u001b[0m \u001b[0mself\u001b[0m\u001b[0;34m.\u001b[0m\u001b[0mindex\u001b[0m\u001b[0;34m.\u001b[0m\u001b[0mget_loc\u001b[0m\u001b[0;34m(\u001b[0m\u001b[0mlabel\u001b[0m\u001b[0;34m)\u001b[0m\u001b[0;34m\u001b[0m\u001b[0;34m\u001b[0m\u001b[0m\n\u001b[0m\u001b[1;32m   1052\u001b[0m         \u001b[0;32mreturn\u001b[0m \u001b[0mself\u001b[0m\u001b[0;34m.\u001b[0m\u001b[0mindex\u001b[0m\u001b[0;34m.\u001b[0m\u001b[0m_get_values_for_loc\u001b[0m\u001b[0;34m(\u001b[0m\u001b[0mself\u001b[0m\u001b[0;34m,\u001b[0m \u001b[0mloc\u001b[0m\u001b[0;34m,\u001b[0m \u001b[0mlabel\u001b[0m\u001b[0;34m)\u001b[0m\u001b[0;34m\u001b[0m\u001b[0;34m\u001b[0m\u001b[0m\n\u001b[1;32m   1053\u001b[0m \u001b[0;34m\u001b[0m\u001b[0m\n",
      "\u001b[0;32m~/anaconda3/envs/ada/lib/python3.8/site-packages/pandas/core/indexes/base.py\u001b[0m in \u001b[0;36mget_loc\u001b[0;34m(self, key, method, tolerance)\u001b[0m\n\u001b[1;32m   3361\u001b[0m                 \u001b[0;32mreturn\u001b[0m \u001b[0mself\u001b[0m\u001b[0;34m.\u001b[0m\u001b[0m_engine\u001b[0m\u001b[0;34m.\u001b[0m\u001b[0mget_loc\u001b[0m\u001b[0;34m(\u001b[0m\u001b[0mcasted_key\u001b[0m\u001b[0;34m)\u001b[0m\u001b[0;34m\u001b[0m\u001b[0;34m\u001b[0m\u001b[0m\n\u001b[1;32m   3362\u001b[0m             \u001b[0;32mexcept\u001b[0m \u001b[0mKeyError\u001b[0m \u001b[0;32mas\u001b[0m \u001b[0merr\u001b[0m\u001b[0;34m:\u001b[0m\u001b[0;34m\u001b[0m\u001b[0;34m\u001b[0m\u001b[0m\n\u001b[0;32m-> 3363\u001b[0;31m                 \u001b[0;32mraise\u001b[0m \u001b[0mKeyError\u001b[0m\u001b[0;34m(\u001b[0m\u001b[0mkey\u001b[0m\u001b[0;34m)\u001b[0m \u001b[0;32mfrom\u001b[0m \u001b[0merr\u001b[0m\u001b[0;34m\u001b[0m\u001b[0;34m\u001b[0m\u001b[0m\n\u001b[0m\u001b[1;32m   3364\u001b[0m \u001b[0;34m\u001b[0m\u001b[0m\n\u001b[1;32m   3365\u001b[0m         \u001b[0;32mif\u001b[0m \u001b[0mis_scalar\u001b[0m\u001b[0;34m(\u001b[0m\u001b[0mkey\u001b[0m\u001b[0;34m)\u001b[0m \u001b[0;32mand\u001b[0m \u001b[0misna\u001b[0m\u001b[0;34m(\u001b[0m\u001b[0mkey\u001b[0m\u001b[0;34m)\u001b[0m \u001b[0;32mand\u001b[0m \u001b[0;32mnot\u001b[0m \u001b[0mself\u001b[0m\u001b[0;34m.\u001b[0m\u001b[0mhasnans\u001b[0m\u001b[0;34m:\u001b[0m\u001b[0;34m\u001b[0m\u001b[0;34m\u001b[0m\u001b[0m\n",
      "\u001b[0;31mKeyError\u001b[0m: 'prev_dep_time'"
     ]
    }
   ],
   "source": [
    "end_id = ZURICH_HB_ID\n",
    "end_time = Time(h=10).in_seconds()\n",
    "\n",
    "\n",
    "distances = {}      # stores travel_times\n",
    "prev = {}           # stores predecessor\n",
    "prev_trip_id = {}   # stores prev_trip_id\n",
    "# prev_dep_time = {}\n",
    "\n",
    "visited = set()     # stores already visited stop_ids\n",
    "queue = PriorityQueue()\n",
    "\n",
    "distances[end_id] = 0\n",
    "prev[end_id] = None\n",
    "prev_trip_id[end_id] = None\n",
    "# prev_dep_time[end_id] = end_time\n",
    "\n",
    "queue.put((distances[end_id], (end_id, end_time)))\n",
    "\n",
    "# TODO? Add thing to stop once we reach target?\n",
    "while not queue.empty():\n",
    "    _, (curr_id, curr_time) = queue.get()\n",
    "    visited.add(curr_id)\n",
    "    for trip_id, neighbor_id, neighbor_weight, dep_time in neighbors(curr_id, curr_time, prev_trip_id[curr_id]):\n",
    "        new_dist = distances[curr_id] + neighbor_weight\n",
    "        # new_dist = \n",
    "        if new_dist < distances.get(neighbor_id, inf):\n",
    "\n",
    "            distances[neighbor_id] = new_dist\n",
    "            prev[neighbor_id] = curr_id\n",
    "            # prev_dep_time[neighbor_id]\n",
    "            prev_trip_id[neighbor_id] = trip_id\n",
    "\n",
    "            if neighbor_id not in visited:\n",
    "                visited.add(neighbor_id)\n",
    "                queue.put((distances[neighbor_id], (neighbor_id, curr_time - neighbor_weight)))\n",
    "\n"
   ]
  },
  {
   "cell_type": "code",
   "execution_count": 15,
   "metadata": {},
   "outputs": [
    {
     "data": {
      "text/plain": [
       "[('walk', 8591376, 1703),\n",
       " ('1798.TA.26-10-j19-1.12.H', 8591173, 1163),\n",
       " ('1099.TA.26-6-B-j19-1.11.H', 8591123, 965),\n",
       " ('94.TA.26-6-B-j19-1.4.H', 8591174, 752),\n",
       " ('1214.TA.26-10-j19-1.8.H', 8588078, 471),\n",
       " ('walk', 8587348, 260),\n",
       " ('82.TA.26-4-A-j19-1.4.R', 8503088, 120),\n",
       " (None, 8503090, 0)]"
      ]
     },
     "execution_count": 15,
     "metadata": {},
     "output_type": "execute_result"
    }
   ],
   "source": [
    "build_route(prev_trip_id, prev, distances, 8591376, ZURICH_HB_ID)"
   ]
  },
  {
   "cell_type": "code",
   "execution_count": 9,
   "metadata": {},
   "outputs": [
    {
     "data": {
      "text/plain": [
       "{8503090: 0,\n",
       " 8503088: 120,\n",
       " 8503051: 240,\n",
       " 8503091: 697,\n",
       " 8591064: 331,\n",
       " 8591367: 480,\n",
       " 8591369: 378,\n",
       " 8591381: 394,\n",
       " 8591427: 562,\n",
       " 8503000: 370,\n",
       " 8503446: 538,\n",
       " 8503499: 632,\n",
       " 8587348: 260,\n",
       " 8587349: 351,\n",
       " 8588078: 471,\n",
       " 8591067: 396,\n",
       " 8591174: 752,\n",
       " 8591262: 471,\n",
       " 8591316: 534,\n",
       " 8591327: 692,\n",
       " 8591368: 595,\n",
       " 8591379: 658,\n",
       " 8596126: 753,\n",
       " 8591245: 909,\n",
       " 8591269: 828,\n",
       " 8591308: 688,\n",
       " 8591366: 720,\n",
       " 8591824: 386,\n",
       " 8591404: 480,\n",
       " 8591384: 480,\n",
       " 8503011: 653,\n",
       " 8503020: 653,\n",
       " 8503003: 773,\n",
       " 8591299: 540,\n",
       " 8591184: 480,\n",
       " 8591079: 600,\n",
       " 8591287: 778,\n",
       " 8503500: 814,\n",
       " 8591123: 965,\n",
       " 8591052: 540,\n",
       " 8591277: 660,\n",
       " 8591227: 780,\n",
       " 8591218: 780,\n",
       " 8591219: 819,\n",
       " 8503651: 1045,\n",
       " 8591093: 600,\n",
       " 8591105: 807,\n",
       " 8591317: 900,\n",
       " 8591059: 540,\n",
       " 8591058: 660,\n",
       " 8503010: 713,\n",
       " 8507183: 930,\n",
       " 8591169: 660,\n",
       " 8591415: 600,\n",
       " 8591365: 972,\n",
       " 8591283: 780,\n",
       " 8591414: 780,\n",
       " 8503447: 985,\n",
       " 8530822: 939,\n",
       " 8591183: 1059,\n",
       " 8591309: 836,\n",
       " 8573710: 720,\n",
       " 8591282: 660,\n",
       " 8503087: 817,\n",
       " 8591204: 1094,\n",
       " 8506517: 1281,\n",
       " 8591341: 840,\n",
       " 8591060: 774,\n",
       " 8591177: 720,\n",
       " 8594239: 893,\n",
       " 8591322: 960,\n",
       " 8591257: 720,\n",
       " 8591071: 815,\n",
       " 8591084: 780,\n",
       " 8591306: 780,\n",
       " 8591291: 1020,\n",
       " 8591296: 995,\n",
       " 8591173: 1163,\n",
       " 8591373: 965,\n",
       " 8503059: 940,\n",
       " 8505333: 1257,\n",
       " 8530813: 1073,\n",
       " 8576193: 1010,\n",
       " 8576195: 1069,\n",
       " 8576196: 1253,\n",
       " 8591239: 838,\n",
       " 8591375: 1254,\n",
       " 8591220: 1104,\n",
       " 8591303: 1258,\n",
       " 8591083: 960,\n",
       " 8591149: 1321,\n",
       " 8591110: 840,\n",
       " 8591433: 1293,\n",
       " 8591329: 1020,\n",
       " 8591237: 1032,\n",
       " 8591324: 1253,\n",
       " 8591259: 1054,\n",
       " 8591447: 1079,\n",
       " 8591448: 1114,\n",
       " 8591075: 1294,\n",
       " 8591412: 1594,\n",
       " 8502572: 1139,\n",
       " 8591038: 1173,\n",
       " 8591145: 1513,\n",
       " 8591236: 1414,\n",
       " 8591298: 1166,\n",
       " 8591362: 1587,\n",
       " 8591411: 1503,\n",
       " 8591098: 1380,\n",
       " 8591100: 979,\n",
       " 8591352: 1275,\n",
       " 8591387: 1347,\n",
       " 8591339: 1615,\n",
       " 8591390: 1259,\n",
       " 8591195: 1319,\n",
       " 8591170: 1439,\n",
       " 8591190: 1319,\n",
       " 8591192: 1713,\n",
       " 8591376: 1703,\n",
       " 8591202: 1224}"
      ]
     },
     "execution_count": 9,
     "metadata": {},
     "output_type": "execute_result"
    }
   ],
   "source": [
    "distances"
   ]
  },
  {
   "cell_type": "code",
   "execution_count": 12,
   "metadata": {},
   "outputs": [
    {
     "data": {
      "text/plain": [
       "inf"
      ]
     },
     "execution_count": 12,
     "metadata": {},
     "output_type": "execute_result"
    }
   ],
   "source": [
    "distances.get(43, inf)"
   ]
  },
  {
   "cell_type": "code",
   "execution_count": null,
   "metadata": {},
   "outputs": [],
   "source": []
  }
 ],
 "metadata": {
  "interpreter": {
   "hash": "c6809d3f7e90e77d8ec96c72c39a08b2522313d47c0f1d91518fdbbaf790b394"
  },
  "kernelspec": {
   "display_name": "Python 3.8.12 ('ada')",
   "language": "python",
   "name": "python3"
  },
  "language_info": {
   "codemirror_mode": {
    "name": "ipython",
    "version": 3
   },
   "file_extension": ".py",
   "mimetype": "text/x-python",
   "name": "python",
   "nbconvert_exporter": "python",
   "pygments_lexer": "ipython3",
   "version": "3.8.12"
  },
  "orig_nbformat": 4
 },
 "nbformat": 4,
 "nbformat_minor": 2
}
