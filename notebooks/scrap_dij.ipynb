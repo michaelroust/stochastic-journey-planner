{
 "cells": [
  {
   "cell_type": "code",
   "execution_count": 22,
   "metadata": {},
   "outputs": [
    {
     "name": "stdout",
     "output_type": "stream",
     "text": [
      "The autoreload extension is already loaded. To reload it, use:\n",
      "  %reload_ext autoreload\n"
     ]
    }
   ],
   "source": [
    "# from .utils import *\n",
    "# from .timedistance import *\n",
    "# from .delay import *\n",
    "# from .route import *\n",
    "from math import sin, cos, sqrt, atan2, radians,inf\n",
    "from queue import PriorityQueue\n",
    "from math import inf\n",
    "import networkx as nx\n",
    "\n",
    "from utils import *\n",
    "from algo import *\n",
    "\n",
    "%load_ext autoreload\n",
    "%autoreload 2"
   ]
  },
  {
   "cell_type": "code",
   "execution_count": null,
   "metadata": {},
   "outputs": [],
   "source": [
    "# neighbours()"
   ]
  },
  {
   "cell_type": "code",
   "execution_count": null,
   "metadata": {},
   "outputs": [],
   "source": [
    "def stochastic_dijkstra(self, \n",
    "                            start: Union[Name,ID],     # start node (either name or id. If id, names_format to False)\n",
    "                            end: Union[Name,ID],       # end node (either name or id. If id, names_format to False)\n",
    "                            arr_time:Union[str,Time],  # target arrival time (ex '12:45:00' or timestamp)\n",
    "                            threshold = 0.8,           # target probability of making all connections in time\n",
    "                            names_format=True          # If we want to use IDs for start and end set to False\n",
    "                           ) -> Optional[Route]:    \n",
    "\n",
    "    prev = {}                                                                   # predecessor of current node on shortest path \n",
    "    distances = {v: TimeDistance(time=arr_time) for v in nx.nodes(self.G)}      # initialize distances from end to any given node\n",
    "    visited = set()                                                             # nodes we've visited\n",
    "    # prioritize nodes from start -> node with the shortest distance!\n",
    "    queue = PriorityQueue()                        \n",
    "    distances[end].updated()                                                    # dist from end -> end is zero\n",
    "    queue.put((distances[end], end))                                               # add end node for exploration\n",
    "    # main search phase of algorithm\n",
    "    while not queue.empty():\n",
    "        _, curr = queue.get()\n",
    "        visited.add(curr)\n",
    "        for _,neighbor,properties in neighbours(curr):              # look at curr's adjacent nodes\n",
    "            new_dist = distances[curr] + properties                 # if we found a shorter path \n",
    "            if new_dist < distances[neighbor]:                      # update the distance, we found a shorter one!\n",
    "                distances[neighbor] = new_dist.updated()            # update the previous node to be prev on new shortest path\n",
    "                prev[neighbor] = curr                               # if we haven't visited the neighbor\n",
    "                if neighbor not in visited:                         # insert into priority queue and mark as visited\n",
    "                    visited.add(neighbor)\n",
    "                    queue.put((distances[neighbor],neighbor))          # prioritize search on small distances\n",
    "    # compute the route \n",
    "    return build_route()"
   ]
  },
  {
   "cell_type": "code",
   "execution_count": null,
   "metadata": {},
   "outputs": [],
   "source": [
    "def build_route() -> Optional[Route]:\n",
    "    \"\"\"\n",
    "    Get the shortest path of nodes by going backwards through prev list\n",
    "    \"\"\"\n",
    "    if start not in prev.keys():\n",
    "        return None\n",
    "    \n",
    "    route = Route(self.G)\n",
    "    node = start\n",
    "    dist = distances[start]\n",
    "    path = []\n",
    "    while node != end:\n",
    "        route.append(node,dist)\n",
    "        node = prev[node]\n",
    "        dist = distances[node]\n",
    "    route.append(node,dist) \n",
    "    return route"
   ]
  },
  {
   "cell_type": "code",
   "execution_count": 14,
   "metadata": {},
   "outputs": [],
   "source": [
    "def build_route(prev_trip_id, prev, distances, start_id, end_id):\n",
    "\n",
    "    if start_id not in prev.keys():\n",
    "        return None\n",
    "    \n",
    "    node = start_id\n",
    "    # prev_id = prev[start_id]\n",
    "    trip_id = prev_trip_id[node]\n",
    "    dist = distances[start_id]\n",
    "    path = []\n",
    "    while node != end_id:\n",
    "        path.append((trip_id, node, dist))\n",
    "        node = prev[node]\n",
    "        trip_id = prev_trip_id[node]\n",
    "        dist = distances[node]\n",
    "    # route.append(node,dist)\n",
    "    path.append((trip_id, node, dist))\n",
    "    return path"
   ]
  },
  {
   "cell_type": "code",
   "execution_count": 31,
   "metadata": {},
   "outputs": [],
   "source": [
    "end_id = ZURICH_HB_ID\n",
    "end_time = Time(h=10).in_seconds()\n",
    "\n",
    "\n",
    "distances = {}      # stores travel_times\n",
    "prev = {}           # stores predecessor\n",
    "prev_trip_id = {}   # stores prev_trip_id\n",
    "# prev_travel_times = {}\n",
    "\n",
    "visited = set()     # stores already visited stop_ids\n",
    "queue = PriorityQueue()\n",
    "\n",
    "distances[end_id] = 0\n",
    "prev[end_id] = None\n",
    "prev_trip_id[end_id] = None\n",
    "# prev_travel_times[end_id] = 0\n",
    "\n",
    "queue.put((distances[end_id], (end_id, end_time)))\n",
    "\n",
    "# TODO? Add thing to stop once we reach target?\n",
    "while not queue.empty():\n",
    "    _, (curr_id, curr_time) = queue.get()\n",
    "    visited.add(curr_id)\n",
    "    for trip_id, neighbor_id, neighbor_dep_time_s in neighbors(curr_id, curr_time, prev_trip_id[curr_id]):\n",
    "        new_dist = end_time - neighbor_dep_time_s\n",
    "        # new_dist = distances[curr_id] + neighbor_weight\n",
    "        if new_dist < distances.get(neighbor_id, inf):\n",
    "\n",
    "            distances[neighbor_id] = new_dist\n",
    "            prev[neighbor_id] = curr_id\n",
    "            prev_trip_id[neighbor_id] = trip_id\n",
    "\n",
    "            if neighbor_id not in visited:\n",
    "                visited.add(neighbor_id)\n",
    "                # prev_dep_time\n",
    "                queue.put((distances[neighbor_id], (neighbor_id, neighbor_dep_time_s)))\n",
    "\n"
   ]
  },
  {
   "cell_type": "code",
   "execution_count": 40,
   "metadata": {},
   "outputs": [
    {
     "data": {
      "text/plain": [
       "[('692.TA.26-33-B-j19-1.2.H', 8591376, 1740),\n",
       " ('walk', 8591411, 1516),\n",
       " ('450.TA.26-7-B-j19-1.1.H', 8591373, 900),\n",
       " ('walk', 8591174, 795.0),\n",
       " ('82.TA.26-4-A-j19-1.4.R', 8503088, 120.0),\n",
       " (None, 8503090, 0)]"
      ]
     },
     "execution_count": 40,
     "metadata": {},
     "output_type": "execute_result"
    }
   ],
   "source": [
    "route=build_route(prev_trip_id, prev, distances, 8591376, ZURICH_HB_ID)\n",
    "route"
   ]
  },
  {
   "cell_type": "code",
   "execution_count": 52,
   "metadata": {},
   "outputs": [
    {
     "data": {
      "text/html": [
       "<div>\n",
       "<style scoped>\n",
       "    .dataframe tbody tr th:only-of-type {\n",
       "        vertical-align: middle;\n",
       "    }\n",
       "\n",
       "    .dataframe tbody tr th {\n",
       "        vertical-align: top;\n",
       "    }\n",
       "\n",
       "    .dataframe thead th {\n",
       "        text-align: right;\n",
       "    }\n",
       "</style>\n",
       "<table border=\"1\" class=\"dataframe\">\n",
       "  <thead>\n",
       "    <tr style=\"text-align: right;\">\n",
       "      <th></th>\n",
       "      <th>trip_id</th>\n",
       "      <th>dep_stop_id</th>\n",
       "      <th>dep_time</th>\n",
       "    </tr>\n",
       "  </thead>\n",
       "  <tbody>\n",
       "    <tr>\n",
       "      <th>5</th>\n",
       "      <td>None</td>\n",
       "      <td>8503090</td>\n",
       "      <td>0.0</td>\n",
       "    </tr>\n",
       "    <tr>\n",
       "      <th>4</th>\n",
       "      <td>82.TA.26-4-A-j19-1.4.R</td>\n",
       "      <td>8503088</td>\n",
       "      <td>120.0</td>\n",
       "    </tr>\n",
       "    <tr>\n",
       "      <th>3</th>\n",
       "      <td>walk</td>\n",
       "      <td>8591174</td>\n",
       "      <td>795.0</td>\n",
       "    </tr>\n",
       "    <tr>\n",
       "      <th>2</th>\n",
       "      <td>450.TA.26-7-B-j19-1.1.H</td>\n",
       "      <td>8591373</td>\n",
       "      <td>900.0</td>\n",
       "    </tr>\n",
       "    <tr>\n",
       "      <th>1</th>\n",
       "      <td>walk</td>\n",
       "      <td>8591411</td>\n",
       "      <td>1516.0</td>\n",
       "    </tr>\n",
       "    <tr>\n",
       "      <th>0</th>\n",
       "      <td>692.TA.26-33-B-j19-1.2.H</td>\n",
       "      <td>8591376</td>\n",
       "      <td>1740.0</td>\n",
       "    </tr>\n",
       "  </tbody>\n",
       "</table>\n",
       "</div>"
      ],
      "text/plain": [
       "                    trip_id  dep_stop_id  dep_time\n",
       "5                      None      8503090       0.0\n",
       "4    82.TA.26-4-A-j19-1.4.R      8503088     120.0\n",
       "3                      walk      8591174     795.0\n",
       "2   450.TA.26-7-B-j19-1.1.H      8591373     900.0\n",
       "1                      walk      8591411    1516.0\n",
       "0  692.TA.26-33-B-j19-1.2.H      8591376    1740.0"
      ]
     },
     "execution_count": 52,
     "metadata": {},
     "output_type": "execute_result"
    }
   ],
   "source": [
    "\n",
    "def build_route_df(route, end_time):\n",
    "    df_route = pd.DataFrame(route)\n",
    "    df_route.rename({0:'trip_id', 1:'dep_stop_id', 2:'dep_time'}, axis=1, inplace=True)\n",
    "    # df_route['dep_time'] = end_time - df_route['dep_time']\n",
    "    df_route.sort_values(by='dep_time', ascending=True, inplace=True)\n",
    "    return df_route\n",
    "\n",
    "build_route_df(route, end_time)"
   ]
  },
  {
   "cell_type": "code",
   "execution_count": null,
   "metadata": {},
   "outputs": [],
   "source": []
  }
 ],
 "metadata": {
  "interpreter": {
   "hash": "c6809d3f7e90e77d8ec96c72c39a08b2522313d47c0f1d91518fdbbaf790b394"
  },
  "kernelspec": {
   "display_name": "Python 3.8.12 ('ada')",
   "language": "python",
   "name": "python3"
  },
  "language_info": {
   "codemirror_mode": {
    "name": "ipython",
    "version": 3
   },
   "file_extension": ".py",
   "mimetype": "text/x-python",
   "name": "python",
   "nbconvert_exporter": "python",
   "pygments_lexer": "ipython3",
   "version": "3.8.12"
  },
  "orig_nbformat": 4
 },
 "nbformat": 4,
 "nbformat_minor": 2
}
