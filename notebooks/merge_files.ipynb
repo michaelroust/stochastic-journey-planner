{
 "cells": [
  {
   "cell_type": "code",
   "execution_count": 7,
   "id": "325f005f-7253-4d48-9421-e517675be98e",
   "metadata": {},
   "outputs": [],
   "source": [
    "import pandas as pd"
   ]
  },
  {
   "cell_type": "code",
   "execution_count": 8,
   "id": "c71fe283-f3c5-49d8-a315-80dbd13a0a19",
   "metadata": {},
   "outputs": [],
   "source": [
    "timetable = pd.read_csv(\"../data/final_micheal_timetable.csv\",index_col=[0])\n",
    "distribution_delays = pd.read_csv(\"../data/real_time_stats_arrival_period.csv\",index_col=[0])\n",
    "stops_15k = pd.read_csv(\"../data/stops_15k.csv\",index_col=[0])"
   ]
  },
  {
   "cell_type": "code",
   "execution_count": 9,
   "id": "f3114726-284a-43cc-99c0-7b5518bd5854",
   "metadata": {},
   "outputs": [
    {
     "data": {
      "text/html": [
       "<div>\n",
       "<style scoped>\n",
       "    .dataframe tbody tr th:only-of-type {\n",
       "        vertical-align: middle;\n",
       "    }\n",
       "\n",
       "    .dataframe tbody tr th {\n",
       "        vertical-align: top;\n",
       "    }\n",
       "\n",
       "    .dataframe thead th {\n",
       "        text-align: right;\n",
       "    }\n",
       "</style>\n",
       "<table border=\"1\" class=\"dataframe\">\n",
       "  <thead>\n",
       "    <tr style=\"text-align: right;\">\n",
       "      <th></th>\n",
       "      <th>trip_id</th>\n",
       "      <th>dep_stop_id</th>\n",
       "      <th>arr_stop_id</th>\n",
       "      <th>dep_time</th>\n",
       "      <th>arr_time</th>\n",
       "      <th>mean</th>\n",
       "      <th>std</th>\n",
       "      <th>dayofweek</th>\n",
       "      <th>transport_name</th>\n",
       "      <th>trip_headsign</th>\n",
       "      <th>route_short_name</th>\n",
       "    </tr>\n",
       "  </thead>\n",
       "  <tbody>\n",
       "    <tr>\n",
       "      <th>1327014</th>\n",
       "      <td>334.TA.26-7-A-j19-1.110.H</td>\n",
       "      <td>8503006:0:8</td>\n",
       "      <td>8503340:0:1</td>\n",
       "      <td>9:57</td>\n",
       "      <td>10:00</td>\n",
       "      <td>0</td>\n",
       "      <td>0</td>\n",
       "      <td>3</td>\n",
       "      <td>S-Bahn</td>\n",
       "      <td>Winterthur</td>\n",
       "      <td>7</td>\n",
       "    </tr>\n",
       "    <tr>\n",
       "      <th>2300645</th>\n",
       "      <td>334.TA.26-7-A-j19-1.110.H</td>\n",
       "      <td>8503006:0:8</td>\n",
       "      <td>8503340:0:1</td>\n",
       "      <td>9:57</td>\n",
       "      <td>10:00</td>\n",
       "      <td>0</td>\n",
       "      <td>0</td>\n",
       "      <td>5</td>\n",
       "      <td>S-Bahn</td>\n",
       "      <td>Winterthur</td>\n",
       "      <td>7</td>\n",
       "    </tr>\n",
       "    <tr>\n",
       "      <th>857286</th>\n",
       "      <td>334.TA.26-7-A-j19-1.110.H</td>\n",
       "      <td>8503006:0:8</td>\n",
       "      <td>8503340:0:1</td>\n",
       "      <td>9:57</td>\n",
       "      <td>10:00</td>\n",
       "      <td>0</td>\n",
       "      <td>0</td>\n",
       "      <td>2</td>\n",
       "      <td>S-Bahn</td>\n",
       "      <td>Winterthur</td>\n",
       "      <td>7</td>\n",
       "    </tr>\n",
       "    <tr>\n",
       "      <th>2812922</th>\n",
       "      <td>334.TA.26-7-A-j19-1.110.H</td>\n",
       "      <td>8503006:0:8</td>\n",
       "      <td>8503340:0:1</td>\n",
       "      <td>9:57</td>\n",
       "      <td>10:00</td>\n",
       "      <td>0</td>\n",
       "      <td>0</td>\n",
       "      <td>6</td>\n",
       "      <td>S-Bahn</td>\n",
       "      <td>Winterthur</td>\n",
       "      <td>7</td>\n",
       "    </tr>\n",
       "    <tr>\n",
       "      <th>3255222</th>\n",
       "      <td>334.TA.26-7-A-j19-1.110.H</td>\n",
       "      <td>8503006:0:8</td>\n",
       "      <td>8503340:0:1</td>\n",
       "      <td>9:57</td>\n",
       "      <td>10:00</td>\n",
       "      <td>0</td>\n",
       "      <td>0</td>\n",
       "      <td>7</td>\n",
       "      <td>S-Bahn</td>\n",
       "      <td>Winterthur</td>\n",
       "      <td>7</td>\n",
       "    </tr>\n",
       "    <tr>\n",
       "      <th>...</th>\n",
       "      <td>...</td>\n",
       "      <td>...</td>\n",
       "      <td>...</td>\n",
       "      <td>...</td>\n",
       "      <td>...</td>\n",
       "      <td>...</td>\n",
       "      <td>...</td>\n",
       "      <td>...</td>\n",
       "      <td>...</td>\n",
       "      <td>...</td>\n",
       "      <td>...</td>\n",
       "    </tr>\n",
       "    <tr>\n",
       "      <th>536934</th>\n",
       "      <td>336.TA.26-7-A-j19-1.110.H</td>\n",
       "      <td>8503006:0:8</td>\n",
       "      <td>8503340:0:1</td>\n",
       "      <td>10:27</td>\n",
       "      <td>10:30</td>\n",
       "      <td>0</td>\n",
       "      <td>0</td>\n",
       "      <td>1</td>\n",
       "      <td>S-Bahn</td>\n",
       "      <td>Winterthur</td>\n",
       "      <td>7</td>\n",
       "    </tr>\n",
       "    <tr>\n",
       "      <th>2969192</th>\n",
       "      <td>336.TA.26-7-A-j19-1.110.H</td>\n",
       "      <td>8503006:0:8</td>\n",
       "      <td>8503340:0:1</td>\n",
       "      <td>10:27</td>\n",
       "      <td>10:30</td>\n",
       "      <td>0</td>\n",
       "      <td>0</td>\n",
       "      <td>6</td>\n",
       "      <td>S-Bahn</td>\n",
       "      <td>Winterthur</td>\n",
       "      <td>7</td>\n",
       "    </tr>\n",
       "    <tr>\n",
       "      <th>3267677</th>\n",
       "      <td>337.TA.26-7-A-j19-1.113.H</td>\n",
       "      <td>8503006:0:8</td>\n",
       "      <td>8503340:0:1</td>\n",
       "      <td>10:27</td>\n",
       "      <td>10:30</td>\n",
       "      <td>0</td>\n",
       "      <td>0</td>\n",
       "      <td>7</td>\n",
       "      <td>S-Bahn</td>\n",
       "      <td>Winterthur</td>\n",
       "      <td>7</td>\n",
       "    </tr>\n",
       "    <tr>\n",
       "      <th>2472264</th>\n",
       "      <td>336.TA.26-7-A-j19-1.110.H</td>\n",
       "      <td>8503006:0:8</td>\n",
       "      <td>8503340:0:1</td>\n",
       "      <td>10:27</td>\n",
       "      <td>10:30</td>\n",
       "      <td>0</td>\n",
       "      <td>0</td>\n",
       "      <td>5</td>\n",
       "      <td>S-Bahn</td>\n",
       "      <td>Winterthur</td>\n",
       "      <td>7</td>\n",
       "    </tr>\n",
       "    <tr>\n",
       "      <th>1002790</th>\n",
       "      <td>336.TA.26-7-A-j19-1.110.H</td>\n",
       "      <td>8503006:0:8</td>\n",
       "      <td>8503340:0:1</td>\n",
       "      <td>10:27</td>\n",
       "      <td>10:30</td>\n",
       "      <td>0</td>\n",
       "      <td>0</td>\n",
       "      <td>2</td>\n",
       "      <td>S-Bahn</td>\n",
       "      <td>Winterthur</td>\n",
       "      <td>7</td>\n",
       "    </tr>\n",
       "  </tbody>\n",
       "</table>\n",
       "<p>349 rows × 11 columns</p>\n",
       "</div>"
      ],
      "text/plain": [
       "                           trip_id  dep_stop_id  arr_stop_id dep_time  \\\n",
       "1327014  334.TA.26-7-A-j19-1.110.H  8503006:0:8  8503340:0:1     9:57   \n",
       "2300645  334.TA.26-7-A-j19-1.110.H  8503006:0:8  8503340:0:1     9:57   \n",
       "857286   334.TA.26-7-A-j19-1.110.H  8503006:0:8  8503340:0:1     9:57   \n",
       "2812922  334.TA.26-7-A-j19-1.110.H  8503006:0:8  8503340:0:1     9:57   \n",
       "3255222  334.TA.26-7-A-j19-1.110.H  8503006:0:8  8503340:0:1     9:57   \n",
       "...                            ...          ...          ...      ...   \n",
       "536934   336.TA.26-7-A-j19-1.110.H  8503006:0:8  8503340:0:1    10:27   \n",
       "2969192  336.TA.26-7-A-j19-1.110.H  8503006:0:8  8503340:0:1    10:27   \n",
       "3267677  337.TA.26-7-A-j19-1.113.H  8503006:0:8  8503340:0:1    10:27   \n",
       "2472264  336.TA.26-7-A-j19-1.110.H  8503006:0:8  8503340:0:1    10:27   \n",
       "1002790  336.TA.26-7-A-j19-1.110.H  8503006:0:8  8503340:0:1    10:27   \n",
       "\n",
       "        arr_time  mean  std  dayofweek transport_name trip_headsign  \\\n",
       "1327014    10:00     0    0          3         S-Bahn    Winterthur   \n",
       "2300645    10:00     0    0          5         S-Bahn    Winterthur   \n",
       "857286     10:00     0    0          2         S-Bahn    Winterthur   \n",
       "2812922    10:00     0    0          6         S-Bahn    Winterthur   \n",
       "3255222    10:00     0    0          7         S-Bahn    Winterthur   \n",
       "...          ...   ...  ...        ...            ...           ...   \n",
       "536934     10:30     0    0          1         S-Bahn    Winterthur   \n",
       "2969192    10:30     0    0          6         S-Bahn    Winterthur   \n",
       "3267677    10:30     0    0          7         S-Bahn    Winterthur   \n",
       "2472264    10:30     0    0          5         S-Bahn    Winterthur   \n",
       "1002790    10:30     0    0          2         S-Bahn    Winterthur   \n",
       "\n",
       "        route_short_name  \n",
       "1327014                7  \n",
       "2300645                7  \n",
       "857286                 7  \n",
       "2812922                7  \n",
       "3255222                7  \n",
       "...                  ...  \n",
       "536934                 7  \n",
       "2969192                7  \n",
       "3267677                7  \n",
       "2472264                7  \n",
       "1002790                7  \n",
       "\n",
       "[349 rows x 11 columns]"
      ]
     },
     "execution_count": 9,
     "metadata": {},
     "output_type": "execute_result"
    }
   ],
   "source": [
    "timetable[(timetable.dep_stop_id == \"8503006:0:8\") &(timetable.arr_stop_id == \"8503340:0:1\")].sort_values(\"dep_time\",ascending=False)"
   ]
  },
  {
   "cell_type": "code",
   "execution_count": 10,
   "id": "215cf912-79f0-4bf3-b239-d2e19efe7040",
   "metadata": {},
   "outputs": [],
   "source": [
    "timetable = timetable.reset_index()"
   ]
  },
  {
   "cell_type": "code",
   "execution_count": 11,
   "id": "a0d2f085-568c-46a3-b9d8-bbbff6034a53",
   "metadata": {},
   "outputs": [],
   "source": [
    "timetable[\"hour_time\"] = timetable.arr_time.apply(lambda x: int(x.split(\":\")[0]))"
   ]
  },
  {
   "cell_type": "code",
   "execution_count": 12,
   "id": "eb65b0dc-327b-43dc-a78a-3218b1da06c6",
   "metadata": {},
   "outputs": [],
   "source": [
    "timetable = timetable[timetable[\"hour_time\"] < 22]"
   ]
  },
  {
   "cell_type": "code",
   "execution_count": 13,
   "id": "9bd6c4d6-9cdb-4fec-a6d6-267db40949d1",
   "metadata": {},
   "outputs": [],
   "source": [
    "timetable[\"time_period\"] = timetable.hour_time.apply(lambda x: ((x + 2) // 4) - 2)"
   ]
  },
  {
   "cell_type": "code",
   "execution_count": 14,
   "id": "b0b002f1-54d4-47bc-934e-e1531d91e259",
   "metadata": {},
   "outputs": [],
   "source": [
    "timetable.transport_name = timetable.transport_name.map({\"Bus\": \"bus\",\"RegioExpress\":\"zug\",\"Tram\": \"tram\",\"S-Bahn\":\"zug\",\"Intercity\": \"zug\",\n",
    "                              \"Standseilbahn\":\"zug\",\"Schiff\": \"schiff\",\"InterRegio\": \"zug\",\"Taxi\": \"bus\",\"Luftseilbahn\":\"luftseilbahn\",\n",
    "                             \"Extrazug\": \"zug\",\"Eurocity\": \"zug\",\"Regionalzug\":\"zug\"})"
   ]
  },
  {
   "cell_type": "code",
   "execution_count": 15,
   "id": "45c3c090-ff1f-4a24-bb38-cf67c2125876",
   "metadata": {},
   "outputs": [],
   "source": [
    "inter_df = timetable.merge(stops_15k,left_on=\"dep_stop_id\",right_on=\"stop_id\").drop([\"latitude\",\"longitude\",\"stop_id\"],axis=1).rename(columns={\"stop_name\": \"dep_stop_name\"})"
   ]
  },
  {
   "cell_type": "code",
   "execution_count": 16,
   "id": "c98455b3-efe5-49fb-b1ae-ee5208c90761",
   "metadata": {},
   "outputs": [],
   "source": [
    "inter_df = inter_df.merge(stops_15k,left_on=\"arr_stop_id\",right_on=\"stop_id\").drop([\"latitude\",\"longitude\",\"stop_id\"],axis=1).rename(columns={\"stop_name\": \"arr_stop_name\"})"
   ]
  },
  {
   "cell_type": "code",
   "execution_count": 17,
   "id": "fa40f6cb-3e5e-431d-844b-1847342c3f64",
   "metadata": {},
   "outputs": [],
   "source": [
    "final = inter_df.merge(distribution_delays,how=\"left\",\n",
    "                       left_on=[\"dep_stop_name\",\"arr_stop_name\",\"time_period\",\"transport_name\"],\n",
    "                       right_on=[\"departure\",\"arrival\",\"arrival_period\",\"transport_mode\"])\n"
   ]
  },
  {
   "cell_type": "code",
   "execution_count": 18,
   "id": "5d7477f9-277c-49ed-9209-63a23e28d415",
   "metadata": {},
   "outputs": [],
   "source": [
    "final = final[[\"trip_id\",\"dep_stop_id\",\"arr_stop_id\",\n",
    "               \"dep_stop_name\",\"arr_stop_name\",\"dep_time\",\n",
    "               \"arr_time\",\"delay_mean\",\"delay_std\",\n",
    "               \"dayofweek\",\"time_period\",\"transport_name\",'trip_headsign','route_short_name']]"
   ]
  },
  {
   "cell_type": "code",
   "execution_count": 19,
   "id": "787d28fa-2af8-40ec-9db0-4e1cb03e2951",
   "metadata": {},
   "outputs": [],
   "source": [
    "mean_all =  final.delay_mean.mean()\n",
    "std_all = final.delay_std.mean()\n",
    "final['delay_mean'] = final['delay_mean'].fillna(mean_all)\n",
    "final['delay_std'] = final['delay_std'].fillna(std_all)"
   ]
  },
  {
   "cell_type": "code",
   "execution_count": 20,
   "id": "91469cab-e93b-4259-8b05-85757ad0cb66",
   "metadata": {},
   "outputs": [],
   "source": [
    "final = final.drop_duplicates()"
   ]
  },
  {
   "cell_type": "code",
   "execution_count": 21,
   "id": "87b634ab-554b-474c-8b8a-7c6dfdfc8847",
   "metadata": {},
   "outputs": [],
   "source": [
    "final.dep_stop_id = final.dep_stop_id.apply(lambda x: x.split(\":\")[0])\n",
    "final.arr_stop_id = final.arr_stop_id.apply(lambda x: x.split(\":\")[0])"
   ]
  },
  {
   "cell_type": "code",
   "execution_count": null,
   "id": "4a26f9bc-dc96-4ac4-a928-96c6541bb6da",
   "metadata": {},
   "outputs": [],
   "source": [
    "final = final.drop_duplicates([\"dep_time\",\"arr_time\",\"dep_stop_name\",\"arr_stop_name\",\"transport_mode\"])"
   ]
  },
  {
   "cell_type": "code",
   "execution_count": 22,
   "id": "0a42d6ff-267a-478c-ba2a-14bc518f8576",
   "metadata": {},
   "outputs": [],
   "source": [
    "final.to_csv(\"../data/full_timetable.csv\")"
   ]
  }
 ],
 "metadata": {
  "kernelspec": {
   "display_name": "Python 3",
   "language": "python",
   "name": "python3"
  },
  "language_info": {
   "codemirror_mode": {
    "name": "ipython",
    "version": 3
   },
   "file_extension": ".py",
   "mimetype": "text/x-python",
   "name": "python",
   "nbconvert_exporter": "python",
   "pygments_lexer": "ipython3",
   "version": "3.9.7"
  }
 },
 "nbformat": 4,
 "nbformat_minor": 5
}
