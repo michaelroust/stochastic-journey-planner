{
 "cells": [
  {
   "cell_type": "code",
   "execution_count": 2,
   "metadata": {},
   "outputs": [],
   "source": [
    "# import os\n",
    "# import warnings\n",
    "\n",
    "# import numpy as np\n",
    "\n",
    "import pickle\n",
    "import pandas as pd\n",
    "pd.set_option(\"display.max_rows\",10)\n",
    "# pd.set_option(\"display.max_columns\", 10)\n",
    "import matplotlib.pyplot as plt\n",
    "%matplotlib inline\n",
    "import networkx as nx\n",
    "\n",
    "\n",
    "from utils import *\n",
    "from algo import *\n",
    "\n",
    "%load_ext autoreload\n",
    "%autoreload 2"
   ]
  },
  {
   "cell_type": "code",
   "execution_count": 3,
   "metadata": {},
   "outputs": [
    {
     "data": {
      "text/html": [
       "<div>\n",
       "<style scoped>\n",
       "    .dataframe tbody tr th:only-of-type {\n",
       "        vertical-align: middle;\n",
       "    }\n",
       "\n",
       "    .dataframe tbody tr th {\n",
       "        vertical-align: top;\n",
       "    }\n",
       "\n",
       "    .dataframe thead th {\n",
       "        text-align: right;\n",
       "    }\n",
       "</style>\n",
       "<table border=\"1\" class=\"dataframe\">\n",
       "  <thead>\n",
       "    <tr style=\"text-align: right;\">\n",
       "      <th></th>\n",
       "      <th>stop_name</th>\n",
       "      <th>latitude</th>\n",
       "      <th>longitude</th>\n",
       "    </tr>\n",
       "    <tr>\n",
       "      <th>stop_id</th>\n",
       "      <th></th>\n",
       "      <th></th>\n",
       "      <th></th>\n",
       "    </tr>\n",
       "  </thead>\n",
       "  <tbody>\n",
       "    <tr>\n",
       "      <th>176</th>\n",
       "      <td>Zimmerberg-Basistunnel</td>\n",
       "      <td>47.351678</td>\n",
       "      <td>8.521958</td>\n",
       "    </tr>\n",
       "    <tr>\n",
       "      <th>8500926</th>\n",
       "      <td>Oetwil a.d.L., Schweizäcker</td>\n",
       "      <td>47.423627</td>\n",
       "      <td>8.403183</td>\n",
       "    </tr>\n",
       "    <tr>\n",
       "      <th>8502075</th>\n",
       "      <td>Zürich Flughafen, Carterminal</td>\n",
       "      <td>47.451024</td>\n",
       "      <td>8.563729</td>\n",
       "    </tr>\n",
       "    <tr>\n",
       "      <th>8502186</th>\n",
       "      <td>Dietikon Stoffelbach</td>\n",
       "      <td>47.393327</td>\n",
       "      <td>8.398960</td>\n",
       "    </tr>\n",
       "    <tr>\n",
       "      <th>8502186</th>\n",
       "      <td>Dietikon Stoffelbach</td>\n",
       "      <td>47.393400</td>\n",
       "      <td>8.398942</td>\n",
       "    </tr>\n",
       "    <tr>\n",
       "      <th>...</th>\n",
       "      <td>...</td>\n",
       "      <td>...</td>\n",
       "      <td>...</td>\n",
       "    </tr>\n",
       "    <tr>\n",
       "      <th>8503088</th>\n",
       "      <td>Zürich HB SZU</td>\n",
       "      <td>47.377391</td>\n",
       "      <td>8.539358</td>\n",
       "    </tr>\n",
       "    <tr>\n",
       "      <th>8503307</th>\n",
       "      <td>Bassersdorf</td>\n",
       "      <td>47.438570</td>\n",
       "      <td>8.626225</td>\n",
       "    </tr>\n",
       "    <tr>\n",
       "      <th>8583870</th>\n",
       "      <td>Bahnhof Süd</td>\n",
       "      <td>47.357174</td>\n",
       "      <td>8.437013</td>\n",
       "    </tr>\n",
       "    <tr>\n",
       "      <th>8590279</th>\n",
       "      <td>Shopping Center</td>\n",
       "      <td>47.420448</td>\n",
       "      <td>8.368517</td>\n",
       "    </tr>\n",
       "    <tr>\n",
       "      <th>8590464</th>\n",
       "      <td>Bahnhof</td>\n",
       "      <td>47.311781</td>\n",
       "      <td>8.524311</td>\n",
       "    </tr>\n",
       "  </tbody>\n",
       "</table>\n",
       "<p>1591 rows × 3 columns</p>\n",
       "</div>"
      ],
      "text/plain": [
       "                             stop_name   latitude  longitude\n",
       "stop_id                                                     \n",
       "176             Zimmerberg-Basistunnel  47.351678   8.521958\n",
       "8500926    Oetwil a.d.L., Schweizäcker  47.423627   8.403183\n",
       "8502075  Zürich Flughafen, Carterminal  47.451024   8.563729\n",
       "8502186           Dietikon Stoffelbach  47.393327   8.398960\n",
       "8502186           Dietikon Stoffelbach  47.393400   8.398942\n",
       "...                                ...        ...        ...\n",
       "8503088                  Zürich HB SZU  47.377391   8.539358\n",
       "8503307                    Bassersdorf  47.438570   8.626225\n",
       "8583870                    Bahnhof Süd  47.357174   8.437013\n",
       "8590279                Shopping Center  47.420448   8.368517\n",
       "8590464                        Bahnhof  47.311781   8.524311\n",
       "\n",
       "[1591 rows x 3 columns]"
      ]
     },
     "execution_count": 3,
     "metadata": {},
     "output_type": "execute_result"
    }
   ],
   "source": [
    "df_stops = filter_stops_by_distance_from_zurich_hb(load_df_stops(), 15000)\n",
    "df_stops"
   ]
  },
  {
   "cell_type": "code",
   "execution_count": 4,
   "metadata": {},
   "outputs": [
    {
     "data": {
      "text/html": [
       "<div>\n",
       "<style scoped>\n",
       "    .dataframe tbody tr th:only-of-type {\n",
       "        vertical-align: middle;\n",
       "    }\n",
       "\n",
       "    .dataframe tbody tr th {\n",
       "        vertical-align: top;\n",
       "    }\n",
       "\n",
       "    .dataframe thead th {\n",
       "        text-align: right;\n",
       "    }\n",
       "</style>\n",
       "<table border=\"1\" class=\"dataframe\">\n",
       "  <thead>\n",
       "    <tr style=\"text-align: right;\">\n",
       "      <th></th>\n",
       "      <th>stop_name</th>\n",
       "      <th>latitude</th>\n",
       "      <th>longitude</th>\n",
       "    </tr>\n",
       "    <tr>\n",
       "      <th>stop_id</th>\n",
       "      <th></th>\n",
       "      <th></th>\n",
       "      <th></th>\n",
       "    </tr>\n",
       "  </thead>\n",
       "  <tbody>\n",
       "    <tr>\n",
       "      <th>8503090</th>\n",
       "      <td>Zürich Selnau</td>\n",
       "      <td>47.372239</td>\n",
       "      <td>8.531722</td>\n",
       "    </tr>\n",
       "    <tr>\n",
       "      <th>8591064</th>\n",
       "      <td>Zürich Selnau, Bahnhof</td>\n",
       "      <td>47.370669</td>\n",
       "      <td>8.532010</td>\n",
       "    </tr>\n",
       "    <tr>\n",
       "      <th>8591367</th>\n",
       "      <td>Zürich, Sihlpost/HB</td>\n",
       "      <td>47.376096</td>\n",
       "      <td>8.534202</td>\n",
       "    </tr>\n",
       "    <tr>\n",
       "      <th>8591369</th>\n",
       "      <td>Zürich, Sihlstrasse</td>\n",
       "      <td>47.372269</td>\n",
       "      <td>8.534570</td>\n",
       "    </tr>\n",
       "    <tr>\n",
       "      <th>8591381</th>\n",
       "      <td>Zürich, Stauffacher</td>\n",
       "      <td>47.373425</td>\n",
       "      <td>8.529252</td>\n",
       "    </tr>\n",
       "    <tr>\n",
       "      <th>8591427</th>\n",
       "      <td>Zürich, Werd</td>\n",
       "      <td>47.372324</td>\n",
       "      <td>8.526845</td>\n",
       "    </tr>\n",
       "  </tbody>\n",
       "</table>\n",
       "</div>"
      ],
      "text/plain": [
       "                      stop_name   latitude  longitude\n",
       "stop_id                                              \n",
       "8503090           Zürich Selnau  47.372239   8.531722\n",
       "8591064  Zürich Selnau, Bahnhof  47.370669   8.532010\n",
       "8591367     Zürich, Sihlpost/HB  47.376096   8.534202\n",
       "8591369     Zürich, Sihlstrasse  47.372269   8.534570\n",
       "8591381     Zürich, Stauffacher  47.373425   8.529252\n",
       "8591427            Zürich, Werd  47.372324   8.526845"
      ]
     },
     "execution_count": 4,
     "metadata": {},
     "output_type": "execute_result"
    }
   ],
   "source": [
    "pos = (ZURICH_HB_LAT, ZURICH_HB_LON)\n",
    "\n",
    "df_close_stops, df_dist = filter_stops_by_distance(df_stops, pos, 500)\n",
    "\n",
    "df_close_stops\n",
    "\n",
    "# df_close_stops = stops_in_walking_distance(df_stops, pos)\n",
    "# df_close_stops"
   ]
  },
  {
   "cell_type": "code",
   "execution_count": 5,
   "metadata": {},
   "outputs": [
    {
     "data": {
      "text/plain": [
       "stop_id\n",
       "8503090      0.038112\n",
       "8591064    175.871463\n",
       "8591367    467.905495\n",
       "8591369    215.134012\n",
       "8591381    228.448123\n",
       "8591427    368.491493\n",
       "dtype: float64"
      ]
     },
     "execution_count": 5,
     "metadata": {},
     "output_type": "execute_result"
    }
   ],
   "source": [
    "df_dist"
   ]
  },
  {
   "cell_type": "code",
   "execution_count": 9,
   "metadata": {},
   "outputs": [
    {
     "data": {
      "text/html": [
       "<div>\n",
       "<style scoped>\n",
       "    .dataframe tbody tr th:only-of-type {\n",
       "        vertical-align: middle;\n",
       "    }\n",
       "\n",
       "    .dataframe tbody tr th {\n",
       "        vertical-align: top;\n",
       "    }\n",
       "\n",
       "    .dataframe thead th {\n",
       "        text-align: right;\n",
       "    }\n",
       "</style>\n",
       "<table border=\"1\" class=\"dataframe\">\n",
       "  <thead>\n",
       "    <tr style=\"text-align: right;\">\n",
       "      <th></th>\n",
       "      <th>stop_name</th>\n",
       "      <th>latitude</th>\n",
       "      <th>longitude</th>\n",
       "    </tr>\n",
       "    <tr>\n",
       "      <th>stop_id</th>\n",
       "      <th></th>\n",
       "      <th></th>\n",
       "      <th></th>\n",
       "    </tr>\n",
       "  </thead>\n",
       "  <tbody>\n",
       "    <tr>\n",
       "      <th>8503090</th>\n",
       "      <td>Zürich Selnau</td>\n",
       "      <td>47.372239</td>\n",
       "      <td>8.531722</td>\n",
       "    </tr>\n",
       "    <tr>\n",
       "      <th>8591064</th>\n",
       "      <td>Zürich Selnau, Bahnhof</td>\n",
       "      <td>47.370669</td>\n",
       "      <td>8.532010</td>\n",
       "    </tr>\n",
       "    <tr>\n",
       "      <th>8591367</th>\n",
       "      <td>Zürich, Sihlpost/HB</td>\n",
       "      <td>47.376096</td>\n",
       "      <td>8.534202</td>\n",
       "    </tr>\n",
       "    <tr>\n",
       "      <th>8591369</th>\n",
       "      <td>Zürich, Sihlstrasse</td>\n",
       "      <td>47.372269</td>\n",
       "      <td>8.534570</td>\n",
       "    </tr>\n",
       "    <tr>\n",
       "      <th>8591381</th>\n",
       "      <td>Zürich, Stauffacher</td>\n",
       "      <td>47.373425</td>\n",
       "      <td>8.529252</td>\n",
       "    </tr>\n",
       "    <tr>\n",
       "      <th>8591427</th>\n",
       "      <td>Zürich, Werd</td>\n",
       "      <td>47.372324</td>\n",
       "      <td>8.526845</td>\n",
       "    </tr>\n",
       "  </tbody>\n",
       "</table>\n",
       "</div>"
      ],
      "text/plain": [
       "                      stop_name   latitude  longitude\n",
       "stop_id                                              \n",
       "8503090           Zürich Selnau  47.372239   8.531722\n",
       "8591064  Zürich Selnau, Bahnhof  47.370669   8.532010\n",
       "8591367     Zürich, Sihlpost/HB  47.376096   8.534202\n",
       "8591369     Zürich, Sihlstrasse  47.372269   8.534570\n",
       "8591381     Zürich, Stauffacher  47.373425   8.529252\n",
       "8591427            Zürich, Werd  47.372324   8.526845"
      ]
     },
     "execution_count": 9,
     "metadata": {},
     "output_type": "execute_result"
    }
   ],
   "source": [
    "df_close_stops, ser_walk_time = stops_in_walking_distance(df_stops, pos)\n",
    "df_close_stops"
   ]
  },
  {
   "cell_type": "code",
   "execution_count": 10,
   "metadata": {},
   "outputs": [
    {
     "data": {
      "text/plain": [
       "stop_id\n",
       "8503090      0\n",
       "8591064    211\n",
       "8591367    561\n",
       "8591369    258\n",
       "8591381    274\n",
       "8591427    442\n",
       "dtype: int64"
      ]
     },
     "execution_count": 10,
     "metadata": {},
     "output_type": "execute_result"
    }
   ],
   "source": [
    "ser_walk_time"
   ]
  },
  {
   "cell_type": "markdown",
   "metadata": {},
   "source": [
    "-----------------------"
   ]
  },
  {
   "cell_type": "code",
   "execution_count": 11,
   "metadata": {},
   "outputs": [
    {
     "data": {
      "text/plain": [
       "[(8503090, 0),\n",
       " (8591064, 211),\n",
       " (8591367, 561),\n",
       " (8591369, 258),\n",
       " (8591381, 274),\n",
       " (8591427, 442)]"
      ]
     },
     "execution_count": 11,
     "metadata": {},
     "output_type": "execute_result"
    }
   ],
   "source": [
    "build_walking_dist_data(df_stops, pos)"
   ]
  },
  {
   "cell_type": "code",
   "execution_count": 16,
   "metadata": {},
   "outputs": [],
   "source": []
  },
  {
   "cell_type": "code",
   "execution_count": 22,
   "metadata": {},
   "outputs": [],
   "source": [
    "walk_dists = df_stops.apply(lambda row: build_walking_dist_data(df_stops, (row['latitude'], row['longitude'])), axis=1)\n",
    "# df_stops.apply(lambda row: build_walking_dist_data(df_stops, (ZURICH_HB_LAT, ZURICH_HB_LON)), axis=0)"
   ]
  },
  {
   "cell_type": "code",
   "execution_count": 30,
   "metadata": {},
   "outputs": [],
   "source": [
    "df_stops_with_walk_time = df_stops.copy()\n",
    "df_stops_with_walk_time['walk_time'] = walk_dists"
   ]
  },
  {
   "cell_type": "code",
   "execution_count": 31,
   "metadata": {},
   "outputs": [
    {
     "data": {
      "text/html": [
       "<div>\n",
       "<style scoped>\n",
       "    .dataframe tbody tr th:only-of-type {\n",
       "        vertical-align: middle;\n",
       "    }\n",
       "\n",
       "    .dataframe tbody tr th {\n",
       "        vertical-align: top;\n",
       "    }\n",
       "\n",
       "    .dataframe thead th {\n",
       "        text-align: right;\n",
       "    }\n",
       "</style>\n",
       "<table border=\"1\" class=\"dataframe\">\n",
       "  <thead>\n",
       "    <tr style=\"text-align: right;\">\n",
       "      <th></th>\n",
       "      <th>stop_name</th>\n",
       "      <th>latitude</th>\n",
       "      <th>longitude</th>\n",
       "      <th>walk_time</th>\n",
       "    </tr>\n",
       "    <tr>\n",
       "      <th>stop_id</th>\n",
       "      <th></th>\n",
       "      <th></th>\n",
       "      <th></th>\n",
       "      <th></th>\n",
       "    </tr>\n",
       "  </thead>\n",
       "  <tbody>\n",
       "    <tr>\n",
       "      <th>176</th>\n",
       "      <td>Zimmerberg-Basistunnel</td>\n",
       "      <td>47.351678</td>\n",
       "      <td>8.521958</td>\n",
       "      <td>[(176, 0), (8503086, 388), (8591392, 566)]</td>\n",
       "    </tr>\n",
       "    <tr>\n",
       "      <th>8500926</th>\n",
       "      <td>Oetwil a.d.L., Schweizäcker</td>\n",
       "      <td>47.423627</td>\n",
       "      <td>8.403183</td>\n",
       "      <td>[(8500926, 0), (8590616, 147), (8590737, 360)]</td>\n",
       "    </tr>\n",
       "    <tr>\n",
       "      <th>8502075</th>\n",
       "      <td>Zürich Flughafen, Carterminal</td>\n",
       "      <td>47.451024</td>\n",
       "      <td>8.563729</td>\n",
       "      <td>[(8502075, 0), (8503016, 147), (8573205, 115),...</td>\n",
       "    </tr>\n",
       "    <tr>\n",
       "      <th>8502186</th>\n",
       "      <td>Dietikon Stoffelbach</td>\n",
       "      <td>47.393327</td>\n",
       "      <td>8.398960</td>\n",
       "      <td>[(8502186, 0), (8502186, 10), (8502270, 552), ...</td>\n",
       "    </tr>\n",
       "    <tr>\n",
       "      <th>8502186</th>\n",
       "      <td>Dietikon Stoffelbach</td>\n",
       "      <td>47.393400</td>\n",
       "      <td>8.398942</td>\n",
       "      <td>[(8502186, 10), (8502186, 0), (8502270, 543), ...</td>\n",
       "    </tr>\n",
       "    <tr>\n",
       "      <th>...</th>\n",
       "      <td>...</td>\n",
       "      <td>...</td>\n",
       "      <td>...</td>\n",
       "      <td>...</td>\n",
       "    </tr>\n",
       "    <tr>\n",
       "      <th>8503088</th>\n",
       "      <td>Zürich HB SZU</td>\n",
       "      <td>47.377391</td>\n",
       "      <td>8.539358</td>\n",
       "      <td>[(8503000, 130), (8503088, 18), (8503446, 299)...</td>\n",
       "    </tr>\n",
       "    <tr>\n",
       "      <th>8503307</th>\n",
       "      <td>Bassersdorf</td>\n",
       "      <td>47.438570</td>\n",
       "      <td>8.626225</td>\n",
       "      <td>[(8503307, 1), (8503700, 21), (8588316, 528), ...</td>\n",
       "    </tr>\n",
       "    <tr>\n",
       "      <th>8583870</th>\n",
       "      <td>Bahnhof Süd</td>\n",
       "      <td>47.357174</td>\n",
       "      <td>8.437013</td>\n",
       "      <td>[(8502221, 60), (8502950, 432), (8573718, 165)...</td>\n",
       "    </tr>\n",
       "    <tr>\n",
       "      <th>8590279</th>\n",
       "      <td>Shopping Center</td>\n",
       "      <td>47.420448</td>\n",
       "      <td>8.368517</td>\n",
       "      <td>[(8590270, 446), (8590271, 205), (8590275, 506...</td>\n",
       "    </tr>\n",
       "    <tr>\n",
       "      <th>8590464</th>\n",
       "      <td>Bahnhof</td>\n",
       "      <td>47.311781</td>\n",
       "      <td>8.524311</td>\n",
       "      <td>[(8503082, 428), (8503096, 66), (8590464, 0), ...</td>\n",
       "    </tr>\n",
       "  </tbody>\n",
       "</table>\n",
       "<p>1591 rows × 4 columns</p>\n",
       "</div>"
      ],
      "text/plain": [
       "                             stop_name   latitude  longitude  \\\n",
       "stop_id                                                        \n",
       "176             Zimmerberg-Basistunnel  47.351678   8.521958   \n",
       "8500926    Oetwil a.d.L., Schweizäcker  47.423627   8.403183   \n",
       "8502075  Zürich Flughafen, Carterminal  47.451024   8.563729   \n",
       "8502186           Dietikon Stoffelbach  47.393327   8.398960   \n",
       "8502186           Dietikon Stoffelbach  47.393400   8.398942   \n",
       "...                                ...        ...        ...   \n",
       "8503088                  Zürich HB SZU  47.377391   8.539358   \n",
       "8503307                    Bassersdorf  47.438570   8.626225   \n",
       "8583870                    Bahnhof Süd  47.357174   8.437013   \n",
       "8590279                Shopping Center  47.420448   8.368517   \n",
       "8590464                        Bahnhof  47.311781   8.524311   \n",
       "\n",
       "                                                 walk_time  \n",
       "stop_id                                                     \n",
       "176             [(176, 0), (8503086, 388), (8591392, 566)]  \n",
       "8500926     [(8500926, 0), (8590616, 147), (8590737, 360)]  \n",
       "8502075  [(8502075, 0), (8503016, 147), (8573205, 115),...  \n",
       "8502186  [(8502186, 0), (8502186, 10), (8502270, 552), ...  \n",
       "8502186  [(8502186, 10), (8502186, 0), (8502270, 543), ...  \n",
       "...                                                    ...  \n",
       "8503088  [(8503000, 130), (8503088, 18), (8503446, 299)...  \n",
       "8503307  [(8503307, 1), (8503700, 21), (8588316, 528), ...  \n",
       "8583870  [(8502221, 60), (8502950, 432), (8573718, 165)...  \n",
       "8590279  [(8590270, 446), (8590271, 205), (8590275, 506...  \n",
       "8590464  [(8503082, 428), (8503096, 66), (8590464, 0), ...  \n",
       "\n",
       "[1591 rows x 4 columns]"
      ]
     },
     "execution_count": 31,
     "metadata": {},
     "output_type": "execute_result"
    }
   ],
   "source": [
    "df_stops_with_walk_time"
   ]
  },
  {
   "cell_type": "code",
   "execution_count": 28,
   "metadata": {},
   "outputs": [
    {
     "data": {
      "text/plain": [
       "stop_id\n",
       "176               [(176, 0), (8503086, 388), (8591392, 566)]\n",
       "8500926       [(8500926, 0), (8590616, 147), (8590737, 360)]\n",
       "8502075    [(8502075, 0), (8503016, 147), (8573205, 115),...\n",
       "8502186    [(8502186, 0), (8502186, 10), (8502270, 552), ...\n",
       "8502186    [(8502186, 10), (8502186, 0), (8502270, 543), ...\n",
       "                                 ...                        \n",
       "8503088    [(8503000, 130), (8503088, 18), (8503446, 299)...\n",
       "8503307    [(8503307, 1), (8503700, 21), (8588316, 528), ...\n",
       "8583870    [(8502221, 60), (8502950, 432), (8573718, 165)...\n",
       "8590279    [(8590270, 446), (8590271, 205), (8590275, 506...\n",
       "8590464    [(8503082, 428), (8503096, 66), (8590464, 0), ...\n",
       "Length: 1591, dtype: object"
      ]
     },
     "execution_count": 28,
     "metadata": {},
     "output_type": "execute_result"
    }
   ],
   "source": [
    "walk_dists"
   ]
  },
  {
   "cell_type": "code",
   "execution_count": 108,
   "metadata": {},
   "outputs": [
    {
     "data": {
      "text/plain": [
       "[(176, 0.0), (8503086, 387.7194364699116), (8591392, 566.3187346475764)]"
      ]
     },
     "execution_count": 108,
     "metadata": {},
     "output_type": "execute_result"
    }
   ],
   "source": [
    "row = df_stops.iloc[0]\n",
    "# row\n",
    "build_walking_dist_data(df_stops, (row['latitude'], row['longitude']))"
   ]
  },
  {
   "cell_type": "code",
   "execution_count": 8,
   "metadata": {},
   "outputs": [
    {
     "name": "stdout",
     "output_type": "stream",
     "text": [
      "[(176, 0), (8503086, 388), (8591392, 566)]\n",
      "[(8500926, 0), (8590616, 147), (8590737, 360)]\n",
      "[(8502075, 0), (8503016, 147), (8573205, 115), (8573205, 115), (8580301, 279)]\n",
      "[(8502186, 0), (8502186, 10), (8502270, 552), (8590200, 582), (8590203, 551)]\n",
      "[(8502186, 10), (8502186, 0), (8502270, 543), (8590200, 582), (8590203, 547)]\n",
      "[(8502187, 0), (8502187, 12)]\n",
      "[(8502187, 12), (8502187, 0)]\n",
      "[(8502188, 0), (8502188, 7), (8502188, 7), (8502268, 483), (8502274, 450), (8517377, 486), (8517377, 487), (8572568, 554), (8580847, 504)]\n",
      "[(8502188, 7), (8502188, 0), (8502188, 0), (8502268, 486), (8502274, 443), (8517377, 483), (8517377, 483), (8572568, 555), (8580847, 500)]\n",
      "[(8502188, 7), (8502188, 0), (8502188, 0), (8502268, 486), (8502274, 443), (8517377, 483), (8517377, 483), (8572568, 555), (8580847, 500)]\n",
      "[(8502208, 0), (8573553, 369), (8573554, 34), (8573555, 336), (8579192, 588), (8589111, 351), (8590655, 262), (8594182, 570)]\n",
      "[(8502209, 0), (8503203, 400), (8503673, 463), (8579186, 384), (8590734, 37), (8590735, 454), (8590736, 514)]\n",
      "[(8502220, 0), (8590792, 550), (8590800, 507)]\n",
      "[(8502221, 0), (8502950, 467), (8573718, 131), (8573718, 131), (8583870, 60), (8583870, 60), (8583870, 60), (8583870, 60)]\n",
      "[(8502222, 0), (8573726, 60), (8573726, 60), (8573730, 443)]\n",
      "[(8502223, 0), (8582721, 595), (8582722, 241)]\n",
      "[(8502224, 0), (8573178, 34), (8573178, 34), (8573178, 34)]\n",
      "[(8502229, 0), (8590834, 122), (8590849, 435)]\n"
     ]
    },
    {
     "ename": "KeyboardInterrupt",
     "evalue": "",
     "output_type": "error",
     "traceback": [
      "\u001b[0;31m---------------------------------------------------------------------------\u001b[0m",
      "\u001b[0;31mKeyboardInterrupt\u001b[0m                         Traceback (most recent call last)",
      "\u001b[0;32m/var/folders/nf/186rd3kx35v_x13p5402wpsr0000gn/T/ipykernel_12257/1562014036.py\u001b[0m in \u001b[0;36m<module>\u001b[0;34m\u001b[0m\n\u001b[1;32m      1\u001b[0m \u001b[0;32mfor\u001b[0m \u001b[0mindex\u001b[0m\u001b[0;34m,\u001b[0m \u001b[0mrow\u001b[0m \u001b[0;32min\u001b[0m \u001b[0mdf_stops\u001b[0m\u001b[0;34m.\u001b[0m\u001b[0miterrows\u001b[0m\u001b[0;34m(\u001b[0m\u001b[0;34m)\u001b[0m\u001b[0;34m:\u001b[0m\u001b[0;34m\u001b[0m\u001b[0;34m\u001b[0m\u001b[0m\n\u001b[0;32m----> 2\u001b[0;31m     \u001b[0mprint\u001b[0m\u001b[0;34m(\u001b[0m\u001b[0mbuild_walking_dist_data\u001b[0m\u001b[0;34m(\u001b[0m\u001b[0mdf_stops\u001b[0m\u001b[0;34m,\u001b[0m \u001b[0;34m(\u001b[0m\u001b[0mrow\u001b[0m\u001b[0;34m[\u001b[0m\u001b[0;34m'latitude'\u001b[0m\u001b[0;34m]\u001b[0m\u001b[0;34m,\u001b[0m \u001b[0mrow\u001b[0m\u001b[0;34m[\u001b[0m\u001b[0;34m'longitude'\u001b[0m\u001b[0;34m]\u001b[0m\u001b[0;34m)\u001b[0m\u001b[0;34m)\u001b[0m\u001b[0;34m)\u001b[0m\u001b[0;34m\u001b[0m\u001b[0;34m\u001b[0m\u001b[0m\n\u001b[0m",
      "\u001b[0;32m~/Library/Mobile Documents/com~apple~CloudDocs/code/lab-ds/labds-algo/notebooks/utils.py\u001b[0m in \u001b[0;36mbuild_walking_dist_data\u001b[0;34m(df_stops, pos)\u001b[0m\n\u001b[1;32m    167\u001b[0m \u001b[0;32mdef\u001b[0m \u001b[0mbuild_walking_dist_data\u001b[0m\u001b[0;34m(\u001b[0m\u001b[0mdf_stops\u001b[0m\u001b[0;34m,\u001b[0m \u001b[0mpos\u001b[0m\u001b[0;34m:\u001b[0m\u001b[0mtuple\u001b[0m\u001b[0;34m)\u001b[0m\u001b[0;34m:\u001b[0m\u001b[0;34m\u001b[0m\u001b[0;34m\u001b[0m\u001b[0m\n\u001b[1;32m    168\u001b[0m     \u001b[0;34m\"\"\"Outputs a list of tuples of stop_ids and walking times from a given stop_id\"\"\"\u001b[0m\u001b[0;34m\u001b[0m\u001b[0;34m\u001b[0m\u001b[0m\n\u001b[0;32m--> 169\u001b[0;31m     \u001b[0m_\u001b[0m\u001b[0;34m,\u001b[0m \u001b[0mser_walk_time\u001b[0m \u001b[0;34m=\u001b[0m \u001b[0mstops_in_walking_distance\u001b[0m\u001b[0;34m(\u001b[0m\u001b[0mdf_stops\u001b[0m\u001b[0;34m,\u001b[0m \u001b[0mpos\u001b[0m\u001b[0;34m)\u001b[0m\u001b[0;34m\u001b[0m\u001b[0;34m\u001b[0m\u001b[0m\n\u001b[0m\u001b[1;32m    170\u001b[0m \u001b[0;34m\u001b[0m\u001b[0m\n\u001b[1;32m    171\u001b[0m     \u001b[0;31m# walk_time_series = walk_time_series.sort_values()   # TODO This line can be commented for efficiency\u001b[0m\u001b[0;34m\u001b[0m\u001b[0;34m\u001b[0m\u001b[0;34m\u001b[0m\u001b[0m\n",
      "\u001b[0;32m~/Library/Mobile Documents/com~apple~CloudDocs/code/lab-ds/labds-algo/notebooks/utils.py\u001b[0m in \u001b[0;36mstops_in_walking_distance\u001b[0;34m(df_stops, pos, dist)\u001b[0m\n\u001b[1;32m    150\u001b[0m \u001b[0;32mdef\u001b[0m \u001b[0mstops_in_walking_distance\u001b[0m\u001b[0;34m(\u001b[0m\u001b[0mdf_stops\u001b[0m\u001b[0;34m,\u001b[0m \u001b[0mpos\u001b[0m\u001b[0;34m:\u001b[0m\u001b[0mtuple\u001b[0m\u001b[0;34m,\u001b[0m \u001b[0mdist\u001b[0m\u001b[0;34m=\u001b[0m\u001b[0mMAX_WALKING_DIST\u001b[0m\u001b[0;34m)\u001b[0m\u001b[0;34m:\u001b[0m\u001b[0;34m\u001b[0m\u001b[0;34m\u001b[0m\u001b[0m\n\u001b[1;32m    151\u001b[0m     \u001b[0;34m\"\"\"Filters out any stops not in walking distance. Returns a df_stops with added distance and walk_time columns.\"\"\"\u001b[0m\u001b[0;34m\u001b[0m\u001b[0;34m\u001b[0m\u001b[0m\n\u001b[0;32m--> 152\u001b[0;31m     \u001b[0mdf_close_stops\u001b[0m\u001b[0;34m,\u001b[0m \u001b[0mser_dist\u001b[0m \u001b[0;34m=\u001b[0m \u001b[0mfilter_stops_by_distance\u001b[0m\u001b[0;34m(\u001b[0m\u001b[0mdf_stops\u001b[0m\u001b[0;34m,\u001b[0m \u001b[0mpos\u001b[0m\u001b[0;34m,\u001b[0m \u001b[0mdist\u001b[0m\u001b[0;34m)\u001b[0m\u001b[0;34m\u001b[0m\u001b[0;34m\u001b[0m\u001b[0m\n\u001b[0m\u001b[1;32m    153\u001b[0m     \u001b[0mser_walk_time\u001b[0m \u001b[0;34m=\u001b[0m \u001b[0mser_dist\u001b[0m\u001b[0;34m.\u001b[0m\u001b[0mmap\u001b[0m\u001b[0;34m(\u001b[0m\u001b[0mwalking_time\u001b[0m\u001b[0;34m)\u001b[0m\u001b[0;34m\u001b[0m\u001b[0;34m\u001b[0m\u001b[0m\n\u001b[1;32m    154\u001b[0m     \u001b[0;32mreturn\u001b[0m \u001b[0mdf_close_stops\u001b[0m\u001b[0;34m,\u001b[0m \u001b[0mser_walk_time\u001b[0m\u001b[0;34m\u001b[0m\u001b[0;34m\u001b[0m\u001b[0m\n",
      "\u001b[0;32m~/Library/Mobile Documents/com~apple~CloudDocs/code/lab-ds/labds-algo/notebooks/utils.py\u001b[0m in \u001b[0;36mfilter_stops_by_distance\u001b[0;34m(df_stops, pos, dist)\u001b[0m\n\u001b[1;32m    157\u001b[0m \u001b[0;32mdef\u001b[0m \u001b[0mfilter_stops_by_distance\u001b[0m\u001b[0;34m(\u001b[0m\u001b[0mdf_stops\u001b[0m\u001b[0;34m,\u001b[0m \u001b[0mpos\u001b[0m\u001b[0;34m:\u001b[0m\u001b[0mtuple\u001b[0m\u001b[0;34m,\u001b[0m \u001b[0mdist\u001b[0m\u001b[0;34m)\u001b[0m\u001b[0;34m:\u001b[0m\u001b[0;34m\u001b[0m\u001b[0;34m\u001b[0m\u001b[0m\n\u001b[1;32m    158\u001b[0m     \u001b[0;34m\"\"\"Filters out any stops that aren't within dist (meters). Returns df_stops and df_distance.\"\"\"\u001b[0m\u001b[0;34m\u001b[0m\u001b[0;34m\u001b[0m\u001b[0m\n\u001b[0;32m--> 159\u001b[0;31m     ser_dist = df_stops.apply(lambda row:\n\u001b[0m\u001b[1;32m    160\u001b[0m         \u001b[0mgeo_distance\u001b[0m\u001b[0;34m(\u001b[0m\u001b[0mpos\u001b[0m\u001b[0;34m,\u001b[0m \u001b[0;34m(\u001b[0m\u001b[0mrow\u001b[0m\u001b[0;34m[\u001b[0m\u001b[0;34m'latitude'\u001b[0m\u001b[0;34m]\u001b[0m\u001b[0;34m,\u001b[0m \u001b[0mrow\u001b[0m\u001b[0;34m[\u001b[0m\u001b[0;34m'longitude'\u001b[0m\u001b[0;34m]\u001b[0m\u001b[0;34m)\u001b[0m\u001b[0;34m)\u001b[0m\u001b[0;34m,\u001b[0m\u001b[0;34m\u001b[0m\u001b[0;34m\u001b[0m\u001b[0m\n\u001b[1;32m    161\u001b[0m         axis=1)\n",
      "\u001b[0;32m~/anaconda3/envs/ada/lib/python3.8/site-packages/pandas/core/frame.py\u001b[0m in \u001b[0;36mapply\u001b[0;34m(self, func, axis, raw, result_type, args, **kwargs)\u001b[0m\n\u001b[1;32m   8738\u001b[0m             \u001b[0mkwargs\u001b[0m\u001b[0;34m=\u001b[0m\u001b[0mkwargs\u001b[0m\u001b[0;34m,\u001b[0m\u001b[0;34m\u001b[0m\u001b[0;34m\u001b[0m\u001b[0m\n\u001b[1;32m   8739\u001b[0m         )\n\u001b[0;32m-> 8740\u001b[0;31m         \u001b[0;32mreturn\u001b[0m \u001b[0mop\u001b[0m\u001b[0;34m.\u001b[0m\u001b[0mapply\u001b[0m\u001b[0;34m(\u001b[0m\u001b[0;34m)\u001b[0m\u001b[0;34m\u001b[0m\u001b[0;34m\u001b[0m\u001b[0m\n\u001b[0m\u001b[1;32m   8741\u001b[0m \u001b[0;34m\u001b[0m\u001b[0m\n\u001b[1;32m   8742\u001b[0m     def applymap(\n",
      "\u001b[0;32m~/anaconda3/envs/ada/lib/python3.8/site-packages/pandas/core/apply.py\u001b[0m in \u001b[0;36mapply\u001b[0;34m(self)\u001b[0m\n\u001b[1;32m    686\u001b[0m             \u001b[0;32mreturn\u001b[0m \u001b[0mself\u001b[0m\u001b[0;34m.\u001b[0m\u001b[0mapply_raw\u001b[0m\u001b[0;34m(\u001b[0m\u001b[0;34m)\u001b[0m\u001b[0;34m\u001b[0m\u001b[0;34m\u001b[0m\u001b[0m\n\u001b[1;32m    687\u001b[0m \u001b[0;34m\u001b[0m\u001b[0m\n\u001b[0;32m--> 688\u001b[0;31m         \u001b[0;32mreturn\u001b[0m \u001b[0mself\u001b[0m\u001b[0;34m.\u001b[0m\u001b[0mapply_standard\u001b[0m\u001b[0;34m(\u001b[0m\u001b[0;34m)\u001b[0m\u001b[0;34m\u001b[0m\u001b[0;34m\u001b[0m\u001b[0m\n\u001b[0m\u001b[1;32m    689\u001b[0m \u001b[0;34m\u001b[0m\u001b[0m\n\u001b[1;32m    690\u001b[0m     \u001b[0;32mdef\u001b[0m \u001b[0magg\u001b[0m\u001b[0;34m(\u001b[0m\u001b[0mself\u001b[0m\u001b[0;34m)\u001b[0m\u001b[0;34m:\u001b[0m\u001b[0;34m\u001b[0m\u001b[0;34m\u001b[0m\u001b[0m\n",
      "\u001b[0;32m~/anaconda3/envs/ada/lib/python3.8/site-packages/pandas/core/apply.py\u001b[0m in \u001b[0;36mapply_standard\u001b[0;34m(self)\u001b[0m\n\u001b[1;32m    810\u001b[0m \u001b[0;34m\u001b[0m\u001b[0m\n\u001b[1;32m    811\u001b[0m     \u001b[0;32mdef\u001b[0m \u001b[0mapply_standard\u001b[0m\u001b[0;34m(\u001b[0m\u001b[0mself\u001b[0m\u001b[0;34m)\u001b[0m\u001b[0;34m:\u001b[0m\u001b[0;34m\u001b[0m\u001b[0;34m\u001b[0m\u001b[0m\n\u001b[0;32m--> 812\u001b[0;31m         \u001b[0mresults\u001b[0m\u001b[0;34m,\u001b[0m \u001b[0mres_index\u001b[0m \u001b[0;34m=\u001b[0m \u001b[0mself\u001b[0m\u001b[0;34m.\u001b[0m\u001b[0mapply_series_generator\u001b[0m\u001b[0;34m(\u001b[0m\u001b[0;34m)\u001b[0m\u001b[0;34m\u001b[0m\u001b[0;34m\u001b[0m\u001b[0m\n\u001b[0m\u001b[1;32m    813\u001b[0m \u001b[0;34m\u001b[0m\u001b[0m\n\u001b[1;32m    814\u001b[0m         \u001b[0;31m# wrap results\u001b[0m\u001b[0;34m\u001b[0m\u001b[0;34m\u001b[0m\u001b[0;34m\u001b[0m\u001b[0m\n",
      "\u001b[0;32m~/anaconda3/envs/ada/lib/python3.8/site-packages/pandas/core/apply.py\u001b[0m in \u001b[0;36mapply_series_generator\u001b[0;34m(self)\u001b[0m\n\u001b[1;32m    826\u001b[0m             \u001b[0;32mfor\u001b[0m \u001b[0mi\u001b[0m\u001b[0;34m,\u001b[0m \u001b[0mv\u001b[0m \u001b[0;32min\u001b[0m \u001b[0menumerate\u001b[0m\u001b[0;34m(\u001b[0m\u001b[0mseries_gen\u001b[0m\u001b[0;34m)\u001b[0m\u001b[0;34m:\u001b[0m\u001b[0;34m\u001b[0m\u001b[0;34m\u001b[0m\u001b[0m\n\u001b[1;32m    827\u001b[0m                 \u001b[0;31m# ignore SettingWithCopy here in case the user mutates\u001b[0m\u001b[0;34m\u001b[0m\u001b[0;34m\u001b[0m\u001b[0;34m\u001b[0m\u001b[0m\n\u001b[0;32m--> 828\u001b[0;31m                 \u001b[0mresults\u001b[0m\u001b[0;34m[\u001b[0m\u001b[0mi\u001b[0m\u001b[0;34m]\u001b[0m \u001b[0;34m=\u001b[0m \u001b[0mself\u001b[0m\u001b[0;34m.\u001b[0m\u001b[0mf\u001b[0m\u001b[0;34m(\u001b[0m\u001b[0mv\u001b[0m\u001b[0;34m)\u001b[0m\u001b[0;34m\u001b[0m\u001b[0;34m\u001b[0m\u001b[0m\n\u001b[0m\u001b[1;32m    829\u001b[0m                 \u001b[0;32mif\u001b[0m \u001b[0misinstance\u001b[0m\u001b[0;34m(\u001b[0m\u001b[0mresults\u001b[0m\u001b[0;34m[\u001b[0m\u001b[0mi\u001b[0m\u001b[0;34m]\u001b[0m\u001b[0;34m,\u001b[0m \u001b[0mABCSeries\u001b[0m\u001b[0;34m)\u001b[0m\u001b[0;34m:\u001b[0m\u001b[0;34m\u001b[0m\u001b[0;34m\u001b[0m\u001b[0m\n\u001b[1;32m    830\u001b[0m                     \u001b[0;31m# If we have a view on v, we need to make a copy because\u001b[0m\u001b[0;34m\u001b[0m\u001b[0;34m\u001b[0m\u001b[0;34m\u001b[0m\u001b[0m\n",
      "\u001b[0;32m~/Library/Mobile Documents/com~apple~CloudDocs/code/lab-ds/labds-algo/notebooks/utils.py\u001b[0m in \u001b[0;36m<lambda>\u001b[0;34m(row)\u001b[0m\n\u001b[1;32m    158\u001b[0m     \u001b[0;34m\"\"\"Filters out any stops that aren't within dist (meters). Returns df_stops and df_distance.\"\"\"\u001b[0m\u001b[0;34m\u001b[0m\u001b[0;34m\u001b[0m\u001b[0m\n\u001b[1;32m    159\u001b[0m     ser_dist = df_stops.apply(lambda row:\n\u001b[0;32m--> 160\u001b[0;31m         \u001b[0mgeo_distance\u001b[0m\u001b[0;34m(\u001b[0m\u001b[0mpos\u001b[0m\u001b[0;34m,\u001b[0m \u001b[0;34m(\u001b[0m\u001b[0mrow\u001b[0m\u001b[0;34m[\u001b[0m\u001b[0;34m'latitude'\u001b[0m\u001b[0;34m]\u001b[0m\u001b[0;34m,\u001b[0m \u001b[0mrow\u001b[0m\u001b[0;34m[\u001b[0m\u001b[0;34m'longitude'\u001b[0m\u001b[0;34m]\u001b[0m\u001b[0;34m)\u001b[0m\u001b[0;34m)\u001b[0m\u001b[0;34m,\u001b[0m\u001b[0;34m\u001b[0m\u001b[0;34m\u001b[0m\u001b[0m\n\u001b[0m\u001b[1;32m    161\u001b[0m         axis=1)\n\u001b[1;32m    162\u001b[0m \u001b[0;34m\u001b[0m\u001b[0m\n",
      "\u001b[0;32m~/Library/Mobile Documents/com~apple~CloudDocs/code/lab-ds/labds-algo/notebooks/utils.py\u001b[0m in \u001b[0;36mgeo_distance\u001b[0;34m(a, b)\u001b[0m\n\u001b[1;32m    183\u001b[0m \u001b[0;34m\u001b[0m\u001b[0m\n\u001b[1;32m    184\u001b[0m \u001b[0;32mdef\u001b[0m \u001b[0mgeo_distance\u001b[0m\u001b[0;34m(\u001b[0m\u001b[0ma\u001b[0m\u001b[0;34m:\u001b[0m\u001b[0mtuple\u001b[0m\u001b[0;34m,\u001b[0m \u001b[0mb\u001b[0m\u001b[0;34m:\u001b[0m\u001b[0mtuple\u001b[0m\u001b[0;34m)\u001b[0m\u001b[0;34m:\u001b[0m\u001b[0;34m\u001b[0m\u001b[0;34m\u001b[0m\u001b[0m\n\u001b[0;32m--> 185\u001b[0;31m     \u001b[0;32mreturn\u001b[0m \u001b[0mdistance\u001b[0m\u001b[0;34m.\u001b[0m\u001b[0mdistance\u001b[0m\u001b[0;34m(\u001b[0m\u001b[0ma\u001b[0m\u001b[0;34m,\u001b[0m \u001b[0mb\u001b[0m\u001b[0;34m)\u001b[0m\u001b[0;34m.\u001b[0m\u001b[0mm\u001b[0m\u001b[0;34m\u001b[0m\u001b[0;34m\u001b[0m\u001b[0m\n\u001b[0m\u001b[1;32m    186\u001b[0m \u001b[0;34m\u001b[0m\u001b[0m\n\u001b[1;32m    187\u001b[0m \u001b[0;32mdef\u001b[0m \u001b[0mwalking_time\u001b[0m\u001b[0;34m(\u001b[0m\u001b[0mdist\u001b[0m\u001b[0;34m)\u001b[0m\u001b[0;34m:\u001b[0m\u001b[0;34m\u001b[0m\u001b[0;34m\u001b[0m\u001b[0m\n",
      "\u001b[0;32m~/anaconda3/envs/ada/lib/python3.8/site-packages/geopy/distance.py\u001b[0m in \u001b[0;36m__init__\u001b[0;34m(self, *args, **kwargs)\u001b[0m\n\u001b[1;32m    520\u001b[0m         \u001b[0mself\u001b[0m\u001b[0;34m.\u001b[0m\u001b[0mset_ellipsoid\u001b[0m\u001b[0;34m(\u001b[0m\u001b[0mkwargs\u001b[0m\u001b[0;34m.\u001b[0m\u001b[0mpop\u001b[0m\u001b[0;34m(\u001b[0m\u001b[0;34m'ellipsoid'\u001b[0m\u001b[0;34m,\u001b[0m \u001b[0;34m'WGS-84'\u001b[0m\u001b[0;34m)\u001b[0m\u001b[0;34m)\u001b[0m\u001b[0;34m\u001b[0m\u001b[0;34m\u001b[0m\u001b[0m\n\u001b[1;32m    521\u001b[0m         \u001b[0mmajor\u001b[0m\u001b[0;34m,\u001b[0m \u001b[0mminor\u001b[0m\u001b[0;34m,\u001b[0m \u001b[0mf\u001b[0m \u001b[0;34m=\u001b[0m \u001b[0mself\u001b[0m\u001b[0;34m.\u001b[0m\u001b[0mELLIPSOID\u001b[0m\u001b[0;34m\u001b[0m\u001b[0;34m\u001b[0m\u001b[0m\n\u001b[0;32m--> 522\u001b[0;31m         \u001b[0msuper\u001b[0m\u001b[0;34m(\u001b[0m\u001b[0;34m)\u001b[0m\u001b[0;34m.\u001b[0m\u001b[0m__init__\u001b[0m\u001b[0;34m(\u001b[0m\u001b[0;34m*\u001b[0m\u001b[0margs\u001b[0m\u001b[0;34m,\u001b[0m \u001b[0;34m**\u001b[0m\u001b[0mkwargs\u001b[0m\u001b[0;34m)\u001b[0m\u001b[0;34m\u001b[0m\u001b[0;34m\u001b[0m\u001b[0m\n\u001b[0m\u001b[1;32m    523\u001b[0m \u001b[0;34m\u001b[0m\u001b[0m\n\u001b[1;32m    524\u001b[0m     \u001b[0;32mdef\u001b[0m \u001b[0mset_ellipsoid\u001b[0m\u001b[0;34m(\u001b[0m\u001b[0mself\u001b[0m\u001b[0;34m,\u001b[0m \u001b[0mellipsoid\u001b[0m\u001b[0;34m)\u001b[0m\u001b[0;34m:\u001b[0m\u001b[0;34m\u001b[0m\u001b[0;34m\u001b[0m\u001b[0m\n",
      "\u001b[0;32m~/anaconda3/envs/ada/lib/python3.8/site-packages/geopy/distance.py\u001b[0m in \u001b[0;36m__init__\u001b[0;34m(self, *args, **kwargs)\u001b[0m\n\u001b[1;32m    274\u001b[0m         \u001b[0;32melif\u001b[0m \u001b[0mlen\u001b[0m\u001b[0;34m(\u001b[0m\u001b[0margs\u001b[0m\u001b[0;34m)\u001b[0m \u001b[0;34m>\u001b[0m \u001b[0;36m1\u001b[0m\u001b[0;34m:\u001b[0m\u001b[0;34m\u001b[0m\u001b[0;34m\u001b[0m\u001b[0m\n\u001b[1;32m    275\u001b[0m             \u001b[0;32mfor\u001b[0m \u001b[0ma\u001b[0m\u001b[0;34m,\u001b[0m \u001b[0mb\u001b[0m \u001b[0;32min\u001b[0m \u001b[0mutil\u001b[0m\u001b[0;34m.\u001b[0m\u001b[0mpairwise\u001b[0m\u001b[0;34m(\u001b[0m\u001b[0margs\u001b[0m\u001b[0;34m)\u001b[0m\u001b[0;34m:\u001b[0m\u001b[0;34m\u001b[0m\u001b[0;34m\u001b[0m\u001b[0m\n\u001b[0;32m--> 276\u001b[0;31m                 \u001b[0mkilometers\u001b[0m \u001b[0;34m+=\u001b[0m \u001b[0mself\u001b[0m\u001b[0;34m.\u001b[0m\u001b[0mmeasure\u001b[0m\u001b[0;34m(\u001b[0m\u001b[0ma\u001b[0m\u001b[0;34m,\u001b[0m \u001b[0mb\u001b[0m\u001b[0;34m)\u001b[0m\u001b[0;34m\u001b[0m\u001b[0;34m\u001b[0m\u001b[0m\n\u001b[0m\u001b[1;32m    277\u001b[0m \u001b[0;34m\u001b[0m\u001b[0m\n\u001b[1;32m    278\u001b[0m         \u001b[0mkilometers\u001b[0m \u001b[0;34m+=\u001b[0m \u001b[0munits\u001b[0m\u001b[0;34m.\u001b[0m\u001b[0mkilometers\u001b[0m\u001b[0;34m(\u001b[0m\u001b[0;34m**\u001b[0m\u001b[0mkwargs\u001b[0m\u001b[0;34m)\u001b[0m\u001b[0;34m\u001b[0m\u001b[0;34m\u001b[0m\u001b[0m\n",
      "\u001b[0;32m~/anaconda3/envs/ada/lib/python3.8/site-packages/geopy/distance.py\u001b[0m in \u001b[0;36mmeasure\u001b[0;34m(self, a, b)\u001b[0m\n\u001b[1;32m    546\u001b[0m             \u001b[0mself\u001b[0m\u001b[0;34m.\u001b[0m\u001b[0mgeod\u001b[0m \u001b[0;34m=\u001b[0m \u001b[0mGeodesic\u001b[0m\u001b[0;34m(\u001b[0m\u001b[0mself\u001b[0m\u001b[0;34m.\u001b[0m\u001b[0mELLIPSOID\u001b[0m\u001b[0;34m[\u001b[0m\u001b[0;36m0\u001b[0m\u001b[0;34m]\u001b[0m\u001b[0;34m,\u001b[0m \u001b[0mself\u001b[0m\u001b[0;34m.\u001b[0m\u001b[0mELLIPSOID\u001b[0m\u001b[0;34m[\u001b[0m\u001b[0;36m2\u001b[0m\u001b[0;34m]\u001b[0m\u001b[0;34m)\u001b[0m\u001b[0;34m\u001b[0m\u001b[0;34m\u001b[0m\u001b[0m\n\u001b[1;32m    547\u001b[0m \u001b[0;34m\u001b[0m\u001b[0m\n\u001b[0;32m--> 548\u001b[0;31m         s12 = self.geod.Inverse(lat1, lon1, lat2, lon2,\n\u001b[0m\u001b[1;32m    549\u001b[0m                                 Geodesic.DISTANCE)['s12']\n\u001b[1;32m    550\u001b[0m \u001b[0;34m\u001b[0m\u001b[0m\n",
      "\u001b[0;32m~/anaconda3/envs/ada/lib/python3.8/site-packages/geographiclib/geodesic.py\u001b[0m in \u001b[0;36mInverse\u001b[0;34m(self, lat1, lon1, lat2, lon2, outmask)\u001b[0m\n\u001b[1;32m   1034\u001b[0m     \"\"\"\n\u001b[1;32m   1035\u001b[0m \u001b[0;34m\u001b[0m\u001b[0m\n\u001b[0;32m-> 1036\u001b[0;31m     a12, s12, salp1,calp1, salp2,calp2, m12, M12, M21, S12 = self._GenInverse(\n\u001b[0m\u001b[1;32m   1037\u001b[0m       lat1, lon1, lat2, lon2, outmask)\n\u001b[1;32m   1038\u001b[0m     \u001b[0moutmask\u001b[0m \u001b[0;34m&=\u001b[0m \u001b[0mGeodesic\u001b[0m\u001b[0;34m.\u001b[0m\u001b[0mOUT_MASK\u001b[0m\u001b[0;34m\u001b[0m\u001b[0;34m\u001b[0m\u001b[0m\n",
      "\u001b[0;32m~/anaconda3/envs/ada/lib/python3.8/site-packages/geographiclib/geodesic.py\u001b[0m in \u001b[0;36m_GenInverse\u001b[0;34m(self, lat1, lon1, lat2, lon2, outmask)\u001b[0m\n\u001b[1;32m    778\u001b[0m     \u001b[0;31m# index zero elements of these arrays are unused\u001b[0m\u001b[0;34m\u001b[0m\u001b[0;34m\u001b[0m\u001b[0;34m\u001b[0m\u001b[0m\n\u001b[1;32m    779\u001b[0m     \u001b[0mC1a\u001b[0m \u001b[0;34m=\u001b[0m \u001b[0mlist\u001b[0m\u001b[0;34m(\u001b[0m\u001b[0mrange\u001b[0m\u001b[0;34m(\u001b[0m\u001b[0mGeodesic\u001b[0m\u001b[0;34m.\u001b[0m\u001b[0mnC1_\u001b[0m \u001b[0;34m+\u001b[0m \u001b[0;36m1\u001b[0m\u001b[0;34m)\u001b[0m\u001b[0;34m)\u001b[0m\u001b[0;34m\u001b[0m\u001b[0;34m\u001b[0m\u001b[0m\n\u001b[0;32m--> 780\u001b[0;31m     \u001b[0mC2a\u001b[0m \u001b[0;34m=\u001b[0m \u001b[0mlist\u001b[0m\u001b[0;34m(\u001b[0m\u001b[0mrange\u001b[0m\u001b[0;34m(\u001b[0m\u001b[0mGeodesic\u001b[0m\u001b[0;34m.\u001b[0m\u001b[0mnC2_\u001b[0m \u001b[0;34m+\u001b[0m \u001b[0;36m1\u001b[0m\u001b[0;34m)\u001b[0m\u001b[0;34m)\u001b[0m\u001b[0;34m\u001b[0m\u001b[0;34m\u001b[0m\u001b[0m\n\u001b[0m\u001b[1;32m    781\u001b[0m     \u001b[0mC3a\u001b[0m \u001b[0;34m=\u001b[0m \u001b[0mlist\u001b[0m\u001b[0;34m(\u001b[0m\u001b[0mrange\u001b[0m\u001b[0;34m(\u001b[0m\u001b[0mGeodesic\u001b[0m\u001b[0;34m.\u001b[0m\u001b[0mnC3_\u001b[0m\u001b[0;34m)\u001b[0m\u001b[0;34m)\u001b[0m\u001b[0;34m\u001b[0m\u001b[0;34m\u001b[0m\u001b[0m\n\u001b[1;32m    782\u001b[0m \u001b[0;34m\u001b[0m\u001b[0m\n",
      "\u001b[0;31mKeyboardInterrupt\u001b[0m: "
     ]
    }
   ],
   "source": [
    "for index, row in df_stops.iterrows():\n",
    "    print(build_walking_dist_data(df_stops, (row['latitude'], row['longitude'])))"
   ]
  },
  {
   "cell_type": "code",
   "execution_count": null,
   "metadata": {},
   "outputs": [],
   "source": []
  }
 ],
 "metadata": {
  "interpreter": {
   "hash": "c6809d3f7e90e77d8ec96c72c39a08b2522313d47c0f1d91518fdbbaf790b394"
  },
  "kernelspec": {
   "display_name": "Python 3.8.12 ('ada')",
   "language": "python",
   "name": "python3"
  },
  "language_info": {
   "codemirror_mode": {
    "name": "ipython",
    "version": 3
   },
   "file_extension": ".py",
   "mimetype": "text/x-python",
   "name": "python",
   "nbconvert_exporter": "python",
   "pygments_lexer": "ipython3",
   "version": "3.8.12"
  },
  "orig_nbformat": 4
 },
 "nbformat": 4,
 "nbformat_minor": 2
}
