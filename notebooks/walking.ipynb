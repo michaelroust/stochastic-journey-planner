{
 "cells": [
  {
   "cell_type": "code",
   "execution_count": 54,
   "metadata": {},
   "outputs": [
    {
     "name": "stdout",
     "output_type": "stream",
     "text": [
      "The autoreload extension is already loaded. To reload it, use:\n",
      "  %reload_ext autoreload\n"
     ]
    }
   ],
   "source": [
    "# import os\n",
    "# import warnings\n",
    "\n",
    "# import numpy as np\n",
    "\n",
    "import pickle\n",
    "import pandas as pd\n",
    "pd.set_option(\"display.max_rows\",10)\n",
    "# pd.set_option(\"display.max_columns\", 10)\n",
    "import matplotlib.pyplot as plt\n",
    "%matplotlib inline\n",
    "import networkx as nx\n",
    "\n",
    "\n",
    "from utils import *\n",
    "from algo import *\n",
    "\n",
    "%load_ext autoreload\n",
    "%autoreload 2"
   ]
  },
  {
   "cell_type": "code",
   "execution_count": 49,
   "metadata": {},
   "outputs": [
    {
     "data": {
      "text/html": [
       "<div>\n",
       "<style scoped>\n",
       "    .dataframe tbody tr th:only-of-type {\n",
       "        vertical-align: middle;\n",
       "    }\n",
       "\n",
       "    .dataframe tbody tr th {\n",
       "        vertical-align: top;\n",
       "    }\n",
       "\n",
       "    .dataframe thead th {\n",
       "        text-align: right;\n",
       "    }\n",
       "</style>\n",
       "<table border=\"1\" class=\"dataframe\">\n",
       "  <thead>\n",
       "    <tr style=\"text-align: right;\">\n",
       "      <th></th>\n",
       "      <th>stop_name</th>\n",
       "      <th>latitude</th>\n",
       "      <th>longitude</th>\n",
       "    </tr>\n",
       "    <tr>\n",
       "      <th>stop_id</th>\n",
       "      <th></th>\n",
       "      <th></th>\n",
       "      <th></th>\n",
       "    </tr>\n",
       "  </thead>\n",
       "  <tbody>\n",
       "    <tr>\n",
       "      <th>176</th>\n",
       "      <td>Zimmerberg-Basistunnel</td>\n",
       "      <td>47.351678</td>\n",
       "      <td>8.521958</td>\n",
       "    </tr>\n",
       "    <tr>\n",
       "      <th>8500926</th>\n",
       "      <td>Oetwil a.d.L., Schweizäcker</td>\n",
       "      <td>47.423627</td>\n",
       "      <td>8.403183</td>\n",
       "    </tr>\n",
       "    <tr>\n",
       "      <th>8502075</th>\n",
       "      <td>Zürich Flughafen, Carterminal</td>\n",
       "      <td>47.451024</td>\n",
       "      <td>8.563729</td>\n",
       "    </tr>\n",
       "    <tr>\n",
       "      <th>8502186</th>\n",
       "      <td>Dietikon Stoffelbach</td>\n",
       "      <td>47.393327</td>\n",
       "      <td>8.398960</td>\n",
       "    </tr>\n",
       "    <tr>\n",
       "      <th>8502186</th>\n",
       "      <td>Dietikon Stoffelbach</td>\n",
       "      <td>47.393400</td>\n",
       "      <td>8.398942</td>\n",
       "    </tr>\n",
       "    <tr>\n",
       "      <th>...</th>\n",
       "      <td>...</td>\n",
       "      <td>...</td>\n",
       "      <td>...</td>\n",
       "    </tr>\n",
       "    <tr>\n",
       "      <th>8503088</th>\n",
       "      <td>Zürich HB SZU</td>\n",
       "      <td>47.377391</td>\n",
       "      <td>8.539358</td>\n",
       "    </tr>\n",
       "    <tr>\n",
       "      <th>8503307</th>\n",
       "      <td>Bassersdorf</td>\n",
       "      <td>47.438570</td>\n",
       "      <td>8.626225</td>\n",
       "    </tr>\n",
       "    <tr>\n",
       "      <th>8583870</th>\n",
       "      <td>Bahnhof Süd</td>\n",
       "      <td>47.357174</td>\n",
       "      <td>8.437013</td>\n",
       "    </tr>\n",
       "    <tr>\n",
       "      <th>8590279</th>\n",
       "      <td>Shopping Center</td>\n",
       "      <td>47.420448</td>\n",
       "      <td>8.368517</td>\n",
       "    </tr>\n",
       "    <tr>\n",
       "      <th>8590464</th>\n",
       "      <td>Bahnhof</td>\n",
       "      <td>47.311781</td>\n",
       "      <td>8.524311</td>\n",
       "    </tr>\n",
       "  </tbody>\n",
       "</table>\n",
       "<p>1591 rows × 3 columns</p>\n",
       "</div>"
      ],
      "text/plain": [
       "                             stop_name   latitude  longitude\n",
       "stop_id                                                     \n",
       "176             Zimmerberg-Basistunnel  47.351678   8.521958\n",
       "8500926    Oetwil a.d.L., Schweizäcker  47.423627   8.403183\n",
       "8502075  Zürich Flughafen, Carterminal  47.451024   8.563729\n",
       "8502186           Dietikon Stoffelbach  47.393327   8.398960\n",
       "8502186           Dietikon Stoffelbach  47.393400   8.398942\n",
       "...                                ...        ...        ...\n",
       "8503088                  Zürich HB SZU  47.377391   8.539358\n",
       "8503307                    Bassersdorf  47.438570   8.626225\n",
       "8583870                    Bahnhof Süd  47.357174   8.437013\n",
       "8590279                Shopping Center  47.420448   8.368517\n",
       "8590464                        Bahnhof  47.311781   8.524311\n",
       "\n",
       "[1591 rows x 3 columns]"
      ]
     },
     "execution_count": 49,
     "metadata": {},
     "output_type": "execute_result"
    }
   ],
   "source": [
    "df_stops = filter_stops_by_distance_from_zurich_hb(load_df_stops(), 15000)\n",
    "df_stops"
   ]
  },
  {
   "cell_type": "code",
   "execution_count": null,
   "metadata": {},
   "outputs": [],
   "source": []
  }
 ],
 "metadata": {
  "interpreter": {
   "hash": "c6809d3f7e90e77d8ec96c72c39a08b2522313d47c0f1d91518fdbbaf790b394"
  },
  "kernelspec": {
   "display_name": "Python 3.8.12 ('ada')",
   "language": "python",
   "name": "python3"
  },
  "language_info": {
   "codemirror_mode": {
    "name": "ipython",
    "version": 3
   },
   "file_extension": ".py",
   "mimetype": "text/x-python",
   "name": "python",
   "nbconvert_exporter": "python",
   "pygments_lexer": "ipython3",
   "version": "3.8.12"
  },
  "orig_nbformat": 4
 },
 "nbformat": 4,
 "nbformat_minor": 2
}
