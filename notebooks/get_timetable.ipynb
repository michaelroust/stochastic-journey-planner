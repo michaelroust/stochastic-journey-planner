{
 "cells": [
  {
   "cell_type": "code",
   "execution_count": 1,
   "id": "6570d905-294a-450e-bce6-0cac5b81720d",
   "metadata": {},
   "outputs": [],
   "source": [
    "import os\n",
    "import pandas as pd\n",
    "import math\n",
    "\n",
    "from IPython import get_ipython\n",
    "\n",
    "%reload_ext sparkmagic.magics"
   ]
  },
  {
   "cell_type": "code",
   "execution_count": 9,
   "id": "febaa11c-17bf-4553-a677-81f1e8b6fc90",
   "metadata": {},
   "outputs": [],
   "source": [
    "username = os.environ['RENKU_USERNAME']\n",
    "server = \"http://iccluster029.iccluster.epfl.ch:8998\"\n",
    "\n",
    "# set the application name as \"<your_gaspar_id>-homework3\"\n",
    "get_ipython().run_cell_magic(\n",
    "    'spark',\n",
    "    line='config', \n",
    "    cell=\"\"\"{{ \"name\": \"{0}-finalproject\", \"executorMemory\": \"4G\", \"executorCores\": 4, \"numExecutors\": 10, \"driverMemory\": \"4G\"}}\"\"\".format(username)\n",
    ")"
   ]
  },
  {
   "cell_type": "code",
   "execution_count": 10,
   "id": "b585d399-da6b-4467-a56c-67db0b5fb8d0",
   "metadata": {},
   "outputs": [
    {
     "name": "stdout",
     "output_type": "stream",
     "text": [
      "Starting Spark application\n"
     ]
    },
    {
     "data": {
      "text/html": [
       "<table>\n",
       "<tr><th>ID</th><th>YARN Application ID</th><th>Kind</th><th>State</th><th>Spark UI</th><th>Driver log</th><th>User</th><th>Current session?</th></tr><tr><td>8555</td><td>application_1652960972356_4325</td><td>pyspark</td><td>idle</td><td><a target=\"_blank\" href=\"http://iccluster029.iccluster.epfl.ch:8088/proxy/application_1652960972356_4325/\">Link</a></td><td><a target=\"_blank\" href=\"http://iccluster057.iccluster.epfl.ch:8042/node/containerlogs/container_e05_1652960972356_4325_01_000001/eric\">Link</a></td><td>None</td><td>✔</td></tr></table>"
      ],
      "text/plain": [
       "<IPython.core.display.HTML object>"
      ]
     },
     "metadata": {},
     "output_type": "display_data"
    },
    {
     "data": {
      "application/vnd.jupyter.widget-view+json": {
       "model_id": "",
       "version_major": 2,
       "version_minor": 0
      },
      "text/plain": [
       "FloatProgress(value=0.0, bar_style='info', description='Progress:', layout=Layout(height='25px', width='50%'),…"
      ]
     },
     "metadata": {},
     "output_type": "display_data"
    },
    {
     "name": "stdout",
     "output_type": "stream",
     "text": [
      "SparkSession available as 'spark'.\n"
     ]
    }
   ],
   "source": [
    "get_ipython().run_line_magic(\n",
    "    \"spark\", \"add -s {0}-finalproject -l python -u {1} -k\".format(username, server)\n",
    ")"
   ]
  },
  {
   "cell_type": "code",
   "execution_count": 81,
   "id": "942f9955-2775-471e-954e-f89230cd6e33",
   "metadata": {},
   "outputs": [
    {
     "data": {
      "application/vnd.jupyter.widget-view+json": {
       "model_id": "",
       "version_major": 2,
       "version_minor": 0
      },
      "text/plain": [
       "FloatProgress(value=0.0, bar_style='info', description='Progress:', layout=Layout(height='25px', width='50%'),…"
      ]
     },
     "metadata": {},
     "output_type": "display_data"
    }
   ],
   "source": [
    "%%spark\n",
    "stop_times = spark.read.csv(\"/data/sbb/csv/stop_times/2019/05/08/stop_times.txt\", sep=',', header='true')"
   ]
  },
  {
   "cell_type": "code",
   "execution_count": 82,
   "id": "46d73f3e-3ae7-43a7-84ac-cd794ed78c4f",
   "metadata": {},
   "outputs": [
    {
     "data": {
      "application/vnd.jupyter.widget-view+json": {
       "model_id": "",
       "version_major": 2,
       "version_minor": 0
      },
      "text/plain": [
       "FloatProgress(value=0.0, bar_style='info', description='Progress:', layout=Layout(height='25px', width='50%'),…"
      ]
     },
     "metadata": {},
     "output_type": "display_data"
    }
   ],
   "source": [
    "%%spark\n",
    "import pyspark.sql.functions as F\n",
    "\n",
    "dep_tbl = stop_times.select([\n",
    "    F.col('trip_id'),\n",
    "    F.col('departure_time'),\n",
    "    F.col('stop_id').alias('dep_stop_id'),\n",
    "    (F.col('stop_sequence').cast('int') + 1).alias('stop_sequence'),\n",
    "])\n",
    "\n",
    "arr_tbl = stop_times.select([\n",
    "    F.col('trip_id'),\n",
    "    F.col('arrival_time'),\n",
    "    F.col('stop_id').alias('arr_stop_id'),\n",
    "    F.col('stop_sequence').cast('int').alias('stop_sequence'),\n",
    "])\n",
    "\n",
    "timetable = dep_tbl.join(arr_tbl, ['trip_id', 'stop_sequence']).select([\n",
    "    F.col('trip_id'),\n",
    "    F.col('dep_stop_id').alias('dep_stop_id'),\n",
    "    F.col('arr_stop_id').alias('arr_stop_id'),\n",
    "    F.col('departure_time').alias('dep_time'),\n",
    "    F.col('arrival_time').alias('arr_time'),\n",
    "])"
   ]
  },
  {
   "cell_type": "code",
   "execution_count": 83,
   "id": "a3df2787-1317-4eee-9082-2fb2778b9bf9",
   "metadata": {},
   "outputs": [
    {
     "data": {
      "application/vnd.jupyter.widget-view+json": {
       "model_id": "",
       "version_major": 2,
       "version_minor": 0
      },
      "text/plain": [
       "FloatProgress(value=0.0, bar_style='info', description='Progress:', layout=Layout(height='25px', width='50%'),…"
      ]
     },
     "metadata": {},
     "output_type": "display_data"
    },
    {
     "name": "stdout",
     "output_type": "stream",
     "text": [
      "+--------------------+-----------+-----------+--------+--------+----+---+\n",
      "|             trip_id|dep_stop_id|arr_stop_id|dep_time|arr_time|mean|std|\n",
      "+--------------------+-----------+-----------+--------+--------+----+---+\n",
      "|1.TA.1-357-A-j19-...|    8572495|    8503593|   20:34|   20:35|   0|  0|\n",
      "|1.TA.1-371-j19-1.1.H|    8572475|    8500979|    6:17|    6:18|   0|  0|\n",
      "|1.TA.11-13-A-j19-...|8574694:0:E|8582197:0:E|   12:51|   12:51|   0|  0|\n",
      "|1.TA.11-17-j19-1.1.R|    8582909|    8582908|    8:30|    8:31|   0|  0|\n",
      "|1.TA.11-202-A-j19...|    8573635|    8583411|   15:52|   15:53|   0|  0|\n",
      "|1.TA.11-22-j19-1.1.R|8575114:0:E|    8509697|   11:25|   11:27|   0|  0|\n",
      "|1.TA.11-401-j19-1...|    8574606|    8574605|   11:36|   11:38|   0|  0|\n",
      "|1.TA.11-411-j19-1...|    8581051|    8509728|   15:58|   15:59|   0|  0|\n",
      "|1.TA.11-42-j19-1.1.R|    8574493|    8575112|    7:37|    7:41|   0|  0|\n",
      "|1.TA.11-702-j19-1...|    8583094|    8579989|   20:14|   20:16|   0|  0|\n",
      "+--------------------+-----------+-----------+--------+--------+----+---+\n",
      "only showing top 10 rows"
     ]
    }
   ],
   "source": [
    "%%spark\n",
    "#-o final_timetable -n 10000\n",
    "\n",
    "START_TIME = 6\n",
    "END_TIME = 22\n",
    "# START_TIME = 6\n",
    "# END_TIME = 22\n",
    "\n",
    "timetable = timetable.withColumn(\"dep_time\", F.to_timestamp(\"dep_time\", \"HH:mm:ss\")) \\\n",
    ".withColumn(\"arr_time\", F.to_timestamp(\"arr_time\", \"HH:mm:ss\"))\n",
    "\n",
    "final_timetable = timetable.filter(\n",
    "      (F.hour(timetable.dep_time) >= START_TIME) & ((F.hour(timetable.arr_time) <= END_TIME))\n",
    "    ).withColumn(\"dep_time\", F.concat(F.hour(F.col('dep_time')),F.lit(':'), F.minute(F.col('dep_time')))) \\\n",
    "    .withColumn(\"arr_time\", F.concat(F.hour(F.col('arr_time')),F.lit(':'), F.minute(F.col('arr_time')))).withColumn(\"mean\",F.lit(0)).withColumn(\"std\",F.lit(0))\n",
    "\n",
    "final_timetable.show(10)\n",
    "#not working\n",
    "#final_timetable.rdd.saveAsPickleFile('../data/timetable.pkl')"
   ]
  },
  {
   "cell_type": "code",
   "execution_count": 84,
   "id": "6f114da2-1ef5-46c4-996d-9ceb1f251409",
   "metadata": {},
   "outputs": [
    {
     "data": {
      "application/vnd.jupyter.widget-view+json": {
       "model_id": "",
       "version_major": 2,
       "version_minor": 0
      },
      "text/plain": [
       "FloatProgress(value=0.0, bar_style='info', description='Progress:', layout=Layout(height='25px', width='50%'),…"
      ]
     },
     "metadata": {},
     "output_type": "display_data"
    },
    {
     "name": "stdout",
     "output_type": "stream",
     "text": [
      "+--------------------+---------------+---------------+--------+--------+----+---+\n",
      "|             trip_id|    dep_stop_id|    arr_stop_id|dep_time|arr_time|mean|std|\n",
      "+--------------------+---------------+---------------+--------+--------+----+---+\n",
      "|105.TA.26-16-A-j1...|    8503101:0:3|    8503141:0:2|    9:31|    9:32|   0|  0|\n",
      "|105.TA.26-16-A-j1...|    8503111:0:1|    8503102:0:2|    9:26|    9:28|   0|  0|\n",
      "|105.TA.26-16-A-j1...|    8503102:0:2|    8503101:0:3|    9:28|    9:31|   0|  0|\n",
      "|105.TA.26-16-A-j1...|    8503103:0:2|    8503111:0:1|    9:24|    9:26|   0|  0|\n",
      "|105.TA.26-16-A-j1...|    8503141:0:2|    8503100:0:3|    9:32|    9:34|   0|  0|\n",
      "|105.TA.26-16-A-j1...|    8503020:0:3|    8503006:0:8|    9:48|    9:53|   0|  0|\n",
      "|105.TA.26-16-A-j1...|    8503006:0:8|    8503016:0:1|    9:54|    9:59|   0|  0|\n",
      "|105.TA.26-16-A-j1...|    8503100:0:3|    8503004:0:1|    9:34|    9:37|   0|  0|\n",
      "|105.TA.26-16-A-j1...|    8503003:0:1|8503000:0:41/42|    9:41|    9:44|   0|  0|\n",
      "|105.TA.26-16-A-j1...|    8503004:0:1|    8503003:0:1|    9:37|    9:41|   0|  0|\n",
      "|105.TA.26-16-A-j1...|8503000:0:41/42|    8503020:0:3|    9:46|    9:48|   0|  0|\n",
      "+--------------------+---------------+---------------+--------+--------+----+---+"
     ]
    }
   ],
   "source": [
    "%%spark\n",
    "final_timetable.filter(final_timetable.trip_id==\"105.TA.26-16-A-j19-1.56.H\").show(20)"
   ]
  },
  {
   "cell_type": "markdown",
   "id": "fdffb0ae-a347-4071-b9ab-855aaeffa01d",
   "metadata": {},
   "source": [
    "## Merging/filtering on zurich stops"
   ]
  },
  {
   "cell_type": "markdown",
   "id": "91bd46cc-e669-4e9f-8ab3-4db27f8fb6a3",
   "metadata": {},
   "source": [
    "### Gio chunk"
   ]
  },
  {
   "cell_type": "code",
   "execution_count": 85,
   "id": "f63d2230-7ef3-4247-ba1c-0ba1738f76f1",
   "metadata": {},
   "outputs": [
    {
     "data": {
      "application/vnd.jupyter.widget-view+json": {
       "model_id": "",
       "version_major": 2,
       "version_minor": 0
      },
      "text/plain": [
       "FloatProgress(value=0.0, bar_style='info', description='Progress:', layout=Layout(height='25px', width='50%'),…"
      ]
     },
     "metadata": {},
     "output_type": "display_data"
    },
    {
     "data": {
      "application/vnd.jupyter.widget-view+json": {
       "model_id": "",
       "version_major": 2,
       "version_minor": 0
      },
      "text/plain": [
       "FloatProgress(value=0.0, bar_style='info', description='Progress:', layout=Layout(height='25px', width='50%'),…"
      ]
     },
     "metadata": {},
     "output_type": "display_data"
    }
   ],
   "source": [
    "%%spark -o stops_15k_ids -n -1\n",
    "stops_15k = spark.read.csv(\"/user/monopoli/stops_15k/stops_15k.csv\", sep=',', header='true')\n",
    "stops_15k_ids = stops_15k.drop('_c0', 'stop_name')\n",
    "list_of_stops_in_15k = list(stops_15k_ids.select('stop_id').toPandas()['stop_id'])\n",
    "list_of_stops_in_15k = [stop.encode(\"utf-8\") for stop in list_of_stops_in_15k]"
   ]
  },
  {
   "cell_type": "code",
   "execution_count": 86,
   "id": "682dd261-89c4-4b42-8d25-715e287c5567",
   "metadata": {},
   "outputs": [
    {
     "data": {
      "application/vnd.jupyter.widget-view+json": {
       "model_id": "",
       "version_major": 2,
       "version_minor": 0
      },
      "text/plain": [
       "FloatProgress(value=0.0, bar_style='info', description='Progress:', layout=Layout(height='25px', width='50%'),…"
      ]
     },
     "metadata": {},
     "output_type": "display_data"
    }
   ],
   "source": [
    "%%spark\n",
    "#delete dep stop_id outside 15km area\n",
    "final_timetable = final_timetable.filter(final_timetable.dep_stop_id.isin(list_of_stops_in_15k))\n",
    "\n",
    "#delete arrival stop_id outside 15km area\n",
    "final_timetable = final_timetable.filter(final_timetable.arr_stop_id.isin(list_of_stops_in_15k))\n",
    "\n",
    "\n",
    "#delete direct connections where it starts same as where it arrives\n",
    "final_timetable = final_timetable.filter(final_timetable.dep_stop_id != final_timetable.arr_stop_id)\n",
    "\n",
    "#delete duplicates\n",
    "#final_timetable = final_timetable.dropDuplicates(['dep_stop_id','arr_stop_id','dep_time','arr_time'])"
   ]
  },
  {
   "cell_type": "markdown",
   "id": "77ede978-e230-4846-a9c6-956795e42231",
   "metadata": {},
   "source": [
    "#### Calendar information"
   ]
  },
  {
   "cell_type": "code",
   "execution_count": 87,
   "id": "22b13bbf-2364-4c1a-a90e-a84a26be40f5",
   "metadata": {},
   "outputs": [
    {
     "data": {
      "application/vnd.jupyter.widget-view+json": {
       "model_id": "",
       "version_major": 2,
       "version_minor": 0
      },
      "text/plain": [
       "FloatProgress(value=0.0, bar_style='info', description='Progress:', layout=Layout(height='25px', width='50%'),…"
      ]
     },
     "metadata": {},
     "output_type": "display_data"
    }
   ],
   "source": [
    "%%spark\n",
    "cal = spark.read.csv(\"/data/sbb/csv/calendar/2019/05/08/calendar.txt\", sep=',', header='true')\n",
    "trips = spark.read.csv(\"/data/sbb/csv/trips/2019/05/08/trips.txt\", sep=',', header='true')\n",
    "merged_cal = trips.join(cal,on=\"service_id\") \\\n",
    ".drop(\"trip_short_name\",\"start\",\"service_id\",\"direction_id\",\"start_date\",\"end_date\")\n",
    "merged_all = final_timetable.join(merged_cal,on=\"trip_id\")\n",
    "final_timetable = merged_all"
   ]
  },
  {
   "cell_type": "code",
   "execution_count": 88,
   "id": "141a9f79-dd56-47d9-8bad-90d7a79de097",
   "metadata": {},
   "outputs": [
    {
     "data": {
      "application/vnd.jupyter.widget-view+json": {
       "model_id": "",
       "version_major": 2,
       "version_minor": 0
      },
      "text/plain": [
       "FloatProgress(value=0.0, bar_style='info', description='Progress:', layout=Layout(height='25px', width='50%'),…"
      ]
     },
     "metadata": {},
     "output_type": "display_data"
    }
   ],
   "source": [
    "%%spark\n",
    "routes_df = spark.read.csv(\"/data/sbb/csv/routes/2019/05/08/routes.txt\", sep=',', header='true')\n",
    "final_timetable = final_timetable.join(routes_df,on=\"route_id\").drop(\"route_id\",\"agency_id\",\"route_long_name\",\"route_type\")"
   ]
  },
  {
   "cell_type": "code",
   "execution_count": 89,
   "id": "7f499bcf-4bd9-4928-b79d-74ce66565bae",
   "metadata": {},
   "outputs": [
    {
     "data": {
      "application/vnd.jupyter.widget-view+json": {
       "model_id": "",
       "version_major": 2,
       "version_minor": 0
      },
      "text/plain": [
       "FloatProgress(value=0.0, bar_style='info', description='Progress:', layout=Layout(height='25px', width='50%'),…"
      ]
     },
     "metadata": {},
     "output_type": "display_data"
    },
    {
     "data": {
      "application/vnd.jupyter.widget-view+json": {
       "model_id": "",
       "version_major": 2,
       "version_minor": 0
      },
      "text/plain": [
       "FloatProgress(value=0.0, bar_style='info', description='Progress:', layout=Layout(height='25px', width='50%'),…"
      ]
     },
     "metadata": {},
     "output_type": "display_data"
    }
   ],
   "source": [
    "%%spark -o len_df\n",
    "\n",
    "#get lenght of dataframe\n",
    "len_df =spark.createDataFrame(\n",
    "    [\n",
    "        (1,final_timetable.count()),\n",
    "    ],\n",
    "    [\"id\",\"count\"]\n",
    ")"
   ]
  },
  {
   "cell_type": "code",
   "execution_count": 90,
   "id": "b1c3c9e5-72a9-44d2-b45b-a083bb984872",
   "metadata": {},
   "outputs": [
    {
     "data": {
      "application/vnd.jupyter.widget-view+json": {
       "model_id": "",
       "version_major": 2,
       "version_minor": 0
      },
      "text/plain": [
       "FloatProgress(value=0.0, bar_style='info', description='Progress:', layout=Layout(height='25px', width='50%'),…"
      ]
     },
     "metadata": {},
     "output_type": "display_data"
    },
    {
     "name": "stdout",
     "output_type": "stream",
     "text": [
      "+--------------------+---------------+-----------+--------+--------+----+---+--------------------+------+-------+---------+--------+------+--------+------+----------------+----------+\n",
      "|             trip_id|    dep_stop_id|arr_stop_id|dep_time|arr_time|mean|std|       trip_headsign|monday|tuesday|wednesday|thursday|friday|saturday|sunday|route_short_name|route_desc|\n",
      "+--------------------+---------------+-----------+--------+--------+----+---+--------------------+------+-------+---------+--------+------+--------+------+----------------+----------+\n",
      "|1.TA.26-18-j19-1.1.H|        8503064|8503065:0:1|   10:41|   10:45|   0|  0|Zürich Stadelhofe...|     1|      1|        1|       1|     1|       0|     0|              18|    S-Bahn|\n",
      "|1.TA.26-18-j19-1.1.H|        8530812|    8530813|    11:2|    11:4|   0|  0|Zürich Stadelhofe...|     1|      1|        1|       1|     1|       0|     0|              18|    S-Bahn|\n",
      "|1.TA.26-18-j19-1.1.H|        8530811|    8530812|   10:59|    11:2|   0|  0|Zürich Stadelhofe...|     1|      1|        1|       1|     1|       0|     0|              18|    S-Bahn|\n",
      "|1.TA.26-18-j19-1.1.H|        8503066|    8503075|   10:48|   10:50|   0|  0|Zürich Stadelhofe...|     1|      1|        1|       1|     1|       0|     0|              18|    S-Bahn|\n",
      "|1.TA.26-18-j19-1.1.H|        8591315|    8530811|   10:57|   10:59|   0|  0|Zürich Stadelhofe...|     1|      1|        1|       1|     1|       0|     0|              18|    S-Bahn|\n",
      "|1.TA.26-18-j19-1.1.H|        8503075|    8503067|   10:50|   10:52|   0|  0|Zürich Stadelhofe...|     1|      1|        1|       1|     1|       0|     0|              18|    S-Bahn|\n",
      "|1.TA.26-18-j19-1.1.H|        8503067|    8503077|   10:52|   10:53|   0|  0|Zürich Stadelhofe...|     1|      1|        1|       1|     1|       0|     0|              18|    S-Bahn|\n",
      "|1.TA.26-18-j19-1.1.H|        8530813|    8503059|    11:4|    11:7|   0|  0|Zürich Stadelhofe...|     1|      1|        1|       1|     1|       0|     0|              18|    S-Bahn|\n",
      "|1.TA.26-18-j19-1.1.H|        8503078|    8591315|   10:54|   10:57|   0|  0|Zürich Stadelhofe...|     1|      1|        1|       1|     1|       0|     0|              18|    S-Bahn|\n",
      "|1.TA.26-18-j19-1.1.H|    8503065:0:1|    8503074|   10:45|   10:46|   0|  0|Zürich Stadelhofe...|     1|      1|        1|       1|     1|       0|     0|              18|    S-Bahn|\n",
      "|1.TA.26-18-j19-1.1.H|        8503068|    8503066|   10:47|   10:48|   0|  0|Zürich Stadelhofe...|     1|      1|        1|       1|     1|       0|     0|              18|    S-Bahn|\n",
      "|1.TA.26-18-j19-1.1.H|        8503077|    8503078|   10:53|   10:54|   0|  0|Zürich Stadelhofe...|     1|      1|        1|       1|     1|       0|     0|              18|    S-Bahn|\n",
      "|1.TA.26-18-j19-1.1.H|        8503074|    8503068|   10:46|   10:47|   0|  0|Zürich Stadelhofe...|     1|      1|        1|       1|     1|       0|     0|              18|    S-Bahn|\n",
      "|10.TA.26-77-j19-1...|        8591133|    8591120|    13:9|   13:10|   0|  0|   Zürich, Im Walder|     0|      0|        0|       0|     0|       0|     1|              77|       Bus|\n",
      "|10.TA.26-77-j19-1...|        8591040|    8591440|    13:7|    13:9|   0|  0|   Zürich, Im Walder|     0|      0|        0|       0|     0|       0|     1|              77|       Bus|\n",
      "|10.TA.26-77-j19-1...|        8530812|    8591094|    13:5|    13:6|   0|  0|   Zürich, Im Walder|     0|      0|        0|       0|     0|       0|     1|              77|       Bus|\n",
      "|10.TA.26-77-j19-1...|        8591120|    8591212|   13:10|   13:11|   0|  0|   Zürich, Im Walder|     0|      0|        0|       0|     0|       0|     1|              77|       Bus|\n",
      "|10.TA.26-77-j19-1...|        8591440|    8591133|    13:9|    13:9|   0|  0|   Zürich, Im Walder|     0|      0|        0|       0|     0|       0|     1|              77|       Bus|\n",
      "|10.TA.26-77-j19-1...|        8591094|    8591040|    13:6|    13:7|   0|  0|   Zürich, Im Walder|     0|      0|        0|       0|     0|       0|     1|              77|       Bus|\n",
      "|100.TA.26-11-j19-...|8503000:0:43/44|8503003:0:3|    14:1|    14:4|   0|  0|          Winterthur|     0|      0|        0|       0|     0|       1|     1|              11|    S-Bahn|\n",
      "+--------------------+---------------+-----------+--------+--------+----+---+--------------------+------+-------+---------+--------+------+--------+------+----------------+----------+\n",
      "only showing top 20 rows"
     ]
    }
   ],
   "source": [
    "%%spark\n",
    "final_timetable.show(20)"
   ]
  },
  {
   "cell_type": "code",
   "execution_count": 96,
   "id": "81dd94b1-69e8-4889-bb78-a958fe485700",
   "metadata": {},
   "outputs": [
    {
     "data": {
      "application/vnd.jupyter.widget-view+json": {
       "model_id": "",
       "version_major": 2,
       "version_minor": 0
      },
      "text/plain": [
       "FloatProgress(value=0.0, bar_style='info', description='Progress:', layout=Layout(height='25px', width='50%'),…"
      ]
     },
     "metadata": {},
     "output_type": "display_data"
    }
   ],
   "source": [
    "%%spark\n",
    "final_timetable.coalesce(1).write.option(\"header\",\"true\").format(\"csv\").save('/group/mmcc/final_hdfs_timetable3.csv')"
   ]
  },
  {
   "cell_type": "code",
   "execution_count": 91,
   "id": "34187d6c-089b-4cd6-8172-77b00656d523",
   "metadata": {},
   "outputs": [
    {
     "data": {
      "text/html": [
       "<div>\n",
       "<style scoped>\n",
       "    .dataframe tbody tr th:only-of-type {\n",
       "        vertical-align: middle;\n",
       "    }\n",
       "\n",
       "    .dataframe tbody tr th {\n",
       "        vertical-align: top;\n",
       "    }\n",
       "\n",
       "    .dataframe thead th {\n",
       "        text-align: right;\n",
       "    }\n",
       "</style>\n",
       "<table border=\"1\" class=\"dataframe\">\n",
       "  <thead>\n",
       "    <tr style=\"text-align: right;\">\n",
       "      <th></th>\n",
       "      <th>id</th>\n",
       "      <th>count</th>\n",
       "    </tr>\n",
       "  </thead>\n",
       "  <tbody>\n",
       "    <tr>\n",
       "      <th>0</th>\n",
       "      <td>1</td>\n",
       "      <td>1670414</td>\n",
       "    </tr>\n",
       "  </tbody>\n",
       "</table>\n",
       "</div>"
      ],
      "text/plain": [
       "   id    count\n",
       "0   1  1670414"
      ]
     },
     "execution_count": 91,
     "metadata": {},
     "output_type": "execute_result"
    }
   ],
   "source": [
    "len_df"
   ]
  },
  {
   "cell_type": "markdown",
   "id": "1e10e118-cc4f-4c6e-96ce-f89caba06372",
   "metadata": {},
   "source": [
    "Index whole dataframe"
   ]
  },
  {
   "cell_type": "code",
   "execution_count": 47,
   "id": "f7d5a22e-17f6-4ec8-86e2-a25c7041f293",
   "metadata": {},
   "outputs": [
    {
     "data": {
      "application/vnd.jupyter.widget-view+json": {
       "model_id": "",
       "version_major": 2,
       "version_minor": 0
      },
      "text/plain": [
       "FloatProgress(value=0.0, bar_style='info', description='Progress:', layout=Layout(height='25px', width='50%'),…"
      ]
     },
     "metadata": {},
     "output_type": "display_data"
    }
   ],
   "source": [
    "%%spark\n",
    "from pyspark.sql.window import Window\n",
    "w = Window().orderBy(F.lit('A'))\n",
    "final_timetable = final_timetable.withColumn(\"rowNum\", F.row_number().over(w))"
   ]
  },
  {
   "cell_type": "code",
   "execution_count": 48,
   "id": "3d154c81-c2c9-4e7b-b720-99641a765203",
   "metadata": {},
   "outputs": [
    {
     "data": {
      "application/vnd.jupyter.widget-view+json": {
       "model_id": "",
       "version_major": 2,
       "version_minor": 0
      },
      "text/plain": [
       "FloatProgress(value=0.0, bar_style='info', description='Progress:', layout=Layout(height='25px', width='50%'),…"
      ]
     },
     "metadata": {},
     "output_type": "display_data"
    },
    {
     "name": "stdout",
     "output_type": "stream",
     "text": [
      "1670414"
     ]
    }
   ],
   "source": [
    "%%spark\n",
    "final_timetable.select(\"rowNum\").distinct().count()"
   ]
  },
  {
   "cell_type": "code",
   "execution_count": 73,
   "id": "27256120-c007-4dbc-893f-e8f073fd027c",
   "metadata": {},
   "outputs": [
    {
     "data": {
      "application/vnd.jupyter.widget-view+json": {
       "model_id": "",
       "version_major": 2,
       "version_minor": 0
      },
      "text/plain": [
       "FloatProgress(value=0.0, bar_style='info', description='Progress:', layout=Layout(height='25px', width='50%'),…"
      ]
     },
     "metadata": {},
     "output_type": "display_data"
    }
   ],
   "source": [
    "%%spark\n",
    "test = final_timetable.filter((final_timetable.rowNum >= 0) & (final_timetable.rowNum <=20))"
   ]
  },
  {
   "cell_type": "code",
   "execution_count": 75,
   "id": "a324279a-bd6e-4dc4-9ab6-7f60ef94d85a",
   "metadata": {},
   "outputs": [
    {
     "data": {
      "application/vnd.jupyter.widget-view+json": {
       "model_id": "",
       "version_major": 2,
       "version_minor": 0
      },
      "text/plain": [
       "FloatProgress(value=0.0, bar_style='info', description='Progress:', layout=Layout(height='25px', width='50%'),…"
      ]
     },
     "metadata": {},
     "output_type": "display_data"
    },
    {
     "name": "stdout",
     "output_type": "stream",
     "text": [
      "DataFrame[trip_id: string, dep_stop_id: string, arr_stop_id: string, dep_time: string, arr_time: string, mean: int, std: int, trip_headsign: string, monday: string, tuesday: string, wednesday: string, thursday: string, friday: string, saturday: string, sunday: string, route_short_name: string, route_desc: string, rowNum: int]"
     ]
    },
    {
     "data": {
      "application/vnd.jupyter.widget-view+json": {
       "model_id": "",
       "version_major": 2,
       "version_minor": 0
      },
      "text/plain": [
       "FloatProgress(value=0.0, bar_style='info', description='Progress:', layout=Layout(height='25px', width='50%'),…"
      ]
     },
     "metadata": {},
     "output_type": "display_data"
    }
   ],
   "source": [
    "%%spark -o test -n -1\n",
    "test"
   ]
  },
  {
   "cell_type": "code",
   "execution_count": 76,
   "id": "cd1b8138-1e2b-45c4-81c9-1eda0cb470f6",
   "metadata": {},
   "outputs": [
    {
     "data": {
      "text/html": [
       "<div>\n",
       "<style scoped>\n",
       "    .dataframe tbody tr th:only-of-type {\n",
       "        vertical-align: middle;\n",
       "    }\n",
       "\n",
       "    .dataframe tbody tr th {\n",
       "        vertical-align: top;\n",
       "    }\n",
       "\n",
       "    .dataframe thead th {\n",
       "        text-align: right;\n",
       "    }\n",
       "</style>\n",
       "<table border=\"1\" class=\"dataframe\">\n",
       "  <thead>\n",
       "    <tr style=\"text-align: right;\">\n",
       "      <th></th>\n",
       "      <th>trip_id</th>\n",
       "      <th>dep_stop_id</th>\n",
       "      <th>arr_stop_id</th>\n",
       "      <th>dep_time</th>\n",
       "      <th>arr_time</th>\n",
       "      <th>mean</th>\n",
       "      <th>std</th>\n",
       "      <th>trip_headsign</th>\n",
       "      <th>monday</th>\n",
       "      <th>tuesday</th>\n",
       "      <th>wednesday</th>\n",
       "      <th>thursday</th>\n",
       "      <th>friday</th>\n",
       "      <th>saturday</th>\n",
       "      <th>sunday</th>\n",
       "      <th>route_short_name</th>\n",
       "      <th>route_desc</th>\n",
       "      <th>rowNum</th>\n",
       "    </tr>\n",
       "  </thead>\n",
       "  <tbody>\n",
       "    <tr>\n",
       "      <th>0</th>\n",
       "      <td>10.TA.26-311-j19-1.1.R</td>\n",
       "      <td>8590619</td>\n",
       "      <td>8590525</td>\n",
       "      <td>2022-05-29 09:27:00</td>\n",
       "      <td>2022-05-29 09:28:00</td>\n",
       "      <td>0</td>\n",
       "      <td>0</td>\n",
       "      <td>Dietikon, Bahnhof</td>\n",
       "      <td>0</td>\n",
       "      <td>0</td>\n",
       "      <td>0</td>\n",
       "      <td>0</td>\n",
       "      <td>0</td>\n",
       "      <td>0</td>\n",
       "      <td>1</td>\n",
       "      <td>311</td>\n",
       "      <td>Bus</td>\n",
       "      <td>15</td>\n",
       "    </tr>\n",
       "    <tr>\n",
       "      <th>1</th>\n",
       "      <td>10.TA.26-311-j19-1.1.R</td>\n",
       "      <td>8590529</td>\n",
       "      <td>8587020:0:D</td>\n",
       "      <td>2022-05-29 09:29:00</td>\n",
       "      <td>2022-05-29 09:30:00</td>\n",
       "      <td>0</td>\n",
       "      <td>0</td>\n",
       "      <td>Dietikon, Bahnhof</td>\n",
       "      <td>0</td>\n",
       "      <td>0</td>\n",
       "      <td>0</td>\n",
       "      <td>0</td>\n",
       "      <td>0</td>\n",
       "      <td>0</td>\n",
       "      <td>1</td>\n",
       "      <td>311</td>\n",
       "      <td>Bus</td>\n",
       "      <td>16</td>\n",
       "    </tr>\n",
       "    <tr>\n",
       "      <th>2</th>\n",
       "      <td>10.TA.26-311-j19-1.1.R</td>\n",
       "      <td>8590845</td>\n",
       "      <td>8590837</td>\n",
       "      <td>2022-05-29 09:20:00</td>\n",
       "      <td>2022-05-29 09:21:00</td>\n",
       "      <td>0</td>\n",
       "      <td>0</td>\n",
       "      <td>Dietikon, Bahnhof</td>\n",
       "      <td>0</td>\n",
       "      <td>0</td>\n",
       "      <td>0</td>\n",
       "      <td>0</td>\n",
       "      <td>0</td>\n",
       "      <td>0</td>\n",
       "      <td>1</td>\n",
       "      <td>311</td>\n",
       "      <td>Bus</td>\n",
       "      <td>17</td>\n",
       "    </tr>\n",
       "    <tr>\n",
       "      <th>3</th>\n",
       "      <td>10.TA.26-311-j19-1.1.R</td>\n",
       "      <td>8590800</td>\n",
       "      <td>8590801</td>\n",
       "      <td>2022-05-29 09:22:00</td>\n",
       "      <td>2022-05-29 09:23:00</td>\n",
       "      <td>0</td>\n",
       "      <td>0</td>\n",
       "      <td>Dietikon, Bahnhof</td>\n",
       "      <td>0</td>\n",
       "      <td>0</td>\n",
       "      <td>0</td>\n",
       "      <td>0</td>\n",
       "      <td>0</td>\n",
       "      <td>0</td>\n",
       "      <td>1</td>\n",
       "      <td>311</td>\n",
       "      <td>Bus</td>\n",
       "      <td>18</td>\n",
       "    </tr>\n",
       "    <tr>\n",
       "      <th>4</th>\n",
       "      <td>10.TA.26-311-j19-1.1.R</td>\n",
       "      <td>8590834</td>\n",
       "      <td>8590849</td>\n",
       "      <td>2022-05-29 09:16:00</td>\n",
       "      <td>2022-05-29 09:17:00</td>\n",
       "      <td>0</td>\n",
       "      <td>0</td>\n",
       "      <td>Dietikon, Bahnhof</td>\n",
       "      <td>0</td>\n",
       "      <td>0</td>\n",
       "      <td>0</td>\n",
       "      <td>0</td>\n",
       "      <td>0</td>\n",
       "      <td>0</td>\n",
       "      <td>1</td>\n",
       "      <td>311</td>\n",
       "      <td>Bus</td>\n",
       "      <td>19</td>\n",
       "    </tr>\n",
       "    <tr>\n",
       "      <th>5</th>\n",
       "      <td>10.TA.26-311-j19-1.1.R</td>\n",
       "      <td>8590842</td>\n",
       "      <td>8590845</td>\n",
       "      <td>2022-05-29 09:19:00</td>\n",
       "      <td>2022-05-29 09:20:00</td>\n",
       "      <td>0</td>\n",
       "      <td>0</td>\n",
       "      <td>Dietikon, Bahnhof</td>\n",
       "      <td>0</td>\n",
       "      <td>0</td>\n",
       "      <td>0</td>\n",
       "      <td>0</td>\n",
       "      <td>0</td>\n",
       "      <td>0</td>\n",
       "      <td>1</td>\n",
       "      <td>311</td>\n",
       "      <td>Bus</td>\n",
       "      <td>20</td>\n",
       "    </tr>\n",
       "  </tbody>\n",
       "</table>\n",
       "</div>"
      ],
      "text/plain": [
       "                  trip_id  dep_stop_id  arr_stop_id            dep_time  \\\n",
       "0  10.TA.26-311-j19-1.1.R      8590619      8590525 2022-05-29 09:27:00   \n",
       "1  10.TA.26-311-j19-1.1.R      8590529  8587020:0:D 2022-05-29 09:29:00   \n",
       "2  10.TA.26-311-j19-1.1.R      8590845      8590837 2022-05-29 09:20:00   \n",
       "3  10.TA.26-311-j19-1.1.R      8590800      8590801 2022-05-29 09:22:00   \n",
       "4  10.TA.26-311-j19-1.1.R      8590834      8590849 2022-05-29 09:16:00   \n",
       "5  10.TA.26-311-j19-1.1.R      8590842      8590845 2022-05-29 09:19:00   \n",
       "\n",
       "             arr_time  mean  std      trip_headsign  monday  tuesday  \\\n",
       "0 2022-05-29 09:28:00     0    0  Dietikon, Bahnhof       0        0   \n",
       "1 2022-05-29 09:30:00     0    0  Dietikon, Bahnhof       0        0   \n",
       "2 2022-05-29 09:21:00     0    0  Dietikon, Bahnhof       0        0   \n",
       "3 2022-05-29 09:23:00     0    0  Dietikon, Bahnhof       0        0   \n",
       "4 2022-05-29 09:17:00     0    0  Dietikon, Bahnhof       0        0   \n",
       "5 2022-05-29 09:20:00     0    0  Dietikon, Bahnhof       0        0   \n",
       "\n",
       "   wednesday  thursday  friday  saturday  sunday  route_short_name route_desc  \\\n",
       "0          0         0       0         0       1               311        Bus   \n",
       "1          0         0       0         0       1               311        Bus   \n",
       "2          0         0       0         0       1               311        Bus   \n",
       "3          0         0       0         0       1               311        Bus   \n",
       "4          0         0       0         0       1               311        Bus   \n",
       "5          0         0       0         0       1               311        Bus   \n",
       "\n",
       "   rowNum  \n",
       "0      15  \n",
       "1      16  \n",
       "2      17  \n",
       "3      18  \n",
       "4      19  \n",
       "5      20  "
      ]
     },
     "execution_count": 76,
     "metadata": {},
     "output_type": "execute_result"
    }
   ],
   "source": [
    "test"
   ]
  },
  {
   "cell_type": "code",
   "execution_count": 74,
   "id": "3a814163-1ef7-4618-8de6-f7307fcdd70a",
   "metadata": {},
   "outputs": [
    {
     "name": "stdout",
     "output_type": "stream",
     "text": [
      "4\n",
      "0\n"
     ]
    },
    {
     "data": {
      "application/vnd.jupyter.widget-view+json": {
       "model_id": "",
       "version_major": 2,
       "version_minor": 0
      },
      "text/plain": [
       "FloatProgress(value=0.0, bar_style='info', description='Progress:', layout=Layout(height='25px', width='50%'),…"
      ]
     },
     "metadata": {},
     "output_type": "display_data"
    },
    {
     "data": {
      "application/vnd.jupyter.widget-view+json": {
       "model_id": "",
       "version_major": 2,
       "version_minor": 0
      },
      "text/plain": [
       "FloatProgress(value=0.0, bar_style='info', description='Progress:', layout=Layout(height='25px', width='50%'),…"
      ]
     },
     "metadata": {},
     "output_type": "display_data"
    },
    {
     "name": "stdout",
     "output_type": "stream",
     "text": [
      "4\n",
      "5\n"
     ]
    },
    {
     "data": {
      "application/vnd.jupyter.widget-view+json": {
       "model_id": "",
       "version_major": 2,
       "version_minor": 0
      },
      "text/plain": [
       "FloatProgress(value=0.0, bar_style='info', description='Progress:', layout=Layout(height='25px', width='50%'),…"
      ]
     },
     "metadata": {},
     "output_type": "display_data"
    },
    {
     "data": {
      "application/vnd.jupyter.widget-view+json": {
       "model_id": "",
       "version_major": 2,
       "version_minor": 0
      },
      "text/plain": [
       "FloatProgress(value=0.0, bar_style='info', description='Progress:', layout=Layout(height='25px', width='50%'),…"
      ]
     },
     "metadata": {},
     "output_type": "display_data"
    },
    {
     "name": "stdout",
     "output_type": "stream",
     "text": [
      "4\n",
      "10\n"
     ]
    },
    {
     "data": {
      "application/vnd.jupyter.widget-view+json": {
       "model_id": "",
       "version_major": 2,
       "version_minor": 0
      },
      "text/plain": [
       "FloatProgress(value=0.0, bar_style='info', description='Progress:', layout=Layout(height='25px', width='50%'),…"
      ]
     },
     "metadata": {},
     "output_type": "display_data"
    },
    {
     "data": {
      "application/vnd.jupyter.widget-view+json": {
       "model_id": "",
       "version_major": 2,
       "version_minor": 0
      },
      "text/plain": [
       "FloatProgress(value=0.0, bar_style='info', description='Progress:', layout=Layout(height='25px', width='50%'),…"
      ]
     },
     "metadata": {},
     "output_type": "display_data"
    },
    {
     "name": "stdout",
     "output_type": "stream",
     "text": [
      "4\n",
      "15\n"
     ]
    },
    {
     "data": {
      "application/vnd.jupyter.widget-view+json": {
       "model_id": "",
       "version_major": 2,
       "version_minor": 0
      },
      "text/plain": [
       "FloatProgress(value=0.0, bar_style='info', description='Progress:', layout=Layout(height='25px', width='50%'),…"
      ]
     },
     "metadata": {},
     "output_type": "display_data"
    },
    {
     "data": {
      "application/vnd.jupyter.widget-view+json": {
       "model_id": "",
       "version_major": 2,
       "version_minor": 0
      },
      "text/plain": [
       "FloatProgress(value=0.0, bar_style='info', description='Progress:', layout=Layout(height='25px', width='50%'),…"
      ]
     },
     "metadata": {},
     "output_type": "display_data"
    }
   ],
   "source": [
    "#do the chunk\n",
    "\n",
    "path = os.path.join(\"\",\"../data/test.csv\")\n",
    "try:\n",
    "    os.remove(path)\n",
    "except:\n",
    "    pass\n",
    "\n",
    "lenght_df = 20\n",
    "counter = 0\n",
    "chunk_nr = 5\n",
    "for i in range(0,math.ceil(lenght_df/chunk_nr)):\n",
    "    print(math.ceil(lenght_df/chunk_nr))\n",
    "    print(counter)\n",
    "    #get_ipython().run_line_magic('spark', '-o final_timetable --maxrows 50000')\n",
    "    get_ipython().run_cell_magic(u'spark', u'-o test -n 5', u'test = test.filter(test.rowNum >= {0})'.format(counter))\n",
    "    counter+=chunk_nr\n",
    "    test.to_csv('../data/test.csv', mode='a', header=False)"
   ]
  },
  {
   "cell_type": "code",
   "execution_count": 35,
   "id": "682562d5-5499-4bae-9b3d-349c6c1ebe7c",
   "metadata": {},
   "outputs": [
    {
     "name": "stdout",
     "output_type": "stream",
     "text": [
      "17\n",
      "0\n"
     ]
    },
    {
     "data": {
      "application/vnd.jupyter.widget-view+json": {
       "model_id": "",
       "version_major": 2,
       "version_minor": 0
      },
      "text/plain": [
       "FloatProgress(value=0.0, bar_style='info', description='Progress:', layout=Layout(height='25px', width='50%'),…"
      ]
     },
     "metadata": {},
     "output_type": "display_data"
    },
    {
     "data": {
      "application/vnd.jupyter.widget-view+json": {
       "model_id": "",
       "version_major": 2,
       "version_minor": 0
      },
      "text/plain": [
       "FloatProgress(value=0.0, bar_style='info', description='Progress:', layout=Layout(height='25px', width='50%'),…"
      ]
     },
     "metadata": {},
     "output_type": "display_data"
    },
    {
     "name": "stdout",
     "output_type": "stream",
     "text": [
      "17\n",
      "100000\n"
     ]
    },
    {
     "data": {
      "application/vnd.jupyter.widget-view+json": {
       "model_id": "",
       "version_major": 2,
       "version_minor": 0
      },
      "text/plain": [
       "FloatProgress(value=0.0, bar_style='info', description='Progress:', layout=Layout(height='25px', width='50%'),…"
      ]
     },
     "metadata": {},
     "output_type": "display_data"
    },
    {
     "data": {
      "application/vnd.jupyter.widget-view+json": {
       "model_id": "",
       "version_major": 2,
       "version_minor": 0
      },
      "text/plain": [
       "FloatProgress(value=0.0, bar_style='info', description='Progress:', layout=Layout(height='25px', width='50%'),…"
      ]
     },
     "metadata": {},
     "output_type": "display_data"
    },
    {
     "name": "stdout",
     "output_type": "stream",
     "text": [
      "17\n",
      "200000\n"
     ]
    },
    {
     "data": {
      "application/vnd.jupyter.widget-view+json": {
       "model_id": "",
       "version_major": 2,
       "version_minor": 0
      },
      "text/plain": [
       "FloatProgress(value=0.0, bar_style='info', description='Progress:', layout=Layout(height='25px', width='50%'),…"
      ]
     },
     "metadata": {},
     "output_type": "display_data"
    },
    {
     "data": {
      "application/vnd.jupyter.widget-view+json": {
       "model_id": "",
       "version_major": 2,
       "version_minor": 0
      },
      "text/plain": [
       "FloatProgress(value=0.0, bar_style='info', description='Progress:', layout=Layout(height='25px', width='50%'),…"
      ]
     },
     "metadata": {},
     "output_type": "display_data"
    },
    {
     "name": "stdout",
     "output_type": "stream",
     "text": [
      "17\n",
      "300000\n"
     ]
    },
    {
     "data": {
      "application/vnd.jupyter.widget-view+json": {
       "model_id": "",
       "version_major": 2,
       "version_minor": 0
      },
      "text/plain": [
       "FloatProgress(value=0.0, bar_style='info', description='Progress:', layout=Layout(height='25px', width='50%'),…"
      ]
     },
     "metadata": {},
     "output_type": "display_data"
    },
    {
     "data": {
      "application/vnd.jupyter.widget-view+json": {
       "model_id": "",
       "version_major": 2,
       "version_minor": 0
      },
      "text/plain": [
       "FloatProgress(value=0.0, bar_style='info', description='Progress:', layout=Layout(height='25px', width='50%'),…"
      ]
     },
     "metadata": {},
     "output_type": "display_data"
    },
    {
     "name": "stdout",
     "output_type": "stream",
     "text": [
      "17\n",
      "400000\n"
     ]
    },
    {
     "data": {
      "application/vnd.jupyter.widget-view+json": {
       "model_id": "",
       "version_major": 2,
       "version_minor": 0
      },
      "text/plain": [
       "FloatProgress(value=0.0, bar_style='info', description='Progress:', layout=Layout(height='25px', width='50%'),…"
      ]
     },
     "metadata": {},
     "output_type": "display_data"
    },
    {
     "data": {
      "application/vnd.jupyter.widget-view+json": {
       "model_id": "",
       "version_major": 2,
       "version_minor": 0
      },
      "text/plain": [
       "FloatProgress(value=0.0, bar_style='info', description='Progress:', layout=Layout(height='25px', width='50%'),…"
      ]
     },
     "metadata": {},
     "output_type": "display_data"
    },
    {
     "name": "stdout",
     "output_type": "stream",
     "text": [
      "17\n",
      "500000\n"
     ]
    },
    {
     "data": {
      "application/vnd.jupyter.widget-view+json": {
       "model_id": "",
       "version_major": 2,
       "version_minor": 0
      },
      "text/plain": [
       "FloatProgress(value=0.0, bar_style='info', description='Progress:', layout=Layout(height='25px', width='50%'),…"
      ]
     },
     "metadata": {},
     "output_type": "display_data"
    },
    {
     "data": {
      "application/vnd.jupyter.widget-view+json": {
       "model_id": "",
       "version_major": 2,
       "version_minor": 0
      },
      "text/plain": [
       "FloatProgress(value=0.0, bar_style='info', description='Progress:', layout=Layout(height='25px', width='50%'),…"
      ]
     },
     "metadata": {},
     "output_type": "display_data"
    },
    {
     "name": "stdout",
     "output_type": "stream",
     "text": [
      "17\n",
      "600000\n"
     ]
    },
    {
     "data": {
      "application/vnd.jupyter.widget-view+json": {
       "model_id": "",
       "version_major": 2,
       "version_minor": 0
      },
      "text/plain": [
       "FloatProgress(value=0.0, bar_style='info', description='Progress:', layout=Layout(height='25px', width='50%'),…"
      ]
     },
     "metadata": {},
     "output_type": "display_data"
    },
    {
     "data": {
      "application/vnd.jupyter.widget-view+json": {
       "model_id": "",
       "version_major": 2,
       "version_minor": 0
      },
      "text/plain": [
       "FloatProgress(value=0.0, bar_style='info', description='Progress:', layout=Layout(height='25px', width='50%'),…"
      ]
     },
     "metadata": {},
     "output_type": "display_data"
    },
    {
     "name": "stdout",
     "output_type": "stream",
     "text": [
      "17\n",
      "700000\n"
     ]
    },
    {
     "data": {
      "application/vnd.jupyter.widget-view+json": {
       "model_id": "",
       "version_major": 2,
       "version_minor": 0
      },
      "text/plain": [
       "FloatProgress(value=0.0, bar_style='info', description='Progress:', layout=Layout(height='25px', width='50%'),…"
      ]
     },
     "metadata": {},
     "output_type": "display_data"
    },
    {
     "data": {
      "application/vnd.jupyter.widget-view+json": {
       "model_id": "",
       "version_major": 2,
       "version_minor": 0
      },
      "text/plain": [
       "FloatProgress(value=0.0, bar_style='info', description='Progress:', layout=Layout(height='25px', width='50%'),…"
      ]
     },
     "metadata": {},
     "output_type": "display_data"
    },
    {
     "name": "stdout",
     "output_type": "stream",
     "text": [
      "17\n",
      "800000\n"
     ]
    },
    {
     "data": {
      "application/vnd.jupyter.widget-view+json": {
       "model_id": "",
       "version_major": 2,
       "version_minor": 0
      },
      "text/plain": [
       "FloatProgress(value=0.0, bar_style='info', description='Progress:', layout=Layout(height='25px', width='50%'),…"
      ]
     },
     "metadata": {},
     "output_type": "display_data"
    },
    {
     "data": {
      "application/vnd.jupyter.widget-view+json": {
       "model_id": "",
       "version_major": 2,
       "version_minor": 0
      },
      "text/plain": [
       "FloatProgress(value=0.0, bar_style='info', description='Progress:', layout=Layout(height='25px', width='50%'),…"
      ]
     },
     "metadata": {},
     "output_type": "display_data"
    },
    {
     "name": "stdout",
     "output_type": "stream",
     "text": [
      "17\n",
      "900000\n"
     ]
    },
    {
     "data": {
      "application/vnd.jupyter.widget-view+json": {
       "model_id": "",
       "version_major": 2,
       "version_minor": 0
      },
      "text/plain": [
       "FloatProgress(value=0.0, bar_style='info', description='Progress:', layout=Layout(height='25px', width='50%'),…"
      ]
     },
     "metadata": {},
     "output_type": "display_data"
    },
    {
     "data": {
      "application/vnd.jupyter.widget-view+json": {
       "model_id": "",
       "version_major": 2,
       "version_minor": 0
      },
      "text/plain": [
       "FloatProgress(value=0.0, bar_style='info', description='Progress:', layout=Layout(height='25px', width='50%'),…"
      ]
     },
     "metadata": {},
     "output_type": "display_data"
    },
    {
     "name": "stdout",
     "output_type": "stream",
     "text": [
      "17\n",
      "1000000\n"
     ]
    },
    {
     "data": {
      "application/vnd.jupyter.widget-view+json": {
       "model_id": "",
       "version_major": 2,
       "version_minor": 0
      },
      "text/plain": [
       "FloatProgress(value=0.0, bar_style='info', description='Progress:', layout=Layout(height='25px', width='50%'),…"
      ]
     },
     "metadata": {},
     "output_type": "display_data"
    },
    {
     "data": {
      "application/vnd.jupyter.widget-view+json": {
       "model_id": "",
       "version_major": 2,
       "version_minor": 0
      },
      "text/plain": [
       "FloatProgress(value=0.0, bar_style='info', description='Progress:', layout=Layout(height='25px', width='50%'),…"
      ]
     },
     "metadata": {},
     "output_type": "display_data"
    },
    {
     "name": "stdout",
     "output_type": "stream",
     "text": [
      "17\n",
      "1100000\n"
     ]
    },
    {
     "data": {
      "application/vnd.jupyter.widget-view+json": {
       "model_id": "",
       "version_major": 2,
       "version_minor": 0
      },
      "text/plain": [
       "FloatProgress(value=0.0, bar_style='info', description='Progress:', layout=Layout(height='25px', width='50%'),…"
      ]
     },
     "metadata": {},
     "output_type": "display_data"
    },
    {
     "data": {
      "application/vnd.jupyter.widget-view+json": {
       "model_id": "",
       "version_major": 2,
       "version_minor": 0
      },
      "text/plain": [
       "FloatProgress(value=0.0, bar_style='info', description='Progress:', layout=Layout(height='25px', width='50%'),…"
      ]
     },
     "metadata": {},
     "output_type": "display_data"
    },
    {
     "name": "stdout",
     "output_type": "stream",
     "text": [
      "17\n",
      "1200000\n"
     ]
    },
    {
     "data": {
      "application/vnd.jupyter.widget-view+json": {
       "model_id": "",
       "version_major": 2,
       "version_minor": 0
      },
      "text/plain": [
       "FloatProgress(value=0.0, bar_style='info', description='Progress:', layout=Layout(height='25px', width='50%'),…"
      ]
     },
     "metadata": {},
     "output_type": "display_data"
    },
    {
     "data": {
      "application/vnd.jupyter.widget-view+json": {
       "model_id": "",
       "version_major": 2,
       "version_minor": 0
      },
      "text/plain": [
       "FloatProgress(value=0.0, bar_style='info', description='Progress:', layout=Layout(height='25px', width='50%'),…"
      ]
     },
     "metadata": {},
     "output_type": "display_data"
    },
    {
     "name": "stdout",
     "output_type": "stream",
     "text": [
      "17\n",
      "1300000\n"
     ]
    },
    {
     "data": {
      "application/vnd.jupyter.widget-view+json": {
       "model_id": "",
       "version_major": 2,
       "version_minor": 0
      },
      "text/plain": [
       "FloatProgress(value=0.0, bar_style='info', description='Progress:', layout=Layout(height='25px', width='50%'),…"
      ]
     },
     "metadata": {},
     "output_type": "display_data"
    },
    {
     "data": {
      "application/vnd.jupyter.widget-view+json": {
       "model_id": "",
       "version_major": 2,
       "version_minor": 0
      },
      "text/plain": [
       "FloatProgress(value=0.0, bar_style='info', description='Progress:', layout=Layout(height='25px', width='50%'),…"
      ]
     },
     "metadata": {},
     "output_type": "display_data"
    },
    {
     "name": "stdout",
     "output_type": "stream",
     "text": [
      "17\n",
      "1400000\n"
     ]
    },
    {
     "data": {
      "application/vnd.jupyter.widget-view+json": {
       "model_id": "",
       "version_major": 2,
       "version_minor": 0
      },
      "text/plain": [
       "FloatProgress(value=0.0, bar_style='info', description='Progress:', layout=Layout(height='25px', width='50%'),…"
      ]
     },
     "metadata": {},
     "output_type": "display_data"
    },
    {
     "data": {
      "application/vnd.jupyter.widget-view+json": {
       "model_id": "",
       "version_major": 2,
       "version_minor": 0
      },
      "text/plain": [
       "FloatProgress(value=0.0, bar_style='info', description='Progress:', layout=Layout(height='25px', width='50%'),…"
      ]
     },
     "metadata": {},
     "output_type": "display_data"
    },
    {
     "name": "stdout",
     "output_type": "stream",
     "text": [
      "17\n",
      "1500000\n"
     ]
    },
    {
     "data": {
      "application/vnd.jupyter.widget-view+json": {
       "model_id": "",
       "version_major": 2,
       "version_minor": 0
      },
      "text/plain": [
       "FloatProgress(value=0.0, bar_style='info', description='Progress:', layout=Layout(height='25px', width='50%'),…"
      ]
     },
     "metadata": {},
     "output_type": "display_data"
    },
    {
     "data": {
      "application/vnd.jupyter.widget-view+json": {
       "model_id": "",
       "version_major": 2,
       "version_minor": 0
      },
      "text/plain": [
       "FloatProgress(value=0.0, bar_style='info', description='Progress:', layout=Layout(height='25px', width='50%'),…"
      ]
     },
     "metadata": {},
     "output_type": "display_data"
    },
    {
     "name": "stdout",
     "output_type": "stream",
     "text": [
      "17\n",
      "1600000\n"
     ]
    },
    {
     "data": {
      "application/vnd.jupyter.widget-view+json": {
       "model_id": "",
       "version_major": 2,
       "version_minor": 0
      },
      "text/plain": [
       "FloatProgress(value=0.0, bar_style='info', description='Progress:', layout=Layout(height='25px', width='50%'),…"
      ]
     },
     "metadata": {},
     "output_type": "display_data"
    },
    {
     "data": {
      "application/vnd.jupyter.widget-view+json": {
       "model_id": "",
       "version_major": 2,
       "version_minor": 0
      },
      "text/plain": [
       "FloatProgress(value=0.0, bar_style='info', description='Progress:', layout=Layout(height='25px', width='50%'),…"
      ]
     },
     "metadata": {},
     "output_type": "display_data"
    }
   ],
   "source": [
    "#do the chunk\n",
    "\n",
    "path = os.path.join(\"\",\"../data/final_timetable.csv\")\n",
    "try:\n",
    "    os.remove(path)\n",
    "except:\n",
    "    pass\n",
    "\n",
    "lenght_df = len_df.iloc[0][1]\n",
    "counter = 0\n",
    "chunk_nr = 100000\n",
    "for i in range(0,math.ceil(lenght_df/chunk_nr)):\n",
    "    print(math.ceil(lenght_df/chunk_nr))\n",
    "    print(counter)\n",
    "    #get_ipython().run_line_magic('spark', '-o final_timetable --maxrows 50000')\n",
    "    get_ipython().run_cell_magic(u'spark', u'-o final_timetable --maxrows 100000', u'final_timetable = final_timetable.filter(final_timetable.rowNum >= {0})'.format(counter))\n",
    "    counter+=chunk_nr\n",
    "    final_timetable.to_csv('../data/final_timetable.csv', mode='a', header=False)"
   ]
  },
  {
   "cell_type": "code",
   "execution_count": 2,
   "id": "6f8a4c50-a391-43f3-92c0-8ec1a561cd16",
   "metadata": {},
   "outputs": [],
   "source": [
    "#read csv\n",
    "final_df = pd.read_csv('../data/final_timetable.csv')"
   ]
  },
  {
   "cell_type": "code",
   "execution_count": 3,
   "id": "cd5ed1da-26af-4df7-b365-004e5176d2ca",
   "metadata": {},
   "outputs": [],
   "source": [
    "#melt it by adding day of week\n",
    "inter = final_df.melt(id_vars=['trip_id','dep_stop_id','arr_stop_id','dep_time','arr_time','mean','std','trip_headsign','route_desc',\"route_short_name\"], value_vars=['monday','tuesday','wednesday','thursday','friday','saturday','sunday'])\n",
    "final_inter = inter[inter.value != 0].copy()\n",
    "\n",
    "\n",
    "map_days = {\"monday\" : 1, \"tuesday\": 2, \"wednesday\" : 3, 'thursday': 4, \"friday\":5,\"saturday\":6,\"sunday\":7}\n",
    "final_inter['dayofweek'] = final_inter['variable'].map(map_days)"
   ]
  },
  {
   "cell_type": "code",
   "execution_count": 4,
   "id": "9138c56a-92c9-41cd-8be8-9e3ec888ded6",
   "metadata": {},
   "outputs": [],
   "source": [
    "#parse time cause of bug in spark\n",
    "\n",
    "def parseBetterTime(time_str):\n",
    "    split = time_str.split(\":\")\n",
    "    if len(split[1]) < 2:\n",
    "        return split[0] + \":0\" + split[1]\n",
    "    else:\n",
    "        return time_str\n",
    "final_inter.dep_time = final_inter.dep_time.apply(parseBetterTime)\n",
    "final_inter.arr_time = final_inter.arr_time.apply(parseBetterTime)"
   ]
  },
  {
   "cell_type": "code",
   "execution_count": 5,
   "id": "2e997c56-4dad-49a2-b2bf-842fb4c0ced3",
   "metadata": {},
   "outputs": [],
   "source": [
    "#clean and send to csv\n",
    "final_inter = final_inter.reset_index(drop=True)\n",
    "final_inter.rename(columns={\"route_desc\": \"transport_name\"},inplace=True)\n",
    "final_inter = final_inter[['trip_id','dep_stop_id','arr_stop_id','dep_time','arr_time','mean','std',\"dayofweek\",\"transport_name\",'trip_headsign','route_short_name']]\n",
    "final_inter.to_csv(\"../data/final_micheal_timetable.csv\")"
   ]
  }
 ],
 "metadata": {
  "kernelspec": {
   "display_name": "Python 3",
   "language": "python",
   "name": "python3"
  },
  "language_info": {
   "codemirror_mode": {
    "name": "ipython",
    "version": 3
   },
   "file_extension": ".py",
   "mimetype": "text/x-python",
   "name": "python",
   "nbconvert_exporter": "python",
   "pygments_lexer": "ipython3",
   "version": "3.9.7"
  }
 },
 "nbformat": 4,
 "nbformat_minor": 5
}
