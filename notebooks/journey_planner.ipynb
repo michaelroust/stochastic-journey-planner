{
 "cells": [
  {
   "cell_type": "markdown",
   "id": "aafb4009-db6d-4993-ae47-46f77c338d42",
   "metadata": {},
   "source": [
    "# Our Journey Planner\n",
    "\n",
    "Enter the departure and arrival stops along with the desired arrival time and confidence of on-time arrival in the code cell below:"
   ]
  },
  {
   "cell_type": "code",
   "execution_count": 7,
   "id": "fd8760d7-8c5b-48fa-8c9c-cc3ad8b8b763",
   "metadata": {},
   "outputs": [],
   "source": [
    "DEPART = \"Zürich HB\"                 # Insert name of departure station as a string\n",
    "ARRIVE = \"Zürich Flughafen\"          # Insert name of arrival station as a string\n",
    "ARRIVAL_TIME = \"15:15\"               # Insert arrival time as a string in the format hh:mm\n",
    "CONFIDENCE_OF_ON_TIME_ARRIVAL = 80   # Insert confidence of on-time arrival as an integer between 1 and 100"
   ]
  },
  {
   "cell_type": "markdown",
   "id": "5bbfee64-b9ef-4234-8b75-2801995906df",
   "metadata": {},
   "source": [
    "Now, run the notebook and see the list of options at the bottom of the page."
   ]
  },
  {
   "cell_type": "markdown",
   "id": "a0239c10-539a-4dfe-8131-f98e3d3ccafc",
   "metadata": {},
   "source": [
    "----"
   ]
  },
  {
   "cell_type": "markdown",
   "id": "2c8ee3b3-57a5-4dce-a9a7-df92933fc76c",
   "metadata": {},
   "source": [
    "Below is our high-level function for finding and sorting a list of possible routes:"
   ]
  },
  {
   "cell_type": "code",
   "execution_count": 9,
   "id": "284fd320-7966-4f09-b847-50de7cdb51e4",
   "metadata": {},
   "outputs": [],
   "source": [
    "def get_routes(depart: str, arrive: str, arrival_time: str, confidence: int):\n",
    "    \"\"\"\n",
    "    Get and sort public transit routes between `depart` and `arrive` that will\n",
    "    arrive by `arrival_time` with confidence `confidence`%.\n",
    "    \n",
    "    Inputs:\n",
    "    -------\n",
    "    depart: desired departure station\n",
    "    arrive: desired arrival station\n",
    "    arrival_time: desired arrival time in format hh:mm\n",
    "    confidence: desired confidence level of on-time arrival, in percent\n",
    "    \n",
    "    Outputs:\n",
    "    --------\n",
    "    List of alternative routes\n",
    "    \"\"\"\n",
    "    \n",
    "    assert len(stops_15k[stops_15k.remark == depart])\n",
    "    assert len(stops_15k[stops_15k.remark == arrive])\n",
    "\n",
    "    ##################################################\n",
    "    ### lots of lots of code and functions and ... ###\n",
    "    ##################################################\n",
    "    \n",
    "    routes = pd.DataFrame()\n",
    "    print(routes)"
   ]
  },
  {
   "cell_type": "markdown",
   "id": "2c1278f1-7ede-4f08-8b1d-61a91975fd2f",
   "metadata": {},
   "source": [
    "----"
   ]
  },
  {
   "cell_type": "markdown",
   "id": "2a06b5f7-3bfa-4828-b20b-ccd41461f5c6",
   "metadata": {},
   "source": [
    "See the answer to the query here:"
   ]
  },
  {
   "cell_type": "code",
   "execution_count": 10,
   "id": "a4f9d70d-f158-43ed-8104-6b1e0ec8486f",
   "metadata": {},
   "outputs": [
    {
     "name": "stdout",
     "output_type": "stream",
     "text": [
      "Empty DataFrame\n",
      "Columns: []\n",
      "Index: []\n"
     ]
    }
   ],
   "source": [
    "get_routes(DEPART, ARRIVE, ARRIVAL_TIME, CONFIDENCE_OF_ON_TIME_ARRIVAL)"
   ]
  },
  {
   "cell_type": "code",
   "execution_count": null,
   "id": "5010617c-889e-4cfc-8762-b15252d30333",
   "metadata": {},
   "outputs": [],
   "source": []
  }
 ],
 "metadata": {
  "kernelspec": {
   "display_name": "Python 3",
   "language": "python",
   "name": "python3"
  },
  "language_info": {
   "codemirror_mode": {
    "name": "ipython",
    "version": 3
   },
   "file_extension": ".py",
   "mimetype": "text/x-python",
   "name": "python",
   "nbconvert_exporter": "python",
   "pygments_lexer": "ipython3",
   "version": "3.9.7"
  }
 },
 "nbformat": 4,
 "nbformat_minor": 5
}
