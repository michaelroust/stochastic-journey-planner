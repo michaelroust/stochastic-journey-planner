{
 "cells": [
  {
   "cell_type": "code",
   "execution_count": 6,
   "metadata": {},
   "outputs": [
    {
     "name": "stdout",
     "output_type": "stream",
     "text": [
      "Collecting plotly\n",
      "  Downloading plotly-5.8.0-py2.py3-none-any.whl (15.2 MB)\n",
      "\u001b[K     |████████████████████████████████| 15.2 MB 139 kB/s eta 0:00:01\n",
      "\u001b[?25hCollecting tenacity>=6.2.0\n",
      "  Using cached tenacity-8.0.1-py3-none-any.whl (24 kB)\n",
      "Installing collected packages: tenacity, plotly\n",
      "Successfully installed plotly-5.8.0 tenacity-8.0.1\n"
     ]
    }
   ],
   "source": [
    "!pip install plotly"
   ]
  },
  {
   "cell_type": "code",
   "execution_count": 1,
   "metadata": {},
   "outputs": [
    {
     "name": "stderr",
     "output_type": "stream",
     "text": [
      "/Users/mamourhita/opt/anaconda3/envs/ada/lib/python3.8/site-packages/fuzzywuzzy/fuzz.py:11: UserWarning: Using slow pure-python SequenceMatcher. Install python-Levenshtein to remove this warning\n",
      "  warnings.warn('Using slow pure-python SequenceMatcher. Install python-Levenshtein to remove this warning')\n"
     ]
    }
   ],
   "source": [
    "# import os\n",
    "# import warnings\n",
    "\n",
    "# import numpy as np\n",
    "\n",
    "import pickle\n",
    "import pandas as pd\n",
    "pd.set_option(\"display.max_rows\",40)\n",
    "# pd.set_option(\"display.max_columns\", 10)\n",
    "import matplotlib.pyplot as plt\n",
    "%matplotlib inline\n",
    "import networkx as nx\n",
    "\n",
    "from utils import *\n",
    "from algo import *\n",
    "\n",
    "import plotly.express as px\n",
    "import plotly.graph_objects as go\n",
    "\n",
    "from scipy.stats import norm\n",
    "\n",
    "mapbox_access_token = 'pk.eyJ1IjoibWljaGFlbHJvdXN0IiwiYSI6ImNsM2tpbXlxdTA2dnUzY3AzdnZndWF2MGIifQ.eAlbvCcax9TMLeOyel2PdA'\n",
    "\n",
    "%load_ext autoreload\n",
    "%autoreload 2"
   ]
  },
  {
   "cell_type": "code",
   "execution_count": 2,
   "metadata": {},
   "outputs": [
    {
     "name": "stdout",
     "output_type": "stream",
     "text": [
      "Collecting fuzzywuzzy\n",
      "  Downloading fuzzywuzzy-0.18.0-py2.py3-none-any.whl (18 kB)\n",
      "Installing collected packages: fuzzywuzzy\n",
      "Successfully installed fuzzywuzzy-0.18.0\n"
     ]
    }
   ],
   "source": [
    "!pip install fuzzywuzzy"
   ]
  },
  {
   "cell_type": "code",
   "execution_count": 4,
   "metadata": {},
   "outputs": [
    {
     "name": "stdout",
     "output_type": "stream",
     "text": [
      "Collecting geopy\n",
      "  Downloading geopy-2.2.0-py3-none-any.whl (118 kB)\n",
      "\u001b[K     |████████████████████████████████| 118 kB 4.6 MB/s eta 0:00:01\n",
      "\u001b[?25hCollecting geographiclib<2,>=1.49\n",
      "  Downloading geographiclib-1.52-py3-none-any.whl (38 kB)\n",
      "Installing collected packages: geographiclib, geopy\n",
      "Successfully installed geographiclib-1.52 geopy-2.2.0\n"
     ]
    }
   ],
   "source": [
    "!pip install geopy"
   ]
  },
  {
   "cell_type": "code",
   "execution_count": 2,
   "metadata": {},
   "outputs": [],
   "source": [
    "END_TIME = Time(h=10).in_seconds()\n",
    "END_ID = ZURICH_HB_ID\n",
    "START_ID = ZURICH_HEURIED_ID"
   ]
  },
  {
   "cell_type": "code",
   "execution_count": 3,
   "metadata": {},
   "outputs": [
    {
     "data": {
      "text/html": [
       "<div>\n",
       "<style scoped>\n",
       "    .dataframe tbody tr th:only-of-type {\n",
       "        vertical-align: middle;\n",
       "    }\n",
       "\n",
       "    .dataframe tbody tr th {\n",
       "        vertical-align: top;\n",
       "    }\n",
       "\n",
       "    .dataframe thead th {\n",
       "        text-align: right;\n",
       "    }\n",
       "</style>\n",
       "<table border=\"1\" class=\"dataframe\">\n",
       "  <thead>\n",
       "    <tr style=\"text-align: right;\">\n",
       "      <th></th>\n",
       "      <th>stop_name</th>\n",
       "      <th>latitude</th>\n",
       "      <th>longitude</th>\n",
       "      <th>color</th>\n",
       "    </tr>\n",
       "    <tr>\n",
       "      <th>stop_id</th>\n",
       "      <th></th>\n",
       "      <th></th>\n",
       "      <th></th>\n",
       "      <th></th>\n",
       "    </tr>\n",
       "  </thead>\n",
       "  <tbody>\n",
       "    <tr>\n",
       "      <th>176</th>\n",
       "      <td>Zimmerberg-Basistunnel</td>\n",
       "      <td>47.351678</td>\n",
       "      <td>8.521958</td>\n",
       "      <td>0</td>\n",
       "    </tr>\n",
       "    <tr>\n",
       "      <th>8502495</th>\n",
       "      <td>Zürich Wollishofen, Bahnhof</td>\n",
       "      <td>47.348124</td>\n",
       "      <td>8.533321</td>\n",
       "      <td>0</td>\n",
       "    </tr>\n",
       "    <tr>\n",
       "      <th>8502572</th>\n",
       "      <td>Zürich, Goldbrunnenplatz</td>\n",
       "      <td>47.370292</td>\n",
       "      <td>8.513918</td>\n",
       "      <td>0</td>\n",
       "    </tr>\n",
       "    <tr>\n",
       "      <th>8503000</th>\n",
       "      <td>Zürich HB</td>\n",
       "      <td>47.378176</td>\n",
       "      <td>8.540212</td>\n",
       "      <td>1</td>\n",
       "    </tr>\n",
       "    <tr>\n",
       "      <th>8503001</th>\n",
       "      <td>Zürich Altstetten</td>\n",
       "      <td>47.391484</td>\n",
       "      <td>8.488963</td>\n",
       "      <td>0</td>\n",
       "    </tr>\n",
       "    <tr>\n",
       "      <th>...</th>\n",
       "      <td>...</td>\n",
       "      <td>...</td>\n",
       "      <td>...</td>\n",
       "      <td>...</td>\n",
       "    </tr>\n",
       "    <tr>\n",
       "      <th>8594255</th>\n",
       "      <td>Zürich, Schanzackerstrasse</td>\n",
       "      <td>47.392025</td>\n",
       "      <td>8.547434</td>\n",
       "      <td>0</td>\n",
       "    </tr>\n",
       "    <tr>\n",
       "      <th>8595899</th>\n",
       "      <td>Zürich, Glaubtenstrasse Nord</td>\n",
       "      <td>47.414747</td>\n",
       "      <td>8.519649</td>\n",
       "      <td>0</td>\n",
       "    </tr>\n",
       "    <tr>\n",
       "      <th>8596126</th>\n",
       "      <td>Zürich, Bus Station</td>\n",
       "      <td>47.381066</td>\n",
       "      <td>8.537301</td>\n",
       "      <td>0</td>\n",
       "    </tr>\n",
       "    <tr>\n",
       "      <th>8503004</th>\n",
       "      <td>Zürich Tiefenbrunnen</td>\n",
       "      <td>47.350126</td>\n",
       "      <td>8.561394</td>\n",
       "      <td>0</td>\n",
       "    </tr>\n",
       "    <tr>\n",
       "      <th>8503088</th>\n",
       "      <td>Zürich HB SZU</td>\n",
       "      <td>47.377391</td>\n",
       "      <td>8.539358</td>\n",
       "      <td>0</td>\n",
       "    </tr>\n",
       "  </tbody>\n",
       "</table>\n",
       "<p>433 rows × 4 columns</p>\n",
       "</div>"
      ],
      "text/plain": [
       "                            stop_name   latitude  longitude color\n",
       "stop_id                                                          \n",
       "176            Zimmerberg-Basistunnel  47.351678   8.521958     0\n",
       "8502495   Zürich Wollishofen, Bahnhof  47.348124   8.533321     0\n",
       "8502572      Zürich, Goldbrunnenplatz  47.370292   8.513918     0\n",
       "8503000                     Zürich HB  47.378176   8.540212     1\n",
       "8503001             Zürich Altstetten  47.391484   8.488963     0\n",
       "...                               ...        ...        ...   ...\n",
       "8594255    Zürich, Schanzackerstrasse  47.392025   8.547434     0\n",
       "8595899  Zürich, Glaubtenstrasse Nord  47.414747   8.519649     0\n",
       "8596126           Zürich, Bus Station  47.381066   8.537301     0\n",
       "8503004          Zürich Tiefenbrunnen  47.350126   8.561394     0\n",
       "8503088                 Zürich HB SZU  47.377391   8.539358     0\n",
       "\n",
       "[433 rows x 4 columns]"
      ]
     },
     "execution_count": 3,
     "metadata": {},
     "output_type": "execute_result"
    }
   ],
   "source": [
    "#start color 2, end color 1\n",
    "\n",
    "df_stops['color'] = 0\n",
    "df_stops.loc[END_ID,'color'] = 1\n",
    "df_stops.loc[START_ID,'color'] = 2\n",
    "\n",
    "\n",
    "df_stops['color'] = df_stops['color'].astype(str)\n",
    "df_stops"
   ]
  },
  {
   "cell_type": "code",
   "execution_count": 4,
   "metadata": {},
   "outputs": [
    {
     "name": "stdout",
     "output_type": "stream",
     "text": [
      "0.4029939867440755\n"
     ]
    },
    {
     "data": {
      "text/html": [
       "<div>\n",
       "<style scoped>\n",
       "    .dataframe tbody tr th:only-of-type {\n",
       "        vertical-align: middle;\n",
       "    }\n",
       "\n",
       "    .dataframe tbody tr th {\n",
       "        vertical-align: top;\n",
       "    }\n",
       "\n",
       "    .dataframe thead th {\n",
       "        text-align: right;\n",
       "    }\n",
       "</style>\n",
       "<table border=\"1\" class=\"dataframe\">\n",
       "  <thead>\n",
       "    <tr style=\"text-align: right;\">\n",
       "      <th></th>\n",
       "      <th>trip_id</th>\n",
       "      <th>dep_stop_id</th>\n",
       "      <th>arr_stop_id</th>\n",
       "      <th>mean</th>\n",
       "      <th>std</th>\n",
       "      <th>dep_time_s</th>\n",
       "      <th>arr_time_s</th>\n",
       "      <th>weight</th>\n",
       "      <th>proba</th>\n",
       "    </tr>\n",
       "  </thead>\n",
       "  <tbody>\n",
       "    <tr>\n",
       "      <th>0</th>\n",
       "      <td>1340.TA.26-14-A-j19-1.24.R</td>\n",
       "      <td>8591190</td>\n",
       "      <td>8591390</td>\n",
       "      <td>0</td>\n",
       "      <td>66</td>\n",
       "      <td>34320.0</td>\n",
       "      <td>34380.0</td>\n",
       "      <td>60.0</td>\n",
       "      <td>0.5</td>\n",
       "    </tr>\n",
       "    <tr>\n",
       "      <th>0</th>\n",
       "      <td>1340.TA.26-14-A-j19-1.24.R</td>\n",
       "      <td>8591390</td>\n",
       "      <td>8502572</td>\n",
       "      <td>0</td>\n",
       "      <td>66</td>\n",
       "      <td>34380.0</td>\n",
       "      <td>34500.0</td>\n",
       "      <td>120.0</td>\n",
       "      <td>0.5</td>\n",
       "    </tr>\n",
       "    <tr>\n",
       "      <th>3</th>\n",
       "      <td>1340.TA.26-14-A-j19-1.24.R</td>\n",
       "      <td>8502572</td>\n",
       "      <td>8591341</td>\n",
       "      <td>0</td>\n",
       "      <td>66</td>\n",
       "      <td>34500.0</td>\n",
       "      <td>34560.0</td>\n",
       "      <td>299.0</td>\n",
       "      <td>0.999853</td>\n",
       "    </tr>\n",
       "    <tr>\n",
       "      <th>114956</th>\n",
       "      <td>2558.TA.26-9-B-j19-1.41.R</td>\n",
       "      <td>8591341</td>\n",
       "      <td>8573710</td>\n",
       "      <td>0</td>\n",
       "      <td>66</td>\n",
       "      <td>34980</td>\n",
       "      <td>35100</td>\n",
       "      <td>177.0</td>\n",
       "      <td>0.806106</td>\n",
       "    </tr>\n",
       "    <tr>\n",
       "      <th>3</th>\n",
       "      <td>walk</td>\n",
       "      <td>8573710</td>\n",
       "      <td>8503011</td>\n",
       "      <td>0</td>\n",
       "      <td>0</td>\n",
       "      <td>NaN</td>\n",
       "      <td>NaN</td>\n",
       "      <td>183.0</td>\n",
       "      <td>1</td>\n",
       "    </tr>\n",
       "    <tr>\n",
       "      <th>2</th>\n",
       "      <td>86.TA.26-8-A-j19-1.52.R</td>\n",
       "      <td>8503011</td>\n",
       "      <td>8503000</td>\n",
       "      <td>0</td>\n",
       "      <td>66</td>\n",
       "      <td>35340.0</td>\n",
       "      <td>35580.0</td>\n",
       "      <td>660</td>\n",
       "      <td>1.0</td>\n",
       "    </tr>\n",
       "  </tbody>\n",
       "</table>\n",
       "</div>"
      ],
      "text/plain": [
       "                           trip_id dep_stop_id arr_stop_id mean std  \\\n",
       "0       1340.TA.26-14-A-j19-1.24.R     8591190     8591390    0  66   \n",
       "0       1340.TA.26-14-A-j19-1.24.R     8591390     8502572    0  66   \n",
       "3       1340.TA.26-14-A-j19-1.24.R     8502572     8591341    0  66   \n",
       "114956   2558.TA.26-9-B-j19-1.41.R     8591341     8573710    0  66   \n",
       "3                             walk     8573710     8503011    0   0   \n",
       "2          86.TA.26-8-A-j19-1.52.R     8503011     8503000    0  66   \n",
       "\n",
       "       dep_time_s arr_time_s weight     proba  \n",
       "0         34320.0    34380.0   60.0       0.5  \n",
       "0         34380.0    34500.0  120.0       0.5  \n",
       "3         34500.0    34560.0  299.0  0.999853  \n",
       "114956      34980      35100  177.0  0.806106  \n",
       "3             NaN        NaN  183.0         1  \n",
       "2         35340.0    35580.0    660       1.0  "
      ]
     },
     "execution_count": 4,
     "metadata": {},
     "output_type": "execute_result"
    }
   ],
   "source": [
    "_, cum_proba, path_conn_datas = dijkstra_base(START_ID, END_ID, END_TIME)\n",
    "\n",
    "print(cum_proba)\n",
    "path_conn_datas"
   ]
  },
  {
   "cell_type": "code",
   "execution_count": 51,
   "metadata": {},
   "outputs": [
    {
     "data": {
      "text/html": [
       "<div>\n",
       "<style scoped>\n",
       "    .dataframe tbody tr th:only-of-type {\n",
       "        vertical-align: middle;\n",
       "    }\n",
       "\n",
       "    .dataframe tbody tr th {\n",
       "        vertical-align: top;\n",
       "    }\n",
       "\n",
       "    .dataframe thead th {\n",
       "        text-align: right;\n",
       "    }\n",
       "</style>\n",
       "<table border=\"1\" class=\"dataframe\">\n",
       "  <thead>\n",
       "    <tr style=\"text-align: right;\">\n",
       "      <th></th>\n",
       "      <th>trip_id</th>\n",
       "      <th>dep_stop_id</th>\n",
       "      <th>arr_stop_id</th>\n",
       "      <th>mean</th>\n",
       "      <th>std</th>\n",
       "      <th>dep_time_s</th>\n",
       "      <th>arr_time_s</th>\n",
       "      <th>weight</th>\n",
       "      <th>proba</th>\n",
       "      <th>dep_name</th>\n",
       "      <th>latitude_x</th>\n",
       "      <th>longitude_x</th>\n",
       "      <th>color_x</th>\n",
       "      <th>stop_name</th>\n",
       "      <th>latitude_y</th>\n",
       "      <th>longitude_y</th>\n",
       "      <th>color_y</th>\n",
       "    </tr>\n",
       "  </thead>\n",
       "  <tbody>\n",
       "    <tr>\n",
       "      <th>0</th>\n",
       "      <td>1340.TA.26-14-A-j19-1.24.R</td>\n",
       "      <td>8591190</td>\n",
       "      <td>8591390</td>\n",
       "      <td>0</td>\n",
       "      <td>66</td>\n",
       "      <td>34320.0</td>\n",
       "      <td>34380.0</td>\n",
       "      <td>60.0</td>\n",
       "      <td>0.5</td>\n",
       "      <td>Zürich, Heuried</td>\n",
       "      <td>47.369410</td>\n",
       "      <td>8.506354</td>\n",
       "      <td>2</td>\n",
       "      <td>Zürich, Talwiesenstrasse</td>\n",
       "      <td>47.369945</td>\n",
       "      <td>8.509651</td>\n",
       "      <td>0</td>\n",
       "    </tr>\n",
       "    <tr>\n",
       "      <th>1</th>\n",
       "      <td>1340.TA.26-14-A-j19-1.24.R</td>\n",
       "      <td>8591390</td>\n",
       "      <td>8502572</td>\n",
       "      <td>0</td>\n",
       "      <td>66</td>\n",
       "      <td>34380.0</td>\n",
       "      <td>34500.0</td>\n",
       "      <td>120.0</td>\n",
       "      <td>0.5</td>\n",
       "      <td>Zürich, Talwiesenstrasse</td>\n",
       "      <td>47.369945</td>\n",
       "      <td>8.509651</td>\n",
       "      <td>0</td>\n",
       "      <td>Zürich, Goldbrunnenplatz</td>\n",
       "      <td>47.370292</td>\n",
       "      <td>8.513918</td>\n",
       "      <td>0</td>\n",
       "    </tr>\n",
       "    <tr>\n",
       "      <th>2</th>\n",
       "      <td>1340.TA.26-14-A-j19-1.24.R</td>\n",
       "      <td>8502572</td>\n",
       "      <td>8591341</td>\n",
       "      <td>0</td>\n",
       "      <td>66</td>\n",
       "      <td>34500.0</td>\n",
       "      <td>34560.0</td>\n",
       "      <td>299.0</td>\n",
       "      <td>0.999853</td>\n",
       "      <td>Zürich, Goldbrunnenplatz</td>\n",
       "      <td>47.370292</td>\n",
       "      <td>8.513918</td>\n",
       "      <td>0</td>\n",
       "      <td>Zürich, Schmiede Wiedikon</td>\n",
       "      <td>47.370152</td>\n",
       "      <td>8.519263</td>\n",
       "      <td>0</td>\n",
       "    </tr>\n",
       "    <tr>\n",
       "      <th>3</th>\n",
       "      <td>2558.TA.26-9-B-j19-1.41.R</td>\n",
       "      <td>8591341</td>\n",
       "      <td>8573710</td>\n",
       "      <td>0</td>\n",
       "      <td>66</td>\n",
       "      <td>34980</td>\n",
       "      <td>35100</td>\n",
       "      <td>177.0</td>\n",
       "      <td>0.806106</td>\n",
       "      <td>Zürich, Schmiede Wiedikon</td>\n",
       "      <td>47.370152</td>\n",
       "      <td>8.519263</td>\n",
       "      <td>0</td>\n",
       "      <td>Zürich Wiedikon, Bahnhof</td>\n",
       "      <td>47.371430</td>\n",
       "      <td>8.524186</td>\n",
       "      <td>0</td>\n",
       "    </tr>\n",
       "    <tr>\n",
       "      <th>4</th>\n",
       "      <td>walk</td>\n",
       "      <td>8573710</td>\n",
       "      <td>8503011</td>\n",
       "      <td>0</td>\n",
       "      <td>0</td>\n",
       "      <td>NaN</td>\n",
       "      <td>NaN</td>\n",
       "      <td>183.0</td>\n",
       "      <td>1</td>\n",
       "      <td>Zürich Wiedikon, Bahnhof</td>\n",
       "      <td>47.371430</td>\n",
       "      <td>8.524186</td>\n",
       "      <td>0</td>\n",
       "      <td>Zürich Wiedikon</td>\n",
       "      <td>47.371478</td>\n",
       "      <td>8.523485</td>\n",
       "      <td>0</td>\n",
       "    </tr>\n",
       "    <tr>\n",
       "      <th>5</th>\n",
       "      <td>86.TA.26-8-A-j19-1.52.R</td>\n",
       "      <td>8503011</td>\n",
       "      <td>8503000</td>\n",
       "      <td>0</td>\n",
       "      <td>66</td>\n",
       "      <td>35340.0</td>\n",
       "      <td>35580.0</td>\n",
       "      <td>660</td>\n",
       "      <td>1.0</td>\n",
       "      <td>Zürich Wiedikon</td>\n",
       "      <td>47.371478</td>\n",
       "      <td>8.523485</td>\n",
       "      <td>0</td>\n",
       "      <td>Zürich HB</td>\n",
       "      <td>47.378176</td>\n",
       "      <td>8.540212</td>\n",
       "      <td>1</td>\n",
       "    </tr>\n",
       "  </tbody>\n",
       "</table>\n",
       "</div>"
      ],
      "text/plain": [
       "                      trip_id dep_stop_id arr_stop_id mean std dep_time_s  \\\n",
       "0  1340.TA.26-14-A-j19-1.24.R     8591190     8591390    0  66    34320.0   \n",
       "1  1340.TA.26-14-A-j19-1.24.R     8591390     8502572    0  66    34380.0   \n",
       "2  1340.TA.26-14-A-j19-1.24.R     8502572     8591341    0  66    34500.0   \n",
       "3   2558.TA.26-9-B-j19-1.41.R     8591341     8573710    0  66      34980   \n",
       "4                        walk     8573710     8503011    0   0        NaN   \n",
       "5     86.TA.26-8-A-j19-1.52.R     8503011     8503000    0  66    35340.0   \n",
       "\n",
       "  arr_time_s weight     proba                   dep_name  latitude_x  \\\n",
       "0    34380.0   60.0       0.5            Zürich, Heuried   47.369410   \n",
       "1    34500.0  120.0       0.5   Zürich, Talwiesenstrasse   47.369945   \n",
       "2    34560.0  299.0  0.999853   Zürich, Goldbrunnenplatz   47.370292   \n",
       "3      35100  177.0  0.806106  Zürich, Schmiede Wiedikon   47.370152   \n",
       "4        NaN  183.0         1   Zürich Wiedikon, Bahnhof   47.371430   \n",
       "5    35580.0    660       1.0            Zürich Wiedikon   47.371478   \n",
       "\n",
       "   longitude_x color_x                  stop_name  latitude_y  longitude_y  \\\n",
       "0     8.506354       2   Zürich, Talwiesenstrasse   47.369945     8.509651   \n",
       "1     8.509651       0   Zürich, Goldbrunnenplatz   47.370292     8.513918   \n",
       "2     8.513918       0  Zürich, Schmiede Wiedikon   47.370152     8.519263   \n",
       "3     8.519263       0   Zürich Wiedikon, Bahnhof   47.371430     8.524186   \n",
       "4     8.524186       0            Zürich Wiedikon   47.371478     8.523485   \n",
       "5     8.523485       0                  Zürich HB   47.378176     8.540212   \n",
       "\n",
       "  color_y  \n",
       "0       0  \n",
       "1       0  \n",
       "2       0  \n",
       "3       0  \n",
       "4       0  \n",
       "5       1  "
      ]
     },
     "execution_count": 51,
     "metadata": {},
     "output_type": "execute_result"
    }
   ],
   "source": [
    "final_df_dep = path_conn_datas.merge(df_stops, left_on ='dep_stop_id', right_on='stop_id')\n",
    "final_df_dep.rename(columns = {'stop_name':'dep_name'}, inplace=True)\n"
   ]
  },
  {
   "cell_type": "code",
   "execution_count": 69,
   "metadata": {},
   "outputs": [],
   "source": [
    "final_df_arr = final_df_dep.merge(df_stops,left_on='arr_stop_id', right_on='stop_id')\n",
    "final_df_arr.rename(columns = {'stop_name':'arr_name'}, inplace=True)\n",
    "\n",
    "d = final_df_arr.drop(columns=['mean','std','dep_stop_id', 'latitude_x','longitude_x', 'color_x' , 'latitude_y','longitude_y', 'color_y'])\n"
   ]
  },
  {
   "cell_type": "code",
   "execution_count": null,
   "metadata": {},
   "outputs": [],
   "source": [
    "import numpy as np\n",
    "d['trip_time'] = np.where(d['trip_id'] == 'walk', d['weight'], np.abs(d['dep_time_s']-d['arr_time_s']))"
   ]
  },
  {
   "cell_type": "code",
   "execution_count": null,
   "metadata": {},
   "outputs": [],
   "source": [
    "d['dep_time_s']= d['dep_time_s'].apply(lambda x : Time.from_seconds(x))\n",
    "d['arr_time_s']= d['arr_time_s'].apply(lambda x : Time.from_seconds(x))"
   ]
  },
  {
   "cell_type": "code",
   "execution_count": 78,
   "metadata": {},
   "outputs": [
    {
     "data": {
      "text/html": [
       "<div>\n",
       "<style scoped>\n",
       "    .dataframe tbody tr th:only-of-type {\n",
       "        vertical-align: middle;\n",
       "    }\n",
       "\n",
       "    .dataframe tbody tr th {\n",
       "        vertical-align: top;\n",
       "    }\n",
       "\n",
       "    .dataframe thead th {\n",
       "        text-align: right;\n",
       "    }\n",
       "</style>\n",
       "<table border=\"1\" class=\"dataframe\">\n",
       "  <thead>\n",
       "    <tr style=\"text-align: right;\">\n",
       "      <th></th>\n",
       "      <th>trip_id</th>\n",
       "      <th>arr_stop_id</th>\n",
       "      <th>dep_time_s</th>\n",
       "      <th>arr_time_s</th>\n",
       "      <th>weight</th>\n",
       "      <th>proba</th>\n",
       "      <th>dep_name</th>\n",
       "      <th>arr_name</th>\n",
       "      <th>trip_time</th>\n",
       "    </tr>\n",
       "  </thead>\n",
       "  <tbody>\n",
       "    <tr>\n",
       "      <th>0</th>\n",
       "      <td>1340.TA.26-14-A-j19-1.24.R</td>\n",
       "      <td>8591390</td>\n",
       "      <td>Time(9.0:32.0:0.0)</td>\n",
       "      <td>Time(9.0:33.0:0.0)</td>\n",
       "      <td>60.0</td>\n",
       "      <td>0.5</td>\n",
       "      <td>Zürich, Heuried</td>\n",
       "      <td>Zürich, Talwiesenstrasse</td>\n",
       "      <td>60.0</td>\n",
       "    </tr>\n",
       "    <tr>\n",
       "      <th>1</th>\n",
       "      <td>1340.TA.26-14-A-j19-1.24.R</td>\n",
       "      <td>8502572</td>\n",
       "      <td>Time(9.0:33.0:0.0)</td>\n",
       "      <td>Time(9.0:35.0:0.0)</td>\n",
       "      <td>120.0</td>\n",
       "      <td>0.5</td>\n",
       "      <td>Zürich, Talwiesenstrasse</td>\n",
       "      <td>Zürich, Goldbrunnenplatz</td>\n",
       "      <td>120.0</td>\n",
       "    </tr>\n",
       "    <tr>\n",
       "      <th>2</th>\n",
       "      <td>1340.TA.26-14-A-j19-1.24.R</td>\n",
       "      <td>8591341</td>\n",
       "      <td>Time(9.0:35.0:0.0)</td>\n",
       "      <td>Time(9.0:36.0:0.0)</td>\n",
       "      <td>299.0</td>\n",
       "      <td>0.999853</td>\n",
       "      <td>Zürich, Goldbrunnenplatz</td>\n",
       "      <td>Zürich, Schmiede Wiedikon</td>\n",
       "      <td>60.0</td>\n",
       "    </tr>\n",
       "    <tr>\n",
       "      <th>3</th>\n",
       "      <td>2558.TA.26-9-B-j19-1.41.R</td>\n",
       "      <td>8573710</td>\n",
       "      <td>Time(9:43:0)</td>\n",
       "      <td>Time(9:45:0)</td>\n",
       "      <td>177.0</td>\n",
       "      <td>0.806106</td>\n",
       "      <td>Zürich, Schmiede Wiedikon</td>\n",
       "      <td>Zürich Wiedikon, Bahnhof</td>\n",
       "      <td>120</td>\n",
       "    </tr>\n",
       "    <tr>\n",
       "      <th>4</th>\n",
       "      <td>walk</td>\n",
       "      <td>8503011</td>\n",
       "      <td>-</td>\n",
       "      <td>-</td>\n",
       "      <td>183.0</td>\n",
       "      <td>1</td>\n",
       "      <td>Zürich Wiedikon, Bahnhof</td>\n",
       "      <td>Zürich Wiedikon</td>\n",
       "      <td>183.0</td>\n",
       "    </tr>\n",
       "    <tr>\n",
       "      <th>5</th>\n",
       "      <td>86.TA.26-8-A-j19-1.52.R</td>\n",
       "      <td>8503000</td>\n",
       "      <td>Time(9.0:49.0:0.0)</td>\n",
       "      <td>Time(9.0:53.0:0.0)</td>\n",
       "      <td>660</td>\n",
       "      <td>1.0</td>\n",
       "      <td>Zürich Wiedikon</td>\n",
       "      <td>Zürich HB</td>\n",
       "      <td>240.0</td>\n",
       "    </tr>\n",
       "  </tbody>\n",
       "</table>\n",
       "</div>"
      ],
      "text/plain": [
       "                      trip_id arr_stop_id          dep_time_s  \\\n",
       "0  1340.TA.26-14-A-j19-1.24.R     8591390  Time(9.0:32.0:0.0)   \n",
       "1  1340.TA.26-14-A-j19-1.24.R     8502572  Time(9.0:33.0:0.0)   \n",
       "2  1340.TA.26-14-A-j19-1.24.R     8591341  Time(9.0:35.0:0.0)   \n",
       "3   2558.TA.26-9-B-j19-1.41.R     8573710        Time(9:43:0)   \n",
       "4                        walk     8503011                   -   \n",
       "5     86.TA.26-8-A-j19-1.52.R     8503000  Time(9.0:49.0:0.0)   \n",
       "\n",
       "           arr_time_s weight     proba                   dep_name  \\\n",
       "0  Time(9.0:33.0:0.0)   60.0       0.5            Zürich, Heuried   \n",
       "1  Time(9.0:35.0:0.0)  120.0       0.5   Zürich, Talwiesenstrasse   \n",
       "2  Time(9.0:36.0:0.0)  299.0  0.999853   Zürich, Goldbrunnenplatz   \n",
       "3        Time(9:45:0)  177.0  0.806106  Zürich, Schmiede Wiedikon   \n",
       "4                   -  183.0         1   Zürich Wiedikon, Bahnhof   \n",
       "5  Time(9.0:53.0:0.0)    660       1.0            Zürich Wiedikon   \n",
       "\n",
       "                    arr_name trip_time  \n",
       "0   Zürich, Talwiesenstrasse      60.0  \n",
       "1   Zürich, Goldbrunnenplatz     120.0  \n",
       "2  Zürich, Schmiede Wiedikon      60.0  \n",
       "3   Zürich Wiedikon, Bahnhof       120  \n",
       "4            Zürich Wiedikon     183.0  \n",
       "5                  Zürich HB     240.0  "
      ]
     },
     "execution_count": 78,
     "metadata": {},
     "output_type": "execute_result"
    }
   ],
   "source": [
    "d['dep_time_s'] = np.where(d['trip_id'] == 'walk', '-', d['dep_time_s'])\n",
    "d['arr_time_s'] = np.where(d['trip_id'] == 'walk', '-', d['arr_time_s'])\n",
    "d['proba'] = d['proba'].astype(float)\n",
    "d"
   ]
  },
  {
   "cell_type": "code",
   "execution_count": 83,
   "metadata": {},
   "outputs": [
    {
     "data": {
      "text/html": [
       "<div>\n",
       "<style scoped>\n",
       "    .dataframe tbody tr th:only-of-type {\n",
       "        vertical-align: middle;\n",
       "    }\n",
       "\n",
       "    .dataframe tbody tr th {\n",
       "        vertical-align: top;\n",
       "    }\n",
       "\n",
       "    .dataframe thead th {\n",
       "        text-align: right;\n",
       "    }\n",
       "</style>\n",
       "<table border=\"1\" class=\"dataframe\">\n",
       "  <thead>\n",
       "    <tr style=\"text-align: right;\">\n",
       "      <th></th>\n",
       "      <th>trip_id</th>\n",
       "      <th>arr_stop_id</th>\n",
       "      <th>dep_time_s</th>\n",
       "      <th>arr_time_s</th>\n",
       "      <th>weight</th>\n",
       "      <th>proba</th>\n",
       "      <th>dep_name</th>\n",
       "      <th>arr_name</th>\n",
       "      <th>trip_time</th>\n",
       "    </tr>\n",
       "  </thead>\n",
       "  <tbody>\n",
       "    <tr>\n",
       "      <th>0</th>\n",
       "      <td>1340.TA.26-14-A-j19-1.24.R</td>\n",
       "      <td>8591390</td>\n",
       "      <td>Time(9.0:32.0:0.0)</td>\n",
       "      <td>Time(9.0:33.0:0.0)</td>\n",
       "      <td>60.0</td>\n",
       "      <td>0.500000</td>\n",
       "      <td>Zürich, Heuried</td>\n",
       "      <td>Zürich, Talwiesenstrasse</td>\n",
       "      <td>60.0</td>\n",
       "    </tr>\n",
       "    <tr>\n",
       "      <th>1</th>\n",
       "      <td>1340.TA.26-14-A-j19-1.24.R</td>\n",
       "      <td>8502572</td>\n",
       "      <td>Time(9.0:33.0:0.0)</td>\n",
       "      <td>Time(9.0:35.0:0.0)</td>\n",
       "      <td>120.0</td>\n",
       "      <td>0.500000</td>\n",
       "      <td>Zürich, Talwiesenstrasse</td>\n",
       "      <td>Zürich, Goldbrunnenplatz</td>\n",
       "      <td>120.0</td>\n",
       "    </tr>\n",
       "    <tr>\n",
       "      <th>2</th>\n",
       "      <td>1340.TA.26-14-A-j19-1.24.R</td>\n",
       "      <td>8591341</td>\n",
       "      <td>Time(9.0:35.0:0.0)</td>\n",
       "      <td>Time(9.0:36.0:0.0)</td>\n",
       "      <td>299.0</td>\n",
       "      <td>0.999853</td>\n",
       "      <td>Zürich, Goldbrunnenplatz</td>\n",
       "      <td>Zürich, Schmiede Wiedikon</td>\n",
       "      <td>60.0</td>\n",
       "    </tr>\n",
       "    <tr>\n",
       "      <th>3</th>\n",
       "      <td>2558.TA.26-9-B-j19-1.41.R</td>\n",
       "      <td>8573710</td>\n",
       "      <td>Time(9:43:0)</td>\n",
       "      <td>Time(9:45:0)</td>\n",
       "      <td>177.0</td>\n",
       "      <td>0.806106</td>\n",
       "      <td>Zürich, Schmiede Wiedikon</td>\n",
       "      <td>Zürich Wiedikon, Bahnhof</td>\n",
       "      <td>120</td>\n",
       "    </tr>\n",
       "    <tr>\n",
       "      <th>4</th>\n",
       "      <td>walk</td>\n",
       "      <td>8503011</td>\n",
       "      <td>-</td>\n",
       "      <td>-</td>\n",
       "      <td>183.0</td>\n",
       "      <td>1.000000</td>\n",
       "      <td>Zürich Wiedikon, Bahnhof</td>\n",
       "      <td>Zürich Wiedikon</td>\n",
       "      <td>183.0</td>\n",
       "    </tr>\n",
       "    <tr>\n",
       "      <th>5</th>\n",
       "      <td>86.TA.26-8-A-j19-1.52.R</td>\n",
       "      <td>8503000</td>\n",
       "      <td>Time(9.0:49.0:0.0)</td>\n",
       "      <td>Time(9.0:53.0:0.0)</td>\n",
       "      <td>660</td>\n",
       "      <td>1.000000</td>\n",
       "      <td>Zürich Wiedikon</td>\n",
       "      <td>Zürich HB</td>\n",
       "      <td>240.0</td>\n",
       "    </tr>\n",
       "  </tbody>\n",
       "</table>\n",
       "</div>"
      ],
      "text/plain": [
       "                      trip_id arr_stop_id          dep_time_s  \\\n",
       "0  1340.TA.26-14-A-j19-1.24.R     8591390  Time(9.0:32.0:0.0)   \n",
       "1  1340.TA.26-14-A-j19-1.24.R     8502572  Time(9.0:33.0:0.0)   \n",
       "2  1340.TA.26-14-A-j19-1.24.R     8591341  Time(9.0:35.0:0.0)   \n",
       "3   2558.TA.26-9-B-j19-1.41.R     8573710        Time(9:43:0)   \n",
       "4                        walk     8503011                   -   \n",
       "5     86.TA.26-8-A-j19-1.52.R     8503000  Time(9.0:49.0:0.0)   \n",
       "\n",
       "           arr_time_s weight     proba                   dep_name  \\\n",
       "0  Time(9.0:33.0:0.0)   60.0  0.500000            Zürich, Heuried   \n",
       "1  Time(9.0:35.0:0.0)  120.0  0.500000   Zürich, Talwiesenstrasse   \n",
       "2  Time(9.0:36.0:0.0)  299.0  0.999853   Zürich, Goldbrunnenplatz   \n",
       "3        Time(9:45:0)  177.0  0.806106  Zürich, Schmiede Wiedikon   \n",
       "4                   -  183.0  1.000000   Zürich Wiedikon, Bahnhof   \n",
       "5  Time(9.0:53.0:0.0)    660  1.000000            Zürich Wiedikon   \n",
       "\n",
       "                    arr_name trip_time  \n",
       "0   Zürich, Talwiesenstrasse      60.0  \n",
       "1   Zürich, Goldbrunnenplatz     120.0  \n",
       "2  Zürich, Schmiede Wiedikon      60.0  \n",
       "3   Zürich Wiedikon, Bahnhof       120  \n",
       "4            Zürich Wiedikon     183.0  \n",
       "5                  Zürich HB     240.0  "
      ]
     },
     "execution_count": 83,
     "metadata": {},
     "output_type": "execute_result"
    }
   ],
   "source": []
  },
  {
   "cell_type": "code",
   "execution_count": 10,
   "metadata": {},
   "outputs": [
    {
     "data": {
      "text/plain": [
       "47.3516780901371"
      ]
     },
     "execution_count": 10,
     "metadata": {},
     "output_type": "execute_result"
    }
   ],
   "source": [
    "#pour un depart et une arrivée, je veux qu'on me trace un chemin entre les deux\n",
    "df_stops.loc[176].latitude"
   ]
  },
  {
   "cell_type": "code",
   "execution_count": 30,
   "metadata": {},
   "outputs": [],
   "source": [
    "def get_lat_long(id):\n",
    "    return (df_stops.loc[id].latitude, df_stops.loc[id].longitude)"
   ]
  },
  {
   "cell_type": "code",
   "execution_count": 41,
   "metadata": {},
   "outputs": [
    {
     "ename": "AttributeError",
     "evalue": "'DataFrame' object has no attribute 'rows'",
     "output_type": "error",
     "traceback": [
      "\u001b[0;31m---------------------------------------------------------------------------\u001b[0m",
      "\u001b[0;31mAttributeError\u001b[0m                            Traceback (most recent call last)",
      "\u001b[0;32m/var/folders/0d/57_5brln5pl0nsycnd602h140000gn/T/ipykernel_20095/909379152.py\u001b[0m in \u001b[0;36m<module>\u001b[0;34m\u001b[0m\n\u001b[0;32m----> 1\u001b[0;31m \u001b[0mpath_conn_datas\u001b[0m\u001b[0;34m.\u001b[0m\u001b[0mrows\u001b[0m\u001b[0;34m(\u001b[0m\u001b[0;34m)\u001b[0m\u001b[0;34m\u001b[0m\u001b[0;34m\u001b[0m\u001b[0m\n\u001b[0m",
      "\u001b[0;32m~/opt/anaconda3/envs/ada/lib/python3.8/site-packages/pandas/core/generic.py\u001b[0m in \u001b[0;36m__getattr__\u001b[0;34m(self, name)\u001b[0m\n\u001b[1;32m   5485\u001b[0m         ):\n\u001b[1;32m   5486\u001b[0m             \u001b[0;32mreturn\u001b[0m \u001b[0mself\u001b[0m\u001b[0;34m[\u001b[0m\u001b[0mname\u001b[0m\u001b[0;34m]\u001b[0m\u001b[0;34m\u001b[0m\u001b[0;34m\u001b[0m\u001b[0m\n\u001b[0;32m-> 5487\u001b[0;31m         \u001b[0;32mreturn\u001b[0m \u001b[0mobject\u001b[0m\u001b[0;34m.\u001b[0m\u001b[0m__getattribute__\u001b[0m\u001b[0;34m(\u001b[0m\u001b[0mself\u001b[0m\u001b[0;34m,\u001b[0m \u001b[0mname\u001b[0m\u001b[0;34m)\u001b[0m\u001b[0;34m\u001b[0m\u001b[0;34m\u001b[0m\u001b[0m\n\u001b[0m\u001b[1;32m   5488\u001b[0m \u001b[0;34m\u001b[0m\u001b[0m\n\u001b[1;32m   5489\u001b[0m     \u001b[0;32mdef\u001b[0m \u001b[0m__setattr__\u001b[0m\u001b[0;34m(\u001b[0m\u001b[0mself\u001b[0m\u001b[0;34m,\u001b[0m \u001b[0mname\u001b[0m\u001b[0;34m:\u001b[0m \u001b[0mstr\u001b[0m\u001b[0;34m,\u001b[0m \u001b[0mvalue\u001b[0m\u001b[0;34m)\u001b[0m \u001b[0;34m->\u001b[0m \u001b[0;32mNone\u001b[0m\u001b[0;34m:\u001b[0m\u001b[0;34m\u001b[0m\u001b[0;34m\u001b[0m\u001b[0m\n",
      "\u001b[0;31mAttributeError\u001b[0m: 'DataFrame' object has no attribute 'rows'"
     ]
    }
   ],
   "source": [
    "path_conn_datas.rows"
   ]
  },
  {
   "cell_type": "code",
   "execution_count": 43,
   "metadata": {},
   "outputs": [
    {
     "data": {
      "application/vnd.plotly.v1+json": {
       "config": {
        "plotlyServerURL": "https://plot.ly"
       },
       "data": [
        {
         "hovertemplate": "<b>%{hovertext}</b><br><br>color=0<br>latitude=%{lat}<br>longitude=%{lon}<extra></extra>",
         "hovertext": [
          "Zimmerberg-Basistunnel",
          "Zürich Wollishofen, Bahnhof",
          "Zürich, Goldbrunnenplatz",
          "Zürich Altstetten",
          "Zürich Stadelhofen",
          "Zürich Tiefenbrunnen",
          "Zürich Oerlikon",
          "Zürich Seebach",
          "Zürich Wollishofen",
          "Zürich Enge",
          "Zürich Wiedikon",
          "Zürich Wipkingen",
          "Zürich Hardbrücke",
          "Zürich Binz",
          "Zürich Friesenberg",
          "Zürich Schweighof",
          "Zürich Triemli",
          "Uetliberg",
          "Zürich Stadelhofen, Bahnhof",
          "Zürich, Römerhof",
          "Zürich, Dolder",
          "Zürich Brunau",
          "Zürich Saalsporthalle",
          "Zürich HB SZU",
          "Zürich Selnau",
          "Zürich Giesshübel",
          "Zürich Manegg",
          "Stettbach",
          "Zürich Landesmuseum (See)",
          "Zürich Storchen",
          "Zürich Central (Polybahn)",
          "Zürich Polyterrasse",
          "Zürich, Triemli",
          "Zürich Bürkliplatz (See)",
          "Zürichhorn (See)",
          "Zollikon (See)",
          "Zürich Wollishofen (See)",
          "Zürich Tiefenbrunnen (See)",
          "Zürich Bellevue (See)",
          "Zürich, Hertersteg",
          "Zürich, Kantonsschule Enge",
          "Zürich, Leutschenpark",
          "Zürich, Klinik Hirslanden",
          "Zürich, Rigiblick",
          "Zürich, Balgrist",
          "Zürich, Hegibachplatz",
          "Zürich, Kreuzplatz",
          "Zürich Limmatquai",
          "Zürich Wiedikon, Bahnhof",
          "Zürich, Sädlenweg",
          "Zürich Tiefenbrunnen, Bahnhof",
          "Zollikon, Seestrasse",
          "Zollikon, Gemeindehaus",
          "Zürich, Bellevue",
          "Zürich, Elektrowatt",
          "Zürich, Opernhaus",
          "Zürich, Kreuzstrasse",
          "Zürich, Feldeggstrasse",
          "Zürich, Höschgasse",
          "Zürich, Fröhlichstrasse",
          "Zürich, Wildbachstrasse",
          "Zollikon, Bahnübergang",
          "Zollikon, Felbenstrasse",
          "Zollikon, Dufourplatz",
          "Zürich, Meierhofplatz",
          "Zürich Oerlikon, Bahnhof",
          "Zürich, Escher-Wyss-Platz",
          "Zürich, Schaufelbergerstrasse",
          "Zürich, Rote Fabrik",
          "Zürich, Bahnhofplatz/HB",
          "Zürich, Bahnhofquai/HB",
          "Zürich, Altried",
          "Zürich, Central",
          "Zürich, Farbhof",
          "Dübendorf, Hoffnung",
          "Dübendorf, Kämmaten",
          "Gockhausen, Ursprungstrasse",
          "Zürich, Aargauerstrasse",
          "Zürich, Albisgütli",
          "Zürich, Albisrank",
          "Zürich, Albisrieden",
          "Zürich, Albisriederdörfli",
          "Zürich, Albisriederplatz",
          "Zürich, Alte Trotte",
          "Zürich, Altenhofstrasse",
          "Zürich, Althoos",
          "Zürich, Am Börtli",
          "Zürich, Appenzellerstrasse",
          "Zürich, Aubrücke",
          "Zürich, Auzelg",
          "Zürich, Auzelg Ost",
          "Zürich, Bachmattstrasse",
          "Zürich, Bäckeranlage",
          "Zürich, Bad Allenmoos",
          "Zürich Altstetten, Bahnhof",
          "Zürich Altstetten, Bahnhof N",
          "Zürich Enge, Bahnhof",
          "Zürich Enge, Bahnhof/Bederstr.",
          "Zürich Hardbrücke, Bahnhof",
          "Zürich Oerlikon, Bahnhof Nord",
          "Zürich Oerlikon, Bahnhof Ost",
          "Zürich Selnau, Bahnhof",
          "Stettbach, Bahnhof",
          "Bahnhof",
          "Zürich Wipkingen, Bahnhof",
          "Zürich, Bahnhofstrasse/HB",
          "Zürich, Bändliweg",
          "Zürich, Baslerstrasse",
          "Zürich, Beckenhof",
          "Zürich, Berghaldenstrasse",
          "Zürich, Berninaplatz",
          "Zürich, Bernoulli-Häuser",
          "Zürich, Bertastrasse",
          "Zürich, Berufswahlschule",
          "Zürich, Besenrainstrasse",
          "Zürich, Bethanien",
          "Zürich, Bezirksgebäude",
          "Zürich Wollishofen, Bhf/Werft",
          "Zürich Wollishofen,Bhf/Staubst",
          "Zürich, Billoweg",
          "Zürich, Grubenstrasse",
          "Zürich, Binz Center",
          "Zürich, Birchdörfli",
          "Zürich, Bircher-Benner",
          "Zürich, Birchstrasse",
          "Zürich, Bleulerstrasse",
          "Zürich, Bollingerweg",
          "Zürich, Kantonalbank",
          "Zürich, Botanischer Garten",
          "Zürich, Bristenstrasse",
          "Zürich, Brunau/Mutschellenstr.",
          "Zürich, Brunaustrasse",
          "Zürich, Bucheggplatz",
          "Zürich, Buchholz",
          "Zürich, Buhnstrasse",
          "Zürich, Burgwies",
          "Zürich, Bürkliplatz",
          "Zürich, Butzenstrasse",
          "Zürich, Zentrum Witikon",
          "Zürich, Chaletweg",
          "Zürich, Chinagarten",
          "Zürich, Löwenbräu",
          "Zürich, Dangelstrasse",
          "Zürich, Dorflinde",
          "Zürich, Dreispitz",
          "Zürich, Dreiwiesen",
          "Zürich, Drusbergstrasse",
          "Zürich, Einfangstrasse",
          "Zürich, Englischviertelstrasse",
          "Zürich, EPI-Klinik",
          "Zürich, Eschergutweg",
          "Zürich, ETH Hönggerberg",
          "Zürich, ETH/Universitätsspital",
          "Zürich, Fellenbergstrasse",
          "Zürich, Felsenrainstrasse",
          "Zürich, Fernsehstudio",
          "Zürich, Fischerweg",
          "Zürich, Flobotstrasse",
          "Zürich, Flühgasse",
          "Zürich, Flurstrasse",
          "Zürich, Förrlibuckstrasse",
          "Zürich, Freiestrasse",
          "Zürich, Freihofstrasse",
          "Zürich, Friedackerstrasse",
          "Zürich, Friedhof Eichbühl",
          "Zürich, Friedhof Enzenbühl",
          "Zürich, Friedhof Hönggerberg",
          "Zürich, Friedhof Schwandenholz",
          "Zürich, Friedhof Sihlfeld",
          "Zürich, Friedhof Uetliberg",
          "Zürich, Friedrichstrasse",
          "Zürich, Friesenberg",
          "Zürich, Friesenberghalde",
          "Zürich, Friesenbergstrasse",
          "Zürich, Frohburg",
          "Zürich, Germaniastrasse",
          "Zürich, Glattwiesen",
          "Zürich, Glaubtenstrasse",
          "Zürich, Glaubtenstrasse Süd",
          "Zürich, Glockenacker",
          "Zürich, Goldackerweg",
          "Zürich, Goldauerstrasse",
          "Zürich, Grimselstrasse",
          "Zürich, Grünaustrasse",
          "Zürich, Guggachstrasse",
          "Zürich, Güterbahnhof",
          "Zürich, Gutstrasse",
          "Zürich, Hadlaubstrasse",
          "Zürich, Hagenholz",
          "Zürich, Haldenbach",
          "Zürich, Haldenegg",
          "Zürich, Hallenbad Oerlikon",
          "Zürich, Hardhof",
          "Zürich, Hardplatz",
          "Zürich, Hardturm",
          "Zürich, Hedwigsteig",
          "Zürich, Heerenwiesen",
          "Zürich, Hegianwandweg",
          "Zürich, Helmhaus",
          "Zürich, Helvetiaplatz",
          "Zürich, Herdernstrasse",
          "Zürich, Hertensteinstrasse",
          "Zürich, Herzogenmühlestrasse",
          "Zürich, Heubeeriweg",
          "Zürich, Himmeri",
          "Zürich, Hinterbergstrasse",
          "Zürich, Hirschwiesenstrasse",
          "Zürich, Hirzenbach",
          "Zürich, Höfliweg",
          "Zürich, Hofstrasse",
          "Zürich, Hohenklingensteig",
          "Zürich, Hölderlinsteig",
          "Zürich, Hölderlinstrasse",
          "Zürich, Hönggerberg",
          "Zürich, Hottingerplatz",
          "Zürich, Hubertus",
          "Zürich, Hügelstrasse",
          "Zürich, Hürstholz",
          "Zürich, Im Gut",
          "Zürich, Im Hagacker",
          "Zürich, Im Klösterli",
          "Zürich, Im Walder",
          "Zürich, Im Wingert",
          "Zürich, In der Ey",
          "Zürich, Jugendherberge",
          "Zürich, Kalchbühlweg",
          "Zürich,Kalkbreite/Bhf.Wiedikon",
          "Zürich, Kanonengasse",
          "Zürich, Kantonsschule",
          "Zürich, Kapfstrasse",
          "Zürich, Kappeli",
          "Zürich, Kappenbühlweg",
          "Zürich, Genossenschaftsstrasse",
          "Zürich, Kempfhofsteig",
          "Zürich, Kernstrasse",
          "Zürich, Kinkelstrasse",
          "Zürich, Kirche Fluntern",
          "Zürich, Klosbach",
          "Zürich, Klusplatz",
          "Zürich, Krematorium Nordheim",
          "Zürich, Altes Krematorium",
          "Zürich, Kronenstrasse",
          "Zürich, Krönleinstrasse",
          "Zürich, Kunsthaus",
          "Zürich, Lägernstrasse",
          "Zürich, Landiwiese",
          "Zürich, Langensteinenstrasse",
          "Zürich, Langgrütstrasse",
          "Zürich, Langmauerstrasse",
          "Zürich, Laubegg",
          "Zürich, Laubiweg",
          "Zürich, Lehenstrasse",
          "Zürich, Lerchenhalde",
          "Zürich, Lerchenrain",
          "Zürich, Lettenstrasse",
          "Zürich, Letzigrund",
          "Zürich, Letzipark",
          "Zürich, Letzipark West",
          "Zürich, Letzistrasse",
          "Zürich, Leutschenbach",
          "Zürich, Limmatplatz",
          "Zürich, Lindenplatz",
          "Zürich, Lochergut",
          "Zürich, Loorenstrasse",
          "Zürich, Löwenplatz",
          "Zürich, Luchswiesen",
          "Zürich, Luegisland",
          "Zürich, Letzibach",
          "Zürich, Maienweg",
          "Zürich, Maillartstrasse",
          "Zürich, Manegg",
          "Zürich, Manesseplatz",
          "Zürich, Mattenhof",
          "Zürich, Max-Bill-Platz",
          "Zürich, Messe/Hallenstadion",
          "Zürich, Michelstrasse",
          "Zürich, Milchbuck",
          "Zürich, Militär-/Langstrasse",
          "Zürich, Morgental",
          "Zürich, Mötteliweg",
          "Zürich, Museum für Gestaltung",
          "Zürich, Museum Rietberg",
          "Zürich, Neuaffoltern",
          "Zürich, Neumarkt",
          "Zürich, Neunbrunnen",
          "Zürich, Nordheimstrasse",
          "Zürich, Nordstrasse",
          "Zürich, Nürenbergstrasse",
          "Zürich, Oberwiesenstrasse",
          "Zürich, Oerlikerhus",
          "Zürich, Okenstrasse",
          "Zürich, Orionstrasse",
          "Zürich, Ottikerstrasse",
          "Zürich, Paradeplatz",
          "Zürich, Stodolastrasse",
          "Zürich, Pflegezentr. Käferberg",
          "Zürich, Platte",
          "Zürich, Post Wollishofen",
          "Zürich, Probstei",
          "Zürich, Quellenstrasse",
          "Zürich, Radiostudio",
          "Zürich, Räffelstrasse",
          "Zürich, Rathaus",
          "Zürich, Rautistrasse",
          "Zürich, Rebbergsteig",
          "Zürich, Regensbergbrücke",
          "Zürich, Rehalp",
          "Zürich, Rennweg",
          "Zürich, Rentenanstalt",
          "Zürich, Riedbach",
          "Zürich, Riedgraben",
          "Zürich, Röntgenstrasse",
          "Zürich, Rosengartenstrasse",
          "Zürich, Röslistrasse",
          "Zürich, Roswiesen",
          "Zürich, Rotbuchstrasse",
          "Zürich, Rudolf-Brun-Brücke",
          "Zürich, Saalsporthalle",
          "Zürich, Saatlenstrasse",
          "Zürich, Sackzelg",
          "Zürich, Salersteig",
          "Zürich, SBB-Werkstätte",
          "Zürich, Schaffhauserplatz",
          "Zürich, Schäppiweg",
          "Zürich, Schauenberg",
          "Zürich, Scheuchzerstrasse",
          "Zürich, Schlyfi",
          "Zürich, Schmiede Wiedikon",
          "Zürich, Schörlistrasse",
          "Zürich, Schulhaus Altweg",
          "Zürich, Schulhaus Buchlern",
          "Zürich, Schumacherweg",
          "Zürich, Schürgistrasse",
          "Zürich, Schützenhaus Höngg",
          "Zürich, Schwamendingerplatz",
          "Zürich, Schweighof",
          "Zürich, Schweizer Rück",
          "Zürich, Schwert",
          "Zürich, Seebach",
          "Zürich, Seebacherplatz",
          "Zürich, Seerose",
          "Zürich, Segantinistrasse",
          "Zürich, Segeten",
          "Zürich, Seidelhof",
          "Zürich, Seilbahn Rigiblick",
          "Zürich, Siemens",
          "Zürich, Signaustrasse",
          "Zürich, Sihlcity",
          "Zürich, Sihlcity Nord",
          "Zürich, Sihlpost/HB",
          "Zürich, Sihlquai/HB",
          "Zürich, Sihlstrasse",
          "Zürich, Singlistrasse",
          "Zürich, Solidapark",
          "Zürich, Sonneggstrasse",
          "Zürich, Sportweg",
          "Zürich, Sprecherstrasse",
          "Zürich, Spyriplatz",
          "Zürich, Spyristeig",
          "Zürich, Stadtgrenze",
          "Zürich, Stampfenbachplatz",
          "Zürich, Staudenbühl",
          "Zürich, Stauffacher",
          "Zürich, Sternen Oerlikon",
          "Zürich, Stierenried",
          "Zürich, Stockerstrasse",
          "Zürich, Strassenverkehrsamt",
          "Zürich, Strickhof",
          "Zürich, Sukkulentensammlung",
          "Zürich, Susenbergstrasse",
          "Zürich, Talwiesenstrasse",
          "Zürich, Technopark",
          "Zürich, Thujastrasse",
          "Zürich, Tierspital",
          "Zürich, Titlisstrasse",
          "Zürich, Tobelhof",
          "Zürich, Toblerplatz",
          "Zürich, Toni-Areal",
          "Zürich, Triemlispital",
          "Zürich, Tüffenwies",
          "Zürich, Tunnelstrasse",
          "Zürich, Uetlihof",
          "Zürich, Universität Irchel",
          "Zürich, Untermoosstrasse",
          "Zürich, Verenastrasse",
          "Zürich, Vogelsangstrasse",
          "Zürich, Voltastrasse",
          "Zürich, Vulkanstrasse",
          "Zürich, Waffenplatz-/Bederstr.",
          "Zürich, Waffenplatzstrasse",
          "Zürich, Waidbadstrasse",
          "Zürich, Waidfussweg",
          "Zürich, Waidspital",
          "Zürich, Waldgarten",
          "Zürich, Waldhaus Dolder",
          "Zürich, Wartau",
          "Zürich, Waserstrasse",
          "Zürich, Weihersteig",
          "Zürich, Werd",
          "Zürich, Werdhölzli",
          "Zürich, Wetlistrasse",
          "Zürich, Widmerstrasse",
          "Zürich, Wieslergasse",
          "Zürich, Wiesliacher",
          "Zürich, Winkelriedstrasse",
          "Zürich, Winzerhalde",
          "Zürich, Winzerstrasse",
          "Zürich, Winzerstrasse Süd",
          "Zürich, Wipkingerplatz",
          "Zürich, Buchzelgstrasse",
          "Zürich, Wollishoferplatz",
          "Zürich, Wonnebergstrasse",
          "Zürich, Zielweg",
          "Zürich, Zoo",
          "Zürich, Zoo/Forrenweid",
          "Zürich, Zürichbergstrasse",
          "Zürich, Zweiackerstrasse",
          "Zürich, Zwielplatz",
          "Zürich, Zwinglihaus",
          "Zürich, Zypressenstrasse",
          "Zürich, Binz",
          "Glattpark, Glattpark",
          "Gockhausen, Dorf",
          "Zürich, Würzgraben",
          "Glattpark, Wright-Strasse",
          "Zürich, Schiffbau",
          "Zürich, Schanzackerstrasse",
          "Zürich, Glaubtenstrasse Nord",
          "Zürich, Bus Station",
          "Zürich Tiefenbrunnen",
          "Zürich HB SZU"
         ],
         "lat": [
          47.3516780901371,
          47.3481237143728,
          47.3702920484894,
          47.3914841248792,
          47.3666111556789,
          47.3501261233109,
          47.411530894433,
          47.4187524287319,
          47.3474420259121,
          47.3640982664424,
          47.3714783972162,
          47.3930409564212,
          47.385195516951,
          47.362765717286,
          47.3647979933886,
          47.3649440221893,
          47.3649926983664,
          47.352073682225,
          47.3663495287263,
          47.3680896277911,
          47.3732000763623,
          47.3516415737949,
          47.3577942209058,
          47.3774279898193,
          47.3722388631333,
          47.3626135976618,
          47.3379339888824,
          47.3972125517017,
          47.3790460655592,
          47.371028196226,
          47.3765398519527,
          47.3768561767436,
          47.3681504693771,
          47.3656619912465,
          47.3526214202206,
          47.3386827632592,
          47.3454699490061,
          47.3498644146043,
          47.3654429508751,
          47.3676819873548,
          47.3642382125742,
          47.41655203245,
          47.3517754669262,
          47.3873303219428,
          47.3545749727743,
          47.361688700906,
          47.3648770923725,
          47.3730175688688,
          47.3714297270242,
          47.3677549978138,
          47.3504182617297,
          47.3427977889857,
          47.3407524908453,
          47.3670918157679,
          47.3573865009083,
          47.3654125285294,
          47.3631855651727,
          47.3605143020546,
          47.3579950370599,
          47.3551713700479,
          47.3531874101771,
          47.3459203681249,
          47.343205621699,
          47.3404359495289,
          47.4020100860391,
          47.411494419524,
          47.3907969150758,
          47.3689048992124,
          47.342730831075,
          47.3772394138519,
          47.3775618175159,
          47.4056277095638,
          47.3768440104406,
          47.3911313988428,
          47.3960024582124,
          47.3894893672541,
          47.3848488310571,
          47.3921774071053,
          47.3519945640447,
          47.3798185879667,
          47.3743802762382,
          47.3753171171281,
          47.3782127019246,
          47.3975956408339,
          47.3553052542238,
          47.4107041236259,
          47.3996265747874,
          47.3989090681422,
          47.4108804214308,
          47.417093022381,
          47.4133424497947,
          47.3889237667504,
          47.3786689245241,
          47.4058952214384,
          47.3911070728222,
          47.392067942097,
          47.3641286895461,
          47.3645546111557,
          47.3852015991393,
          47.4124062846703,
          47.413336370854,
          47.3706692494397,
          47.3972733596864,
          47.3972733596864,
          47.3934423195962,
          47.3762235252641,
          47.3963551516466,
          47.3887656407927,
          47.3840824646745,
          47.3585062020036,
          47.4036395673838,
          47.3937646241752,
          47.3738875155843,
          47.4043752495356,
          47.3454821225463,
          47.3809134822248,
          47.3741673555329,
          47.347588102752,
          47.3470342259279,
          47.3514650777846,
          47.3628387345498,
          47.3619016719907,
          47.4075367418319,
          47.3757368651146,
          47.4130445808784,
          47.3471742173224,
          47.414284677109,
          47.3681687218392,
          47.3593398770608,
          47.3900792881945,
          47.355147027434,
          47.3561328943156,
          47.398410456075,
          47.360928082871,
          47.4222534222046,
          47.35801937836,
          47.3665381436366,
          47.3414099167461,
          47.3583236436636,
          47.4133728444873,
          47.3545141155307,
          47.388400732926,
          47.3345491527085,
          47.4074029902327,
          47.4107953122193,
          47.3788209978467,
          47.3603439207751,
          47.4157010258045,
          47.3667328421914,
          47.348647147751,
          47.3962700189648,
          47.4086796961913,
          47.3772880786823,
          47.3757186152716,
          47.4167890961376,
          47.4181749855684,
          47.3935700254199,
          47.3805789336139,
          47.3504608651139,
          47.3815582426502,
          47.3922138953909,
          47.3628022259305,
          47.3832309334045,
          47.4059377800205,
          47.3828781521344,
          47.3509721030431,
          47.4089350336695,
          47.4213478055902,
          47.3759315297134,
          47.358707015448,
          47.403937489493,
          47.3642868894025,
          47.3611167171662,
          47.3620659633829,
          47.4042354099174,
          47.3872999122223,
          47.4016027078276,
          47.4141691791835,
          47.4136585537406,
          47.3609767627537,
          47.3718920920352,
          47.3862051506003,
          47.386965404139,
          47.395230172966,
          47.3957105722057,
          47.3803112931966,
          47.3717339149876,
          47.3867951082994,
          47.414406253599,
          47.3802930449369,
          47.3796482690385,
          47.4107041236259,
          47.3963490707453,
          47.3823428932854,
          47.3941659818386,
          47.3604230264376,
          47.4047157270536,
          47.3566440772991,
          47.3700730273448,
          47.3763573560178,
          47.384830584368,
          47.4228794433749,
          47.4075306622211,
          47.3816555642937,
          47.4198769051392,
          47.3801044792164,
          47.4002711063242,
          47.4032504420914,
          47.3675785556983,
          47.3733643325664,
          47.4013473348052,
          47.3670005515309,
          47.3661122380425,
          47.404934604296,
          47.3694707145073,
          47.377379325118,
          47.3585427135958,
          47.4168863527264,
          47.3736137576758,
          47.3592668549544,
          47.3846298703704,
          47.3481176279077,
          47.4014263789682,
          47.3692395218944,
          47.3480019849363,
          47.3405333470592,
          47.3744228602761,
          47.3784681870667,
          47.3727194719378,
          47.3611532269519,
          47.3849887221308,
          47.4029646763743,
          47.415202572668,
          47.3973037636525,
          47.3745080282487,
          47.3888872761869,
          47.3763999384591,
          47.3700304397943,
          47.3640374201824,
          47.4053662761919,
          47.3778051397306,
          47.3879567582815,
          47.3841919462684,
          47.3704380620805,
          47.3959112440089,
          47.3509842753143,
          47.3924936380744,
          47.3737415115433,
          47.3935396192995,
          47.3587313564196,
          47.394993012233,
          47.3961423196842,
          47.4116342398713,
          47.4142907559401,
          47.390571897529,
          47.3812358634232,
          47.3877743018639,
          47.3863632842396,
          47.3906813656447,
          47.4146433269471,
          47.3845994590919,
          47.3878168750845,
          47.3754144502921,
          47.3598631991991,
          47.3758950301558,
          47.4068740601267,
          47.4060107375098,
          47.3890818922336,
          47.4078468010511,
          47.4162055528328,
          47.3369660452942,
          47.3654429508751,
          47.3986415207903,
          47.4140476021462,
          47.4109594512897,
          47.4063268854622,
          47.3977902247233,
          47.3795996063866,
          47.3439482343686,
          47.413956419184,
          47.3821239221899,
          47.3607211928684,
          47.4118470092527,
          47.3727742245616,
          47.4167039964751,
          47.4035422863301,
          47.3883277510495,
          47.3922564650255,
          47.4104791910869,
          47.4175853791724,
          47.3880114950836,
          47.4167222321287,
          47.385189434762,
          47.3697323259786,
          47.3569057523862,
          47.3996569773956,
          47.3750068664689,
          47.3444717091534,
          47.4002224627097,
          47.3867403702341,
          47.4019796847888,
          47.3627474629542,
          47.371739998729,
          47.3833464991692,
          47.396902429888,
          47.4088256034733,
          47.3510268782417,
          47.3730662375955,
          47.3633863608069,
          47.4144791993582,
          47.4108013914533,
          47.3819353630178,
          47.394330172729,
          47.388662250487,
          47.4029525160966,
          47.3912773547304,
          47.373948350482,
          47.3578611597087,
          47.4108074706865,
          47.3743863596743,
          47.406083694898,
          47.386563991637,
          47.39163007979,
          47.3897387160861,
          47.4161994742227,
          47.3877925475341,
          47.3625892584812,
          47.3701521184186,
          47.4059438598151,
          47.3722753652215,
          47.3846663638813,
          47.412096252292,
          47.4088377623952,
          47.4097314354713,
          47.4045941281927,
          47.3647736552158,
          47.3598814545288,
          47.3997299435837,
          47.4218644344265,
          47.419864748766,
          47.3389140897814,
          47.4074455475966,
          47.3557495038281,
          47.3919219883989,
          47.3859132103277,
          47.3784621041015,
          47.3632281582498,
          47.3579706957486,
          47.3600640074787,
          47.3760957774096,
          47.3798733332196,
          47.3722692815419,
          47.4051109214132,
          47.3877256467126,
          47.3828416573855,
          47.3916239983435,
          47.3674933765347,
          47.3822820680724,
          47.3862538071552,
          47.3350422808333,
          47.3802930449369,
          47.4200835630557,
          47.3734251680677,
          47.4100718783688,
          47.4166188966751,
          47.3678705975006,
          47.3531508948792,
          47.3935761066419,
          47.3549279434034,
          47.3785350996374,
          47.3699452645904,
          47.3890575652671,
          47.3501869856148,
          47.4019006414559,
          47.3709734417894,
          47.3830849552342,
          47.3790886458292,
          47.390042798431,
          47.3659662124757,
          47.3979240007304,
          47.3661426599847,
          47.3567353594536,
          47.3961605624575,
          47.3798307535834,
          47.3408255385719,
          47.3835411356741,
          47.3768683430438,
          47.3943484161296,
          47.3616643612987,
          47.3614818138862,
          47.3989759547678,
          47.3954977376399,
          47.3991644529834,
          47.4037186081076,
          47.3732426613532,
          47.4027701115948,
          47.3583175583747,
          47.3977902247233,
          47.3723240346332,
          47.3978327898533,
          47.3601552837168,
          47.336777324666,
          47.4040651698812,
          47.3552139695953,
          47.3831944388998,
          47.4000582901792,
          47.4037672484941,
          47.403372044054,
          47.3925909395293,
          47.3591816623693,
          47.3384392605619,
          47.3518484994001,
          47.3588226349632,
          47.3815704078655,
          47.3804998581775,
          47.3787297539058,
          47.3570518030333,
          47.4021864129448,
          47.3715088160635,
          47.3766919314159,
          47.3629665145182,
          47.4203813921555,
          47.3820083537451,
          47.392092267674,
          47.420521188907,
          47.3880297406717,
          47.3920253723101,
          47.4147466662776,
          47.3810655490734,
          47.3501261233109,
          47.3773914912976
         ],
         "legendgroup": "0",
         "lon": [
          8.52195777551452,
          8.53332146386021,
          8.51391785372053,
          8.48896265512422,
          8.54848502585826,
          8.56138483334001,
          8.54413717988252,
          8.54465820274738,
          8.53359994159833,
          8.53082414737001,
          8.52348491149773,
          8.52937785976238,
          8.51712483928528,
          8.5182926491548,
          8.50750388259102,
          8.50353332903466,
          8.49537662625372,
          8.48755230012795,
          8.54812569974456,
          8.56027990554039,
          8.57452718594851,
          8.52623375626752,
          8.52196675866736,
          8.53916949636064,
          8.53172246265426,
          8.52201167443157,
          8.51963113892832,
          8.59614065168743,
          8.54157698132242,
          8.54196325689465,
          8.54403836520125,
          8.54640093439881,
          8.49537662625372,
          8.5410020595405,
          8.5531293158778,
          8.5675203267314,
          8.53665421356476,
          8.56058533273703,
          8.54485583210991,
          8.5229908380914,
          8.52750936397115,
          8.55508764319746,
          8.5766202605608,
          8.55341677676876,
          8.57502125935484,
          8.5606212653484,
          8.5540815300791,
          8.54263699335783,
          8.52418559741944,
          8.48748043490521,
          8.56098957461495,
          8.56732269736887,
          8.57597347355614,
          8.54511634354234,
          8.55041640371939,
          8.54764959264391,
          8.54979656617326,
          8.55206032068955,
          8.5542072942189,
          8.55690224007163,
          8.55886955054413,
          8.56615488749935,
          8.56963136764938,
          8.57261377439307,
          8.49937412926861,
          8.54479295004002,
          8.5223979500038,
          8.50184449630028,
          8.53601640971295,
          8.53934017626465,
          8.54173867807358,
          8.59100228826155,
          8.54393955051998,
          8.47917101852595,
          8.59995849164547,
          8.59665269139945,
          8.6000483231739,
          8.50249128330494,
          8.5077104951064,
          8.49466695717917,
          8.48478548905248,
          8.48521668038892,
          8.51039645780629,
          8.50765659618934,
          8.56141178279854,
          8.52405983327965,
          8.50714455647732,
          8.50952509198057,
          8.57212868413958,
          8.56884085019924,
          8.57216461675095,
          8.48305174055389,
          8.52310761907835,
          8.53778609082291,
          8.48837875018946,
          8.48990588617267,
          8.53156974905593,
          8.53045583810347,
          8.5171068729796,
          8.54393056736714,
          8.54584397892258,
          8.53200992354522,
          8.59613166853459,
          8.59613166853459,
          8.52952159020786,
          8.5394569572516,
          8.48501006787354,
          8.49014843129942,
          8.54044510406427,
          8.59002312460173,
          8.54791010407634,
          8.50870762507191,
          8.51346869607841,
          8.53333044701305,
          8.527859706932,
          8.55599494163454,
          8.52556001980434,
          8.53434554328425,
          8.5329172219823,
          8.53197399093385,
          8.51167206550992,
          8.51105222796379,
          8.53059956854895,
          8.56479843142014,
          8.53585471296178,
          8.57158969496903,
          8.53790287180986,
          8.53974441814256,
          8.55783648796725,
          8.48705822672162,
          8.52714105470461,
          8.53221653606059,
          8.53328553124884,
          8.58870260113389,
          8.53894491753958,
          8.57186817270715,
          8.54078646387228,
          8.53031210765799,
          8.58659156021591,
          8.53121940609508,
          8.55294965282095,
          8.52607205951636,
          8.52997074784998,
          8.54925757700271,
          8.56716998377055,
          8.57564109690097,
          8.57883909931288,
          8.51292970690786,
          8.55816886462242,
          8.57065544707342,
          8.51204037477646,
          8.5077104951064,
          8.54823349757867,
          8.48841468280083,
          8.54529600659919,
          8.56174415945371,
          8.51212122315204,
          8.56804134959626,
          8.56947865405106,
          8.49198997763212,
          8.51715178874381,
          8.56297485139313,
          8.49937412926861,
          8.5531921979477,
          8.47453571165925,
          8.58027640376767,
          8.49413695116146,
          8.53775914136438,
          8.51089053121262,
          8.50060482120802,
          8.5690654290203,
          8.50799795599736,
          8.50240145177651,
          8.50509639762925,
          8.56261552527943,
          8.55252744463736,
          8.58175862398668,
          8.51893943615946,
          8.51868790787987,
          8.59930272148798,
          8.48792959254734,
          8.55015589228695,
          8.49008554922952,
          8.4892141834038,
          8.54013967686763,
          8.51997249873634,
          8.50665048307099,
          8.55133268530932,
          8.55552781768674,
          8.54837722802415,
          8.5445144723019,
          8.55586019434191,
          8.49746970086601,
          8.51452870811382,
          8.50450350954165,
          8.56503199339405,
          8.576323816517,
          8.51001018223407,
          8.54329276351533,
          8.5253623904418,
          8.50916576586688,
          8.54349039287786,
          8.57270360592149,
          8.56461876836329,
          8.53865745664862,
          8.55457560348544,
          8.54350835918355,
          8.59116398501272,
          8.51096239643537,
          8.56155551324402,
          8.49021131336931,
          8.56504097654689,
          8.56239992961121,
          8.50473707151555,
          8.55440492358143,
          8.49914955044755,
          8.52699732425913,
          8.52286507395161,
          8.50336264913066,
          8.5077104951064,
          8.57693467091029,
          8.57436548919735,
          8.5088333892117,
          8.49162166836558,
          8.52821004989286,
          8.53152483329172,
          8.52133793796839,
          8.53030312450515,
          8.5505242015535,
          8.5712034193968,
          8.49539459255941,
          8.49824225201046,
          8.56237298015268,
          8.51002814853975,
          8.52426644579503,
          8.54633805232891,
          8.55939057340899,
          8.56415164441549,
          8.56649624730736,
          8.52824598250423,
          8.50787219185756,
          8.53912458059643,
          8.56103449037916,
          8.54914079601576,
          8.53218060344922,
          8.5342287622973,
          8.54976063356189,
          8.50106296200299,
          8.54478396688717,
          8.51708890667391,
          8.53633980321527,
          8.52071810042226,
          8.50987543494143,
          8.5094891593692,
          8.53273755892545,
          8.5037309583972,
          8.49921243251745,
          8.49646358774766,
          8.54549363596172,
          8.55130573585079,
          8.53162364797299,
          8.48611499567316,
          8.51752009801035,
          8.59452368417579,
          8.53741778155637,
          8.58587290798852,
          8.58139031472014,
          8.49469390663769,
          8.52638646986584,
          8.53209975507364,
          8.52034979115572,
          8.52163438201219,
          8.59092143988597,
          8.54133443619567,
          8.55009301021706,
          8.49560120507478,
          8.54177461068495,
          8.5276261449581,
          8.53014142775399,
          8.52645833508858,
          8.53493843137185,
          8.53156076590309,
          8.52503001378664,
          8.54735314860011,
          8.5382082990065,
          8.53052770332621,
          8.53616014015842,
          8.53343824484716,
          8.53281840730103,
          8.5542072942189,
          8.53413893076887,
          8.56616387065219,
          8.54241241453677,
          8.53891796808105,
          8.59056211377228,
          8.5176997610672,
          8.55264422562431,
          8.53296213774651,
          8.58659156021591,
          8.52874903906341,
          8.53518995965144,
          8.51466345540645,
          8.54287953848457,
          8.48409378628361,
          8.5149688826031,
          8.53927729419475,
          8.58298033277325,
          8.53845982728609,
          8.53503724605312,
          8.5581868309281,
          8.55883361793276,
          8.52926107877543,
          8.52546120512307,
          8.54049900298133,
          8.5769795866745,
          8.53611522439421,
          8.54293343740163,
          8.52040369007277,
          8.56286705355902,
          8.49551137354636,
          8.54847604270542,
          8.5033716322835,
          8.53871135556568,
          8.55089251082004,
          8.50692896080911,
          8.54423599456378,
          8.57414091037628,
          8.51926282966178,
          8.56387316667737,
          8.49419983323136,
          8.47857813043835,
          8.51478921954625,
          8.57959368415165,
          8.49704749268242,
          8.57189512216567,
          8.50269789582032,
          8.53551335315377,
          8.5046202905286,
          8.54977859986757,
          8.54836824487131,
          8.53813643378376,
          8.48996876824257,
          8.59430808850758,
          8.48372547701707,
          8.54836824487131,
          8.49402017017451,
          8.55762089229903,
          8.52226320271116,
          8.52302677070277,
          8.53420181283877,
          8.53760642776606,
          8.53457012210531,
          8.49349016415681,
          8.48849553117641,
          8.54368802224039,
          8.50585996562086,
          8.55225795005209,
          8.55197947231397,
          8.55620155414992,
          8.54146918348831,
          8.54278072380331,
          8.53538758901397,
          8.52925209562258,
          8.54623025449481,
          8.53548640369524,
          8.53542352162534,
          8.51132172254906,
          8.54751484535128,
          8.53430062752004,
          8.5680054169849,
          8.50965085612037,
          8.51535515817532,
          8.52780580801495,
          8.55179980925712,
          8.56495114501846,
          8.58599867212831,
          8.55934565764478,
          8.51058510401598,
          8.49689477908409,
          8.49472085609622,
          8.53253094641008,
          8.51396276948474,
          8.54482888265138,
          8.48338411720906,
          8.52538035674749,
          8.54906893079302,
          8.55452170456838,
          8.48408480313077,
          8.5265032508528,
          8.52574866601403,
          8.51354056130115,
          8.51840044698891,
          8.52170624723493,
          8.55719868411543,
          8.56854440615544,
          8.49163065151842,
          8.58405831111435,
          8.5285154770895,
          8.52684461066081,
          8.482018677977,
          8.56862525453102,
          8.53289027252377,
          8.49596053118848,
          8.59680540499778,
          8.54821553127299,
          8.4945681424979,
          8.48637550710559,
          8.486123978826,
          8.52357474302616,
          8.58524408728955,
          8.53015939405967,
          8.56654116307158,
          8.49758648185296,
          8.57155376235766,
          8.57808451447412,
          8.56410672865127,
          8.59788338333887,
          8.49680494755567,
          8.51595702941576,
          8.51376514012221,
          8.51831959861333,
          8.556767492779,
          8.5980810127014,
          8.49485560338886,
          8.55921091035214,
          8.51986470090223,
          8.54743399697569,
          8.51964910523401,
          8.53730100056942,
          8.56139381649285,
          8.53935814257034
         ],
         "marker": {
          "color": "#636efa"
         },
         "mode": "markers",
         "name": "0",
         "showlegend": true,
         "subplot": "mapbox",
         "type": "scattermapbox"
        },
        {
         "hovertemplate": "<b>%{hovertext}</b><br><br>color=1<br>latitude=%{lat}<br>longitude=%{lon}<extra></extra>",
         "hovertext": [
          "Zürich HB"
         ],
         "lat": [
          47.3781762039461
         ],
         "legendgroup": "1",
         "lon": [
          8.54021154209037
         ],
         "marker": {
          "color": "#EF553B"
         },
         "mode": "markers",
         "name": "1",
         "showlegend": true,
         "subplot": "mapbox",
         "type": "scattermapbox"
        },
        {
         "hovertemplate": "<b>%{hovertext}</b><br><br>color=2<br>latitude=%{lat}<br>longitude=%{lon}<extra></extra>",
         "hovertext": [
          "Zürich, Heuried"
         ],
         "lat": [
          47.3694098744442
         ],
         "legendgroup": "2",
         "lon": [
          8.50635403902719
         ],
         "marker": {
          "color": "#00cc96"
         },
         "mode": "markers",
         "name": "2",
         "showlegend": true,
         "subplot": "mapbox",
         "type": "scattermapbox"
        },
        {
         "hoverinfo": "none",
         "lat": [
          47.3694098744442,
          47.3699452645904,
          47.3699452645904,
          47.3702920484894,
          47.3702920484894,
          47.3701521184186,
          47.3701521184186,
          47.3714297270242,
          47.3714297270242,
          47.3714783972162,
          47.3714783972162,
          47.3781762039461
         ],
         "lon": [
          8.50635403902719,
          8.50965085612037,
          8.50965085612037,
          8.51391785372053,
          8.51391785372053,
          8.51926282966178,
          8.51926282966178,
          8.52418559741944,
          8.52418559741944,
          8.52348491149773,
          8.52348491149773,
          8.54021154209037
         ],
         "mode": "lines",
         "type": "scattermapbox"
        }
       ],
       "layout": {
        "legend": {
         "title": {
          "text": "color"
         },
         "tracegroupgap": 0
        },
        "mapbox": {
         "center": {
          "lat": 47.38108763531469,
          "lon": 8.535443230621192
         },
         "domain": {
          "x": [
           0,
           1
          ],
          "y": [
           0,
           1
          ]
         },
         "style": "open-street-map",
         "zoom": 13
        },
        "margin": {
         "t": 60
        },
        "showlegend": false,
        "template": {
         "data": {
          "bar": [
           {
            "error_x": {
             "color": "#2a3f5f"
            },
            "error_y": {
             "color": "#2a3f5f"
            },
            "marker": {
             "line": {
              "color": "#E5ECF6",
              "width": 0.5
             },
             "pattern": {
              "fillmode": "overlay",
              "size": 10,
              "solidity": 0.2
             }
            },
            "type": "bar"
           }
          ],
          "barpolar": [
           {
            "marker": {
             "line": {
              "color": "#E5ECF6",
              "width": 0.5
             },
             "pattern": {
              "fillmode": "overlay",
              "size": 10,
              "solidity": 0.2
             }
            },
            "type": "barpolar"
           }
          ],
          "carpet": [
           {
            "aaxis": {
             "endlinecolor": "#2a3f5f",
             "gridcolor": "white",
             "linecolor": "white",
             "minorgridcolor": "white",
             "startlinecolor": "#2a3f5f"
            },
            "baxis": {
             "endlinecolor": "#2a3f5f",
             "gridcolor": "white",
             "linecolor": "white",
             "minorgridcolor": "white",
             "startlinecolor": "#2a3f5f"
            },
            "type": "carpet"
           }
          ],
          "choropleth": [
           {
            "colorbar": {
             "outlinewidth": 0,
             "ticks": ""
            },
            "type": "choropleth"
           }
          ],
          "contour": [
           {
            "colorbar": {
             "outlinewidth": 0,
             "ticks": ""
            },
            "colorscale": [
             [
              0,
              "#0d0887"
             ],
             [
              0.1111111111111111,
              "#46039f"
             ],
             [
              0.2222222222222222,
              "#7201a8"
             ],
             [
              0.3333333333333333,
              "#9c179e"
             ],
             [
              0.4444444444444444,
              "#bd3786"
             ],
             [
              0.5555555555555556,
              "#d8576b"
             ],
             [
              0.6666666666666666,
              "#ed7953"
             ],
             [
              0.7777777777777778,
              "#fb9f3a"
             ],
             [
              0.8888888888888888,
              "#fdca26"
             ],
             [
              1,
              "#f0f921"
             ]
            ],
            "type": "contour"
           }
          ],
          "contourcarpet": [
           {
            "colorbar": {
             "outlinewidth": 0,
             "ticks": ""
            },
            "type": "contourcarpet"
           }
          ],
          "heatmap": [
           {
            "colorbar": {
             "outlinewidth": 0,
             "ticks": ""
            },
            "colorscale": [
             [
              0,
              "#0d0887"
             ],
             [
              0.1111111111111111,
              "#46039f"
             ],
             [
              0.2222222222222222,
              "#7201a8"
             ],
             [
              0.3333333333333333,
              "#9c179e"
             ],
             [
              0.4444444444444444,
              "#bd3786"
             ],
             [
              0.5555555555555556,
              "#d8576b"
             ],
             [
              0.6666666666666666,
              "#ed7953"
             ],
             [
              0.7777777777777778,
              "#fb9f3a"
             ],
             [
              0.8888888888888888,
              "#fdca26"
             ],
             [
              1,
              "#f0f921"
             ]
            ],
            "type": "heatmap"
           }
          ],
          "heatmapgl": [
           {
            "colorbar": {
             "outlinewidth": 0,
             "ticks": ""
            },
            "colorscale": [
             [
              0,
              "#0d0887"
             ],
             [
              0.1111111111111111,
              "#46039f"
             ],
             [
              0.2222222222222222,
              "#7201a8"
             ],
             [
              0.3333333333333333,
              "#9c179e"
             ],
             [
              0.4444444444444444,
              "#bd3786"
             ],
             [
              0.5555555555555556,
              "#d8576b"
             ],
             [
              0.6666666666666666,
              "#ed7953"
             ],
             [
              0.7777777777777778,
              "#fb9f3a"
             ],
             [
              0.8888888888888888,
              "#fdca26"
             ],
             [
              1,
              "#f0f921"
             ]
            ],
            "type": "heatmapgl"
           }
          ],
          "histogram": [
           {
            "marker": {
             "pattern": {
              "fillmode": "overlay",
              "size": 10,
              "solidity": 0.2
             }
            },
            "type": "histogram"
           }
          ],
          "histogram2d": [
           {
            "colorbar": {
             "outlinewidth": 0,
             "ticks": ""
            },
            "colorscale": [
             [
              0,
              "#0d0887"
             ],
             [
              0.1111111111111111,
              "#46039f"
             ],
             [
              0.2222222222222222,
              "#7201a8"
             ],
             [
              0.3333333333333333,
              "#9c179e"
             ],
             [
              0.4444444444444444,
              "#bd3786"
             ],
             [
              0.5555555555555556,
              "#d8576b"
             ],
             [
              0.6666666666666666,
              "#ed7953"
             ],
             [
              0.7777777777777778,
              "#fb9f3a"
             ],
             [
              0.8888888888888888,
              "#fdca26"
             ],
             [
              1,
              "#f0f921"
             ]
            ],
            "type": "histogram2d"
           }
          ],
          "histogram2dcontour": [
           {
            "colorbar": {
             "outlinewidth": 0,
             "ticks": ""
            },
            "colorscale": [
             [
              0,
              "#0d0887"
             ],
             [
              0.1111111111111111,
              "#46039f"
             ],
             [
              0.2222222222222222,
              "#7201a8"
             ],
             [
              0.3333333333333333,
              "#9c179e"
             ],
             [
              0.4444444444444444,
              "#bd3786"
             ],
             [
              0.5555555555555556,
              "#d8576b"
             ],
             [
              0.6666666666666666,
              "#ed7953"
             ],
             [
              0.7777777777777778,
              "#fb9f3a"
             ],
             [
              0.8888888888888888,
              "#fdca26"
             ],
             [
              1,
              "#f0f921"
             ]
            ],
            "type": "histogram2dcontour"
           }
          ],
          "mesh3d": [
           {
            "colorbar": {
             "outlinewidth": 0,
             "ticks": ""
            },
            "type": "mesh3d"
           }
          ],
          "parcoords": [
           {
            "line": {
             "colorbar": {
              "outlinewidth": 0,
              "ticks": ""
             }
            },
            "type": "parcoords"
           }
          ],
          "pie": [
           {
            "automargin": true,
            "type": "pie"
           }
          ],
          "scatter": [
           {
            "fillpattern": {
             "fillmode": "overlay",
             "size": 10,
             "solidity": 0.2
            },
            "type": "scatter"
           }
          ],
          "scatter3d": [
           {
            "line": {
             "colorbar": {
              "outlinewidth": 0,
              "ticks": ""
             }
            },
            "marker": {
             "colorbar": {
              "outlinewidth": 0,
              "ticks": ""
             }
            },
            "type": "scatter3d"
           }
          ],
          "scattercarpet": [
           {
            "marker": {
             "colorbar": {
              "outlinewidth": 0,
              "ticks": ""
             }
            },
            "type": "scattercarpet"
           }
          ],
          "scattergeo": [
           {
            "marker": {
             "colorbar": {
              "outlinewidth": 0,
              "ticks": ""
             }
            },
            "type": "scattergeo"
           }
          ],
          "scattergl": [
           {
            "marker": {
             "colorbar": {
              "outlinewidth": 0,
              "ticks": ""
             }
            },
            "type": "scattergl"
           }
          ],
          "scattermapbox": [
           {
            "marker": {
             "colorbar": {
              "outlinewidth": 0,
              "ticks": ""
             }
            },
            "type": "scattermapbox"
           }
          ],
          "scatterpolar": [
           {
            "marker": {
             "colorbar": {
              "outlinewidth": 0,
              "ticks": ""
             }
            },
            "type": "scatterpolar"
           }
          ],
          "scatterpolargl": [
           {
            "marker": {
             "colorbar": {
              "outlinewidth": 0,
              "ticks": ""
             }
            },
            "type": "scatterpolargl"
           }
          ],
          "scatterternary": [
           {
            "marker": {
             "colorbar": {
              "outlinewidth": 0,
              "ticks": ""
             }
            },
            "type": "scatterternary"
           }
          ],
          "surface": [
           {
            "colorbar": {
             "outlinewidth": 0,
             "ticks": ""
            },
            "colorscale": [
             [
              0,
              "#0d0887"
             ],
             [
              0.1111111111111111,
              "#46039f"
             ],
             [
              0.2222222222222222,
              "#7201a8"
             ],
             [
              0.3333333333333333,
              "#9c179e"
             ],
             [
              0.4444444444444444,
              "#bd3786"
             ],
             [
              0.5555555555555556,
              "#d8576b"
             ],
             [
              0.6666666666666666,
              "#ed7953"
             ],
             [
              0.7777777777777778,
              "#fb9f3a"
             ],
             [
              0.8888888888888888,
              "#fdca26"
             ],
             [
              1,
              "#f0f921"
             ]
            ],
            "type": "surface"
           }
          ],
          "table": [
           {
            "cells": {
             "fill": {
              "color": "#EBF0F8"
             },
             "line": {
              "color": "white"
             }
            },
            "header": {
             "fill": {
              "color": "#C8D4E3"
             },
             "line": {
              "color": "white"
             }
            },
            "type": "table"
           }
          ]
         },
         "layout": {
          "annotationdefaults": {
           "arrowcolor": "#2a3f5f",
           "arrowhead": 0,
           "arrowwidth": 1
          },
          "autotypenumbers": "strict",
          "coloraxis": {
           "colorbar": {
            "outlinewidth": 0,
            "ticks": ""
           }
          },
          "colorscale": {
           "diverging": [
            [
             0,
             "#8e0152"
            ],
            [
             0.1,
             "#c51b7d"
            ],
            [
             0.2,
             "#de77ae"
            ],
            [
             0.3,
             "#f1b6da"
            ],
            [
             0.4,
             "#fde0ef"
            ],
            [
             0.5,
             "#f7f7f7"
            ],
            [
             0.6,
             "#e6f5d0"
            ],
            [
             0.7,
             "#b8e186"
            ],
            [
             0.8,
             "#7fbc41"
            ],
            [
             0.9,
             "#4d9221"
            ],
            [
             1,
             "#276419"
            ]
           ],
           "sequential": [
            [
             0,
             "#0d0887"
            ],
            [
             0.1111111111111111,
             "#46039f"
            ],
            [
             0.2222222222222222,
             "#7201a8"
            ],
            [
             0.3333333333333333,
             "#9c179e"
            ],
            [
             0.4444444444444444,
             "#bd3786"
            ],
            [
             0.5555555555555556,
             "#d8576b"
            ],
            [
             0.6666666666666666,
             "#ed7953"
            ],
            [
             0.7777777777777778,
             "#fb9f3a"
            ],
            [
             0.8888888888888888,
             "#fdca26"
            ],
            [
             1,
             "#f0f921"
            ]
           ],
           "sequentialminus": [
            [
             0,
             "#0d0887"
            ],
            [
             0.1111111111111111,
             "#46039f"
            ],
            [
             0.2222222222222222,
             "#7201a8"
            ],
            [
             0.3333333333333333,
             "#9c179e"
            ],
            [
             0.4444444444444444,
             "#bd3786"
            ],
            [
             0.5555555555555556,
             "#d8576b"
            ],
            [
             0.6666666666666666,
             "#ed7953"
            ],
            [
             0.7777777777777778,
             "#fb9f3a"
            ],
            [
             0.8888888888888888,
             "#fdca26"
            ],
            [
             1,
             "#f0f921"
            ]
           ]
          },
          "colorway": [
           "#636efa",
           "#EF553B",
           "#00cc96",
           "#ab63fa",
           "#FFA15A",
           "#19d3f3",
           "#FF6692",
           "#B6E880",
           "#FF97FF",
           "#FECB52"
          ],
          "font": {
           "color": "#2a3f5f"
          },
          "geo": {
           "bgcolor": "white",
           "lakecolor": "white",
           "landcolor": "#E5ECF6",
           "showlakes": true,
           "showland": true,
           "subunitcolor": "white"
          },
          "hoverlabel": {
           "align": "left"
          },
          "hovermode": "closest",
          "mapbox": {
           "style": "light"
          },
          "paper_bgcolor": "white",
          "plot_bgcolor": "#E5ECF6",
          "polar": {
           "angularaxis": {
            "gridcolor": "white",
            "linecolor": "white",
            "ticks": ""
           },
           "bgcolor": "#E5ECF6",
           "radialaxis": {
            "gridcolor": "white",
            "linecolor": "white",
            "ticks": ""
           }
          },
          "scene": {
           "xaxis": {
            "backgroundcolor": "#E5ECF6",
            "gridcolor": "white",
            "gridwidth": 2,
            "linecolor": "white",
            "showbackground": true,
            "ticks": "",
            "zerolinecolor": "white"
           },
           "yaxis": {
            "backgroundcolor": "#E5ECF6",
            "gridcolor": "white",
            "gridwidth": 2,
            "linecolor": "white",
            "showbackground": true,
            "ticks": "",
            "zerolinecolor": "white"
           },
           "zaxis": {
            "backgroundcolor": "#E5ECF6",
            "gridcolor": "white",
            "gridwidth": 2,
            "linecolor": "white",
            "showbackground": true,
            "ticks": "",
            "zerolinecolor": "white"
           }
          },
          "shapedefaults": {
           "line": {
            "color": "#2a3f5f"
           }
          },
          "ternary": {
           "aaxis": {
            "gridcolor": "white",
            "linecolor": "white",
            "ticks": ""
           },
           "baxis": {
            "gridcolor": "white",
            "linecolor": "white",
            "ticks": ""
           },
           "bgcolor": "#E5ECF6",
           "caxis": {
            "gridcolor": "white",
            "linecolor": "white",
            "ticks": ""
           }
          },
          "title": {
           "x": 0.05
          },
          "xaxis": {
           "automargin": true,
           "gridcolor": "white",
           "linecolor": "white",
           "ticks": "",
           "title": {
            "standoff": 15
           },
           "zerolinecolor": "white",
           "zerolinewidth": 2
          },
          "yaxis": {
           "automargin": true,
           "gridcolor": "white",
           "linecolor": "white",
           "ticks": "",
           "title": {
            "standoff": 15
           },
           "zerolinecolor": "white",
           "zerolinewidth": 2
          }
         }
        }
       }
      }
     },
     "metadata": {},
     "output_type": "display_data"
    }
   ],
   "source": [
    "\n",
    "fig = px.scatter_mapbox(df_stops, hover_name=\"stop_name\", lat=\"latitude\", lon=\"longitude\", color='color', zoom=13)\n",
    "lats = []\n",
    "lons = []\n",
    "for index, row in path_conn_datas.iterrows():\n",
    "    loc_dep = get_lat_long(row['dep_stop_id'])\n",
    "    loc_arr = get_lat_long(row['arr_stop_id'])\n",
    "\n",
    "    lats.append(loc_dep[0])\n",
    "    lats.append(loc_arr[0])\n",
    "    lons.append(loc_dep[1])\n",
    "    lons.append(loc_arr[1])\n",
    "\n",
    "fig.add_trace(go.Scattermapbox(\n",
    "        mode = \"lines\",\n",
    "        lon = lons,\n",
    "        lat = lats,\n",
    "        hoverinfo='none'\n",
    "    ))\n",
    "fig.update_layout(\n",
    "mapbox = {\n",
    "    'style': \"open-street-map\"},\n",
    "showlegend = False\n",
    ") \n",
    "\n",
    "fig.show()\n",
    "\n"
   ]
  },
  {
   "cell_type": "code",
   "execution_count": 32,
   "metadata": {},
   "outputs": [],
   "source": [
    "def draw_itinerary(dep,arr):\n",
    "    loc_dep = get_lat_long(dep)\n",
    "    print(loc_dep)\n",
    "    loc_arr = get_lat_long(arr)\n",
    "\n",
    "    lats= [loc_dep[0], loc_arr[0]]\n",
    "    print(lats)\n",
    "    lons = [loc_dep[1], loc_arr[1]]\n",
    "    print(lons)\n",
    "\n",
    "    fig = px.scatter_mapbox(df_stops, hover_name=\"stop_name\", lat=\"latitude\", lon=\"longitude\", color='color', zoom=13)\n",
    "\n",
    "    fig.add_trace(go.Scattermapbox(\n",
    "    mode = \"lines\",\n",
    "    lon = lons,\n",
    "    lat = lats,\n",
    "    hoverinfo='none'\n",
    "))\n",
    "    fig.update_layout(\n",
    "    mapbox = {\n",
    "        'style': \"open-street-map\"},\n",
    "    showlegend = False\n",
    "    ) \n",
    "\n",
    "    fig.show()\n",
    "\n"
   ]
  },
  {
   "cell_type": "code",
   "execution_count": 33,
   "metadata": {},
   "outputs": [
    {
     "name": "stdout",
     "output_type": "stream",
     "text": [
      "(47.3694098744442, 8.50635403902719)\n",
      "[47.3694098744442, 47.3699452645904]\n",
      "[8.50635403902719, 8.50965085612037]\n"
     ]
    },
    {
     "data": {
      "application/vnd.plotly.v1+json": {
       "config": {
        "plotlyServerURL": "https://plot.ly"
       },
       "data": [
        {
         "hovertemplate": "<b>%{hovertext}</b><br><br>color=0<br>latitude=%{lat}<br>longitude=%{lon}<extra></extra>",
         "hovertext": [
          "Zimmerberg-Basistunnel",
          "Zürich Wollishofen, Bahnhof",
          "Zürich, Goldbrunnenplatz",
          "Zürich Altstetten",
          "Zürich Stadelhofen",
          "Zürich Tiefenbrunnen",
          "Zürich Oerlikon",
          "Zürich Seebach",
          "Zürich Wollishofen",
          "Zürich Enge",
          "Zürich Wiedikon",
          "Zürich Wipkingen",
          "Zürich Hardbrücke",
          "Zürich Binz",
          "Zürich Friesenberg",
          "Zürich Schweighof",
          "Zürich Triemli",
          "Uetliberg",
          "Zürich Stadelhofen, Bahnhof",
          "Zürich, Römerhof",
          "Zürich, Dolder",
          "Zürich Brunau",
          "Zürich Saalsporthalle",
          "Zürich HB SZU",
          "Zürich Selnau",
          "Zürich Giesshübel",
          "Zürich Manegg",
          "Stettbach",
          "Zürich Landesmuseum (See)",
          "Zürich Storchen",
          "Zürich Central (Polybahn)",
          "Zürich Polyterrasse",
          "Zürich, Triemli",
          "Zürich Bürkliplatz (See)",
          "Zürichhorn (See)",
          "Zollikon (See)",
          "Zürich Wollishofen (See)",
          "Zürich Tiefenbrunnen (See)",
          "Zürich Bellevue (See)",
          "Zürich, Hertersteg",
          "Zürich, Kantonsschule Enge",
          "Zürich, Leutschenpark",
          "Zürich, Klinik Hirslanden",
          "Zürich, Rigiblick",
          "Zürich, Balgrist",
          "Zürich, Hegibachplatz",
          "Zürich, Kreuzplatz",
          "Zürich Limmatquai",
          "Zürich Wiedikon, Bahnhof",
          "Zürich, Sädlenweg",
          "Zürich Tiefenbrunnen, Bahnhof",
          "Zollikon, Seestrasse",
          "Zollikon, Gemeindehaus",
          "Zürich, Bellevue",
          "Zürich, Elektrowatt",
          "Zürich, Opernhaus",
          "Zürich, Kreuzstrasse",
          "Zürich, Feldeggstrasse",
          "Zürich, Höschgasse",
          "Zürich, Fröhlichstrasse",
          "Zürich, Wildbachstrasse",
          "Zollikon, Bahnübergang",
          "Zollikon, Felbenstrasse",
          "Zollikon, Dufourplatz",
          "Zürich, Meierhofplatz",
          "Zürich Oerlikon, Bahnhof",
          "Zürich, Escher-Wyss-Platz",
          "Zürich, Schaufelbergerstrasse",
          "Zürich, Rote Fabrik",
          "Zürich, Bahnhofplatz/HB",
          "Zürich, Bahnhofquai/HB",
          "Zürich, Altried",
          "Zürich, Central",
          "Zürich, Farbhof",
          "Dübendorf, Hoffnung",
          "Dübendorf, Kämmaten",
          "Gockhausen, Ursprungstrasse",
          "Zürich, Aargauerstrasse",
          "Zürich, Albisgütli",
          "Zürich, Albisrank",
          "Zürich, Albisrieden",
          "Zürich, Albisriederdörfli",
          "Zürich, Albisriederplatz",
          "Zürich, Alte Trotte",
          "Zürich, Altenhofstrasse",
          "Zürich, Althoos",
          "Zürich, Am Börtli",
          "Zürich, Appenzellerstrasse",
          "Zürich, Aubrücke",
          "Zürich, Auzelg",
          "Zürich, Auzelg Ost",
          "Zürich, Bachmattstrasse",
          "Zürich, Bäckeranlage",
          "Zürich, Bad Allenmoos",
          "Zürich Altstetten, Bahnhof",
          "Zürich Altstetten, Bahnhof N",
          "Zürich Enge, Bahnhof",
          "Zürich Enge, Bahnhof/Bederstr.",
          "Zürich Hardbrücke, Bahnhof",
          "Zürich Oerlikon, Bahnhof Nord",
          "Zürich Oerlikon, Bahnhof Ost",
          "Zürich Selnau, Bahnhof",
          "Stettbach, Bahnhof",
          "Bahnhof",
          "Zürich Wipkingen, Bahnhof",
          "Zürich, Bahnhofstrasse/HB",
          "Zürich, Bändliweg",
          "Zürich, Baslerstrasse",
          "Zürich, Beckenhof",
          "Zürich, Berghaldenstrasse",
          "Zürich, Berninaplatz",
          "Zürich, Bernoulli-Häuser",
          "Zürich, Bertastrasse",
          "Zürich, Berufswahlschule",
          "Zürich, Besenrainstrasse",
          "Zürich, Bethanien",
          "Zürich, Bezirksgebäude",
          "Zürich Wollishofen, Bhf/Werft",
          "Zürich Wollishofen,Bhf/Staubst",
          "Zürich, Billoweg",
          "Zürich, Grubenstrasse",
          "Zürich, Binz Center",
          "Zürich, Birchdörfli",
          "Zürich, Bircher-Benner",
          "Zürich, Birchstrasse",
          "Zürich, Bleulerstrasse",
          "Zürich, Bollingerweg",
          "Zürich, Kantonalbank",
          "Zürich, Botanischer Garten",
          "Zürich, Bristenstrasse",
          "Zürich, Brunau/Mutschellenstr.",
          "Zürich, Brunaustrasse",
          "Zürich, Bucheggplatz",
          "Zürich, Buchholz",
          "Zürich, Buhnstrasse",
          "Zürich, Burgwies",
          "Zürich, Bürkliplatz",
          "Zürich, Butzenstrasse",
          "Zürich, Zentrum Witikon",
          "Zürich, Chaletweg",
          "Zürich, Chinagarten",
          "Zürich, Löwenbräu",
          "Zürich, Dangelstrasse",
          "Zürich, Dorflinde",
          "Zürich, Dreispitz",
          "Zürich, Dreiwiesen",
          "Zürich, Drusbergstrasse",
          "Zürich, Einfangstrasse",
          "Zürich, Englischviertelstrasse",
          "Zürich, EPI-Klinik",
          "Zürich, Eschergutweg",
          "Zürich, ETH Hönggerberg",
          "Zürich, ETH/Universitätsspital",
          "Zürich, Fellenbergstrasse",
          "Zürich, Felsenrainstrasse",
          "Zürich, Fernsehstudio",
          "Zürich, Fischerweg",
          "Zürich, Flobotstrasse",
          "Zürich, Flühgasse",
          "Zürich, Flurstrasse",
          "Zürich, Förrlibuckstrasse",
          "Zürich, Freiestrasse",
          "Zürich, Freihofstrasse",
          "Zürich, Friedackerstrasse",
          "Zürich, Friedhof Eichbühl",
          "Zürich, Friedhof Enzenbühl",
          "Zürich, Friedhof Hönggerberg",
          "Zürich, Friedhof Schwandenholz",
          "Zürich, Friedhof Sihlfeld",
          "Zürich, Friedhof Uetliberg",
          "Zürich, Friedrichstrasse",
          "Zürich, Friesenberg",
          "Zürich, Friesenberghalde",
          "Zürich, Friesenbergstrasse",
          "Zürich, Frohburg",
          "Zürich, Germaniastrasse",
          "Zürich, Glattwiesen",
          "Zürich, Glaubtenstrasse",
          "Zürich, Glaubtenstrasse Süd",
          "Zürich, Glockenacker",
          "Zürich, Goldackerweg",
          "Zürich, Goldauerstrasse",
          "Zürich, Grimselstrasse",
          "Zürich, Grünaustrasse",
          "Zürich, Guggachstrasse",
          "Zürich, Güterbahnhof",
          "Zürich, Gutstrasse",
          "Zürich, Hadlaubstrasse",
          "Zürich, Hagenholz",
          "Zürich, Haldenbach",
          "Zürich, Haldenegg",
          "Zürich, Hallenbad Oerlikon",
          "Zürich, Hardhof",
          "Zürich, Hardplatz",
          "Zürich, Hardturm",
          "Zürich, Hedwigsteig",
          "Zürich, Heerenwiesen",
          "Zürich, Hegianwandweg",
          "Zürich, Helmhaus",
          "Zürich, Helvetiaplatz",
          "Zürich, Herdernstrasse",
          "Zürich, Hertensteinstrasse",
          "Zürich, Herzogenmühlestrasse",
          "Zürich, Heubeeriweg",
          "Zürich, Himmeri",
          "Zürich, Hinterbergstrasse",
          "Zürich, Hirschwiesenstrasse",
          "Zürich, Hirzenbach",
          "Zürich, Höfliweg",
          "Zürich, Hofstrasse",
          "Zürich, Hohenklingensteig",
          "Zürich, Hölderlinsteig",
          "Zürich, Hölderlinstrasse",
          "Zürich, Hönggerberg",
          "Zürich, Hottingerplatz",
          "Zürich, Hubertus",
          "Zürich, Hügelstrasse",
          "Zürich, Hürstholz",
          "Zürich, Im Gut",
          "Zürich, Im Hagacker",
          "Zürich, Im Klösterli",
          "Zürich, Im Walder",
          "Zürich, Im Wingert",
          "Zürich, In der Ey",
          "Zürich, Jugendherberge",
          "Zürich, Kalchbühlweg",
          "Zürich,Kalkbreite/Bhf.Wiedikon",
          "Zürich, Kanonengasse",
          "Zürich, Kantonsschule",
          "Zürich, Kapfstrasse",
          "Zürich, Kappeli",
          "Zürich, Kappenbühlweg",
          "Zürich, Genossenschaftsstrasse",
          "Zürich, Kempfhofsteig",
          "Zürich, Kernstrasse",
          "Zürich, Kinkelstrasse",
          "Zürich, Kirche Fluntern",
          "Zürich, Klosbach",
          "Zürich, Klusplatz",
          "Zürich, Krematorium Nordheim",
          "Zürich, Altes Krematorium",
          "Zürich, Kronenstrasse",
          "Zürich, Krönleinstrasse",
          "Zürich, Kunsthaus",
          "Zürich, Lägernstrasse",
          "Zürich, Landiwiese",
          "Zürich, Langensteinenstrasse",
          "Zürich, Langgrütstrasse",
          "Zürich, Langmauerstrasse",
          "Zürich, Laubegg",
          "Zürich, Laubiweg",
          "Zürich, Lehenstrasse",
          "Zürich, Lerchenhalde",
          "Zürich, Lerchenrain",
          "Zürich, Lettenstrasse",
          "Zürich, Letzigrund",
          "Zürich, Letzipark",
          "Zürich, Letzipark West",
          "Zürich, Letzistrasse",
          "Zürich, Leutschenbach",
          "Zürich, Limmatplatz",
          "Zürich, Lindenplatz",
          "Zürich, Lochergut",
          "Zürich, Loorenstrasse",
          "Zürich, Löwenplatz",
          "Zürich, Luchswiesen",
          "Zürich, Luegisland",
          "Zürich, Letzibach",
          "Zürich, Maienweg",
          "Zürich, Maillartstrasse",
          "Zürich, Manegg",
          "Zürich, Manesseplatz",
          "Zürich, Mattenhof",
          "Zürich, Max-Bill-Platz",
          "Zürich, Messe/Hallenstadion",
          "Zürich, Michelstrasse",
          "Zürich, Milchbuck",
          "Zürich, Militär-/Langstrasse",
          "Zürich, Morgental",
          "Zürich, Mötteliweg",
          "Zürich, Museum für Gestaltung",
          "Zürich, Museum Rietberg",
          "Zürich, Neuaffoltern",
          "Zürich, Neumarkt",
          "Zürich, Neunbrunnen",
          "Zürich, Nordheimstrasse",
          "Zürich, Nordstrasse",
          "Zürich, Nürenbergstrasse",
          "Zürich, Oberwiesenstrasse",
          "Zürich, Oerlikerhus",
          "Zürich, Okenstrasse",
          "Zürich, Orionstrasse",
          "Zürich, Ottikerstrasse",
          "Zürich, Paradeplatz",
          "Zürich, Stodolastrasse",
          "Zürich, Pflegezentr. Käferberg",
          "Zürich, Platte",
          "Zürich, Post Wollishofen",
          "Zürich, Probstei",
          "Zürich, Quellenstrasse",
          "Zürich, Radiostudio",
          "Zürich, Räffelstrasse",
          "Zürich, Rathaus",
          "Zürich, Rautistrasse",
          "Zürich, Rebbergsteig",
          "Zürich, Regensbergbrücke",
          "Zürich, Rehalp",
          "Zürich, Rennweg",
          "Zürich, Rentenanstalt",
          "Zürich, Riedbach",
          "Zürich, Riedgraben",
          "Zürich, Röntgenstrasse",
          "Zürich, Rosengartenstrasse",
          "Zürich, Röslistrasse",
          "Zürich, Roswiesen",
          "Zürich, Rotbuchstrasse",
          "Zürich, Rudolf-Brun-Brücke",
          "Zürich, Saalsporthalle",
          "Zürich, Saatlenstrasse",
          "Zürich, Sackzelg",
          "Zürich, Salersteig",
          "Zürich, SBB-Werkstätte",
          "Zürich, Schaffhauserplatz",
          "Zürich, Schäppiweg",
          "Zürich, Schauenberg",
          "Zürich, Scheuchzerstrasse",
          "Zürich, Schlyfi",
          "Zürich, Schmiede Wiedikon",
          "Zürich, Schörlistrasse",
          "Zürich, Schulhaus Altweg",
          "Zürich, Schulhaus Buchlern",
          "Zürich, Schumacherweg",
          "Zürich, Schürgistrasse",
          "Zürich, Schützenhaus Höngg",
          "Zürich, Schwamendingerplatz",
          "Zürich, Schweighof",
          "Zürich, Schweizer Rück",
          "Zürich, Schwert",
          "Zürich, Seebach",
          "Zürich, Seebacherplatz",
          "Zürich, Seerose",
          "Zürich, Segantinistrasse",
          "Zürich, Segeten",
          "Zürich, Seidelhof",
          "Zürich, Seilbahn Rigiblick",
          "Zürich, Siemens",
          "Zürich, Signaustrasse",
          "Zürich, Sihlcity",
          "Zürich, Sihlcity Nord",
          "Zürich, Sihlpost/HB",
          "Zürich, Sihlquai/HB",
          "Zürich, Sihlstrasse",
          "Zürich, Singlistrasse",
          "Zürich, Solidapark",
          "Zürich, Sonneggstrasse",
          "Zürich, Sportweg",
          "Zürich, Sprecherstrasse",
          "Zürich, Spyriplatz",
          "Zürich, Spyristeig",
          "Zürich, Stadtgrenze",
          "Zürich, Stampfenbachplatz",
          "Zürich, Staudenbühl",
          "Zürich, Stauffacher",
          "Zürich, Sternen Oerlikon",
          "Zürich, Stierenried",
          "Zürich, Stockerstrasse",
          "Zürich, Strassenverkehrsamt",
          "Zürich, Strickhof",
          "Zürich, Sukkulentensammlung",
          "Zürich, Susenbergstrasse",
          "Zürich, Talwiesenstrasse",
          "Zürich, Technopark",
          "Zürich, Thujastrasse",
          "Zürich, Tierspital",
          "Zürich, Titlisstrasse",
          "Zürich, Tobelhof",
          "Zürich, Toblerplatz",
          "Zürich, Toni-Areal",
          "Zürich, Triemlispital",
          "Zürich, Tüffenwies",
          "Zürich, Tunnelstrasse",
          "Zürich, Uetlihof",
          "Zürich, Universität Irchel",
          "Zürich, Untermoosstrasse",
          "Zürich, Verenastrasse",
          "Zürich, Vogelsangstrasse",
          "Zürich, Voltastrasse",
          "Zürich, Vulkanstrasse",
          "Zürich, Waffenplatz-/Bederstr.",
          "Zürich, Waffenplatzstrasse",
          "Zürich, Waidbadstrasse",
          "Zürich, Waidfussweg",
          "Zürich, Waidspital",
          "Zürich, Waldgarten",
          "Zürich, Waldhaus Dolder",
          "Zürich, Wartau",
          "Zürich, Waserstrasse",
          "Zürich, Weihersteig",
          "Zürich, Werd",
          "Zürich, Werdhölzli",
          "Zürich, Wetlistrasse",
          "Zürich, Widmerstrasse",
          "Zürich, Wieslergasse",
          "Zürich, Wiesliacher",
          "Zürich, Winkelriedstrasse",
          "Zürich, Winzerhalde",
          "Zürich, Winzerstrasse",
          "Zürich, Winzerstrasse Süd",
          "Zürich, Wipkingerplatz",
          "Zürich, Buchzelgstrasse",
          "Zürich, Wollishoferplatz",
          "Zürich, Wonnebergstrasse",
          "Zürich, Zielweg",
          "Zürich, Zoo",
          "Zürich, Zoo/Forrenweid",
          "Zürich, Zürichbergstrasse",
          "Zürich, Zweiackerstrasse",
          "Zürich, Zwielplatz",
          "Zürich, Zwinglihaus",
          "Zürich, Zypressenstrasse",
          "Zürich, Binz",
          "Glattpark, Glattpark",
          "Gockhausen, Dorf",
          "Zürich, Würzgraben",
          "Glattpark, Wright-Strasse",
          "Zürich, Schiffbau",
          "Zürich, Schanzackerstrasse",
          "Zürich, Glaubtenstrasse Nord",
          "Zürich, Bus Station",
          "Zürich Tiefenbrunnen",
          "Zürich HB SZU"
         ],
         "lat": [
          47.3516780901371,
          47.3481237143728,
          47.3702920484894,
          47.3914841248792,
          47.3666111556789,
          47.3501261233109,
          47.411530894433,
          47.4187524287319,
          47.3474420259121,
          47.3640982664424,
          47.3714783972162,
          47.3930409564212,
          47.385195516951,
          47.362765717286,
          47.3647979933886,
          47.3649440221893,
          47.3649926983664,
          47.352073682225,
          47.3663495287263,
          47.3680896277911,
          47.3732000763623,
          47.3516415737949,
          47.3577942209058,
          47.3774279898193,
          47.3722388631333,
          47.3626135976618,
          47.3379339888824,
          47.3972125517017,
          47.3790460655592,
          47.371028196226,
          47.3765398519527,
          47.3768561767436,
          47.3681504693771,
          47.3656619912465,
          47.3526214202206,
          47.3386827632592,
          47.3454699490061,
          47.3498644146043,
          47.3654429508751,
          47.3676819873548,
          47.3642382125742,
          47.41655203245,
          47.3517754669262,
          47.3873303219428,
          47.3545749727743,
          47.361688700906,
          47.3648770923725,
          47.3730175688688,
          47.3714297270242,
          47.3677549978138,
          47.3504182617297,
          47.3427977889857,
          47.3407524908453,
          47.3670918157679,
          47.3573865009083,
          47.3654125285294,
          47.3631855651727,
          47.3605143020546,
          47.3579950370599,
          47.3551713700479,
          47.3531874101771,
          47.3459203681249,
          47.343205621699,
          47.3404359495289,
          47.4020100860391,
          47.411494419524,
          47.3907969150758,
          47.3689048992124,
          47.342730831075,
          47.3772394138519,
          47.3775618175159,
          47.4056277095638,
          47.3768440104406,
          47.3911313988428,
          47.3960024582124,
          47.3894893672541,
          47.3848488310571,
          47.3921774071053,
          47.3519945640447,
          47.3798185879667,
          47.3743802762382,
          47.3753171171281,
          47.3782127019246,
          47.3975956408339,
          47.3553052542238,
          47.4107041236259,
          47.3996265747874,
          47.3989090681422,
          47.4108804214308,
          47.417093022381,
          47.4133424497947,
          47.3889237667504,
          47.3786689245241,
          47.4058952214384,
          47.3911070728222,
          47.392067942097,
          47.3641286895461,
          47.3645546111557,
          47.3852015991393,
          47.4124062846703,
          47.413336370854,
          47.3706692494397,
          47.3972733596864,
          47.3972733596864,
          47.3934423195962,
          47.3762235252641,
          47.3963551516466,
          47.3887656407927,
          47.3840824646745,
          47.3585062020036,
          47.4036395673838,
          47.3937646241752,
          47.3738875155843,
          47.4043752495356,
          47.3454821225463,
          47.3809134822248,
          47.3741673555329,
          47.347588102752,
          47.3470342259279,
          47.3514650777846,
          47.3628387345498,
          47.3619016719907,
          47.4075367418319,
          47.3757368651146,
          47.4130445808784,
          47.3471742173224,
          47.414284677109,
          47.3681687218392,
          47.3593398770608,
          47.3900792881945,
          47.355147027434,
          47.3561328943156,
          47.398410456075,
          47.360928082871,
          47.4222534222046,
          47.35801937836,
          47.3665381436366,
          47.3414099167461,
          47.3583236436636,
          47.4133728444873,
          47.3545141155307,
          47.388400732926,
          47.3345491527085,
          47.4074029902327,
          47.4107953122193,
          47.3788209978467,
          47.3603439207751,
          47.4157010258045,
          47.3667328421914,
          47.348647147751,
          47.3962700189648,
          47.4086796961913,
          47.3772880786823,
          47.3757186152716,
          47.4167890961376,
          47.4181749855684,
          47.3935700254199,
          47.3805789336139,
          47.3504608651139,
          47.3815582426502,
          47.3922138953909,
          47.3628022259305,
          47.3832309334045,
          47.4059377800205,
          47.3828781521344,
          47.3509721030431,
          47.4089350336695,
          47.4213478055902,
          47.3759315297134,
          47.358707015448,
          47.403937489493,
          47.3642868894025,
          47.3611167171662,
          47.3620659633829,
          47.4042354099174,
          47.3872999122223,
          47.4016027078276,
          47.4141691791835,
          47.4136585537406,
          47.3609767627537,
          47.3718920920352,
          47.3862051506003,
          47.386965404139,
          47.395230172966,
          47.3957105722057,
          47.3803112931966,
          47.3717339149876,
          47.3867951082994,
          47.414406253599,
          47.3802930449369,
          47.3796482690385,
          47.4107041236259,
          47.3963490707453,
          47.3823428932854,
          47.3941659818386,
          47.3604230264376,
          47.4047157270536,
          47.3566440772991,
          47.3700730273448,
          47.3763573560178,
          47.384830584368,
          47.4228794433749,
          47.4075306622211,
          47.3816555642937,
          47.4198769051392,
          47.3801044792164,
          47.4002711063242,
          47.4032504420914,
          47.3675785556983,
          47.3733643325664,
          47.4013473348052,
          47.3670005515309,
          47.3661122380425,
          47.404934604296,
          47.3694707145073,
          47.377379325118,
          47.3585427135958,
          47.4168863527264,
          47.3736137576758,
          47.3592668549544,
          47.3846298703704,
          47.3481176279077,
          47.4014263789682,
          47.3692395218944,
          47.3480019849363,
          47.3405333470592,
          47.3744228602761,
          47.3784681870667,
          47.3727194719378,
          47.3611532269519,
          47.3849887221308,
          47.4029646763743,
          47.415202572668,
          47.3973037636525,
          47.3745080282487,
          47.3888872761869,
          47.3763999384591,
          47.3700304397943,
          47.3640374201824,
          47.4053662761919,
          47.3778051397306,
          47.3879567582815,
          47.3841919462684,
          47.3704380620805,
          47.3959112440089,
          47.3509842753143,
          47.3924936380744,
          47.3737415115433,
          47.3935396192995,
          47.3587313564196,
          47.394993012233,
          47.3961423196842,
          47.4116342398713,
          47.4142907559401,
          47.390571897529,
          47.3812358634232,
          47.3877743018639,
          47.3863632842396,
          47.3906813656447,
          47.4146433269471,
          47.3845994590919,
          47.3878168750845,
          47.3754144502921,
          47.3598631991991,
          47.3758950301558,
          47.4068740601267,
          47.4060107375098,
          47.3890818922336,
          47.4078468010511,
          47.4162055528328,
          47.3369660452942,
          47.3654429508751,
          47.3986415207903,
          47.4140476021462,
          47.4109594512897,
          47.4063268854622,
          47.3977902247233,
          47.3795996063866,
          47.3439482343686,
          47.413956419184,
          47.3821239221899,
          47.3607211928684,
          47.4118470092527,
          47.3727742245616,
          47.4167039964751,
          47.4035422863301,
          47.3883277510495,
          47.3922564650255,
          47.4104791910869,
          47.4175853791724,
          47.3880114950836,
          47.4167222321287,
          47.385189434762,
          47.3697323259786,
          47.3569057523862,
          47.3996569773956,
          47.3750068664689,
          47.3444717091534,
          47.4002224627097,
          47.3867403702341,
          47.4019796847888,
          47.3627474629542,
          47.371739998729,
          47.3833464991692,
          47.396902429888,
          47.4088256034733,
          47.3510268782417,
          47.3730662375955,
          47.3633863608069,
          47.4144791993582,
          47.4108013914533,
          47.3819353630178,
          47.394330172729,
          47.388662250487,
          47.4029525160966,
          47.3912773547304,
          47.373948350482,
          47.3578611597087,
          47.4108074706865,
          47.3743863596743,
          47.406083694898,
          47.386563991637,
          47.39163007979,
          47.3897387160861,
          47.4161994742227,
          47.3877925475341,
          47.3625892584812,
          47.3701521184186,
          47.4059438598151,
          47.3722753652215,
          47.3846663638813,
          47.412096252292,
          47.4088377623952,
          47.4097314354713,
          47.4045941281927,
          47.3647736552158,
          47.3598814545288,
          47.3997299435837,
          47.4218644344265,
          47.419864748766,
          47.3389140897814,
          47.4074455475966,
          47.3557495038281,
          47.3919219883989,
          47.3859132103277,
          47.3784621041015,
          47.3632281582498,
          47.3579706957486,
          47.3600640074787,
          47.3760957774096,
          47.3798733332196,
          47.3722692815419,
          47.4051109214132,
          47.3877256467126,
          47.3828416573855,
          47.3916239983435,
          47.3674933765347,
          47.3822820680724,
          47.3862538071552,
          47.3350422808333,
          47.3802930449369,
          47.4200835630557,
          47.3734251680677,
          47.4100718783688,
          47.4166188966751,
          47.3678705975006,
          47.3531508948792,
          47.3935761066419,
          47.3549279434034,
          47.3785350996374,
          47.3699452645904,
          47.3890575652671,
          47.3501869856148,
          47.4019006414559,
          47.3709734417894,
          47.3830849552342,
          47.3790886458292,
          47.390042798431,
          47.3659662124757,
          47.3979240007304,
          47.3661426599847,
          47.3567353594536,
          47.3961605624575,
          47.3798307535834,
          47.3408255385719,
          47.3835411356741,
          47.3768683430438,
          47.3943484161296,
          47.3616643612987,
          47.3614818138862,
          47.3989759547678,
          47.3954977376399,
          47.3991644529834,
          47.4037186081076,
          47.3732426613532,
          47.4027701115948,
          47.3583175583747,
          47.3977902247233,
          47.3723240346332,
          47.3978327898533,
          47.3601552837168,
          47.336777324666,
          47.4040651698812,
          47.3552139695953,
          47.3831944388998,
          47.4000582901792,
          47.4037672484941,
          47.403372044054,
          47.3925909395293,
          47.3591816623693,
          47.3384392605619,
          47.3518484994001,
          47.3588226349632,
          47.3815704078655,
          47.3804998581775,
          47.3787297539058,
          47.3570518030333,
          47.4021864129448,
          47.3715088160635,
          47.3766919314159,
          47.3629665145182,
          47.4203813921555,
          47.3820083537451,
          47.392092267674,
          47.420521188907,
          47.3880297406717,
          47.3920253723101,
          47.4147466662776,
          47.3810655490734,
          47.3501261233109,
          47.3773914912976
         ],
         "legendgroup": "0",
         "lon": [
          8.52195777551452,
          8.53332146386021,
          8.51391785372053,
          8.48896265512422,
          8.54848502585826,
          8.56138483334001,
          8.54413717988252,
          8.54465820274738,
          8.53359994159833,
          8.53082414737001,
          8.52348491149773,
          8.52937785976238,
          8.51712483928528,
          8.5182926491548,
          8.50750388259102,
          8.50353332903466,
          8.49537662625372,
          8.48755230012795,
          8.54812569974456,
          8.56027990554039,
          8.57452718594851,
          8.52623375626752,
          8.52196675866736,
          8.53916949636064,
          8.53172246265426,
          8.52201167443157,
          8.51963113892832,
          8.59614065168743,
          8.54157698132242,
          8.54196325689465,
          8.54403836520125,
          8.54640093439881,
          8.49537662625372,
          8.5410020595405,
          8.5531293158778,
          8.5675203267314,
          8.53665421356476,
          8.56058533273703,
          8.54485583210991,
          8.5229908380914,
          8.52750936397115,
          8.55508764319746,
          8.5766202605608,
          8.55341677676876,
          8.57502125935484,
          8.5606212653484,
          8.5540815300791,
          8.54263699335783,
          8.52418559741944,
          8.48748043490521,
          8.56098957461495,
          8.56732269736887,
          8.57597347355614,
          8.54511634354234,
          8.55041640371939,
          8.54764959264391,
          8.54979656617326,
          8.55206032068955,
          8.5542072942189,
          8.55690224007163,
          8.55886955054413,
          8.56615488749935,
          8.56963136764938,
          8.57261377439307,
          8.49937412926861,
          8.54479295004002,
          8.5223979500038,
          8.50184449630028,
          8.53601640971295,
          8.53934017626465,
          8.54173867807358,
          8.59100228826155,
          8.54393955051998,
          8.47917101852595,
          8.59995849164547,
          8.59665269139945,
          8.6000483231739,
          8.50249128330494,
          8.5077104951064,
          8.49466695717917,
          8.48478548905248,
          8.48521668038892,
          8.51039645780629,
          8.50765659618934,
          8.56141178279854,
          8.52405983327965,
          8.50714455647732,
          8.50952509198057,
          8.57212868413958,
          8.56884085019924,
          8.57216461675095,
          8.48305174055389,
          8.52310761907835,
          8.53778609082291,
          8.48837875018946,
          8.48990588617267,
          8.53156974905593,
          8.53045583810347,
          8.5171068729796,
          8.54393056736714,
          8.54584397892258,
          8.53200992354522,
          8.59613166853459,
          8.59613166853459,
          8.52952159020786,
          8.5394569572516,
          8.48501006787354,
          8.49014843129942,
          8.54044510406427,
          8.59002312460173,
          8.54791010407634,
          8.50870762507191,
          8.51346869607841,
          8.53333044701305,
          8.527859706932,
          8.55599494163454,
          8.52556001980434,
          8.53434554328425,
          8.5329172219823,
          8.53197399093385,
          8.51167206550992,
          8.51105222796379,
          8.53059956854895,
          8.56479843142014,
          8.53585471296178,
          8.57158969496903,
          8.53790287180986,
          8.53974441814256,
          8.55783648796725,
          8.48705822672162,
          8.52714105470461,
          8.53221653606059,
          8.53328553124884,
          8.58870260113389,
          8.53894491753958,
          8.57186817270715,
          8.54078646387228,
          8.53031210765799,
          8.58659156021591,
          8.53121940609508,
          8.55294965282095,
          8.52607205951636,
          8.52997074784998,
          8.54925757700271,
          8.56716998377055,
          8.57564109690097,
          8.57883909931288,
          8.51292970690786,
          8.55816886462242,
          8.57065544707342,
          8.51204037477646,
          8.5077104951064,
          8.54823349757867,
          8.48841468280083,
          8.54529600659919,
          8.56174415945371,
          8.51212122315204,
          8.56804134959626,
          8.56947865405106,
          8.49198997763212,
          8.51715178874381,
          8.56297485139313,
          8.49937412926861,
          8.5531921979477,
          8.47453571165925,
          8.58027640376767,
          8.49413695116146,
          8.53775914136438,
          8.51089053121262,
          8.50060482120802,
          8.5690654290203,
          8.50799795599736,
          8.50240145177651,
          8.50509639762925,
          8.56261552527943,
          8.55252744463736,
          8.58175862398668,
          8.51893943615946,
          8.51868790787987,
          8.59930272148798,
          8.48792959254734,
          8.55015589228695,
          8.49008554922952,
          8.4892141834038,
          8.54013967686763,
          8.51997249873634,
          8.50665048307099,
          8.55133268530932,
          8.55552781768674,
          8.54837722802415,
          8.5445144723019,
          8.55586019434191,
          8.49746970086601,
          8.51452870811382,
          8.50450350954165,
          8.56503199339405,
          8.576323816517,
          8.51001018223407,
          8.54329276351533,
          8.5253623904418,
          8.50916576586688,
          8.54349039287786,
          8.57270360592149,
          8.56461876836329,
          8.53865745664862,
          8.55457560348544,
          8.54350835918355,
          8.59116398501272,
          8.51096239643537,
          8.56155551324402,
          8.49021131336931,
          8.56504097654689,
          8.56239992961121,
          8.50473707151555,
          8.55440492358143,
          8.49914955044755,
          8.52699732425913,
          8.52286507395161,
          8.50336264913066,
          8.5077104951064,
          8.57693467091029,
          8.57436548919735,
          8.5088333892117,
          8.49162166836558,
          8.52821004989286,
          8.53152483329172,
          8.52133793796839,
          8.53030312450515,
          8.5505242015535,
          8.5712034193968,
          8.49539459255941,
          8.49824225201046,
          8.56237298015268,
          8.51002814853975,
          8.52426644579503,
          8.54633805232891,
          8.55939057340899,
          8.56415164441549,
          8.56649624730736,
          8.52824598250423,
          8.50787219185756,
          8.53912458059643,
          8.56103449037916,
          8.54914079601576,
          8.53218060344922,
          8.5342287622973,
          8.54976063356189,
          8.50106296200299,
          8.54478396688717,
          8.51708890667391,
          8.53633980321527,
          8.52071810042226,
          8.50987543494143,
          8.5094891593692,
          8.53273755892545,
          8.5037309583972,
          8.49921243251745,
          8.49646358774766,
          8.54549363596172,
          8.55130573585079,
          8.53162364797299,
          8.48611499567316,
          8.51752009801035,
          8.59452368417579,
          8.53741778155637,
          8.58587290798852,
          8.58139031472014,
          8.49469390663769,
          8.52638646986584,
          8.53209975507364,
          8.52034979115572,
          8.52163438201219,
          8.59092143988597,
          8.54133443619567,
          8.55009301021706,
          8.49560120507478,
          8.54177461068495,
          8.5276261449581,
          8.53014142775399,
          8.52645833508858,
          8.53493843137185,
          8.53156076590309,
          8.52503001378664,
          8.54735314860011,
          8.5382082990065,
          8.53052770332621,
          8.53616014015842,
          8.53343824484716,
          8.53281840730103,
          8.5542072942189,
          8.53413893076887,
          8.56616387065219,
          8.54241241453677,
          8.53891796808105,
          8.59056211377228,
          8.5176997610672,
          8.55264422562431,
          8.53296213774651,
          8.58659156021591,
          8.52874903906341,
          8.53518995965144,
          8.51466345540645,
          8.54287953848457,
          8.48409378628361,
          8.5149688826031,
          8.53927729419475,
          8.58298033277325,
          8.53845982728609,
          8.53503724605312,
          8.5581868309281,
          8.55883361793276,
          8.52926107877543,
          8.52546120512307,
          8.54049900298133,
          8.5769795866745,
          8.53611522439421,
          8.54293343740163,
          8.52040369007277,
          8.56286705355902,
          8.49551137354636,
          8.54847604270542,
          8.5033716322835,
          8.53871135556568,
          8.55089251082004,
          8.50692896080911,
          8.54423599456378,
          8.57414091037628,
          8.51926282966178,
          8.56387316667737,
          8.49419983323136,
          8.47857813043835,
          8.51478921954625,
          8.57959368415165,
          8.49704749268242,
          8.57189512216567,
          8.50269789582032,
          8.53551335315377,
          8.5046202905286,
          8.54977859986757,
          8.54836824487131,
          8.53813643378376,
          8.48996876824257,
          8.59430808850758,
          8.48372547701707,
          8.54836824487131,
          8.49402017017451,
          8.55762089229903,
          8.52226320271116,
          8.52302677070277,
          8.53420181283877,
          8.53760642776606,
          8.53457012210531,
          8.49349016415681,
          8.48849553117641,
          8.54368802224039,
          8.50585996562086,
          8.55225795005209,
          8.55197947231397,
          8.55620155414992,
          8.54146918348831,
          8.54278072380331,
          8.53538758901397,
          8.52925209562258,
          8.54623025449481,
          8.53548640369524,
          8.53542352162534,
          8.51132172254906,
          8.54751484535128,
          8.53430062752004,
          8.5680054169849,
          8.50965085612037,
          8.51535515817532,
          8.52780580801495,
          8.55179980925712,
          8.56495114501846,
          8.58599867212831,
          8.55934565764478,
          8.51058510401598,
          8.49689477908409,
          8.49472085609622,
          8.53253094641008,
          8.51396276948474,
          8.54482888265138,
          8.48338411720906,
          8.52538035674749,
          8.54906893079302,
          8.55452170456838,
          8.48408480313077,
          8.5265032508528,
          8.52574866601403,
          8.51354056130115,
          8.51840044698891,
          8.52170624723493,
          8.55719868411543,
          8.56854440615544,
          8.49163065151842,
          8.58405831111435,
          8.5285154770895,
          8.52684461066081,
          8.482018677977,
          8.56862525453102,
          8.53289027252377,
          8.49596053118848,
          8.59680540499778,
          8.54821553127299,
          8.4945681424979,
          8.48637550710559,
          8.486123978826,
          8.52357474302616,
          8.58524408728955,
          8.53015939405967,
          8.56654116307158,
          8.49758648185296,
          8.57155376235766,
          8.57808451447412,
          8.56410672865127,
          8.59788338333887,
          8.49680494755567,
          8.51595702941576,
          8.51376514012221,
          8.51831959861333,
          8.556767492779,
          8.5980810127014,
          8.49485560338886,
          8.55921091035214,
          8.51986470090223,
          8.54743399697569,
          8.51964910523401,
          8.53730100056942,
          8.56139381649285,
          8.53935814257034
         ],
         "marker": {
          "color": "#636efa"
         },
         "mode": "markers",
         "name": "0",
         "showlegend": true,
         "subplot": "mapbox",
         "type": "scattermapbox"
        },
        {
         "hovertemplate": "<b>%{hovertext}</b><br><br>color=1<br>latitude=%{lat}<br>longitude=%{lon}<extra></extra>",
         "hovertext": [
          "Zürich HB"
         ],
         "lat": [
          47.3781762039461
         ],
         "legendgroup": "1",
         "lon": [
          8.54021154209037
         ],
         "marker": {
          "color": "#EF553B"
         },
         "mode": "markers",
         "name": "1",
         "showlegend": true,
         "subplot": "mapbox",
         "type": "scattermapbox"
        },
        {
         "hovertemplate": "<b>%{hovertext}</b><br><br>color=2<br>latitude=%{lat}<br>longitude=%{lon}<extra></extra>",
         "hovertext": [
          "Zürich, Heuried"
         ],
         "lat": [
          47.3694098744442
         ],
         "legendgroup": "2",
         "lon": [
          8.50635403902719
         ],
         "marker": {
          "color": "#00cc96"
         },
         "mode": "markers",
         "name": "2",
         "showlegend": true,
         "subplot": "mapbox",
         "type": "scattermapbox"
        },
        {
         "hoverinfo": "none",
         "lat": [
          47.3694098744442,
          47.3699452645904
         ],
         "lon": [
          8.50635403902719,
          8.50965085612037
         ],
         "mode": "lines",
         "type": "scattermapbox"
        }
       ],
       "layout": {
        "legend": {
         "title": {
          "text": "color"
         },
         "tracegroupgap": 0
        },
        "mapbox": {
         "center": {
          "lat": 47.38108763531469,
          "lon": 8.535443230621192
         },
         "domain": {
          "x": [
           0,
           1
          ],
          "y": [
           0,
           1
          ]
         },
         "style": "open-street-map",
         "zoom": 13
        },
        "margin": {
         "t": 60
        },
        "showlegend": false,
        "template": {
         "data": {
          "bar": [
           {
            "error_x": {
             "color": "#2a3f5f"
            },
            "error_y": {
             "color": "#2a3f5f"
            },
            "marker": {
             "line": {
              "color": "#E5ECF6",
              "width": 0.5
             },
             "pattern": {
              "fillmode": "overlay",
              "size": 10,
              "solidity": 0.2
             }
            },
            "type": "bar"
           }
          ],
          "barpolar": [
           {
            "marker": {
             "line": {
              "color": "#E5ECF6",
              "width": 0.5
             },
             "pattern": {
              "fillmode": "overlay",
              "size": 10,
              "solidity": 0.2
             }
            },
            "type": "barpolar"
           }
          ],
          "carpet": [
           {
            "aaxis": {
             "endlinecolor": "#2a3f5f",
             "gridcolor": "white",
             "linecolor": "white",
             "minorgridcolor": "white",
             "startlinecolor": "#2a3f5f"
            },
            "baxis": {
             "endlinecolor": "#2a3f5f",
             "gridcolor": "white",
             "linecolor": "white",
             "minorgridcolor": "white",
             "startlinecolor": "#2a3f5f"
            },
            "type": "carpet"
           }
          ],
          "choropleth": [
           {
            "colorbar": {
             "outlinewidth": 0,
             "ticks": ""
            },
            "type": "choropleth"
           }
          ],
          "contour": [
           {
            "colorbar": {
             "outlinewidth": 0,
             "ticks": ""
            },
            "colorscale": [
             [
              0,
              "#0d0887"
             ],
             [
              0.1111111111111111,
              "#46039f"
             ],
             [
              0.2222222222222222,
              "#7201a8"
             ],
             [
              0.3333333333333333,
              "#9c179e"
             ],
             [
              0.4444444444444444,
              "#bd3786"
             ],
             [
              0.5555555555555556,
              "#d8576b"
             ],
             [
              0.6666666666666666,
              "#ed7953"
             ],
             [
              0.7777777777777778,
              "#fb9f3a"
             ],
             [
              0.8888888888888888,
              "#fdca26"
             ],
             [
              1,
              "#f0f921"
             ]
            ],
            "type": "contour"
           }
          ],
          "contourcarpet": [
           {
            "colorbar": {
             "outlinewidth": 0,
             "ticks": ""
            },
            "type": "contourcarpet"
           }
          ],
          "heatmap": [
           {
            "colorbar": {
             "outlinewidth": 0,
             "ticks": ""
            },
            "colorscale": [
             [
              0,
              "#0d0887"
             ],
             [
              0.1111111111111111,
              "#46039f"
             ],
             [
              0.2222222222222222,
              "#7201a8"
             ],
             [
              0.3333333333333333,
              "#9c179e"
             ],
             [
              0.4444444444444444,
              "#bd3786"
             ],
             [
              0.5555555555555556,
              "#d8576b"
             ],
             [
              0.6666666666666666,
              "#ed7953"
             ],
             [
              0.7777777777777778,
              "#fb9f3a"
             ],
             [
              0.8888888888888888,
              "#fdca26"
             ],
             [
              1,
              "#f0f921"
             ]
            ],
            "type": "heatmap"
           }
          ],
          "heatmapgl": [
           {
            "colorbar": {
             "outlinewidth": 0,
             "ticks": ""
            },
            "colorscale": [
             [
              0,
              "#0d0887"
             ],
             [
              0.1111111111111111,
              "#46039f"
             ],
             [
              0.2222222222222222,
              "#7201a8"
             ],
             [
              0.3333333333333333,
              "#9c179e"
             ],
             [
              0.4444444444444444,
              "#bd3786"
             ],
             [
              0.5555555555555556,
              "#d8576b"
             ],
             [
              0.6666666666666666,
              "#ed7953"
             ],
             [
              0.7777777777777778,
              "#fb9f3a"
             ],
             [
              0.8888888888888888,
              "#fdca26"
             ],
             [
              1,
              "#f0f921"
             ]
            ],
            "type": "heatmapgl"
           }
          ],
          "histogram": [
           {
            "marker": {
             "pattern": {
              "fillmode": "overlay",
              "size": 10,
              "solidity": 0.2
             }
            },
            "type": "histogram"
           }
          ],
          "histogram2d": [
           {
            "colorbar": {
             "outlinewidth": 0,
             "ticks": ""
            },
            "colorscale": [
             [
              0,
              "#0d0887"
             ],
             [
              0.1111111111111111,
              "#46039f"
             ],
             [
              0.2222222222222222,
              "#7201a8"
             ],
             [
              0.3333333333333333,
              "#9c179e"
             ],
             [
              0.4444444444444444,
              "#bd3786"
             ],
             [
              0.5555555555555556,
              "#d8576b"
             ],
             [
              0.6666666666666666,
              "#ed7953"
             ],
             [
              0.7777777777777778,
              "#fb9f3a"
             ],
             [
              0.8888888888888888,
              "#fdca26"
             ],
             [
              1,
              "#f0f921"
             ]
            ],
            "type": "histogram2d"
           }
          ],
          "histogram2dcontour": [
           {
            "colorbar": {
             "outlinewidth": 0,
             "ticks": ""
            },
            "colorscale": [
             [
              0,
              "#0d0887"
             ],
             [
              0.1111111111111111,
              "#46039f"
             ],
             [
              0.2222222222222222,
              "#7201a8"
             ],
             [
              0.3333333333333333,
              "#9c179e"
             ],
             [
              0.4444444444444444,
              "#bd3786"
             ],
             [
              0.5555555555555556,
              "#d8576b"
             ],
             [
              0.6666666666666666,
              "#ed7953"
             ],
             [
              0.7777777777777778,
              "#fb9f3a"
             ],
             [
              0.8888888888888888,
              "#fdca26"
             ],
             [
              1,
              "#f0f921"
             ]
            ],
            "type": "histogram2dcontour"
           }
          ],
          "mesh3d": [
           {
            "colorbar": {
             "outlinewidth": 0,
             "ticks": ""
            },
            "type": "mesh3d"
           }
          ],
          "parcoords": [
           {
            "line": {
             "colorbar": {
              "outlinewidth": 0,
              "ticks": ""
             }
            },
            "type": "parcoords"
           }
          ],
          "pie": [
           {
            "automargin": true,
            "type": "pie"
           }
          ],
          "scatter": [
           {
            "fillpattern": {
             "fillmode": "overlay",
             "size": 10,
             "solidity": 0.2
            },
            "type": "scatter"
           }
          ],
          "scatter3d": [
           {
            "line": {
             "colorbar": {
              "outlinewidth": 0,
              "ticks": ""
             }
            },
            "marker": {
             "colorbar": {
              "outlinewidth": 0,
              "ticks": ""
             }
            },
            "type": "scatter3d"
           }
          ],
          "scattercarpet": [
           {
            "marker": {
             "colorbar": {
              "outlinewidth": 0,
              "ticks": ""
             }
            },
            "type": "scattercarpet"
           }
          ],
          "scattergeo": [
           {
            "marker": {
             "colorbar": {
              "outlinewidth": 0,
              "ticks": ""
             }
            },
            "type": "scattergeo"
           }
          ],
          "scattergl": [
           {
            "marker": {
             "colorbar": {
              "outlinewidth": 0,
              "ticks": ""
             }
            },
            "type": "scattergl"
           }
          ],
          "scattermapbox": [
           {
            "marker": {
             "colorbar": {
              "outlinewidth": 0,
              "ticks": ""
             }
            },
            "type": "scattermapbox"
           }
          ],
          "scatterpolar": [
           {
            "marker": {
             "colorbar": {
              "outlinewidth": 0,
              "ticks": ""
             }
            },
            "type": "scatterpolar"
           }
          ],
          "scatterpolargl": [
           {
            "marker": {
             "colorbar": {
              "outlinewidth": 0,
              "ticks": ""
             }
            },
            "type": "scatterpolargl"
           }
          ],
          "scatterternary": [
           {
            "marker": {
             "colorbar": {
              "outlinewidth": 0,
              "ticks": ""
             }
            },
            "type": "scatterternary"
           }
          ],
          "surface": [
           {
            "colorbar": {
             "outlinewidth": 0,
             "ticks": ""
            },
            "colorscale": [
             [
              0,
              "#0d0887"
             ],
             [
              0.1111111111111111,
              "#46039f"
             ],
             [
              0.2222222222222222,
              "#7201a8"
             ],
             [
              0.3333333333333333,
              "#9c179e"
             ],
             [
              0.4444444444444444,
              "#bd3786"
             ],
             [
              0.5555555555555556,
              "#d8576b"
             ],
             [
              0.6666666666666666,
              "#ed7953"
             ],
             [
              0.7777777777777778,
              "#fb9f3a"
             ],
             [
              0.8888888888888888,
              "#fdca26"
             ],
             [
              1,
              "#f0f921"
             ]
            ],
            "type": "surface"
           }
          ],
          "table": [
           {
            "cells": {
             "fill": {
              "color": "#EBF0F8"
             },
             "line": {
              "color": "white"
             }
            },
            "header": {
             "fill": {
              "color": "#C8D4E3"
             },
             "line": {
              "color": "white"
             }
            },
            "type": "table"
           }
          ]
         },
         "layout": {
          "annotationdefaults": {
           "arrowcolor": "#2a3f5f",
           "arrowhead": 0,
           "arrowwidth": 1
          },
          "autotypenumbers": "strict",
          "coloraxis": {
           "colorbar": {
            "outlinewidth": 0,
            "ticks": ""
           }
          },
          "colorscale": {
           "diverging": [
            [
             0,
             "#8e0152"
            ],
            [
             0.1,
             "#c51b7d"
            ],
            [
             0.2,
             "#de77ae"
            ],
            [
             0.3,
             "#f1b6da"
            ],
            [
             0.4,
             "#fde0ef"
            ],
            [
             0.5,
             "#f7f7f7"
            ],
            [
             0.6,
             "#e6f5d0"
            ],
            [
             0.7,
             "#b8e186"
            ],
            [
             0.8,
             "#7fbc41"
            ],
            [
             0.9,
             "#4d9221"
            ],
            [
             1,
             "#276419"
            ]
           ],
           "sequential": [
            [
             0,
             "#0d0887"
            ],
            [
             0.1111111111111111,
             "#46039f"
            ],
            [
             0.2222222222222222,
             "#7201a8"
            ],
            [
             0.3333333333333333,
             "#9c179e"
            ],
            [
             0.4444444444444444,
             "#bd3786"
            ],
            [
             0.5555555555555556,
             "#d8576b"
            ],
            [
             0.6666666666666666,
             "#ed7953"
            ],
            [
             0.7777777777777778,
             "#fb9f3a"
            ],
            [
             0.8888888888888888,
             "#fdca26"
            ],
            [
             1,
             "#f0f921"
            ]
           ],
           "sequentialminus": [
            [
             0,
             "#0d0887"
            ],
            [
             0.1111111111111111,
             "#46039f"
            ],
            [
             0.2222222222222222,
             "#7201a8"
            ],
            [
             0.3333333333333333,
             "#9c179e"
            ],
            [
             0.4444444444444444,
             "#bd3786"
            ],
            [
             0.5555555555555556,
             "#d8576b"
            ],
            [
             0.6666666666666666,
             "#ed7953"
            ],
            [
             0.7777777777777778,
             "#fb9f3a"
            ],
            [
             0.8888888888888888,
             "#fdca26"
            ],
            [
             1,
             "#f0f921"
            ]
           ]
          },
          "colorway": [
           "#636efa",
           "#EF553B",
           "#00cc96",
           "#ab63fa",
           "#FFA15A",
           "#19d3f3",
           "#FF6692",
           "#B6E880",
           "#FF97FF",
           "#FECB52"
          ],
          "font": {
           "color": "#2a3f5f"
          },
          "geo": {
           "bgcolor": "white",
           "lakecolor": "white",
           "landcolor": "#E5ECF6",
           "showlakes": true,
           "showland": true,
           "subunitcolor": "white"
          },
          "hoverlabel": {
           "align": "left"
          },
          "hovermode": "closest",
          "mapbox": {
           "style": "light"
          },
          "paper_bgcolor": "white",
          "plot_bgcolor": "#E5ECF6",
          "polar": {
           "angularaxis": {
            "gridcolor": "white",
            "linecolor": "white",
            "ticks": ""
           },
           "bgcolor": "#E5ECF6",
           "radialaxis": {
            "gridcolor": "white",
            "linecolor": "white",
            "ticks": ""
           }
          },
          "scene": {
           "xaxis": {
            "backgroundcolor": "#E5ECF6",
            "gridcolor": "white",
            "gridwidth": 2,
            "linecolor": "white",
            "showbackground": true,
            "ticks": "",
            "zerolinecolor": "white"
           },
           "yaxis": {
            "backgroundcolor": "#E5ECF6",
            "gridcolor": "white",
            "gridwidth": 2,
            "linecolor": "white",
            "showbackground": true,
            "ticks": "",
            "zerolinecolor": "white"
           },
           "zaxis": {
            "backgroundcolor": "#E5ECF6",
            "gridcolor": "white",
            "gridwidth": 2,
            "linecolor": "white",
            "showbackground": true,
            "ticks": "",
            "zerolinecolor": "white"
           }
          },
          "shapedefaults": {
           "line": {
            "color": "#2a3f5f"
           }
          },
          "ternary": {
           "aaxis": {
            "gridcolor": "white",
            "linecolor": "white",
            "ticks": ""
           },
           "baxis": {
            "gridcolor": "white",
            "linecolor": "white",
            "ticks": ""
           },
           "bgcolor": "#E5ECF6",
           "caxis": {
            "gridcolor": "white",
            "linecolor": "white",
            "ticks": ""
           }
          },
          "title": {
           "x": 0.05
          },
          "xaxis": {
           "automargin": true,
           "gridcolor": "white",
           "linecolor": "white",
           "ticks": "",
           "title": {
            "standoff": 15
           },
           "zerolinecolor": "white",
           "zerolinewidth": 2
          },
          "yaxis": {
           "automargin": true,
           "gridcolor": "white",
           "linecolor": "white",
           "ticks": "",
           "title": {
            "standoff": 15
           },
           "zerolinecolor": "white",
           "zerolinewidth": 2
          }
         }
        }
       }
      }
     },
     "metadata": {},
     "output_type": "display_data"
    }
   ],
   "source": [
    "draw_itinerary(8591190,8591390)"
   ]
  },
  {
   "cell_type": "code",
   "execution_count": 8,
   "metadata": {},
   "outputs": [
    {
     "data": {
      "application/vnd.plotly.v1+json": {
       "config": {
        "plotlyServerURL": "https://plot.ly"
       },
       "data": [
        {
         "hovertemplate": "<b>%{hovertext}</b><br><br>color=0<br>latitude=%{lat}<br>longitude=%{lon}<extra></extra>",
         "hovertext": [
          "Zimmerberg-Basistunnel",
          "Zürich Wollishofen, Bahnhof",
          "Zürich, Goldbrunnenplatz",
          "Zürich Altstetten",
          "Zürich Stadelhofen",
          "Zürich Tiefenbrunnen",
          "Zürich Oerlikon",
          "Zürich Seebach",
          "Zürich Wollishofen",
          "Zürich Enge",
          "Zürich Wiedikon",
          "Zürich Wipkingen",
          "Zürich Hardbrücke",
          "Zürich Binz",
          "Zürich Friesenberg",
          "Zürich Schweighof",
          "Zürich Triemli",
          "Uetliberg",
          "Zürich Stadelhofen, Bahnhof",
          "Zürich, Römerhof",
          "Zürich, Dolder",
          "Zürich Brunau",
          "Zürich Saalsporthalle",
          "Zürich HB SZU",
          "Zürich Selnau",
          "Zürich Giesshübel",
          "Zürich Manegg",
          "Stettbach",
          "Zürich Landesmuseum (See)",
          "Zürich Storchen",
          "Zürich Central (Polybahn)",
          "Zürich Polyterrasse",
          "Zürich, Triemli",
          "Zürich Bürkliplatz (See)",
          "Zürichhorn (See)",
          "Zollikon (See)",
          "Zürich Wollishofen (See)",
          "Zürich Tiefenbrunnen (See)",
          "Zürich Bellevue (See)",
          "Zürich, Hertersteg",
          "Zürich, Kantonsschule Enge",
          "Zürich, Leutschenpark",
          "Zürich, Klinik Hirslanden",
          "Zürich, Rigiblick",
          "Zürich, Balgrist",
          "Zürich, Hegibachplatz",
          "Zürich, Kreuzplatz",
          "Zürich Limmatquai",
          "Zürich Wiedikon, Bahnhof",
          "Zürich, Sädlenweg",
          "Zürich Tiefenbrunnen, Bahnhof",
          "Zollikon, Seestrasse",
          "Zollikon, Gemeindehaus",
          "Zürich, Bellevue",
          "Zürich, Elektrowatt",
          "Zürich, Opernhaus",
          "Zürich, Kreuzstrasse",
          "Zürich, Feldeggstrasse",
          "Zürich, Höschgasse",
          "Zürich, Fröhlichstrasse",
          "Zürich, Wildbachstrasse",
          "Zollikon, Bahnübergang",
          "Zollikon, Felbenstrasse",
          "Zollikon, Dufourplatz",
          "Zürich, Meierhofplatz",
          "Zürich Oerlikon, Bahnhof",
          "Zürich, Escher-Wyss-Platz",
          "Zürich, Schaufelbergerstrasse",
          "Zürich, Rote Fabrik",
          "Zürich, Bahnhofplatz/HB",
          "Zürich, Bahnhofquai/HB",
          "Zürich, Altried",
          "Zürich, Central",
          "Zürich, Farbhof",
          "Dübendorf, Hoffnung",
          "Dübendorf, Kämmaten",
          "Gockhausen, Ursprungstrasse",
          "Zürich, Aargauerstrasse",
          "Zürich, Albisgütli",
          "Zürich, Albisrank",
          "Zürich, Albisrieden",
          "Zürich, Albisriederdörfli",
          "Zürich, Albisriederplatz",
          "Zürich, Alte Trotte",
          "Zürich, Altenhofstrasse",
          "Zürich, Althoos",
          "Zürich, Am Börtli",
          "Zürich, Appenzellerstrasse",
          "Zürich, Aubrücke",
          "Zürich, Auzelg",
          "Zürich, Auzelg Ost",
          "Zürich, Bachmattstrasse",
          "Zürich, Bäckeranlage",
          "Zürich, Bad Allenmoos",
          "Zürich Altstetten, Bahnhof",
          "Zürich Altstetten, Bahnhof N",
          "Zürich Enge, Bahnhof",
          "Zürich Enge, Bahnhof/Bederstr.",
          "Zürich Hardbrücke, Bahnhof",
          "Zürich Oerlikon, Bahnhof Nord",
          "Zürich Oerlikon, Bahnhof Ost",
          "Zürich Selnau, Bahnhof",
          "Stettbach, Bahnhof",
          "Bahnhof",
          "Zürich Wipkingen, Bahnhof",
          "Zürich, Bahnhofstrasse/HB",
          "Zürich, Bändliweg",
          "Zürich, Baslerstrasse",
          "Zürich, Beckenhof",
          "Zürich, Berghaldenstrasse",
          "Zürich, Berninaplatz",
          "Zürich, Bernoulli-Häuser",
          "Zürich, Bertastrasse",
          "Zürich, Berufswahlschule",
          "Zürich, Besenrainstrasse",
          "Zürich, Bethanien",
          "Zürich, Bezirksgebäude",
          "Zürich Wollishofen, Bhf/Werft",
          "Zürich Wollishofen,Bhf/Staubst",
          "Zürich, Billoweg",
          "Zürich, Grubenstrasse",
          "Zürich, Binz Center",
          "Zürich, Birchdörfli",
          "Zürich, Bircher-Benner",
          "Zürich, Birchstrasse",
          "Zürich, Bleulerstrasse",
          "Zürich, Bollingerweg",
          "Zürich, Kantonalbank",
          "Zürich, Botanischer Garten",
          "Zürich, Bristenstrasse",
          "Zürich, Brunau/Mutschellenstr.",
          "Zürich, Brunaustrasse",
          "Zürich, Bucheggplatz",
          "Zürich, Buchholz",
          "Zürich, Buhnstrasse",
          "Zürich, Burgwies",
          "Zürich, Bürkliplatz",
          "Zürich, Butzenstrasse",
          "Zürich, Zentrum Witikon",
          "Zürich, Chaletweg",
          "Zürich, Chinagarten",
          "Zürich, Löwenbräu",
          "Zürich, Dangelstrasse",
          "Zürich, Dorflinde",
          "Zürich, Dreispitz",
          "Zürich, Dreiwiesen",
          "Zürich, Drusbergstrasse",
          "Zürich, Einfangstrasse",
          "Zürich, Englischviertelstrasse",
          "Zürich, EPI-Klinik",
          "Zürich, Eschergutweg",
          "Zürich, ETH Hönggerberg",
          "Zürich, ETH/Universitätsspital",
          "Zürich, Fellenbergstrasse",
          "Zürich, Felsenrainstrasse",
          "Zürich, Fernsehstudio",
          "Zürich, Fischerweg",
          "Zürich, Flobotstrasse",
          "Zürich, Flühgasse",
          "Zürich, Flurstrasse",
          "Zürich, Förrlibuckstrasse",
          "Zürich, Freiestrasse",
          "Zürich, Freihofstrasse",
          "Zürich, Friedackerstrasse",
          "Zürich, Friedhof Eichbühl",
          "Zürich, Friedhof Enzenbühl",
          "Zürich, Friedhof Hönggerberg",
          "Zürich, Friedhof Schwandenholz",
          "Zürich, Friedhof Sihlfeld",
          "Zürich, Friedhof Uetliberg",
          "Zürich, Friedrichstrasse",
          "Zürich, Friesenberg",
          "Zürich, Friesenberghalde",
          "Zürich, Friesenbergstrasse",
          "Zürich, Frohburg",
          "Zürich, Germaniastrasse",
          "Zürich, Glattwiesen",
          "Zürich, Glaubtenstrasse",
          "Zürich, Glaubtenstrasse Süd",
          "Zürich, Glockenacker",
          "Zürich, Goldackerweg",
          "Zürich, Goldauerstrasse",
          "Zürich, Grimselstrasse",
          "Zürich, Grünaustrasse",
          "Zürich, Guggachstrasse",
          "Zürich, Güterbahnhof",
          "Zürich, Gutstrasse",
          "Zürich, Hadlaubstrasse",
          "Zürich, Hagenholz",
          "Zürich, Haldenbach",
          "Zürich, Haldenegg",
          "Zürich, Hallenbad Oerlikon",
          "Zürich, Hardhof",
          "Zürich, Hardplatz",
          "Zürich, Hardturm",
          "Zürich, Hedwigsteig",
          "Zürich, Heerenwiesen",
          "Zürich, Hegianwandweg",
          "Zürich, Helmhaus",
          "Zürich, Helvetiaplatz",
          "Zürich, Herdernstrasse",
          "Zürich, Hertensteinstrasse",
          "Zürich, Herzogenmühlestrasse",
          "Zürich, Heubeeriweg",
          "Zürich, Himmeri",
          "Zürich, Hinterbergstrasse",
          "Zürich, Hirschwiesenstrasse",
          "Zürich, Hirzenbach",
          "Zürich, Höfliweg",
          "Zürich, Hofstrasse",
          "Zürich, Hohenklingensteig",
          "Zürich, Hölderlinsteig",
          "Zürich, Hölderlinstrasse",
          "Zürich, Hönggerberg",
          "Zürich, Hottingerplatz",
          "Zürich, Hubertus",
          "Zürich, Hügelstrasse",
          "Zürich, Hürstholz",
          "Zürich, Im Gut",
          "Zürich, Im Hagacker",
          "Zürich, Im Klösterli",
          "Zürich, Im Walder",
          "Zürich, Im Wingert",
          "Zürich, In der Ey",
          "Zürich, Jugendherberge",
          "Zürich, Kalchbühlweg",
          "Zürich,Kalkbreite/Bhf.Wiedikon",
          "Zürich, Kanonengasse",
          "Zürich, Kantonsschule",
          "Zürich, Kapfstrasse",
          "Zürich, Kappeli",
          "Zürich, Kappenbühlweg",
          "Zürich, Genossenschaftsstrasse",
          "Zürich, Kempfhofsteig",
          "Zürich, Kernstrasse",
          "Zürich, Kinkelstrasse",
          "Zürich, Kirche Fluntern",
          "Zürich, Klosbach",
          "Zürich, Klusplatz",
          "Zürich, Krematorium Nordheim",
          "Zürich, Altes Krematorium",
          "Zürich, Kronenstrasse",
          "Zürich, Krönleinstrasse",
          "Zürich, Kunsthaus",
          "Zürich, Lägernstrasse",
          "Zürich, Landiwiese",
          "Zürich, Langensteinenstrasse",
          "Zürich, Langgrütstrasse",
          "Zürich, Langmauerstrasse",
          "Zürich, Laubegg",
          "Zürich, Laubiweg",
          "Zürich, Lehenstrasse",
          "Zürich, Lerchenhalde",
          "Zürich, Lerchenrain",
          "Zürich, Lettenstrasse",
          "Zürich, Letzigrund",
          "Zürich, Letzipark",
          "Zürich, Letzipark West",
          "Zürich, Letzistrasse",
          "Zürich, Leutschenbach",
          "Zürich, Limmatplatz",
          "Zürich, Lindenplatz",
          "Zürich, Lochergut",
          "Zürich, Loorenstrasse",
          "Zürich, Löwenplatz",
          "Zürich, Luchswiesen",
          "Zürich, Luegisland",
          "Zürich, Letzibach",
          "Zürich, Maienweg",
          "Zürich, Maillartstrasse",
          "Zürich, Manegg",
          "Zürich, Manesseplatz",
          "Zürich, Mattenhof",
          "Zürich, Max-Bill-Platz",
          "Zürich, Messe/Hallenstadion",
          "Zürich, Michelstrasse",
          "Zürich, Milchbuck",
          "Zürich, Militär-/Langstrasse",
          "Zürich, Morgental",
          "Zürich, Mötteliweg",
          "Zürich, Museum für Gestaltung",
          "Zürich, Museum Rietberg",
          "Zürich, Neuaffoltern",
          "Zürich, Neumarkt",
          "Zürich, Neunbrunnen",
          "Zürich, Nordheimstrasse",
          "Zürich, Nordstrasse",
          "Zürich, Nürenbergstrasse",
          "Zürich, Oberwiesenstrasse",
          "Zürich, Oerlikerhus",
          "Zürich, Okenstrasse",
          "Zürich, Orionstrasse",
          "Zürich, Ottikerstrasse",
          "Zürich, Paradeplatz",
          "Zürich, Stodolastrasse",
          "Zürich, Pflegezentr. Käferberg",
          "Zürich, Platte",
          "Zürich, Post Wollishofen",
          "Zürich, Probstei",
          "Zürich, Quellenstrasse",
          "Zürich, Radiostudio",
          "Zürich, Räffelstrasse",
          "Zürich, Rathaus",
          "Zürich, Rautistrasse",
          "Zürich, Rebbergsteig",
          "Zürich, Regensbergbrücke",
          "Zürich, Rehalp",
          "Zürich, Rennweg",
          "Zürich, Rentenanstalt",
          "Zürich, Riedbach",
          "Zürich, Riedgraben",
          "Zürich, Röntgenstrasse",
          "Zürich, Rosengartenstrasse",
          "Zürich, Röslistrasse",
          "Zürich, Roswiesen",
          "Zürich, Rotbuchstrasse",
          "Zürich, Rudolf-Brun-Brücke",
          "Zürich, Saalsporthalle",
          "Zürich, Saatlenstrasse",
          "Zürich, Sackzelg",
          "Zürich, Salersteig",
          "Zürich, SBB-Werkstätte",
          "Zürich, Schaffhauserplatz",
          "Zürich, Schäppiweg",
          "Zürich, Schauenberg",
          "Zürich, Scheuchzerstrasse",
          "Zürich, Schlyfi",
          "Zürich, Schmiede Wiedikon",
          "Zürich, Schörlistrasse",
          "Zürich, Schulhaus Altweg",
          "Zürich, Schulhaus Buchlern",
          "Zürich, Schumacherweg",
          "Zürich, Schürgistrasse",
          "Zürich, Schützenhaus Höngg",
          "Zürich, Schwamendingerplatz",
          "Zürich, Schweighof",
          "Zürich, Schweizer Rück",
          "Zürich, Schwert",
          "Zürich, Seebach",
          "Zürich, Seebacherplatz",
          "Zürich, Seerose",
          "Zürich, Segantinistrasse",
          "Zürich, Segeten",
          "Zürich, Seidelhof",
          "Zürich, Seilbahn Rigiblick",
          "Zürich, Siemens",
          "Zürich, Signaustrasse",
          "Zürich, Sihlcity",
          "Zürich, Sihlcity Nord",
          "Zürich, Sihlpost/HB",
          "Zürich, Sihlquai/HB",
          "Zürich, Sihlstrasse",
          "Zürich, Singlistrasse",
          "Zürich, Solidapark",
          "Zürich, Sonneggstrasse",
          "Zürich, Sportweg",
          "Zürich, Sprecherstrasse",
          "Zürich, Spyriplatz",
          "Zürich, Spyristeig",
          "Zürich, Stadtgrenze",
          "Zürich, Stampfenbachplatz",
          "Zürich, Staudenbühl",
          "Zürich, Stauffacher",
          "Zürich, Sternen Oerlikon",
          "Zürich, Stierenried",
          "Zürich, Stockerstrasse",
          "Zürich, Strassenverkehrsamt",
          "Zürich, Strickhof",
          "Zürich, Sukkulentensammlung",
          "Zürich, Susenbergstrasse",
          "Zürich, Talwiesenstrasse",
          "Zürich, Technopark",
          "Zürich, Thujastrasse",
          "Zürich, Tierspital",
          "Zürich, Titlisstrasse",
          "Zürich, Tobelhof",
          "Zürich, Toblerplatz",
          "Zürich, Toni-Areal",
          "Zürich, Triemlispital",
          "Zürich, Tüffenwies",
          "Zürich, Tunnelstrasse",
          "Zürich, Uetlihof",
          "Zürich, Universität Irchel",
          "Zürich, Untermoosstrasse",
          "Zürich, Verenastrasse",
          "Zürich, Vogelsangstrasse",
          "Zürich, Voltastrasse",
          "Zürich, Vulkanstrasse",
          "Zürich, Waffenplatz-/Bederstr.",
          "Zürich, Waffenplatzstrasse",
          "Zürich, Waidbadstrasse",
          "Zürich, Waidfussweg",
          "Zürich, Waidspital",
          "Zürich, Waldgarten",
          "Zürich, Waldhaus Dolder",
          "Zürich, Wartau",
          "Zürich, Waserstrasse",
          "Zürich, Weihersteig",
          "Zürich, Werd",
          "Zürich, Werdhölzli",
          "Zürich, Wetlistrasse",
          "Zürich, Widmerstrasse",
          "Zürich, Wieslergasse",
          "Zürich, Wiesliacher",
          "Zürich, Winkelriedstrasse",
          "Zürich, Winzerhalde",
          "Zürich, Winzerstrasse",
          "Zürich, Winzerstrasse Süd",
          "Zürich, Wipkingerplatz",
          "Zürich, Buchzelgstrasse",
          "Zürich, Wollishoferplatz",
          "Zürich, Wonnebergstrasse",
          "Zürich, Zielweg",
          "Zürich, Zoo",
          "Zürich, Zoo/Forrenweid",
          "Zürich, Zürichbergstrasse",
          "Zürich, Zweiackerstrasse",
          "Zürich, Zwielplatz",
          "Zürich, Zwinglihaus",
          "Zürich, Zypressenstrasse",
          "Zürich, Binz",
          "Glattpark, Glattpark",
          "Gockhausen, Dorf",
          "Zürich, Würzgraben",
          "Glattpark, Wright-Strasse",
          "Zürich, Schiffbau",
          "Zürich, Schanzackerstrasse",
          "Zürich, Glaubtenstrasse Nord",
          "Zürich, Bus Station",
          "Zürich Tiefenbrunnen",
          "Zürich HB SZU"
         ],
         "lat": [
          47.3516780901371,
          47.3481237143728,
          47.3702920484894,
          47.3914841248792,
          47.3666111556789,
          47.3501261233109,
          47.411530894433,
          47.4187524287319,
          47.3474420259121,
          47.3640982664424,
          47.3714783972162,
          47.3930409564212,
          47.385195516951,
          47.362765717286,
          47.3647979933886,
          47.3649440221893,
          47.3649926983664,
          47.352073682225,
          47.3663495287263,
          47.3680896277911,
          47.3732000763623,
          47.3516415737949,
          47.3577942209058,
          47.3774279898193,
          47.3722388631333,
          47.3626135976618,
          47.3379339888824,
          47.3972125517017,
          47.3790460655592,
          47.371028196226,
          47.3765398519527,
          47.3768561767436,
          47.3681504693771,
          47.3656619912465,
          47.3526214202206,
          47.3386827632592,
          47.3454699490061,
          47.3498644146043,
          47.3654429508751,
          47.3676819873548,
          47.3642382125742,
          47.41655203245,
          47.3517754669262,
          47.3873303219428,
          47.3545749727743,
          47.361688700906,
          47.3648770923725,
          47.3730175688688,
          47.3714297270242,
          47.3677549978138,
          47.3504182617297,
          47.3427977889857,
          47.3407524908453,
          47.3670918157679,
          47.3573865009083,
          47.3654125285294,
          47.3631855651727,
          47.3605143020546,
          47.3579950370599,
          47.3551713700479,
          47.3531874101771,
          47.3459203681249,
          47.343205621699,
          47.3404359495289,
          47.4020100860391,
          47.411494419524,
          47.3907969150758,
          47.3689048992124,
          47.342730831075,
          47.3772394138519,
          47.3775618175159,
          47.4056277095638,
          47.3768440104406,
          47.3911313988428,
          47.3960024582124,
          47.3894893672541,
          47.3848488310571,
          47.3921774071053,
          47.3519945640447,
          47.3798185879667,
          47.3743802762382,
          47.3753171171281,
          47.3782127019246,
          47.3975956408339,
          47.3553052542238,
          47.4107041236259,
          47.3996265747874,
          47.3989090681422,
          47.4108804214308,
          47.417093022381,
          47.4133424497947,
          47.3889237667504,
          47.3786689245241,
          47.4058952214384,
          47.3911070728222,
          47.392067942097,
          47.3641286895461,
          47.3645546111557,
          47.3852015991393,
          47.4124062846703,
          47.413336370854,
          47.3706692494397,
          47.3972733596864,
          47.3972733596864,
          47.3934423195962,
          47.3762235252641,
          47.3963551516466,
          47.3887656407927,
          47.3840824646745,
          47.3585062020036,
          47.4036395673838,
          47.3937646241752,
          47.3738875155843,
          47.4043752495356,
          47.3454821225463,
          47.3809134822248,
          47.3741673555329,
          47.347588102752,
          47.3470342259279,
          47.3514650777846,
          47.3628387345498,
          47.3619016719907,
          47.4075367418319,
          47.3757368651146,
          47.4130445808784,
          47.3471742173224,
          47.414284677109,
          47.3681687218392,
          47.3593398770608,
          47.3900792881945,
          47.355147027434,
          47.3561328943156,
          47.398410456075,
          47.360928082871,
          47.4222534222046,
          47.35801937836,
          47.3665381436366,
          47.3414099167461,
          47.3583236436636,
          47.4133728444873,
          47.3545141155307,
          47.388400732926,
          47.3345491527085,
          47.4074029902327,
          47.4107953122193,
          47.3788209978467,
          47.3603439207751,
          47.4157010258045,
          47.3667328421914,
          47.348647147751,
          47.3962700189648,
          47.4086796961913,
          47.3772880786823,
          47.3757186152716,
          47.4167890961376,
          47.4181749855684,
          47.3935700254199,
          47.3805789336139,
          47.3504608651139,
          47.3815582426502,
          47.3922138953909,
          47.3628022259305,
          47.3832309334045,
          47.4059377800205,
          47.3828781521344,
          47.3509721030431,
          47.4089350336695,
          47.4213478055902,
          47.3759315297134,
          47.358707015448,
          47.403937489493,
          47.3642868894025,
          47.3611167171662,
          47.3620659633829,
          47.4042354099174,
          47.3872999122223,
          47.4016027078276,
          47.4141691791835,
          47.4136585537406,
          47.3609767627537,
          47.3718920920352,
          47.3862051506003,
          47.386965404139,
          47.395230172966,
          47.3957105722057,
          47.3803112931966,
          47.3717339149876,
          47.3867951082994,
          47.414406253599,
          47.3802930449369,
          47.3796482690385,
          47.4107041236259,
          47.3963490707453,
          47.3823428932854,
          47.3941659818386,
          47.3604230264376,
          47.4047157270536,
          47.3566440772991,
          47.3700730273448,
          47.3763573560178,
          47.384830584368,
          47.4228794433749,
          47.4075306622211,
          47.3816555642937,
          47.4198769051392,
          47.3801044792164,
          47.4002711063242,
          47.4032504420914,
          47.3675785556983,
          47.3733643325664,
          47.4013473348052,
          47.3670005515309,
          47.3661122380425,
          47.404934604296,
          47.3694707145073,
          47.377379325118,
          47.3585427135958,
          47.4168863527264,
          47.3736137576758,
          47.3592668549544,
          47.3846298703704,
          47.3481176279077,
          47.4014263789682,
          47.3692395218944,
          47.3480019849363,
          47.3405333470592,
          47.3744228602761,
          47.3784681870667,
          47.3727194719378,
          47.3611532269519,
          47.3849887221308,
          47.4029646763743,
          47.415202572668,
          47.3973037636525,
          47.3745080282487,
          47.3888872761869,
          47.3763999384591,
          47.3700304397943,
          47.3640374201824,
          47.4053662761919,
          47.3778051397306,
          47.3879567582815,
          47.3841919462684,
          47.3704380620805,
          47.3959112440089,
          47.3509842753143,
          47.3924936380744,
          47.3737415115433,
          47.3935396192995,
          47.3587313564196,
          47.394993012233,
          47.3961423196842,
          47.4116342398713,
          47.4142907559401,
          47.390571897529,
          47.3812358634232,
          47.3877743018639,
          47.3863632842396,
          47.3906813656447,
          47.4146433269471,
          47.3845994590919,
          47.3878168750845,
          47.3754144502921,
          47.3598631991991,
          47.3758950301558,
          47.4068740601267,
          47.4060107375098,
          47.3890818922336,
          47.4078468010511,
          47.4162055528328,
          47.3369660452942,
          47.3654429508751,
          47.3986415207903,
          47.4140476021462,
          47.4109594512897,
          47.4063268854622,
          47.3977902247233,
          47.3795996063866,
          47.3439482343686,
          47.413956419184,
          47.3821239221899,
          47.3607211928684,
          47.4118470092527,
          47.3727742245616,
          47.4167039964751,
          47.4035422863301,
          47.3883277510495,
          47.3922564650255,
          47.4104791910869,
          47.4175853791724,
          47.3880114950836,
          47.4167222321287,
          47.385189434762,
          47.3697323259786,
          47.3569057523862,
          47.3996569773956,
          47.3750068664689,
          47.3444717091534,
          47.4002224627097,
          47.3867403702341,
          47.4019796847888,
          47.3627474629542,
          47.371739998729,
          47.3833464991692,
          47.396902429888,
          47.4088256034733,
          47.3510268782417,
          47.3730662375955,
          47.3633863608069,
          47.4144791993582,
          47.4108013914533,
          47.3819353630178,
          47.394330172729,
          47.388662250487,
          47.4029525160966,
          47.3912773547304,
          47.373948350482,
          47.3578611597087,
          47.4108074706865,
          47.3743863596743,
          47.406083694898,
          47.386563991637,
          47.39163007979,
          47.3897387160861,
          47.4161994742227,
          47.3877925475341,
          47.3625892584812,
          47.3701521184186,
          47.4059438598151,
          47.3722753652215,
          47.3846663638813,
          47.412096252292,
          47.4088377623952,
          47.4097314354713,
          47.4045941281927,
          47.3647736552158,
          47.3598814545288,
          47.3997299435837,
          47.4218644344265,
          47.419864748766,
          47.3389140897814,
          47.4074455475966,
          47.3557495038281,
          47.3919219883989,
          47.3859132103277,
          47.3784621041015,
          47.3632281582498,
          47.3579706957486,
          47.3600640074787,
          47.3760957774096,
          47.3798733332196,
          47.3722692815419,
          47.4051109214132,
          47.3877256467126,
          47.3828416573855,
          47.3916239983435,
          47.3674933765347,
          47.3822820680724,
          47.3862538071552,
          47.3350422808333,
          47.3802930449369,
          47.4200835630557,
          47.3734251680677,
          47.4100718783688,
          47.4166188966751,
          47.3678705975006,
          47.3531508948792,
          47.3935761066419,
          47.3549279434034,
          47.3785350996374,
          47.3699452645904,
          47.3890575652671,
          47.3501869856148,
          47.4019006414559,
          47.3709734417894,
          47.3830849552342,
          47.3790886458292,
          47.390042798431,
          47.3659662124757,
          47.3979240007304,
          47.3661426599847,
          47.3567353594536,
          47.3961605624575,
          47.3798307535834,
          47.3408255385719,
          47.3835411356741,
          47.3768683430438,
          47.3943484161296,
          47.3616643612987,
          47.3614818138862,
          47.3989759547678,
          47.3954977376399,
          47.3991644529834,
          47.4037186081076,
          47.3732426613532,
          47.4027701115948,
          47.3583175583747,
          47.3977902247233,
          47.3723240346332,
          47.3978327898533,
          47.3601552837168,
          47.336777324666,
          47.4040651698812,
          47.3552139695953,
          47.3831944388998,
          47.4000582901792,
          47.4037672484941,
          47.403372044054,
          47.3925909395293,
          47.3591816623693,
          47.3384392605619,
          47.3518484994001,
          47.3588226349632,
          47.3815704078655,
          47.3804998581775,
          47.3787297539058,
          47.3570518030333,
          47.4021864129448,
          47.3715088160635,
          47.3766919314159,
          47.3629665145182,
          47.4203813921555,
          47.3820083537451,
          47.392092267674,
          47.420521188907,
          47.3880297406717,
          47.3920253723101,
          47.4147466662776,
          47.3810655490734,
          47.3501261233109,
          47.3773914912976
         ],
         "legendgroup": "0",
         "lon": [
          8.52195777551452,
          8.53332146386021,
          8.51391785372053,
          8.48896265512422,
          8.54848502585826,
          8.56138483334001,
          8.54413717988252,
          8.54465820274738,
          8.53359994159833,
          8.53082414737001,
          8.52348491149773,
          8.52937785976238,
          8.51712483928528,
          8.5182926491548,
          8.50750388259102,
          8.50353332903466,
          8.49537662625372,
          8.48755230012795,
          8.54812569974456,
          8.56027990554039,
          8.57452718594851,
          8.52623375626752,
          8.52196675866736,
          8.53916949636064,
          8.53172246265426,
          8.52201167443157,
          8.51963113892832,
          8.59614065168743,
          8.54157698132242,
          8.54196325689465,
          8.54403836520125,
          8.54640093439881,
          8.49537662625372,
          8.5410020595405,
          8.5531293158778,
          8.5675203267314,
          8.53665421356476,
          8.56058533273703,
          8.54485583210991,
          8.5229908380914,
          8.52750936397115,
          8.55508764319746,
          8.5766202605608,
          8.55341677676876,
          8.57502125935484,
          8.5606212653484,
          8.5540815300791,
          8.54263699335783,
          8.52418559741944,
          8.48748043490521,
          8.56098957461495,
          8.56732269736887,
          8.57597347355614,
          8.54511634354234,
          8.55041640371939,
          8.54764959264391,
          8.54979656617326,
          8.55206032068955,
          8.5542072942189,
          8.55690224007163,
          8.55886955054413,
          8.56615488749935,
          8.56963136764938,
          8.57261377439307,
          8.49937412926861,
          8.54479295004002,
          8.5223979500038,
          8.50184449630028,
          8.53601640971295,
          8.53934017626465,
          8.54173867807358,
          8.59100228826155,
          8.54393955051998,
          8.47917101852595,
          8.59995849164547,
          8.59665269139945,
          8.6000483231739,
          8.50249128330494,
          8.5077104951064,
          8.49466695717917,
          8.48478548905248,
          8.48521668038892,
          8.51039645780629,
          8.50765659618934,
          8.56141178279854,
          8.52405983327965,
          8.50714455647732,
          8.50952509198057,
          8.57212868413958,
          8.56884085019924,
          8.57216461675095,
          8.48305174055389,
          8.52310761907835,
          8.53778609082291,
          8.48837875018946,
          8.48990588617267,
          8.53156974905593,
          8.53045583810347,
          8.5171068729796,
          8.54393056736714,
          8.54584397892258,
          8.53200992354522,
          8.59613166853459,
          8.59613166853459,
          8.52952159020786,
          8.5394569572516,
          8.48501006787354,
          8.49014843129942,
          8.54044510406427,
          8.59002312460173,
          8.54791010407634,
          8.50870762507191,
          8.51346869607841,
          8.53333044701305,
          8.527859706932,
          8.55599494163454,
          8.52556001980434,
          8.53434554328425,
          8.5329172219823,
          8.53197399093385,
          8.51167206550992,
          8.51105222796379,
          8.53059956854895,
          8.56479843142014,
          8.53585471296178,
          8.57158969496903,
          8.53790287180986,
          8.53974441814256,
          8.55783648796725,
          8.48705822672162,
          8.52714105470461,
          8.53221653606059,
          8.53328553124884,
          8.58870260113389,
          8.53894491753958,
          8.57186817270715,
          8.54078646387228,
          8.53031210765799,
          8.58659156021591,
          8.53121940609508,
          8.55294965282095,
          8.52607205951636,
          8.52997074784998,
          8.54925757700271,
          8.56716998377055,
          8.57564109690097,
          8.57883909931288,
          8.51292970690786,
          8.55816886462242,
          8.57065544707342,
          8.51204037477646,
          8.5077104951064,
          8.54823349757867,
          8.48841468280083,
          8.54529600659919,
          8.56174415945371,
          8.51212122315204,
          8.56804134959626,
          8.56947865405106,
          8.49198997763212,
          8.51715178874381,
          8.56297485139313,
          8.49937412926861,
          8.5531921979477,
          8.47453571165925,
          8.58027640376767,
          8.49413695116146,
          8.53775914136438,
          8.51089053121262,
          8.50060482120802,
          8.5690654290203,
          8.50799795599736,
          8.50240145177651,
          8.50509639762925,
          8.56261552527943,
          8.55252744463736,
          8.58175862398668,
          8.51893943615946,
          8.51868790787987,
          8.59930272148798,
          8.48792959254734,
          8.55015589228695,
          8.49008554922952,
          8.4892141834038,
          8.54013967686763,
          8.51997249873634,
          8.50665048307099,
          8.55133268530932,
          8.55552781768674,
          8.54837722802415,
          8.5445144723019,
          8.55586019434191,
          8.49746970086601,
          8.51452870811382,
          8.50450350954165,
          8.56503199339405,
          8.576323816517,
          8.51001018223407,
          8.54329276351533,
          8.5253623904418,
          8.50916576586688,
          8.54349039287786,
          8.57270360592149,
          8.56461876836329,
          8.53865745664862,
          8.55457560348544,
          8.54350835918355,
          8.59116398501272,
          8.51096239643537,
          8.56155551324402,
          8.49021131336931,
          8.56504097654689,
          8.56239992961121,
          8.50473707151555,
          8.55440492358143,
          8.49914955044755,
          8.52699732425913,
          8.52286507395161,
          8.50336264913066,
          8.5077104951064,
          8.57693467091029,
          8.57436548919735,
          8.5088333892117,
          8.49162166836558,
          8.52821004989286,
          8.53152483329172,
          8.52133793796839,
          8.53030312450515,
          8.5505242015535,
          8.5712034193968,
          8.49539459255941,
          8.49824225201046,
          8.56237298015268,
          8.51002814853975,
          8.52426644579503,
          8.54633805232891,
          8.55939057340899,
          8.56415164441549,
          8.56649624730736,
          8.52824598250423,
          8.50787219185756,
          8.53912458059643,
          8.56103449037916,
          8.54914079601576,
          8.53218060344922,
          8.5342287622973,
          8.54976063356189,
          8.50106296200299,
          8.54478396688717,
          8.51708890667391,
          8.53633980321527,
          8.52071810042226,
          8.50987543494143,
          8.5094891593692,
          8.53273755892545,
          8.5037309583972,
          8.49921243251745,
          8.49646358774766,
          8.54549363596172,
          8.55130573585079,
          8.53162364797299,
          8.48611499567316,
          8.51752009801035,
          8.59452368417579,
          8.53741778155637,
          8.58587290798852,
          8.58139031472014,
          8.49469390663769,
          8.52638646986584,
          8.53209975507364,
          8.52034979115572,
          8.52163438201219,
          8.59092143988597,
          8.54133443619567,
          8.55009301021706,
          8.49560120507478,
          8.54177461068495,
          8.5276261449581,
          8.53014142775399,
          8.52645833508858,
          8.53493843137185,
          8.53156076590309,
          8.52503001378664,
          8.54735314860011,
          8.5382082990065,
          8.53052770332621,
          8.53616014015842,
          8.53343824484716,
          8.53281840730103,
          8.5542072942189,
          8.53413893076887,
          8.56616387065219,
          8.54241241453677,
          8.53891796808105,
          8.59056211377228,
          8.5176997610672,
          8.55264422562431,
          8.53296213774651,
          8.58659156021591,
          8.52874903906341,
          8.53518995965144,
          8.51466345540645,
          8.54287953848457,
          8.48409378628361,
          8.5149688826031,
          8.53927729419475,
          8.58298033277325,
          8.53845982728609,
          8.53503724605312,
          8.5581868309281,
          8.55883361793276,
          8.52926107877543,
          8.52546120512307,
          8.54049900298133,
          8.5769795866745,
          8.53611522439421,
          8.54293343740163,
          8.52040369007277,
          8.56286705355902,
          8.49551137354636,
          8.54847604270542,
          8.5033716322835,
          8.53871135556568,
          8.55089251082004,
          8.50692896080911,
          8.54423599456378,
          8.57414091037628,
          8.51926282966178,
          8.56387316667737,
          8.49419983323136,
          8.47857813043835,
          8.51478921954625,
          8.57959368415165,
          8.49704749268242,
          8.57189512216567,
          8.50269789582032,
          8.53551335315377,
          8.5046202905286,
          8.54977859986757,
          8.54836824487131,
          8.53813643378376,
          8.48996876824257,
          8.59430808850758,
          8.48372547701707,
          8.54836824487131,
          8.49402017017451,
          8.55762089229903,
          8.52226320271116,
          8.52302677070277,
          8.53420181283877,
          8.53760642776606,
          8.53457012210531,
          8.49349016415681,
          8.48849553117641,
          8.54368802224039,
          8.50585996562086,
          8.55225795005209,
          8.55197947231397,
          8.55620155414992,
          8.54146918348831,
          8.54278072380331,
          8.53538758901397,
          8.52925209562258,
          8.54623025449481,
          8.53548640369524,
          8.53542352162534,
          8.51132172254906,
          8.54751484535128,
          8.53430062752004,
          8.5680054169849,
          8.50965085612037,
          8.51535515817532,
          8.52780580801495,
          8.55179980925712,
          8.56495114501846,
          8.58599867212831,
          8.55934565764478,
          8.51058510401598,
          8.49689477908409,
          8.49472085609622,
          8.53253094641008,
          8.51396276948474,
          8.54482888265138,
          8.48338411720906,
          8.52538035674749,
          8.54906893079302,
          8.55452170456838,
          8.48408480313077,
          8.5265032508528,
          8.52574866601403,
          8.51354056130115,
          8.51840044698891,
          8.52170624723493,
          8.55719868411543,
          8.56854440615544,
          8.49163065151842,
          8.58405831111435,
          8.5285154770895,
          8.52684461066081,
          8.482018677977,
          8.56862525453102,
          8.53289027252377,
          8.49596053118848,
          8.59680540499778,
          8.54821553127299,
          8.4945681424979,
          8.48637550710559,
          8.486123978826,
          8.52357474302616,
          8.58524408728955,
          8.53015939405967,
          8.56654116307158,
          8.49758648185296,
          8.57155376235766,
          8.57808451447412,
          8.56410672865127,
          8.59788338333887,
          8.49680494755567,
          8.51595702941576,
          8.51376514012221,
          8.51831959861333,
          8.556767492779,
          8.5980810127014,
          8.49485560338886,
          8.55921091035214,
          8.51986470090223,
          8.54743399697569,
          8.51964910523401,
          8.53730100056942,
          8.56139381649285,
          8.53935814257034
         ],
         "marker": {
          "color": "#636efa"
         },
         "mode": "markers",
         "name": "0",
         "showlegend": true,
         "subplot": "mapbox",
         "type": "scattermapbox"
        },
        {
         "hovertemplate": "<b>%{hovertext}</b><br><br>color=1<br>latitude=%{lat}<br>longitude=%{lon}<extra></extra>",
         "hovertext": [
          "Zürich HB"
         ],
         "lat": [
          47.3781762039461
         ],
         "legendgroup": "1",
         "lon": [
          8.54021154209037
         ],
         "marker": {
          "color": "#EF553B"
         },
         "mode": "markers",
         "name": "1",
         "showlegend": true,
         "subplot": "mapbox",
         "type": "scattermapbox"
        },
        {
         "hovertemplate": "<b>%{hovertext}</b><br><br>color=2<br>latitude=%{lat}<br>longitude=%{lon}<extra></extra>",
         "hovertext": [
          "Zürich, Heuried"
         ],
         "lat": [
          47.3694098744442
         ],
         "legendgroup": "2",
         "lon": [
          8.50635403902719
         ],
         "marker": {
          "color": "#00cc96"
         },
         "mode": "markers",
         "name": "2",
         "showlegend": true,
         "subplot": "mapbox",
         "type": "scattermapbox"
        },
        {
         "hoverinfo": "none",
         "lat": [
          47.378176,
          47.372324
         ],
         "lon": [
          8.540212,
          8.526845
         ],
         "mode": "lines",
         "type": "scattermapbox"
        }
       ],
       "layout": {
        "legend": {
         "title": {
          "text": "color"
         },
         "tracegroupgap": 0
        },
        "mapbox": {
         "center": {
          "lat": 47.38108763531469,
          "lon": 8.535443230621192
         },
         "domain": {
          "x": [
           0,
           1
          ],
          "y": [
           0,
           1
          ]
         },
         "style": "open-street-map",
         "zoom": 13
        },
        "margin": {
         "t": 60
        },
        "showlegend": false,
        "template": {
         "data": {
          "bar": [
           {
            "error_x": {
             "color": "#2a3f5f"
            },
            "error_y": {
             "color": "#2a3f5f"
            },
            "marker": {
             "line": {
              "color": "#E5ECF6",
              "width": 0.5
             },
             "pattern": {
              "fillmode": "overlay",
              "size": 10,
              "solidity": 0.2
             }
            },
            "type": "bar"
           }
          ],
          "barpolar": [
           {
            "marker": {
             "line": {
              "color": "#E5ECF6",
              "width": 0.5
             },
             "pattern": {
              "fillmode": "overlay",
              "size": 10,
              "solidity": 0.2
             }
            },
            "type": "barpolar"
           }
          ],
          "carpet": [
           {
            "aaxis": {
             "endlinecolor": "#2a3f5f",
             "gridcolor": "white",
             "linecolor": "white",
             "minorgridcolor": "white",
             "startlinecolor": "#2a3f5f"
            },
            "baxis": {
             "endlinecolor": "#2a3f5f",
             "gridcolor": "white",
             "linecolor": "white",
             "minorgridcolor": "white",
             "startlinecolor": "#2a3f5f"
            },
            "type": "carpet"
           }
          ],
          "choropleth": [
           {
            "colorbar": {
             "outlinewidth": 0,
             "ticks": ""
            },
            "type": "choropleth"
           }
          ],
          "contour": [
           {
            "colorbar": {
             "outlinewidth": 0,
             "ticks": ""
            },
            "colorscale": [
             [
              0,
              "#0d0887"
             ],
             [
              0.1111111111111111,
              "#46039f"
             ],
             [
              0.2222222222222222,
              "#7201a8"
             ],
             [
              0.3333333333333333,
              "#9c179e"
             ],
             [
              0.4444444444444444,
              "#bd3786"
             ],
             [
              0.5555555555555556,
              "#d8576b"
             ],
             [
              0.6666666666666666,
              "#ed7953"
             ],
             [
              0.7777777777777778,
              "#fb9f3a"
             ],
             [
              0.8888888888888888,
              "#fdca26"
             ],
             [
              1,
              "#f0f921"
             ]
            ],
            "type": "contour"
           }
          ],
          "contourcarpet": [
           {
            "colorbar": {
             "outlinewidth": 0,
             "ticks": ""
            },
            "type": "contourcarpet"
           }
          ],
          "heatmap": [
           {
            "colorbar": {
             "outlinewidth": 0,
             "ticks": ""
            },
            "colorscale": [
             [
              0,
              "#0d0887"
             ],
             [
              0.1111111111111111,
              "#46039f"
             ],
             [
              0.2222222222222222,
              "#7201a8"
             ],
             [
              0.3333333333333333,
              "#9c179e"
             ],
             [
              0.4444444444444444,
              "#bd3786"
             ],
             [
              0.5555555555555556,
              "#d8576b"
             ],
             [
              0.6666666666666666,
              "#ed7953"
             ],
             [
              0.7777777777777778,
              "#fb9f3a"
             ],
             [
              0.8888888888888888,
              "#fdca26"
             ],
             [
              1,
              "#f0f921"
             ]
            ],
            "type": "heatmap"
           }
          ],
          "heatmapgl": [
           {
            "colorbar": {
             "outlinewidth": 0,
             "ticks": ""
            },
            "colorscale": [
             [
              0,
              "#0d0887"
             ],
             [
              0.1111111111111111,
              "#46039f"
             ],
             [
              0.2222222222222222,
              "#7201a8"
             ],
             [
              0.3333333333333333,
              "#9c179e"
             ],
             [
              0.4444444444444444,
              "#bd3786"
             ],
             [
              0.5555555555555556,
              "#d8576b"
             ],
             [
              0.6666666666666666,
              "#ed7953"
             ],
             [
              0.7777777777777778,
              "#fb9f3a"
             ],
             [
              0.8888888888888888,
              "#fdca26"
             ],
             [
              1,
              "#f0f921"
             ]
            ],
            "type": "heatmapgl"
           }
          ],
          "histogram": [
           {
            "marker": {
             "pattern": {
              "fillmode": "overlay",
              "size": 10,
              "solidity": 0.2
             }
            },
            "type": "histogram"
           }
          ],
          "histogram2d": [
           {
            "colorbar": {
             "outlinewidth": 0,
             "ticks": ""
            },
            "colorscale": [
             [
              0,
              "#0d0887"
             ],
             [
              0.1111111111111111,
              "#46039f"
             ],
             [
              0.2222222222222222,
              "#7201a8"
             ],
             [
              0.3333333333333333,
              "#9c179e"
             ],
             [
              0.4444444444444444,
              "#bd3786"
             ],
             [
              0.5555555555555556,
              "#d8576b"
             ],
             [
              0.6666666666666666,
              "#ed7953"
             ],
             [
              0.7777777777777778,
              "#fb9f3a"
             ],
             [
              0.8888888888888888,
              "#fdca26"
             ],
             [
              1,
              "#f0f921"
             ]
            ],
            "type": "histogram2d"
           }
          ],
          "histogram2dcontour": [
           {
            "colorbar": {
             "outlinewidth": 0,
             "ticks": ""
            },
            "colorscale": [
             [
              0,
              "#0d0887"
             ],
             [
              0.1111111111111111,
              "#46039f"
             ],
             [
              0.2222222222222222,
              "#7201a8"
             ],
             [
              0.3333333333333333,
              "#9c179e"
             ],
             [
              0.4444444444444444,
              "#bd3786"
             ],
             [
              0.5555555555555556,
              "#d8576b"
             ],
             [
              0.6666666666666666,
              "#ed7953"
             ],
             [
              0.7777777777777778,
              "#fb9f3a"
             ],
             [
              0.8888888888888888,
              "#fdca26"
             ],
             [
              1,
              "#f0f921"
             ]
            ],
            "type": "histogram2dcontour"
           }
          ],
          "mesh3d": [
           {
            "colorbar": {
             "outlinewidth": 0,
             "ticks": ""
            },
            "type": "mesh3d"
           }
          ],
          "parcoords": [
           {
            "line": {
             "colorbar": {
              "outlinewidth": 0,
              "ticks": ""
             }
            },
            "type": "parcoords"
           }
          ],
          "pie": [
           {
            "automargin": true,
            "type": "pie"
           }
          ],
          "scatter": [
           {
            "fillpattern": {
             "fillmode": "overlay",
             "size": 10,
             "solidity": 0.2
            },
            "type": "scatter"
           }
          ],
          "scatter3d": [
           {
            "line": {
             "colorbar": {
              "outlinewidth": 0,
              "ticks": ""
             }
            },
            "marker": {
             "colorbar": {
              "outlinewidth": 0,
              "ticks": ""
             }
            },
            "type": "scatter3d"
           }
          ],
          "scattercarpet": [
           {
            "marker": {
             "colorbar": {
              "outlinewidth": 0,
              "ticks": ""
             }
            },
            "type": "scattercarpet"
           }
          ],
          "scattergeo": [
           {
            "marker": {
             "colorbar": {
              "outlinewidth": 0,
              "ticks": ""
             }
            },
            "type": "scattergeo"
           }
          ],
          "scattergl": [
           {
            "marker": {
             "colorbar": {
              "outlinewidth": 0,
              "ticks": ""
             }
            },
            "type": "scattergl"
           }
          ],
          "scattermapbox": [
           {
            "marker": {
             "colorbar": {
              "outlinewidth": 0,
              "ticks": ""
             }
            },
            "type": "scattermapbox"
           }
          ],
          "scatterpolar": [
           {
            "marker": {
             "colorbar": {
              "outlinewidth": 0,
              "ticks": ""
             }
            },
            "type": "scatterpolar"
           }
          ],
          "scatterpolargl": [
           {
            "marker": {
             "colorbar": {
              "outlinewidth": 0,
              "ticks": ""
             }
            },
            "type": "scatterpolargl"
           }
          ],
          "scatterternary": [
           {
            "marker": {
             "colorbar": {
              "outlinewidth": 0,
              "ticks": ""
             }
            },
            "type": "scatterternary"
           }
          ],
          "surface": [
           {
            "colorbar": {
             "outlinewidth": 0,
             "ticks": ""
            },
            "colorscale": [
             [
              0,
              "#0d0887"
             ],
             [
              0.1111111111111111,
              "#46039f"
             ],
             [
              0.2222222222222222,
              "#7201a8"
             ],
             [
              0.3333333333333333,
              "#9c179e"
             ],
             [
              0.4444444444444444,
              "#bd3786"
             ],
             [
              0.5555555555555556,
              "#d8576b"
             ],
             [
              0.6666666666666666,
              "#ed7953"
             ],
             [
              0.7777777777777778,
              "#fb9f3a"
             ],
             [
              0.8888888888888888,
              "#fdca26"
             ],
             [
              1,
              "#f0f921"
             ]
            ],
            "type": "surface"
           }
          ],
          "table": [
           {
            "cells": {
             "fill": {
              "color": "#EBF0F8"
             },
             "line": {
              "color": "white"
             }
            },
            "header": {
             "fill": {
              "color": "#C8D4E3"
             },
             "line": {
              "color": "white"
             }
            },
            "type": "table"
           }
          ]
         },
         "layout": {
          "annotationdefaults": {
           "arrowcolor": "#2a3f5f",
           "arrowhead": 0,
           "arrowwidth": 1
          },
          "autotypenumbers": "strict",
          "coloraxis": {
           "colorbar": {
            "outlinewidth": 0,
            "ticks": ""
           }
          },
          "colorscale": {
           "diverging": [
            [
             0,
             "#8e0152"
            ],
            [
             0.1,
             "#c51b7d"
            ],
            [
             0.2,
             "#de77ae"
            ],
            [
             0.3,
             "#f1b6da"
            ],
            [
             0.4,
             "#fde0ef"
            ],
            [
             0.5,
             "#f7f7f7"
            ],
            [
             0.6,
             "#e6f5d0"
            ],
            [
             0.7,
             "#b8e186"
            ],
            [
             0.8,
             "#7fbc41"
            ],
            [
             0.9,
             "#4d9221"
            ],
            [
             1,
             "#276419"
            ]
           ],
           "sequential": [
            [
             0,
             "#0d0887"
            ],
            [
             0.1111111111111111,
             "#46039f"
            ],
            [
             0.2222222222222222,
             "#7201a8"
            ],
            [
             0.3333333333333333,
             "#9c179e"
            ],
            [
             0.4444444444444444,
             "#bd3786"
            ],
            [
             0.5555555555555556,
             "#d8576b"
            ],
            [
             0.6666666666666666,
             "#ed7953"
            ],
            [
             0.7777777777777778,
             "#fb9f3a"
            ],
            [
             0.8888888888888888,
             "#fdca26"
            ],
            [
             1,
             "#f0f921"
            ]
           ],
           "sequentialminus": [
            [
             0,
             "#0d0887"
            ],
            [
             0.1111111111111111,
             "#46039f"
            ],
            [
             0.2222222222222222,
             "#7201a8"
            ],
            [
             0.3333333333333333,
             "#9c179e"
            ],
            [
             0.4444444444444444,
             "#bd3786"
            ],
            [
             0.5555555555555556,
             "#d8576b"
            ],
            [
             0.6666666666666666,
             "#ed7953"
            ],
            [
             0.7777777777777778,
             "#fb9f3a"
            ],
            [
             0.8888888888888888,
             "#fdca26"
            ],
            [
             1,
             "#f0f921"
            ]
           ]
          },
          "colorway": [
           "#636efa",
           "#EF553B",
           "#00cc96",
           "#ab63fa",
           "#FFA15A",
           "#19d3f3",
           "#FF6692",
           "#B6E880",
           "#FF97FF",
           "#FECB52"
          ],
          "font": {
           "color": "#2a3f5f"
          },
          "geo": {
           "bgcolor": "white",
           "lakecolor": "white",
           "landcolor": "#E5ECF6",
           "showlakes": true,
           "showland": true,
           "subunitcolor": "white"
          },
          "hoverlabel": {
           "align": "left"
          },
          "hovermode": "closest",
          "mapbox": {
           "style": "light"
          },
          "paper_bgcolor": "white",
          "plot_bgcolor": "#E5ECF6",
          "polar": {
           "angularaxis": {
            "gridcolor": "white",
            "linecolor": "white",
            "ticks": ""
           },
           "bgcolor": "#E5ECF6",
           "radialaxis": {
            "gridcolor": "white",
            "linecolor": "white",
            "ticks": ""
           }
          },
          "scene": {
           "xaxis": {
            "backgroundcolor": "#E5ECF6",
            "gridcolor": "white",
            "gridwidth": 2,
            "linecolor": "white",
            "showbackground": true,
            "ticks": "",
            "zerolinecolor": "white"
           },
           "yaxis": {
            "backgroundcolor": "#E5ECF6",
            "gridcolor": "white",
            "gridwidth": 2,
            "linecolor": "white",
            "showbackground": true,
            "ticks": "",
            "zerolinecolor": "white"
           },
           "zaxis": {
            "backgroundcolor": "#E5ECF6",
            "gridcolor": "white",
            "gridwidth": 2,
            "linecolor": "white",
            "showbackground": true,
            "ticks": "",
            "zerolinecolor": "white"
           }
          },
          "shapedefaults": {
           "line": {
            "color": "#2a3f5f"
           }
          },
          "ternary": {
           "aaxis": {
            "gridcolor": "white",
            "linecolor": "white",
            "ticks": ""
           },
           "baxis": {
            "gridcolor": "white",
            "linecolor": "white",
            "ticks": ""
           },
           "bgcolor": "#E5ECF6",
           "caxis": {
            "gridcolor": "white",
            "linecolor": "white",
            "ticks": ""
           }
          },
          "title": {
           "x": 0.05
          },
          "xaxis": {
           "automargin": true,
           "gridcolor": "white",
           "linecolor": "white",
           "ticks": "",
           "title": {
            "standoff": 15
           },
           "zerolinecolor": "white",
           "zerolinewidth": 2
          },
          "yaxis": {
           "automargin": true,
           "gridcolor": "white",
           "linecolor": "white",
           "ticks": "",
           "title": {
            "standoff": 15
           },
           "zerolinecolor": "white",
           "zerolinewidth": 2
          }
         }
        }
       }
      }
     },
     "metadata": {},
     "output_type": "display_data"
    }
   ],
   "source": [
    "\n",
    "# Make map\n",
    "lats=[47.378176, 47.372324]\n",
    "lons=[8.540212, 8.526845]\n",
    "\n",
    "fig = px.scatter_mapbox(df_stops, hover_name=\"stop_name\", lat=\"latitude\", lon=\"longitude\", color='color', zoom=13)\n",
    "\n",
    "\n",
    "# Add path trace\n",
    "fig.add_trace(go.Scattermapbox(\n",
    "    mode = \"lines\",\n",
    "    lon = lons,\n",
    "    lat = lats,\n",
    "    hoverinfo='none'\n",
    "))\n",
    "\n",
    "\n",
    "fig.update_layout(\n",
    "    mapbox = {\n",
    "        'style': \"open-street-map\"},\n",
    "    showlegend = False\n",
    "    ) \n",
    "\n",
    "fig.show()"
   ]
  },
  {
   "cell_type": "code",
   "execution_count": null,
   "metadata": {},
   "outputs": [],
   "source": []
  },
  {
   "cell_type": "code",
   "execution_count": null,
   "metadata": {},
   "outputs": [],
   "source": []
  },
  {
   "cell_type": "markdown",
   "metadata": {},
   "source": [
    "## More complex visualizations"
   ]
  },
  {
   "cell_type": "code",
   "execution_count": null,
   "metadata": {},
   "outputs": [],
   "source": [
    "# make map of 15k radius around Zurich\n",
    "\n",
    "lats=[47.378176, 47.372324]\n",
    "lons=[8.540212, 8.526845]\n",
    "\n",
    "# fig = px.scatter_mapbox(df_stops, hover_name=\"stop_name\", lat=\"latitude\", lon=\"longitude\",color='color', zoom=13)\n",
    "# fig = px.line_geo(, )\n",
    "\n",
    "# fig.add_trace()\n",
    "fig = go.Figure()\n",
    "\n",
    "fig.add_trace(go.Scattermapbox(\n",
    "    mode = \"lines\",\n",
    "    lon = lons,\n",
    "    lat = lats,\n",
    "    hoverinfo='none'\n",
    "))\n",
    "\n",
    "# go.Scattermapbox()\n",
    "\n",
    "# fig.add_trace(go.Scattermapbox(\n",
    "#     lat=df_stops['latitude'],\n",
    "#     lon=df_stops['longitude'],\n",
    "#     mode='markers',\n",
    "#     marker=go.scattermapbox.Marker(\n",
    "#         size=10,\n",
    "#         color='rgb(255, 0, 0)',\n",
    "#         opacity=0.7\n",
    "#     ),\n",
    "#     text=df_stops['stop_name'],\n",
    "#     # hoverinfo='text'\n",
    "# ))\n",
    "\n",
    "# fig.update_layout(mapbox_style=\"open-street-map\", zoom=13)\n",
    "\n",
    "fig.update_layout(\n",
    "    mapbox = {\n",
    "        'accesstoken': mapbox_access_token,\n",
    "        'style': \"open-street-map\", 'zoom': 13,\n",
    "        'center': {'lat':47.378176, 'lon':8.540212}\n",
    "        },\n",
    "    showlegend = True)\n",
    "\n",
    "\n",
    "# fig.update_layout(\n",
    "#     mapbox = {\n",
    "#         'accesstoken': token,\n",
    "#         'style': \"streets\"},\n",
    "#     showlegend = False)\n",
    "\n",
    "# token = open(\".mapbox_token\").read() # you need your own token\n",
    "\n",
    "# fig = go.Figure(go.Scattermapbox(\n",
    "#     mode = \"markers+text+lines\",\n",
    "#     lon = [-75, -80, -50], lat = [45, 20, -20],\n",
    "#     marker = {'size': 20, 'symbol': [\"bus\", \"harbor\", \"airport\"]},\n",
    "#     text = [\"Bus\", \"Harbor\", \"airport\"],textposition = \"bottom right\"))\n",
    "\n",
    "# fig.update_layout(\n",
    "#     mapbox = {\n",
    "#         'accesstoken': token,\n",
    "#         'style': \"outdoors\", 'zoom': 0.7},\n",
    "#     showlegend = False)\n",
    "\n",
    "fig.show()"
   ]
  },
  {
   "cell_type": "code",
   "execution_count": null,
   "metadata": {},
   "outputs": [],
   "source": [
    "\n",
    "\n",
    "fig = px.scatter_mapbox(df_stops, hover_name=\"stop_name\", lat=\"latitude\", lon=\"longitude\",color='color', zoom=13)\n",
    "# fig.update_layout(mapbox_style=\"open-street-map\")\n",
    "fig.update_layout(\n",
    "    mapbox = {\n",
    "        'accesstoken': token,\n",
    "        'style': \"streets\"},\n",
    "    showlegend = False)"
   ]
  },
  {
   "cell_type": "code",
   "execution_count": null,
   "metadata": {},
   "outputs": [],
   "source": [
    "# token = open(\".mapbox_token\").read() # you need your own token\n",
    "\n",
    "\n",
    "fig = go.Figure(go.Scattermapbox(\n",
    "    mode = \"markers+text+lines\",\n",
    "    lon = [-75, -80, -50], lat = [45, 20, -20],\n",
    "    marker = {'size': 20, 'symbol': [\"bus\", \"harbor\", \"airport\"]},\n",
    "    text = [\"Bus\", \"Harbor\", \"airport\"],textposition = \"bottom right\"))\n",
    "\n",
    "fig.update_layout(\n",
    "    mapbox = {\n",
    "        'accesstoken': token,\n",
    "        'style': \"streets\", 'zoom': 0.7},\n",
    "    showlegend = False)\n",
    "\n",
    "fig.show()"
   ]
  },
  {
   "cell_type": "code",
   "execution_count": null,
   "metadata": {},
   "outputs": [],
   "source": []
  }
 ],
 "metadata": {
  "interpreter": {
   "hash": "c6809d3f7e90e77d8ec96c72c39a08b2522313d47c0f1d91518fdbbaf790b394"
  },
  "kernelspec": {
   "display_name": "adaexam",
   "language": "python",
   "name": "python3"
  },
  "language_info": {
   "codemirror_mode": {
    "name": "ipython",
    "version": 3
   },
   "file_extension": ".py",
   "mimetype": "text/x-python",
   "name": "python",
   "nbconvert_exporter": "python",
   "pygments_lexer": "ipython3",
   "version": "3.8.12"
  },
  "orig_nbformat": 4
 },
 "nbformat": 4,
 "nbformat_minor": 2
}
