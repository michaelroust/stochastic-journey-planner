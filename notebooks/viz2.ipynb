{
 "cells": [
  {
   "cell_type": "code",
   "execution_count": 15,
   "metadata": {},
   "outputs": [
    {
     "name": "stdout",
     "output_type": "stream",
     "text": [
      "The autoreload extension is already loaded. To reload it, use:\n",
      "  %reload_ext autoreload\n"
     ]
    }
   ],
   "source": [
    "# import os\n",
    "# import warnings\n",
    "\n",
    "# import numpy as np\n",
    "\n",
    "import pickle\n",
    "import pandas as pd\n",
    "pd.set_option(\"display.max_rows\",40)\n",
    "# pd.set_option(\"display.max_columns\", 10)\n",
    "import matplotlib.pyplot as plt\n",
    "%matplotlib inline\n",
    "import networkx as nx\n",
    "\n",
    "from utils import *\n",
    "from algo import *\n",
    "\n",
    "import plotly.express as px\n",
    "import plotly.graph_objects as go\n",
    "\n",
    "from scipy.stats import norm\n",
    "\n",
    "mapbox_access_token = 'pk.eyJ1IjoibWljaGFlbHJvdXN0IiwiYSI6ImNsM2tpbXlxdTA2dnUzY3AzdnZndWF2MGIifQ.eAlbvCcax9TMLeOyel2PdA'\n",
    "\n",
    "%load_ext autoreload\n",
    "%autoreload 2"
   ]
  },
  {
   "cell_type": "code",
   "execution_count": 16,
   "metadata": {},
   "outputs": [],
   "source": [
    "END_TIME = Time(h=10).in_seconds()\n",
    "END_ID = ZURICH_HB_ID\n",
    "START_ID = ZURICH_HEURIED_ID"
   ]
  },
  {
   "cell_type": "code",
   "execution_count": 17,
   "metadata": {},
   "outputs": [
    {
     "data": {
      "text/html": [
       "<div>\n",
       "<style scoped>\n",
       "    .dataframe tbody tr th:only-of-type {\n",
       "        vertical-align: middle;\n",
       "    }\n",
       "\n",
       "    .dataframe tbody tr th {\n",
       "        vertical-align: top;\n",
       "    }\n",
       "\n",
       "    .dataframe thead th {\n",
       "        text-align: right;\n",
       "    }\n",
       "</style>\n",
       "<table border=\"1\" class=\"dataframe\">\n",
       "  <thead>\n",
       "    <tr style=\"text-align: right;\">\n",
       "      <th></th>\n",
       "      <th>stop_name</th>\n",
       "      <th>latitude</th>\n",
       "      <th>longitude</th>\n",
       "      <th>color</th>\n",
       "    </tr>\n",
       "    <tr>\n",
       "      <th>stop_id</th>\n",
       "      <th></th>\n",
       "      <th></th>\n",
       "      <th></th>\n",
       "      <th></th>\n",
       "    </tr>\n",
       "  </thead>\n",
       "  <tbody>\n",
       "    <tr>\n",
       "      <th>176</th>\n",
       "      <td>Zimmerberg-Basistunnel</td>\n",
       "      <td>47.351678</td>\n",
       "      <td>8.521958</td>\n",
       "      <td>0</td>\n",
       "    </tr>\n",
       "    <tr>\n",
       "      <th>8502495</th>\n",
       "      <td>Zürich Wollishofen, Bahnhof</td>\n",
       "      <td>47.348124</td>\n",
       "      <td>8.533321</td>\n",
       "      <td>0</td>\n",
       "    </tr>\n",
       "    <tr>\n",
       "      <th>8502572</th>\n",
       "      <td>Zürich, Goldbrunnenplatz</td>\n",
       "      <td>47.370292</td>\n",
       "      <td>8.513918</td>\n",
       "      <td>0</td>\n",
       "    </tr>\n",
       "    <tr>\n",
       "      <th>8503000</th>\n",
       "      <td>Zürich HB</td>\n",
       "      <td>47.378176</td>\n",
       "      <td>8.540212</td>\n",
       "      <td>1</td>\n",
       "    </tr>\n",
       "    <tr>\n",
       "      <th>8503001</th>\n",
       "      <td>Zürich Altstetten</td>\n",
       "      <td>47.391484</td>\n",
       "      <td>8.488963</td>\n",
       "      <td>0</td>\n",
       "    </tr>\n",
       "    <tr>\n",
       "      <th>...</th>\n",
       "      <td>...</td>\n",
       "      <td>...</td>\n",
       "      <td>...</td>\n",
       "      <td>...</td>\n",
       "    </tr>\n",
       "    <tr>\n",
       "      <th>8594255</th>\n",
       "      <td>Zürich, Schanzackerstrasse</td>\n",
       "      <td>47.392025</td>\n",
       "      <td>8.547434</td>\n",
       "      <td>0</td>\n",
       "    </tr>\n",
       "    <tr>\n",
       "      <th>8595899</th>\n",
       "      <td>Zürich, Glaubtenstrasse Nord</td>\n",
       "      <td>47.414747</td>\n",
       "      <td>8.519649</td>\n",
       "      <td>0</td>\n",
       "    </tr>\n",
       "    <tr>\n",
       "      <th>8596126</th>\n",
       "      <td>Zürich, Bus Station</td>\n",
       "      <td>47.381066</td>\n",
       "      <td>8.537301</td>\n",
       "      <td>0</td>\n",
       "    </tr>\n",
       "    <tr>\n",
       "      <th>8503004</th>\n",
       "      <td>Zürich Tiefenbrunnen</td>\n",
       "      <td>47.350126</td>\n",
       "      <td>8.561394</td>\n",
       "      <td>0</td>\n",
       "    </tr>\n",
       "    <tr>\n",
       "      <th>8503088</th>\n",
       "      <td>Zürich HB SZU</td>\n",
       "      <td>47.377391</td>\n",
       "      <td>8.539358</td>\n",
       "      <td>0</td>\n",
       "    </tr>\n",
       "  </tbody>\n",
       "</table>\n",
       "<p>433 rows × 4 columns</p>\n",
       "</div>"
      ],
      "text/plain": [
       "                            stop_name   latitude  longitude color\n",
       "stop_id                                                          \n",
       "176            Zimmerberg-Basistunnel  47.351678   8.521958     0\n",
       "8502495   Zürich Wollishofen, Bahnhof  47.348124   8.533321     0\n",
       "8502572      Zürich, Goldbrunnenplatz  47.370292   8.513918     0\n",
       "8503000                     Zürich HB  47.378176   8.540212     1\n",
       "8503001             Zürich Altstetten  47.391484   8.488963     0\n",
       "...                               ...        ...        ...   ...\n",
       "8594255    Zürich, Schanzackerstrasse  47.392025   8.547434     0\n",
       "8595899  Zürich, Glaubtenstrasse Nord  47.414747   8.519649     0\n",
       "8596126           Zürich, Bus Station  47.381066   8.537301     0\n",
       "8503004          Zürich Tiefenbrunnen  47.350126   8.561394     0\n",
       "8503088                 Zürich HB SZU  47.377391   8.539358     0\n",
       "\n",
       "[433 rows x 4 columns]"
      ]
     },
     "execution_count": 17,
     "metadata": {},
     "output_type": "execute_result"
    }
   ],
   "source": [
    "df_stops['color'] = df_stops['latitude']\n",
    "\n",
    "df_stops['color'] = 0\n",
    "df_stops.loc[END_ID,'color'] = 1\n",
    "df_stops.loc[START_ID,'color'] = 2\n",
    "\n",
    "\n",
    "df_stops['color'] = df_stops['color'].astype(str)\n",
    "df_stops"
   ]
  },
  {
   "cell_type": "code",
   "execution_count": 19,
   "metadata": {},
   "outputs": [
    {
     "name": "stdout",
     "output_type": "stream",
     "text": [
      "0.4029939867440755\n"
     ]
    },
    {
     "data": {
      "text/html": [
       "<div>\n",
       "<style scoped>\n",
       "    .dataframe tbody tr th:only-of-type {\n",
       "        vertical-align: middle;\n",
       "    }\n",
       "\n",
       "    .dataframe tbody tr th {\n",
       "        vertical-align: top;\n",
       "    }\n",
       "\n",
       "    .dataframe thead th {\n",
       "        text-align: right;\n",
       "    }\n",
       "</style>\n",
       "<table border=\"1\" class=\"dataframe\">\n",
       "  <thead>\n",
       "    <tr style=\"text-align: right;\">\n",
       "      <th></th>\n",
       "      <th>trip_id</th>\n",
       "      <th>dep_stop_id</th>\n",
       "      <th>arr_stop_id</th>\n",
       "      <th>mean</th>\n",
       "      <th>std</th>\n",
       "      <th>dep_time_s</th>\n",
       "      <th>arr_time_s</th>\n",
       "      <th>weight</th>\n",
       "      <th>proba</th>\n",
       "    </tr>\n",
       "  </thead>\n",
       "  <tbody>\n",
       "    <tr>\n",
       "      <th>0</th>\n",
       "      <td>1340.TA.26-14-A-j19-1.24.R</td>\n",
       "      <td>8591190</td>\n",
       "      <td>8591390</td>\n",
       "      <td>0</td>\n",
       "      <td>66</td>\n",
       "      <td>34320.0</td>\n",
       "      <td>34380.0</td>\n",
       "      <td>60.0</td>\n",
       "      <td>0.5</td>\n",
       "    </tr>\n",
       "    <tr>\n",
       "      <th>0</th>\n",
       "      <td>1340.TA.26-14-A-j19-1.24.R</td>\n",
       "      <td>8591390</td>\n",
       "      <td>8502572</td>\n",
       "      <td>0</td>\n",
       "      <td>66</td>\n",
       "      <td>34380.0</td>\n",
       "      <td>34500.0</td>\n",
       "      <td>120.0</td>\n",
       "      <td>0.5</td>\n",
       "    </tr>\n",
       "    <tr>\n",
       "      <th>3</th>\n",
       "      <td>1340.TA.26-14-A-j19-1.24.R</td>\n",
       "      <td>8502572</td>\n",
       "      <td>8591341</td>\n",
       "      <td>0</td>\n",
       "      <td>66</td>\n",
       "      <td>34500.0</td>\n",
       "      <td>34560.0</td>\n",
       "      <td>299.0</td>\n",
       "      <td>0.999853</td>\n",
       "    </tr>\n",
       "    <tr>\n",
       "      <th>114956</th>\n",
       "      <td>2558.TA.26-9-B-j19-1.41.R</td>\n",
       "      <td>8591341</td>\n",
       "      <td>8573710</td>\n",
       "      <td>0</td>\n",
       "      <td>66</td>\n",
       "      <td>34980</td>\n",
       "      <td>35100</td>\n",
       "      <td>177.0</td>\n",
       "      <td>0.806106</td>\n",
       "    </tr>\n",
       "    <tr>\n",
       "      <th>3</th>\n",
       "      <td>walk</td>\n",
       "      <td>8573710</td>\n",
       "      <td>8503011</td>\n",
       "      <td>0</td>\n",
       "      <td>0</td>\n",
       "      <td>NaN</td>\n",
       "      <td>NaN</td>\n",
       "      <td>183.0</td>\n",
       "      <td>1</td>\n",
       "    </tr>\n",
       "    <tr>\n",
       "      <th>2</th>\n",
       "      <td>86.TA.26-8-A-j19-1.52.R</td>\n",
       "      <td>8503011</td>\n",
       "      <td>8503000</td>\n",
       "      <td>0</td>\n",
       "      <td>66</td>\n",
       "      <td>35340.0</td>\n",
       "      <td>35580.0</td>\n",
       "      <td>660</td>\n",
       "      <td>1.0</td>\n",
       "    </tr>\n",
       "  </tbody>\n",
       "</table>\n",
       "</div>"
      ],
      "text/plain": [
       "                           trip_id dep_stop_id arr_stop_id mean std  \\\n",
       "0       1340.TA.26-14-A-j19-1.24.R     8591190     8591390    0  66   \n",
       "0       1340.TA.26-14-A-j19-1.24.R     8591390     8502572    0  66   \n",
       "3       1340.TA.26-14-A-j19-1.24.R     8502572     8591341    0  66   \n",
       "114956   2558.TA.26-9-B-j19-1.41.R     8591341     8573710    0  66   \n",
       "3                             walk     8573710     8503011    0   0   \n",
       "2          86.TA.26-8-A-j19-1.52.R     8503011     8503000    0  66   \n",
       "\n",
       "       dep_time_s arr_time_s weight     proba  \n",
       "0         34320.0    34380.0   60.0       0.5  \n",
       "0         34380.0    34500.0  120.0       0.5  \n",
       "3         34500.0    34560.0  299.0  0.999853  \n",
       "114956      34980      35100  177.0  0.806106  \n",
       "3             NaN        NaN  183.0         1  \n",
       "2         35340.0    35580.0    660       1.0  "
      ]
     },
     "execution_count": 19,
     "metadata": {},
     "output_type": "execute_result"
    }
   ],
   "source": [
    "_, cum_proba, path_conn_datas = dijkstra_base(START_ID, END_ID, END_TIME)\n",
    "\n",
    "print(cum_proba)\n",
    "path_conn_datas"
   ]
  },
  {
   "cell_type": "code",
   "execution_count": null,
   "metadata": {},
   "outputs": [],
   "source": []
  },
  {
   "cell_type": "code",
   "execution_count": 5,
   "metadata": {},
   "outputs": [
    {
     "data": {
      "application/vnd.plotly.v1+json": {
       "config": {
        "plotlyServerURL": "https://plot.ly"
       },
       "data": [
        {
         "hovertemplate": "<b>%{hovertext}</b><br><br>color=0<br>latitude=%{lat}<br>longitude=%{lon}<extra></extra>",
         "hovertext": [
          "Zürich, Goldbrunnenplatz",
          "Zürich Stadelhofen",
          "Zürich Enge",
          "Zürich Wiedikon",
          "Zürich Hardbrücke",
          "Zürich Binz",
          "Zürich Stadelhofen, Bahnhof",
          "Zürich Saalsporthalle",
          "Zürich HB SZU",
          "Zürich Selnau",
          "Zürich Giesshübel",
          "Zürich Landesmuseum (See)",
          "Zürich Storchen",
          "Zürich Central (Polybahn)",
          "Zürich Polyterrasse",
          "Zürich Bürkliplatz (See)",
          "Zürich Bellevue (See)",
          "Zürich, Hertersteg",
          "Zürich, Kantonsschule Enge",
          "Zürich, Kreuzplatz",
          "Zürich Limmatquai",
          "Zürich Wiedikon, Bahnhof",
          "Zürich, Bellevue",
          "Zürich, Opernhaus",
          "Zürich, Kreuzstrasse",
          "Zürich, Bahnhofplatz/HB",
          "Zürich, Bahnhofquai/HB",
          "Zürich, Central",
          "Zürich, Albisriederplatz",
          "Zürich, Bäckeranlage",
          "Zürich Enge, Bahnhof",
          "Zürich Enge, Bahnhof/Bederstr.",
          "Zürich Hardbrücke, Bahnhof",
          "Zürich Selnau, Bahnhof",
          "Zürich, Bahnhofstrasse/HB",
          "Zürich, Beckenhof",
          "Zürich, Bertastrasse",
          "Zürich, Bezirksgebäude",
          "Zürich, Grubenstrasse",
          "Zürich, Binz Center",
          "Zürich, Kantonalbank",
          "Zürich, Brunau/Mutschellenstr.",
          "Zürich, Brunaustrasse",
          "Zürich, Bürkliplatz",
          "Zürich, Löwenbräu",
          "Zürich, ETH/Universitätsspital",
          "Zürich, Friedhof Sihlfeld",
          "Zürich, Friesenberg",
          "Zürich, Güterbahnhof",
          "Zürich, Gutstrasse",
          "Zürich, Haldenbach",
          "Zürich, Haldenegg",
          "Zürich, Hardplatz",
          "Zürich, Helmhaus",
          "Zürich, Helvetiaplatz",
          "Zürich, Heuried",
          "Zürich, Hinterbergstrasse",
          "Zürich, Höfliweg",
          "Zürich, Hottingerplatz",
          "Zürich, Hügelstrasse",
          "Zürich,Kalkbreite/Bhf.Wiedikon",
          "Zürich, Kanonengasse",
          "Zürich, Kantonsschule",
          "Zürich, Kernstrasse",
          "Zürich, Altes Krematorium",
          "Zürich, Kronenstrasse",
          "Zürich, Kunsthaus",
          "Zürich, Laubegg",
          "Zürich, Limmatplatz",
          "Zürich, Lochergut",
          "Zürich, Löwenplatz",
          "Zürich, Manesseplatz",
          "Zürich, Militär-/Langstrasse",
          "Zürich, Museum für Gestaltung",
          "Zürich, Museum Rietberg",
          "Zürich, Neumarkt",
          "Zürich, Nordstrasse",
          "Zürich, Okenstrasse",
          "Zürich, Ottikerstrasse",
          "Zürich, Paradeplatz",
          "Zürich, Platte",
          "Zürich, Quellenstrasse",
          "Zürich, Räffelstrasse",
          "Zürich, Rathaus",
          "Zürich, Rennweg",
          "Zürich, Rentenanstalt",
          "Zürich, Röntgenstrasse",
          "Zürich, Röslistrasse",
          "Zürich, Rudolf-Brun-Brücke",
          "Zürich, Saalsporthalle",
          "Zürich, Scheuchzerstrasse",
          "Zürich, Schmiede Wiedikon",
          "Zürich, Schweizer Rück",
          "Zürich, Seilbahn Rigiblick",
          "Zürich, Sihlcity",
          "Zürich, Sihlcity Nord",
          "Zürich, Sihlpost/HB",
          "Zürich, Sihlquai/HB",
          "Zürich, Sihlstrasse",
          "Zürich, Sonneggstrasse",
          "Zürich, Sprecherstrasse",
          "Zürich, Spyriplatz",
          "Zürich, Stampfenbachplatz",
          "Zürich, Stauffacher",
          "Zürich, Stockerstrasse",
          "Zürich, Sukkulentensammlung",
          "Zürich, Talwiesenstrasse",
          "Zürich, Tunnelstrasse",
          "Zürich, Vogelsangstrasse",
          "Zürich, Voltastrasse",
          "Zürich, Waffenplatz-/Bederstr.",
          "Zürich, Waffenplatzstrasse",
          "Zürich, Winkelriedstrasse",
          "Zürich, Zwinglihaus",
          "Zürich, Zypressenstrasse",
          "Zürich, Binz",
          "Zürich, Schiffbau",
          "Zürich, Bus Station",
          "Zürich HB SZU"
         ],
         "lat": [
          47.3702920484894,
          47.3666111556789,
          47.3640982664424,
          47.3714783972162,
          47.385195516951,
          47.362765717286,
          47.3663495287263,
          47.3577942209058,
          47.3774279898193,
          47.3722388631333,
          47.3626135976618,
          47.3790460655592,
          47.371028196226,
          47.3765398519527,
          47.3768561767436,
          47.3656619912465,
          47.3654429508751,
          47.3676819873548,
          47.3642382125742,
          47.3648770923725,
          47.3730175688688,
          47.3714297270242,
          47.3670918157679,
          47.3654125285294,
          47.3631855651727,
          47.3772394138519,
          47.3775618175159,
          47.3768440104406,
          47.3782127019246,
          47.3786689245241,
          47.3641286895461,
          47.3645546111557,
          47.3852015991393,
          47.3706692494397,
          47.3762235252641,
          47.3840824646745,
          47.3738875155843,
          47.3741673555329,
          47.3628387345498,
          47.3619016719907,
          47.3681687218392,
          47.355147027434,
          47.3561328943156,
          47.3665381436366,
          47.388400732926,
          47.3772880786823,
          47.3759315297134,
          47.3642868894025,
          47.3803112931966,
          47.3717339149876,
          47.3802930449369,
          47.3796482690385,
          47.3823428932854,
          47.3700730273448,
          47.3763573560178,
          47.3694098744442,
          47.3801044792164,
          47.3675785556983,
          47.3694707145073,
          47.3585427135958,
          47.3744228602761,
          47.3784681870667,
          47.3727194719378,
          47.3745080282487,
          47.3778051397306,
          47.3879567582815,
          47.3704380620805,
          47.3587313564196,
          47.3845994590919,
          47.3754144502921,
          47.3758950301558,
          47.3654429508751,
          47.3795996063866,
          47.3821239221899,
          47.3607211928684,
          47.3727742245616,
          47.3883277510495,
          47.3880114950836,
          47.385189434762,
          47.3697323259786,
          47.3750068664689,
          47.3867403702341,
          47.3627474629542,
          47.371739998729,
          47.3730662375955,
          47.3633863608069,
          47.3819353630178,
          47.388662250487,
          47.373948350482,
          47.3578611597087,
          47.3877925475341,
          47.3701521184186,
          47.3598814545288,
          47.3859132103277,
          47.3579706957486,
          47.3600640074787,
          47.3760957774096,
          47.3798733332196,
          47.3722692815419,
          47.3828416573855,
          47.3674933765347,
          47.3822820680724,
          47.3802930449369,
          47.3734251680677,
          47.3678705975006,
          47.3549279434034,
          47.3699452645904,
          47.3661426599847,
          47.3835411356741,
          47.3768683430438,
          47.3616643612987,
          47.3614818138862,
          47.3831944388998,
          47.3715088160635,
          47.3766919314159,
          47.3629665145182,
          47.3880297406717,
          47.3810655490734,
          47.3773914912976
         ],
         "legendgroup": "0",
         "lon": [
          8.51391785372053,
          8.54848502585826,
          8.53082414737001,
          8.52348491149773,
          8.51712483928528,
          8.5182926491548,
          8.54812569974456,
          8.52196675866736,
          8.53916949636064,
          8.53172246265426,
          8.52201167443157,
          8.54157698132242,
          8.54196325689465,
          8.54403836520125,
          8.54640093439881,
          8.5410020595405,
          8.54485583210991,
          8.5229908380914,
          8.52750936397115,
          8.5540815300791,
          8.54263699335783,
          8.52418559741944,
          8.54511634354234,
          8.54764959264391,
          8.54979656617326,
          8.53934017626465,
          8.54173867807358,
          8.54393955051998,
          8.51039645780629,
          8.52310761907835,
          8.53156974905593,
          8.53045583810347,
          8.5171068729796,
          8.53200992354522,
          8.5394569572516,
          8.54044510406427,
          8.51346869607841,
          8.52556001980434,
          8.51167206550992,
          8.51105222796379,
          8.53974441814256,
          8.52714105470461,
          8.53221653606059,
          8.54078646387228,
          8.52607205951636,
          8.54823349757867,
          8.51089053121262,
          8.50799795599736,
          8.51997249873634,
          8.50665048307099,
          8.54837722802415,
          8.5445144723019,
          8.51452870811382,
          8.54329276351533,
          8.5253623904418,
          8.50635403902719,
          8.55457560348544,
          8.51096239643537,
          8.55440492358143,
          8.52699732425913,
          8.52133793796839,
          8.53030312450515,
          8.5505242015535,
          8.52426644579503,
          8.50787219185756,
          8.53912458059643,
          8.54914079601576,
          8.51708890667391,
          8.53162364797299,
          8.51752009801035,
          8.53741778155637,
          8.52163438201219,
          8.5276261449581,
          8.53493843137185,
          8.53156076590309,
          8.54735314860011,
          8.53616014015842,
          8.53413893076887,
          8.54241241453677,
          8.53891796808105,
          8.55264422562431,
          8.52874903906341,
          8.51466345540645,
          8.54287953848457,
          8.53845982728609,
          8.53503724605312,
          8.52926107877543,
          8.54049900298133,
          8.54293343740163,
          8.52040369007277,
          8.54423599456378,
          8.51926282966178,
          8.53551335315377,
          8.54836824487131,
          8.52226320271116,
          8.52302677070277,
          8.53420181283877,
          8.53760642776606,
          8.53457012210531,
          8.54368802224039,
          8.55225795005209,
          8.55197947231397,
          8.54278072380331,
          8.52925209562258,
          8.53542352162534,
          8.53430062752004,
          8.50965085612037,
          8.53253094641008,
          8.54906893079302,
          8.55452170456838,
          8.5265032508528,
          8.52574866601403,
          8.54821553127299,
          8.51595702941576,
          8.51376514012221,
          8.51831959861333,
          8.51986470090223,
          8.53730100056942,
          8.53935814257034
         ],
         "marker": {
          "color": "#636efa"
         },
         "mode": "markers",
         "name": "0",
         "showlegend": true,
         "subplot": "mapbox",
         "type": "scattermapbox"
        },
        {
         "hovertemplate": "<b>%{hovertext}</b><br><br>color=1<br>latitude=%{lat}<br>longitude=%{lon}<extra></extra>",
         "hovertext": [
          "Zürich HB"
         ],
         "lat": [
          47.3781762039461
         ],
         "legendgroup": "1",
         "lon": [
          8.54021154209037
         ],
         "marker": {
          "color": "#EF553B"
         },
         "mode": "markers",
         "name": "1",
         "showlegend": true,
         "subplot": "mapbox",
         "type": "scattermapbox"
        },
        {
         "hovertemplate": "<b>%{hovertext}</b><br><br>color=2<br>latitude=%{lat}<br>longitude=%{lon}<extra></extra>",
         "hovertext": [
          "Zürich, Werd"
         ],
         "lat": [
          47.3723240346332
         ],
         "legendgroup": "2",
         "lon": [
          8.52684461066081
         ],
         "marker": {
          "color": "#00cc96"
         },
         "mode": "markers",
         "name": "2",
         "showlegend": true,
         "subplot": "mapbox",
         "type": "scattermapbox"
        },
        {
         "hoverinfo": "none",
         "lat": [
          47.378176,
          47.372324
         ],
         "lon": [
          8.540212,
          8.526845
         ],
         "mode": "lines",
         "type": "scattermapbox"
        }
       ],
       "layout": {
        "legend": {
         "title": {
          "text": "color"
         },
         "tracegroupgap": 0
        },
        "mapbox": {
         "center": {
          "lat": 47.3727308444699,
          "lon": 8.5324166153739
         },
         "domain": {
          "x": [
           0,
           1
          ],
          "y": [
           0,
           1
          ]
         },
         "style": "open-street-map",
         "zoom": 13
        },
        "margin": {
         "t": 60
        },
        "showlegend": false,
        "template": {
         "data": {
          "bar": [
           {
            "error_x": {
             "color": "#2a3f5f"
            },
            "error_y": {
             "color": "#2a3f5f"
            },
            "marker": {
             "line": {
              "color": "#E5ECF6",
              "width": 0.5
             },
             "pattern": {
              "fillmode": "overlay",
              "size": 10,
              "solidity": 0.2
             }
            },
            "type": "bar"
           }
          ],
          "barpolar": [
           {
            "marker": {
             "line": {
              "color": "#E5ECF6",
              "width": 0.5
             },
             "pattern": {
              "fillmode": "overlay",
              "size": 10,
              "solidity": 0.2
             }
            },
            "type": "barpolar"
           }
          ],
          "carpet": [
           {
            "aaxis": {
             "endlinecolor": "#2a3f5f",
             "gridcolor": "white",
             "linecolor": "white",
             "minorgridcolor": "white",
             "startlinecolor": "#2a3f5f"
            },
            "baxis": {
             "endlinecolor": "#2a3f5f",
             "gridcolor": "white",
             "linecolor": "white",
             "minorgridcolor": "white",
             "startlinecolor": "#2a3f5f"
            },
            "type": "carpet"
           }
          ],
          "choropleth": [
           {
            "colorbar": {
             "outlinewidth": 0,
             "ticks": ""
            },
            "type": "choropleth"
           }
          ],
          "contour": [
           {
            "colorbar": {
             "outlinewidth": 0,
             "ticks": ""
            },
            "colorscale": [
             [
              0,
              "#0d0887"
             ],
             [
              0.1111111111111111,
              "#46039f"
             ],
             [
              0.2222222222222222,
              "#7201a8"
             ],
             [
              0.3333333333333333,
              "#9c179e"
             ],
             [
              0.4444444444444444,
              "#bd3786"
             ],
             [
              0.5555555555555556,
              "#d8576b"
             ],
             [
              0.6666666666666666,
              "#ed7953"
             ],
             [
              0.7777777777777778,
              "#fb9f3a"
             ],
             [
              0.8888888888888888,
              "#fdca26"
             ],
             [
              1,
              "#f0f921"
             ]
            ],
            "type": "contour"
           }
          ],
          "contourcarpet": [
           {
            "colorbar": {
             "outlinewidth": 0,
             "ticks": ""
            },
            "type": "contourcarpet"
           }
          ],
          "heatmap": [
           {
            "colorbar": {
             "outlinewidth": 0,
             "ticks": ""
            },
            "colorscale": [
             [
              0,
              "#0d0887"
             ],
             [
              0.1111111111111111,
              "#46039f"
             ],
             [
              0.2222222222222222,
              "#7201a8"
             ],
             [
              0.3333333333333333,
              "#9c179e"
             ],
             [
              0.4444444444444444,
              "#bd3786"
             ],
             [
              0.5555555555555556,
              "#d8576b"
             ],
             [
              0.6666666666666666,
              "#ed7953"
             ],
             [
              0.7777777777777778,
              "#fb9f3a"
             ],
             [
              0.8888888888888888,
              "#fdca26"
             ],
             [
              1,
              "#f0f921"
             ]
            ],
            "type": "heatmap"
           }
          ],
          "heatmapgl": [
           {
            "colorbar": {
             "outlinewidth": 0,
             "ticks": ""
            },
            "colorscale": [
             [
              0,
              "#0d0887"
             ],
             [
              0.1111111111111111,
              "#46039f"
             ],
             [
              0.2222222222222222,
              "#7201a8"
             ],
             [
              0.3333333333333333,
              "#9c179e"
             ],
             [
              0.4444444444444444,
              "#bd3786"
             ],
             [
              0.5555555555555556,
              "#d8576b"
             ],
             [
              0.6666666666666666,
              "#ed7953"
             ],
             [
              0.7777777777777778,
              "#fb9f3a"
             ],
             [
              0.8888888888888888,
              "#fdca26"
             ],
             [
              1,
              "#f0f921"
             ]
            ],
            "type": "heatmapgl"
           }
          ],
          "histogram": [
           {
            "marker": {
             "pattern": {
              "fillmode": "overlay",
              "size": 10,
              "solidity": 0.2
             }
            },
            "type": "histogram"
           }
          ],
          "histogram2d": [
           {
            "colorbar": {
             "outlinewidth": 0,
             "ticks": ""
            },
            "colorscale": [
             [
              0,
              "#0d0887"
             ],
             [
              0.1111111111111111,
              "#46039f"
             ],
             [
              0.2222222222222222,
              "#7201a8"
             ],
             [
              0.3333333333333333,
              "#9c179e"
             ],
             [
              0.4444444444444444,
              "#bd3786"
             ],
             [
              0.5555555555555556,
              "#d8576b"
             ],
             [
              0.6666666666666666,
              "#ed7953"
             ],
             [
              0.7777777777777778,
              "#fb9f3a"
             ],
             [
              0.8888888888888888,
              "#fdca26"
             ],
             [
              1,
              "#f0f921"
             ]
            ],
            "type": "histogram2d"
           }
          ],
          "histogram2dcontour": [
           {
            "colorbar": {
             "outlinewidth": 0,
             "ticks": ""
            },
            "colorscale": [
             [
              0,
              "#0d0887"
             ],
             [
              0.1111111111111111,
              "#46039f"
             ],
             [
              0.2222222222222222,
              "#7201a8"
             ],
             [
              0.3333333333333333,
              "#9c179e"
             ],
             [
              0.4444444444444444,
              "#bd3786"
             ],
             [
              0.5555555555555556,
              "#d8576b"
             ],
             [
              0.6666666666666666,
              "#ed7953"
             ],
             [
              0.7777777777777778,
              "#fb9f3a"
             ],
             [
              0.8888888888888888,
              "#fdca26"
             ],
             [
              1,
              "#f0f921"
             ]
            ],
            "type": "histogram2dcontour"
           }
          ],
          "mesh3d": [
           {
            "colorbar": {
             "outlinewidth": 0,
             "ticks": ""
            },
            "type": "mesh3d"
           }
          ],
          "parcoords": [
           {
            "line": {
             "colorbar": {
              "outlinewidth": 0,
              "ticks": ""
             }
            },
            "type": "parcoords"
           }
          ],
          "pie": [
           {
            "automargin": true,
            "type": "pie"
           }
          ],
          "scatter": [
           {
            "marker": {
             "colorbar": {
              "outlinewidth": 0,
              "ticks": ""
             }
            },
            "type": "scatter"
           }
          ],
          "scatter3d": [
           {
            "line": {
             "colorbar": {
              "outlinewidth": 0,
              "ticks": ""
             }
            },
            "marker": {
             "colorbar": {
              "outlinewidth": 0,
              "ticks": ""
             }
            },
            "type": "scatter3d"
           }
          ],
          "scattercarpet": [
           {
            "marker": {
             "colorbar": {
              "outlinewidth": 0,
              "ticks": ""
             }
            },
            "type": "scattercarpet"
           }
          ],
          "scattergeo": [
           {
            "marker": {
             "colorbar": {
              "outlinewidth": 0,
              "ticks": ""
             }
            },
            "type": "scattergeo"
           }
          ],
          "scattergl": [
           {
            "marker": {
             "colorbar": {
              "outlinewidth": 0,
              "ticks": ""
             }
            },
            "type": "scattergl"
           }
          ],
          "scattermapbox": [
           {
            "marker": {
             "colorbar": {
              "outlinewidth": 0,
              "ticks": ""
             }
            },
            "type": "scattermapbox"
           }
          ],
          "scatterpolar": [
           {
            "marker": {
             "colorbar": {
              "outlinewidth": 0,
              "ticks": ""
             }
            },
            "type": "scatterpolar"
           }
          ],
          "scatterpolargl": [
           {
            "marker": {
             "colorbar": {
              "outlinewidth": 0,
              "ticks": ""
             }
            },
            "type": "scatterpolargl"
           }
          ],
          "scatterternary": [
           {
            "marker": {
             "colorbar": {
              "outlinewidth": 0,
              "ticks": ""
             }
            },
            "type": "scatterternary"
           }
          ],
          "surface": [
           {
            "colorbar": {
             "outlinewidth": 0,
             "ticks": ""
            },
            "colorscale": [
             [
              0,
              "#0d0887"
             ],
             [
              0.1111111111111111,
              "#46039f"
             ],
             [
              0.2222222222222222,
              "#7201a8"
             ],
             [
              0.3333333333333333,
              "#9c179e"
             ],
             [
              0.4444444444444444,
              "#bd3786"
             ],
             [
              0.5555555555555556,
              "#d8576b"
             ],
             [
              0.6666666666666666,
              "#ed7953"
             ],
             [
              0.7777777777777778,
              "#fb9f3a"
             ],
             [
              0.8888888888888888,
              "#fdca26"
             ],
             [
              1,
              "#f0f921"
             ]
            ],
            "type": "surface"
           }
          ],
          "table": [
           {
            "cells": {
             "fill": {
              "color": "#EBF0F8"
             },
             "line": {
              "color": "white"
             }
            },
            "header": {
             "fill": {
              "color": "#C8D4E3"
             },
             "line": {
              "color": "white"
             }
            },
            "type": "table"
           }
          ]
         },
         "layout": {
          "annotationdefaults": {
           "arrowcolor": "#2a3f5f",
           "arrowhead": 0,
           "arrowwidth": 1
          },
          "autotypenumbers": "strict",
          "coloraxis": {
           "colorbar": {
            "outlinewidth": 0,
            "ticks": ""
           }
          },
          "colorscale": {
           "diverging": [
            [
             0,
             "#8e0152"
            ],
            [
             0.1,
             "#c51b7d"
            ],
            [
             0.2,
             "#de77ae"
            ],
            [
             0.3,
             "#f1b6da"
            ],
            [
             0.4,
             "#fde0ef"
            ],
            [
             0.5,
             "#f7f7f7"
            ],
            [
             0.6,
             "#e6f5d0"
            ],
            [
             0.7,
             "#b8e186"
            ],
            [
             0.8,
             "#7fbc41"
            ],
            [
             0.9,
             "#4d9221"
            ],
            [
             1,
             "#276419"
            ]
           ],
           "sequential": [
            [
             0,
             "#0d0887"
            ],
            [
             0.1111111111111111,
             "#46039f"
            ],
            [
             0.2222222222222222,
             "#7201a8"
            ],
            [
             0.3333333333333333,
             "#9c179e"
            ],
            [
             0.4444444444444444,
             "#bd3786"
            ],
            [
             0.5555555555555556,
             "#d8576b"
            ],
            [
             0.6666666666666666,
             "#ed7953"
            ],
            [
             0.7777777777777778,
             "#fb9f3a"
            ],
            [
             0.8888888888888888,
             "#fdca26"
            ],
            [
             1,
             "#f0f921"
            ]
           ],
           "sequentialminus": [
            [
             0,
             "#0d0887"
            ],
            [
             0.1111111111111111,
             "#46039f"
            ],
            [
             0.2222222222222222,
             "#7201a8"
            ],
            [
             0.3333333333333333,
             "#9c179e"
            ],
            [
             0.4444444444444444,
             "#bd3786"
            ],
            [
             0.5555555555555556,
             "#d8576b"
            ],
            [
             0.6666666666666666,
             "#ed7953"
            ],
            [
             0.7777777777777778,
             "#fb9f3a"
            ],
            [
             0.8888888888888888,
             "#fdca26"
            ],
            [
             1,
             "#f0f921"
            ]
           ]
          },
          "colorway": [
           "#636efa",
           "#EF553B",
           "#00cc96",
           "#ab63fa",
           "#FFA15A",
           "#19d3f3",
           "#FF6692",
           "#B6E880",
           "#FF97FF",
           "#FECB52"
          ],
          "font": {
           "color": "#2a3f5f"
          },
          "geo": {
           "bgcolor": "white",
           "lakecolor": "white",
           "landcolor": "#E5ECF6",
           "showlakes": true,
           "showland": true,
           "subunitcolor": "white"
          },
          "hoverlabel": {
           "align": "left"
          },
          "hovermode": "closest",
          "mapbox": {
           "style": "light"
          },
          "paper_bgcolor": "white",
          "plot_bgcolor": "#E5ECF6",
          "polar": {
           "angularaxis": {
            "gridcolor": "white",
            "linecolor": "white",
            "ticks": ""
           },
           "bgcolor": "#E5ECF6",
           "radialaxis": {
            "gridcolor": "white",
            "linecolor": "white",
            "ticks": ""
           }
          },
          "scene": {
           "xaxis": {
            "backgroundcolor": "#E5ECF6",
            "gridcolor": "white",
            "gridwidth": 2,
            "linecolor": "white",
            "showbackground": true,
            "ticks": "",
            "zerolinecolor": "white"
           },
           "yaxis": {
            "backgroundcolor": "#E5ECF6",
            "gridcolor": "white",
            "gridwidth": 2,
            "linecolor": "white",
            "showbackground": true,
            "ticks": "",
            "zerolinecolor": "white"
           },
           "zaxis": {
            "backgroundcolor": "#E5ECF6",
            "gridcolor": "white",
            "gridwidth": 2,
            "linecolor": "white",
            "showbackground": true,
            "ticks": "",
            "zerolinecolor": "white"
           }
          },
          "shapedefaults": {
           "line": {
            "color": "#2a3f5f"
           }
          },
          "ternary": {
           "aaxis": {
            "gridcolor": "white",
            "linecolor": "white",
            "ticks": ""
           },
           "baxis": {
            "gridcolor": "white",
            "linecolor": "white",
            "ticks": ""
           },
           "bgcolor": "#E5ECF6",
           "caxis": {
            "gridcolor": "white",
            "linecolor": "white",
            "ticks": ""
           }
          },
          "title": {
           "x": 0.05
          },
          "xaxis": {
           "automargin": true,
           "gridcolor": "white",
           "linecolor": "white",
           "ticks": "",
           "title": {
            "standoff": 15
           },
           "zerolinecolor": "white",
           "zerolinewidth": 2
          },
          "yaxis": {
           "automargin": true,
           "gridcolor": "white",
           "linecolor": "white",
           "ticks": "",
           "title": {
            "standoff": 15
           },
           "zerolinecolor": "white",
           "zerolinewidth": 2
          }
         }
        }
       }
      }
     },
     "metadata": {},
     "output_type": "display_data"
    }
   ],
   "source": [
    "\n",
    "# Make map\n",
    "lats=[47.378176, 47.372324]\n",
    "lons=[8.540212, 8.526845]\n",
    "\n",
    "fig = px.scatter_mapbox(df_stops, hover_name=\"stop_name\", lat=\"latitude\", lon=\"longitude\", color='color', zoom=13)\n",
    "\n",
    "\n",
    "# Add path trace\n",
    "fig.add_trace(go.Scattermapbox(\n",
    "    mode = \"lines\",\n",
    "    lon = lons,\n",
    "    lat = lats,\n",
    "    hoverinfo='none'\n",
    "))\n",
    "\n",
    "\n",
    "fig.update_layout(\n",
    "    mapbox = {\n",
    "        'style': \"open-street-map\"},\n",
    "    showlegend = False\n",
    "    )\n",
    "\n",
    "fig.show()"
   ]
  },
  {
   "cell_type": "code",
   "execution_count": null,
   "metadata": {},
   "outputs": [],
   "source": []
  },
  {
   "cell_type": "markdown",
   "metadata": {},
   "source": [
    "## More complex visualizations"
   ]
  },
  {
   "cell_type": "code",
   "execution_count": null,
   "metadata": {},
   "outputs": [],
   "source": [
    "# make map of 15k radius around Zurich\n",
    "\n",
    "lats=[47.378176, 47.372324]\n",
    "lons=[8.540212, 8.526845]\n",
    "\n",
    "# fig = px.scatter_mapbox(df_stops, hover_name=\"stop_name\", lat=\"latitude\", lon=\"longitude\",color='color', zoom=13)\n",
    "# fig = px.line_geo(, )\n",
    "\n",
    "# fig.add_trace()\n",
    "fig = go.Figure()\n",
    "\n",
    "fig.add_trace(go.Scattermapbox(\n",
    "    mode = \"lines\",\n",
    "    lon = lons,\n",
    "    lat = lats,\n",
    "    hoverinfo='none'\n",
    "))\n",
    "\n",
    "# go.Scattermapbox()\n",
    "\n",
    "# fig.add_trace(go.Scattermapbox(\n",
    "#     lat=df_stops['latitude'],\n",
    "#     lon=df_stops['longitude'],\n",
    "#     mode='markers',\n",
    "#     marker=go.scattermapbox.Marker(\n",
    "#         size=10,\n",
    "#         color='rgb(255, 0, 0)',\n",
    "#         opacity=0.7\n",
    "#     ),\n",
    "#     text=df_stops['stop_name'],\n",
    "#     # hoverinfo='text'\n",
    "# ))\n",
    "\n",
    "# fig.update_layout(mapbox_style=\"open-street-map\", zoom=13)\n",
    "\n",
    "fig.update_layout(\n",
    "    mapbox = {\n",
    "        'accesstoken': mapbox_access_token,\n",
    "        'style': \"open-street-map\", 'zoom': 13,\n",
    "        'center': {'lat':47.378176, 'lon':8.540212}\n",
    "        },\n",
    "    showlegend = True)\n",
    "\n",
    "\n",
    "# fig.update_layout(\n",
    "#     mapbox = {\n",
    "#         'accesstoken': token,\n",
    "#         'style': \"streets\"},\n",
    "#     showlegend = False)\n",
    "\n",
    "# token = open(\".mapbox_token\").read() # you need your own token\n",
    "\n",
    "# fig = go.Figure(go.Scattermapbox(\n",
    "#     mode = \"markers+text+lines\",\n",
    "#     lon = [-75, -80, -50], lat = [45, 20, -20],\n",
    "#     marker = {'size': 20, 'symbol': [\"bus\", \"harbor\", \"airport\"]},\n",
    "#     text = [\"Bus\", \"Harbor\", \"airport\"],textposition = \"bottom right\"))\n",
    "\n",
    "# fig.update_layout(\n",
    "#     mapbox = {\n",
    "#         'accesstoken': token,\n",
    "#         'style': \"outdoors\", 'zoom': 0.7},\n",
    "#     showlegend = False)\n",
    "\n",
    "fig.show()"
   ]
  },
  {
   "cell_type": "code",
   "execution_count": null,
   "metadata": {},
   "outputs": [],
   "source": [
    "\n",
    "\n",
    "fig = px.scatter_mapbox(df_stops, hover_name=\"stop_name\", lat=\"latitude\", lon=\"longitude\",color='color', zoom=13)\n",
    "# fig.update_layout(mapbox_style=\"open-street-map\")\n",
    "fig.update_layout(\n",
    "    mapbox = {\n",
    "        'accesstoken': token,\n",
    "        'style': \"streets\"},\n",
    "    showlegend = False)"
   ]
  },
  {
   "cell_type": "code",
   "execution_count": null,
   "metadata": {},
   "outputs": [],
   "source": [
    "# token = open(\".mapbox_token\").read() # you need your own token\n",
    "\n",
    "\n",
    "fig = go.Figure(go.Scattermapbox(\n",
    "    mode = \"markers+text+lines\",\n",
    "    lon = [-75, -80, -50], lat = [45, 20, -20],\n",
    "    marker = {'size': 20, 'symbol': [\"bus\", \"harbor\", \"airport\"]},\n",
    "    text = [\"Bus\", \"Harbor\", \"airport\"],textposition = \"bottom right\"))\n",
    "\n",
    "fig.update_layout(\n",
    "    mapbox = {\n",
    "        'accesstoken': token,\n",
    "        'style': \"streets\", 'zoom': 0.7},\n",
    "    showlegend = False)\n",
    "\n",
    "fig.show()"
   ]
  },
  {
   "cell_type": "code",
   "execution_count": null,
   "metadata": {},
   "outputs": [],
   "source": []
  }
 ],
 "metadata": {
  "interpreter": {
   "hash": "c6809d3f7e90e77d8ec96c72c39a08b2522313d47c0f1d91518fdbbaf790b394"
  },
  "kernelspec": {
   "display_name": "Python 3.8.12 ('ada')",
   "language": "python",
   "name": "python3"
  },
  "language_info": {
   "codemirror_mode": {
    "name": "ipython",
    "version": 3
   },
   "file_extension": ".py",
   "mimetype": "text/x-python",
   "name": "python",
   "nbconvert_exporter": "python",
   "pygments_lexer": "ipython3",
   "version": "3.8.12"
  },
  "orig_nbformat": 4
 },
 "nbformat": 4,
 "nbformat_minor": 2
}
